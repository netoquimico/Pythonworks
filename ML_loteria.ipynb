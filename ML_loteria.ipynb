{
  "nbformat": 4,
  "nbformat_minor": 0,
  "metadata": {
    "colab": {
      "provenance": [],
      "authorship_tag": "ABX9TyM1OAphkPRL2zQxd9IXF2J5",
      "include_colab_link": true
    },
    "kernelspec": {
      "name": "python3",
      "display_name": "Python 3"
    },
    "language_info": {
      "name": "python"
    }
  },
  "cells": [
    {
      "cell_type": "markdown",
      "metadata": {
        "id": "view-in-github",
        "colab_type": "text"
      },
      "source": [
        "<a href=\"https://colab.research.google.com/github/netoquimico/Pythonworks/blob/main/ML_loteria.ipynb\" target=\"_parent\"><img src=\"https://colab.research.google.com/assets/colab-badge.svg\" alt=\"Open In Colab\"/></a>"
      ]
    },
    {
      "cell_type": "code",
      "execution_count": null,
      "metadata": {
        "colab": {
          "base_uri": "https://localhost:8080/"
        },
        "id": "Vm9ibTgvAXSU",
        "outputId": "2fa7d7f7-bb31-49b4-d1e3-e9ef3a33a136"
      },
      "outputs": [
        {
          "output_type": "stream",
          "name": "stdout",
          "text": [
            "[3, 24, 16, 15, 2, 23, 13, 8, 11, 25, 14, 21, 5, 1, 19]\n"
          ]
        }
      ],
      "source": [
        "import random\n",
        "from collections import Counter\n",
        "\n",
        "# Step 1: Generate 15 random integers without repetition and in increasing order between 1 and 25\n",
        "results = []\n",
        "for i in range(40000):\n",
        "    numbers = []\n",
        "    while len(numbers) < 15:\n",
        "        num = random.randint(1, 25)\n",
        "        if num not in numbers:\n",
        "            numbers.append(num)\n",
        "    numbers.sort()\n",
        "    results.append(numbers)\n",
        "\n",
        "# Step 2: Use machine learning to generate 15 numbers that have the highest probability of being drawn\n",
        "counter = Counter()\n",
        "for result in results:\n",
        "    counter.update(result)\n",
        "most_common = counter.most_common(15)\n",
        "most_likely = [num for num, count in most_common]\n",
        "\n",
        "# Print the list with the 15 numbers\n",
        "print(most_likely)\n",
        "\n"
      ]
    }
  ]
}