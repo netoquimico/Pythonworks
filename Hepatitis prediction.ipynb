{
  "nbformat": 4,
  "nbformat_minor": 0,
  "metadata": {
    "colab": {
      "name": "hepatite.ipynb",
      "provenance": [],
      "collapsed_sections": [],
      "authorship_tag": "ABX9TyOjR7ZBXCINNXx/OWDWB5vp",
      "include_colab_link": true
    },
    "kernelspec": {
      "name": "python3",
      "display_name": "Python 3"
    },
    "language_info": {
      "name": "python"
    }
  },
  "cells": [
    {
      "cell_type": "markdown",
      "metadata": {
        "id": "view-in-github",
        "colab_type": "text"
      },
      "source": [
        "<a href=\"https://colab.research.google.com/github/netoquimico/Pythonworks/blob/main/Hepatitis%20prediction.ipynb\" target=\"_parent\"><img src=\"https://colab.research.google.com/assets/colab-badge.svg\" alt=\"Open In Colab\"/></a>"
      ]
    },
    {
      "cell_type": "code",
      "execution_count": 127,
      "metadata": {
        "id": "5srRCZS_fRUX"
      },
      "outputs": [],
      "source": [
        "import pandas as pd\n",
        "import numpy as np\n",
        "import seaborn as sns\n",
        "import matplotlib.pyplot as plt\n",
        "import plotly.express as px"
      ]
    },
    {
      "cell_type": "code",
      "source": [
        "from google.colab import drive"
      ],
      "metadata": {
        "id": "9kvQJmSIfU1W"
      },
      "execution_count": 128,
      "outputs": []
    },
    {
      "cell_type": "markdown",
      "source": [
        "https://www.kaggle.com/datasets/fedesoriano/hepatitis-c-dataset"
      ],
      "metadata": {
        "id": "M5CqGqhjEYfp"
      }
    },
    {
      "cell_type": "code",
      "source": [
        "hepatite=pd.read_csv('/content/HepatitisCdata.csv')"
      ],
      "metadata": {
        "id": "3oGLBuqUfkd1"
      },
      "execution_count": 129,
      "outputs": []
    },
    {
      "cell_type": "code",
      "source": [
        "hepatite"
      ],
      "metadata": {
        "colab": {
          "base_uri": "https://localhost:8080/",
          "height": 424
        },
        "id": "DNfrSRDmgqA3",
        "outputId": "22949c5b-8591-4ede-a647-8e04fcbbf5d4"
      },
      "execution_count": 130,
      "outputs": [
        {
          "output_type": "execute_result",
          "data": {
            "text/plain": [
              "     Unnamed: 0       Category  Age Sex   ALB    ALP    ALT    AST   BIL  \\\n",
              "0             1  0=Blood Donor   32   m  38.5   52.5    7.7   22.1   7.5   \n",
              "1             2  0=Blood Donor   32   m  38.5   70.3   18.0   24.7   3.9   \n",
              "2             3  0=Blood Donor   32   m  46.9   74.7   36.2   52.6   6.1   \n",
              "3             4  0=Blood Donor   32   m  43.2   52.0   30.6   22.6  18.9   \n",
              "4             5  0=Blood Donor   32   m  39.2   74.1   32.6   24.8   9.6   \n",
              "..          ...            ...  ...  ..   ...    ...    ...    ...   ...   \n",
              "610         611    3=Cirrhosis   62   f  32.0  416.6    5.9  110.3  50.0   \n",
              "611         612    3=Cirrhosis   64   f  24.0  102.8    2.9   44.4  20.0   \n",
              "612         613    3=Cirrhosis   64   f  29.0   87.3    3.5   99.0  48.0   \n",
              "613         614    3=Cirrhosis   46   f  33.0    NaN   39.0   62.0  20.0   \n",
              "614         615    3=Cirrhosis   59   f  36.0    NaN  100.0   80.0  12.0   \n",
              "\n",
              "       CHE  CHOL   CREA    GGT  PROT  \n",
              "0     6.93  3.23  106.0   12.1  69.0  \n",
              "1    11.17  4.80   74.0   15.6  76.5  \n",
              "2     8.84  5.20   86.0   33.2  79.3  \n",
              "3     7.33  4.74   80.0   33.8  75.7  \n",
              "4     9.15  4.32   76.0   29.9  68.7  \n",
              "..     ...   ...    ...    ...   ...  \n",
              "610   5.57  6.30   55.7  650.9  68.5  \n",
              "611   1.54  3.02   63.0   35.9  71.3  \n",
              "612   1.66  3.63   66.7   64.2  82.0  \n",
              "613   3.56  4.20   52.0   50.0  71.0  \n",
              "614   9.07  5.30   67.0   34.0  68.0  \n",
              "\n",
              "[615 rows x 14 columns]"
            ],
            "text/html": [
              "\n",
              "  <div id=\"df-1aa064bd-0d21-4f02-a613-04dbf0635acb\">\n",
              "    <div class=\"colab-df-container\">\n",
              "      <div>\n",
              "<style scoped>\n",
              "    .dataframe tbody tr th:only-of-type {\n",
              "        vertical-align: middle;\n",
              "    }\n",
              "\n",
              "    .dataframe tbody tr th {\n",
              "        vertical-align: top;\n",
              "    }\n",
              "\n",
              "    .dataframe thead th {\n",
              "        text-align: right;\n",
              "    }\n",
              "</style>\n",
              "<table border=\"1\" class=\"dataframe\">\n",
              "  <thead>\n",
              "    <tr style=\"text-align: right;\">\n",
              "      <th></th>\n",
              "      <th>Unnamed: 0</th>\n",
              "      <th>Category</th>\n",
              "      <th>Age</th>\n",
              "      <th>Sex</th>\n",
              "      <th>ALB</th>\n",
              "      <th>ALP</th>\n",
              "      <th>ALT</th>\n",
              "      <th>AST</th>\n",
              "      <th>BIL</th>\n",
              "      <th>CHE</th>\n",
              "      <th>CHOL</th>\n",
              "      <th>CREA</th>\n",
              "      <th>GGT</th>\n",
              "      <th>PROT</th>\n",
              "    </tr>\n",
              "  </thead>\n",
              "  <tbody>\n",
              "    <tr>\n",
              "      <th>0</th>\n",
              "      <td>1</td>\n",
              "      <td>0=Blood Donor</td>\n",
              "      <td>32</td>\n",
              "      <td>m</td>\n",
              "      <td>38.5</td>\n",
              "      <td>52.5</td>\n",
              "      <td>7.7</td>\n",
              "      <td>22.1</td>\n",
              "      <td>7.5</td>\n",
              "      <td>6.93</td>\n",
              "      <td>3.23</td>\n",
              "      <td>106.0</td>\n",
              "      <td>12.1</td>\n",
              "      <td>69.0</td>\n",
              "    </tr>\n",
              "    <tr>\n",
              "      <th>1</th>\n",
              "      <td>2</td>\n",
              "      <td>0=Blood Donor</td>\n",
              "      <td>32</td>\n",
              "      <td>m</td>\n",
              "      <td>38.5</td>\n",
              "      <td>70.3</td>\n",
              "      <td>18.0</td>\n",
              "      <td>24.7</td>\n",
              "      <td>3.9</td>\n",
              "      <td>11.17</td>\n",
              "      <td>4.80</td>\n",
              "      <td>74.0</td>\n",
              "      <td>15.6</td>\n",
              "      <td>76.5</td>\n",
              "    </tr>\n",
              "    <tr>\n",
              "      <th>2</th>\n",
              "      <td>3</td>\n",
              "      <td>0=Blood Donor</td>\n",
              "      <td>32</td>\n",
              "      <td>m</td>\n",
              "      <td>46.9</td>\n",
              "      <td>74.7</td>\n",
              "      <td>36.2</td>\n",
              "      <td>52.6</td>\n",
              "      <td>6.1</td>\n",
              "      <td>8.84</td>\n",
              "      <td>5.20</td>\n",
              "      <td>86.0</td>\n",
              "      <td>33.2</td>\n",
              "      <td>79.3</td>\n",
              "    </tr>\n",
              "    <tr>\n",
              "      <th>3</th>\n",
              "      <td>4</td>\n",
              "      <td>0=Blood Donor</td>\n",
              "      <td>32</td>\n",
              "      <td>m</td>\n",
              "      <td>43.2</td>\n",
              "      <td>52.0</td>\n",
              "      <td>30.6</td>\n",
              "      <td>22.6</td>\n",
              "      <td>18.9</td>\n",
              "      <td>7.33</td>\n",
              "      <td>4.74</td>\n",
              "      <td>80.0</td>\n",
              "      <td>33.8</td>\n",
              "      <td>75.7</td>\n",
              "    </tr>\n",
              "    <tr>\n",
              "      <th>4</th>\n",
              "      <td>5</td>\n",
              "      <td>0=Blood Donor</td>\n",
              "      <td>32</td>\n",
              "      <td>m</td>\n",
              "      <td>39.2</td>\n",
              "      <td>74.1</td>\n",
              "      <td>32.6</td>\n",
              "      <td>24.8</td>\n",
              "      <td>9.6</td>\n",
              "      <td>9.15</td>\n",
              "      <td>4.32</td>\n",
              "      <td>76.0</td>\n",
              "      <td>29.9</td>\n",
              "      <td>68.7</td>\n",
              "    </tr>\n",
              "    <tr>\n",
              "      <th>...</th>\n",
              "      <td>...</td>\n",
              "      <td>...</td>\n",
              "      <td>...</td>\n",
              "      <td>...</td>\n",
              "      <td>...</td>\n",
              "      <td>...</td>\n",
              "      <td>...</td>\n",
              "      <td>...</td>\n",
              "      <td>...</td>\n",
              "      <td>...</td>\n",
              "      <td>...</td>\n",
              "      <td>...</td>\n",
              "      <td>...</td>\n",
              "      <td>...</td>\n",
              "    </tr>\n",
              "    <tr>\n",
              "      <th>610</th>\n",
              "      <td>611</td>\n",
              "      <td>3=Cirrhosis</td>\n",
              "      <td>62</td>\n",
              "      <td>f</td>\n",
              "      <td>32.0</td>\n",
              "      <td>416.6</td>\n",
              "      <td>5.9</td>\n",
              "      <td>110.3</td>\n",
              "      <td>50.0</td>\n",
              "      <td>5.57</td>\n",
              "      <td>6.30</td>\n",
              "      <td>55.7</td>\n",
              "      <td>650.9</td>\n",
              "      <td>68.5</td>\n",
              "    </tr>\n",
              "    <tr>\n",
              "      <th>611</th>\n",
              "      <td>612</td>\n",
              "      <td>3=Cirrhosis</td>\n",
              "      <td>64</td>\n",
              "      <td>f</td>\n",
              "      <td>24.0</td>\n",
              "      <td>102.8</td>\n",
              "      <td>2.9</td>\n",
              "      <td>44.4</td>\n",
              "      <td>20.0</td>\n",
              "      <td>1.54</td>\n",
              "      <td>3.02</td>\n",
              "      <td>63.0</td>\n",
              "      <td>35.9</td>\n",
              "      <td>71.3</td>\n",
              "    </tr>\n",
              "    <tr>\n",
              "      <th>612</th>\n",
              "      <td>613</td>\n",
              "      <td>3=Cirrhosis</td>\n",
              "      <td>64</td>\n",
              "      <td>f</td>\n",
              "      <td>29.0</td>\n",
              "      <td>87.3</td>\n",
              "      <td>3.5</td>\n",
              "      <td>99.0</td>\n",
              "      <td>48.0</td>\n",
              "      <td>1.66</td>\n",
              "      <td>3.63</td>\n",
              "      <td>66.7</td>\n",
              "      <td>64.2</td>\n",
              "      <td>82.0</td>\n",
              "    </tr>\n",
              "    <tr>\n",
              "      <th>613</th>\n",
              "      <td>614</td>\n",
              "      <td>3=Cirrhosis</td>\n",
              "      <td>46</td>\n",
              "      <td>f</td>\n",
              "      <td>33.0</td>\n",
              "      <td>NaN</td>\n",
              "      <td>39.0</td>\n",
              "      <td>62.0</td>\n",
              "      <td>20.0</td>\n",
              "      <td>3.56</td>\n",
              "      <td>4.20</td>\n",
              "      <td>52.0</td>\n",
              "      <td>50.0</td>\n",
              "      <td>71.0</td>\n",
              "    </tr>\n",
              "    <tr>\n",
              "      <th>614</th>\n",
              "      <td>615</td>\n",
              "      <td>3=Cirrhosis</td>\n",
              "      <td>59</td>\n",
              "      <td>f</td>\n",
              "      <td>36.0</td>\n",
              "      <td>NaN</td>\n",
              "      <td>100.0</td>\n",
              "      <td>80.0</td>\n",
              "      <td>12.0</td>\n",
              "      <td>9.07</td>\n",
              "      <td>5.30</td>\n",
              "      <td>67.0</td>\n",
              "      <td>34.0</td>\n",
              "      <td>68.0</td>\n",
              "    </tr>\n",
              "  </tbody>\n",
              "</table>\n",
              "<p>615 rows × 14 columns</p>\n",
              "</div>\n",
              "      <button class=\"colab-df-convert\" onclick=\"convertToInteractive('df-1aa064bd-0d21-4f02-a613-04dbf0635acb')\"\n",
              "              title=\"Convert this dataframe to an interactive table.\"\n",
              "              style=\"display:none;\">\n",
              "        \n",
              "  <svg xmlns=\"http://www.w3.org/2000/svg\" height=\"24px\"viewBox=\"0 0 24 24\"\n",
              "       width=\"24px\">\n",
              "    <path d=\"M0 0h24v24H0V0z\" fill=\"none\"/>\n",
              "    <path d=\"M18.56 5.44l.94 2.06.94-2.06 2.06-.94-2.06-.94-.94-2.06-.94 2.06-2.06.94zm-11 1L8.5 8.5l.94-2.06 2.06-.94-2.06-.94L8.5 2.5l-.94 2.06-2.06.94zm10 10l.94 2.06.94-2.06 2.06-.94-2.06-.94-.94-2.06-.94 2.06-2.06.94z\"/><path d=\"M17.41 7.96l-1.37-1.37c-.4-.4-.92-.59-1.43-.59-.52 0-1.04.2-1.43.59L10.3 9.45l-7.72 7.72c-.78.78-.78 2.05 0 2.83L4 21.41c.39.39.9.59 1.41.59.51 0 1.02-.2 1.41-.59l7.78-7.78 2.81-2.81c.8-.78.8-2.07 0-2.86zM5.41 20L4 18.59l7.72-7.72 1.47 1.35L5.41 20z\"/>\n",
              "  </svg>\n",
              "      </button>\n",
              "      \n",
              "  <style>\n",
              "    .colab-df-container {\n",
              "      display:flex;\n",
              "      flex-wrap:wrap;\n",
              "      gap: 12px;\n",
              "    }\n",
              "\n",
              "    .colab-df-convert {\n",
              "      background-color: #E8F0FE;\n",
              "      border: none;\n",
              "      border-radius: 50%;\n",
              "      cursor: pointer;\n",
              "      display: none;\n",
              "      fill: #1967D2;\n",
              "      height: 32px;\n",
              "      padding: 0 0 0 0;\n",
              "      width: 32px;\n",
              "    }\n",
              "\n",
              "    .colab-df-convert:hover {\n",
              "      background-color: #E2EBFA;\n",
              "      box-shadow: 0px 1px 2px rgba(60, 64, 67, 0.3), 0px 1px 3px 1px rgba(60, 64, 67, 0.15);\n",
              "      fill: #174EA6;\n",
              "    }\n",
              "\n",
              "    [theme=dark] .colab-df-convert {\n",
              "      background-color: #3B4455;\n",
              "      fill: #D2E3FC;\n",
              "    }\n",
              "\n",
              "    [theme=dark] .colab-df-convert:hover {\n",
              "      background-color: #434B5C;\n",
              "      box-shadow: 0px 1px 3px 1px rgba(0, 0, 0, 0.15);\n",
              "      filter: drop-shadow(0px 1px 2px rgba(0, 0, 0, 0.3));\n",
              "      fill: #FFFFFF;\n",
              "    }\n",
              "  </style>\n",
              "\n",
              "      <script>\n",
              "        const buttonEl =\n",
              "          document.querySelector('#df-1aa064bd-0d21-4f02-a613-04dbf0635acb button.colab-df-convert');\n",
              "        buttonEl.style.display =\n",
              "          google.colab.kernel.accessAllowed ? 'block' : 'none';\n",
              "\n",
              "        async function convertToInteractive(key) {\n",
              "          const element = document.querySelector('#df-1aa064bd-0d21-4f02-a613-04dbf0635acb');\n",
              "          const dataTable =\n",
              "            await google.colab.kernel.invokeFunction('convertToInteractive',\n",
              "                                                     [key], {});\n",
              "          if (!dataTable) return;\n",
              "\n",
              "          const docLinkHtml = 'Like what you see? Visit the ' +\n",
              "            '<a target=\"_blank\" href=https://colab.research.google.com/notebooks/data_table.ipynb>data table notebook</a>'\n",
              "            + ' to learn more about interactive tables.';\n",
              "          element.innerHTML = '';\n",
              "          dataTable['output_type'] = 'display_data';\n",
              "          await google.colab.output.renderOutput(dataTable, element);\n",
              "          const docLink = document.createElement('div');\n",
              "          docLink.innerHTML = docLinkHtml;\n",
              "          element.appendChild(docLink);\n",
              "        }\n",
              "      </script>\n",
              "    </div>\n",
              "  </div>\n",
              "  "
            ]
          },
          "metadata": {},
          "execution_count": 130
        }
      ]
    },
    {
      "cell_type": "markdown",
      "source": [
        "DATA EXPLORATION"
      ],
      "metadata": {
        "id": "mLUqbctDgwkZ"
      }
    },
    {
      "cell_type": "code",
      "source": [
        "hepatite.drop('Unnamed: 0',axis=1, inplace=True)"
      ],
      "metadata": {
        "id": "8SlZARkTg1O2"
      },
      "execution_count": 131,
      "outputs": []
    },
    {
      "cell_type": "code",
      "source": [
        "column_names = ['Age', 'Sex', 'ALB', 'ALP' ,'ALT','AST','BIL','CHE', 'CHOL', 'CREA','GGT','PROT','Category']"
      ],
      "metadata": {
        "id": "oPbA5_Pshi99"
      },
      "execution_count": 132,
      "outputs": []
    },
    {
      "cell_type": "code",
      "source": [
        "hepatite = hepatite.reindex(columns=column_names)"
      ],
      "metadata": {
        "id": "U4M7NXc6ieCE"
      },
      "execution_count": 133,
      "outputs": []
    },
    {
      "cell_type": "code",
      "source": [
        "hepatite"
      ],
      "metadata": {
        "colab": {
          "base_uri": "https://localhost:8080/",
          "height": 424
        },
        "id": "ViIuuOn3jTSa",
        "outputId": "ae65e92c-14ab-4336-8fbf-0dad29e0f48f"
      },
      "execution_count": 134,
      "outputs": [
        {
          "output_type": "execute_result",
          "data": {
            "text/plain": [
              "     Age Sex   ALB    ALP    ALT    AST   BIL    CHE  CHOL   CREA    GGT  \\\n",
              "0     32   m  38.5   52.5    7.7   22.1   7.5   6.93  3.23  106.0   12.1   \n",
              "1     32   m  38.5   70.3   18.0   24.7   3.9  11.17  4.80   74.0   15.6   \n",
              "2     32   m  46.9   74.7   36.2   52.6   6.1   8.84  5.20   86.0   33.2   \n",
              "3     32   m  43.2   52.0   30.6   22.6  18.9   7.33  4.74   80.0   33.8   \n",
              "4     32   m  39.2   74.1   32.6   24.8   9.6   9.15  4.32   76.0   29.9   \n",
              "..   ...  ..   ...    ...    ...    ...   ...    ...   ...    ...    ...   \n",
              "610   62   f  32.0  416.6    5.9  110.3  50.0   5.57  6.30   55.7  650.9   \n",
              "611   64   f  24.0  102.8    2.9   44.4  20.0   1.54  3.02   63.0   35.9   \n",
              "612   64   f  29.0   87.3    3.5   99.0  48.0   1.66  3.63   66.7   64.2   \n",
              "613   46   f  33.0    NaN   39.0   62.0  20.0   3.56  4.20   52.0   50.0   \n",
              "614   59   f  36.0    NaN  100.0   80.0  12.0   9.07  5.30   67.0   34.0   \n",
              "\n",
              "     PROT       Category  \n",
              "0    69.0  0=Blood Donor  \n",
              "1    76.5  0=Blood Donor  \n",
              "2    79.3  0=Blood Donor  \n",
              "3    75.7  0=Blood Donor  \n",
              "4    68.7  0=Blood Donor  \n",
              "..    ...            ...  \n",
              "610  68.5    3=Cirrhosis  \n",
              "611  71.3    3=Cirrhosis  \n",
              "612  82.0    3=Cirrhosis  \n",
              "613  71.0    3=Cirrhosis  \n",
              "614  68.0    3=Cirrhosis  \n",
              "\n",
              "[615 rows x 13 columns]"
            ],
            "text/html": [
              "\n",
              "  <div id=\"df-5acb1cf8-34c3-4e87-91d5-4675648e14d7\">\n",
              "    <div class=\"colab-df-container\">\n",
              "      <div>\n",
              "<style scoped>\n",
              "    .dataframe tbody tr th:only-of-type {\n",
              "        vertical-align: middle;\n",
              "    }\n",
              "\n",
              "    .dataframe tbody tr th {\n",
              "        vertical-align: top;\n",
              "    }\n",
              "\n",
              "    .dataframe thead th {\n",
              "        text-align: right;\n",
              "    }\n",
              "</style>\n",
              "<table border=\"1\" class=\"dataframe\">\n",
              "  <thead>\n",
              "    <tr style=\"text-align: right;\">\n",
              "      <th></th>\n",
              "      <th>Age</th>\n",
              "      <th>Sex</th>\n",
              "      <th>ALB</th>\n",
              "      <th>ALP</th>\n",
              "      <th>ALT</th>\n",
              "      <th>AST</th>\n",
              "      <th>BIL</th>\n",
              "      <th>CHE</th>\n",
              "      <th>CHOL</th>\n",
              "      <th>CREA</th>\n",
              "      <th>GGT</th>\n",
              "      <th>PROT</th>\n",
              "      <th>Category</th>\n",
              "    </tr>\n",
              "  </thead>\n",
              "  <tbody>\n",
              "    <tr>\n",
              "      <th>0</th>\n",
              "      <td>32</td>\n",
              "      <td>m</td>\n",
              "      <td>38.5</td>\n",
              "      <td>52.5</td>\n",
              "      <td>7.7</td>\n",
              "      <td>22.1</td>\n",
              "      <td>7.5</td>\n",
              "      <td>6.93</td>\n",
              "      <td>3.23</td>\n",
              "      <td>106.0</td>\n",
              "      <td>12.1</td>\n",
              "      <td>69.0</td>\n",
              "      <td>0=Blood Donor</td>\n",
              "    </tr>\n",
              "    <tr>\n",
              "      <th>1</th>\n",
              "      <td>32</td>\n",
              "      <td>m</td>\n",
              "      <td>38.5</td>\n",
              "      <td>70.3</td>\n",
              "      <td>18.0</td>\n",
              "      <td>24.7</td>\n",
              "      <td>3.9</td>\n",
              "      <td>11.17</td>\n",
              "      <td>4.80</td>\n",
              "      <td>74.0</td>\n",
              "      <td>15.6</td>\n",
              "      <td>76.5</td>\n",
              "      <td>0=Blood Donor</td>\n",
              "    </tr>\n",
              "    <tr>\n",
              "      <th>2</th>\n",
              "      <td>32</td>\n",
              "      <td>m</td>\n",
              "      <td>46.9</td>\n",
              "      <td>74.7</td>\n",
              "      <td>36.2</td>\n",
              "      <td>52.6</td>\n",
              "      <td>6.1</td>\n",
              "      <td>8.84</td>\n",
              "      <td>5.20</td>\n",
              "      <td>86.0</td>\n",
              "      <td>33.2</td>\n",
              "      <td>79.3</td>\n",
              "      <td>0=Blood Donor</td>\n",
              "    </tr>\n",
              "    <tr>\n",
              "      <th>3</th>\n",
              "      <td>32</td>\n",
              "      <td>m</td>\n",
              "      <td>43.2</td>\n",
              "      <td>52.0</td>\n",
              "      <td>30.6</td>\n",
              "      <td>22.6</td>\n",
              "      <td>18.9</td>\n",
              "      <td>7.33</td>\n",
              "      <td>4.74</td>\n",
              "      <td>80.0</td>\n",
              "      <td>33.8</td>\n",
              "      <td>75.7</td>\n",
              "      <td>0=Blood Donor</td>\n",
              "    </tr>\n",
              "    <tr>\n",
              "      <th>4</th>\n",
              "      <td>32</td>\n",
              "      <td>m</td>\n",
              "      <td>39.2</td>\n",
              "      <td>74.1</td>\n",
              "      <td>32.6</td>\n",
              "      <td>24.8</td>\n",
              "      <td>9.6</td>\n",
              "      <td>9.15</td>\n",
              "      <td>4.32</td>\n",
              "      <td>76.0</td>\n",
              "      <td>29.9</td>\n",
              "      <td>68.7</td>\n",
              "      <td>0=Blood Donor</td>\n",
              "    </tr>\n",
              "    <tr>\n",
              "      <th>...</th>\n",
              "      <td>...</td>\n",
              "      <td>...</td>\n",
              "      <td>...</td>\n",
              "      <td>...</td>\n",
              "      <td>...</td>\n",
              "      <td>...</td>\n",
              "      <td>...</td>\n",
              "      <td>...</td>\n",
              "      <td>...</td>\n",
              "      <td>...</td>\n",
              "      <td>...</td>\n",
              "      <td>...</td>\n",
              "      <td>...</td>\n",
              "    </tr>\n",
              "    <tr>\n",
              "      <th>610</th>\n",
              "      <td>62</td>\n",
              "      <td>f</td>\n",
              "      <td>32.0</td>\n",
              "      <td>416.6</td>\n",
              "      <td>5.9</td>\n",
              "      <td>110.3</td>\n",
              "      <td>50.0</td>\n",
              "      <td>5.57</td>\n",
              "      <td>6.30</td>\n",
              "      <td>55.7</td>\n",
              "      <td>650.9</td>\n",
              "      <td>68.5</td>\n",
              "      <td>3=Cirrhosis</td>\n",
              "    </tr>\n",
              "    <tr>\n",
              "      <th>611</th>\n",
              "      <td>64</td>\n",
              "      <td>f</td>\n",
              "      <td>24.0</td>\n",
              "      <td>102.8</td>\n",
              "      <td>2.9</td>\n",
              "      <td>44.4</td>\n",
              "      <td>20.0</td>\n",
              "      <td>1.54</td>\n",
              "      <td>3.02</td>\n",
              "      <td>63.0</td>\n",
              "      <td>35.9</td>\n",
              "      <td>71.3</td>\n",
              "      <td>3=Cirrhosis</td>\n",
              "    </tr>\n",
              "    <tr>\n",
              "      <th>612</th>\n",
              "      <td>64</td>\n",
              "      <td>f</td>\n",
              "      <td>29.0</td>\n",
              "      <td>87.3</td>\n",
              "      <td>3.5</td>\n",
              "      <td>99.0</td>\n",
              "      <td>48.0</td>\n",
              "      <td>1.66</td>\n",
              "      <td>3.63</td>\n",
              "      <td>66.7</td>\n",
              "      <td>64.2</td>\n",
              "      <td>82.0</td>\n",
              "      <td>3=Cirrhosis</td>\n",
              "    </tr>\n",
              "    <tr>\n",
              "      <th>613</th>\n",
              "      <td>46</td>\n",
              "      <td>f</td>\n",
              "      <td>33.0</td>\n",
              "      <td>NaN</td>\n",
              "      <td>39.0</td>\n",
              "      <td>62.0</td>\n",
              "      <td>20.0</td>\n",
              "      <td>3.56</td>\n",
              "      <td>4.20</td>\n",
              "      <td>52.0</td>\n",
              "      <td>50.0</td>\n",
              "      <td>71.0</td>\n",
              "      <td>3=Cirrhosis</td>\n",
              "    </tr>\n",
              "    <tr>\n",
              "      <th>614</th>\n",
              "      <td>59</td>\n",
              "      <td>f</td>\n",
              "      <td>36.0</td>\n",
              "      <td>NaN</td>\n",
              "      <td>100.0</td>\n",
              "      <td>80.0</td>\n",
              "      <td>12.0</td>\n",
              "      <td>9.07</td>\n",
              "      <td>5.30</td>\n",
              "      <td>67.0</td>\n",
              "      <td>34.0</td>\n",
              "      <td>68.0</td>\n",
              "      <td>3=Cirrhosis</td>\n",
              "    </tr>\n",
              "  </tbody>\n",
              "</table>\n",
              "<p>615 rows × 13 columns</p>\n",
              "</div>\n",
              "      <button class=\"colab-df-convert\" onclick=\"convertToInteractive('df-5acb1cf8-34c3-4e87-91d5-4675648e14d7')\"\n",
              "              title=\"Convert this dataframe to an interactive table.\"\n",
              "              style=\"display:none;\">\n",
              "        \n",
              "  <svg xmlns=\"http://www.w3.org/2000/svg\" height=\"24px\"viewBox=\"0 0 24 24\"\n",
              "       width=\"24px\">\n",
              "    <path d=\"M0 0h24v24H0V0z\" fill=\"none\"/>\n",
              "    <path d=\"M18.56 5.44l.94 2.06.94-2.06 2.06-.94-2.06-.94-.94-2.06-.94 2.06-2.06.94zm-11 1L8.5 8.5l.94-2.06 2.06-.94-2.06-.94L8.5 2.5l-.94 2.06-2.06.94zm10 10l.94 2.06.94-2.06 2.06-.94-2.06-.94-.94-2.06-.94 2.06-2.06.94z\"/><path d=\"M17.41 7.96l-1.37-1.37c-.4-.4-.92-.59-1.43-.59-.52 0-1.04.2-1.43.59L10.3 9.45l-7.72 7.72c-.78.78-.78 2.05 0 2.83L4 21.41c.39.39.9.59 1.41.59.51 0 1.02-.2 1.41-.59l7.78-7.78 2.81-2.81c.8-.78.8-2.07 0-2.86zM5.41 20L4 18.59l7.72-7.72 1.47 1.35L5.41 20z\"/>\n",
              "  </svg>\n",
              "      </button>\n",
              "      \n",
              "  <style>\n",
              "    .colab-df-container {\n",
              "      display:flex;\n",
              "      flex-wrap:wrap;\n",
              "      gap: 12px;\n",
              "    }\n",
              "\n",
              "    .colab-df-convert {\n",
              "      background-color: #E8F0FE;\n",
              "      border: none;\n",
              "      border-radius: 50%;\n",
              "      cursor: pointer;\n",
              "      display: none;\n",
              "      fill: #1967D2;\n",
              "      height: 32px;\n",
              "      padding: 0 0 0 0;\n",
              "      width: 32px;\n",
              "    }\n",
              "\n",
              "    .colab-df-convert:hover {\n",
              "      background-color: #E2EBFA;\n",
              "      box-shadow: 0px 1px 2px rgba(60, 64, 67, 0.3), 0px 1px 3px 1px rgba(60, 64, 67, 0.15);\n",
              "      fill: #174EA6;\n",
              "    }\n",
              "\n",
              "    [theme=dark] .colab-df-convert {\n",
              "      background-color: #3B4455;\n",
              "      fill: #D2E3FC;\n",
              "    }\n",
              "\n",
              "    [theme=dark] .colab-df-convert:hover {\n",
              "      background-color: #434B5C;\n",
              "      box-shadow: 0px 1px 3px 1px rgba(0, 0, 0, 0.15);\n",
              "      filter: drop-shadow(0px 1px 2px rgba(0, 0, 0, 0.3));\n",
              "      fill: #FFFFFF;\n",
              "    }\n",
              "  </style>\n",
              "\n",
              "      <script>\n",
              "        const buttonEl =\n",
              "          document.querySelector('#df-5acb1cf8-34c3-4e87-91d5-4675648e14d7 button.colab-df-convert');\n",
              "        buttonEl.style.display =\n",
              "          google.colab.kernel.accessAllowed ? 'block' : 'none';\n",
              "\n",
              "        async function convertToInteractive(key) {\n",
              "          const element = document.querySelector('#df-5acb1cf8-34c3-4e87-91d5-4675648e14d7');\n",
              "          const dataTable =\n",
              "            await google.colab.kernel.invokeFunction('convertToInteractive',\n",
              "                                                     [key], {});\n",
              "          if (!dataTable) return;\n",
              "\n",
              "          const docLinkHtml = 'Like what you see? Visit the ' +\n",
              "            '<a target=\"_blank\" href=https://colab.research.google.com/notebooks/data_table.ipynb>data table notebook</a>'\n",
              "            + ' to learn more about interactive tables.';\n",
              "          element.innerHTML = '';\n",
              "          dataTable['output_type'] = 'display_data';\n",
              "          await google.colab.output.renderOutput(dataTable, element);\n",
              "          const docLink = document.createElement('div');\n",
              "          docLink.innerHTML = docLinkHtml;\n",
              "          element.appendChild(docLink);\n",
              "        }\n",
              "      </script>\n",
              "    </div>\n",
              "  </div>\n",
              "  "
            ]
          },
          "metadata": {},
          "execution_count": 134
        }
      ]
    },
    {
      "cell_type": "code",
      "source": [
        "hepatite.isnull().sum()"
      ],
      "metadata": {
        "colab": {
          "base_uri": "https://localhost:8080/"
        },
        "id": "crJYGiQzjwJ0",
        "outputId": "89f65300-8104-4d76-a673-857771aceaae"
      },
      "execution_count": 135,
      "outputs": [
        {
          "output_type": "execute_result",
          "data": {
            "text/plain": [
              "Age          0\n",
              "Sex          0\n",
              "ALB          1\n",
              "ALP         18\n",
              "ALT          1\n",
              "AST          0\n",
              "BIL          0\n",
              "CHE          0\n",
              "CHOL        10\n",
              "CREA         0\n",
              "GGT          0\n",
              "PROT         1\n",
              "Category     0\n",
              "dtype: int64"
            ]
          },
          "metadata": {},
          "execution_count": 135
        }
      ]
    },
    {
      "cell_type": "code",
      "source": [
        "hepatite = hepatite[hepatite['CHOL'].notna()]"
      ],
      "metadata": {
        "id": "5q2cRPJp1Zyx"
      },
      "execution_count": 136,
      "outputs": []
    },
    {
      "cell_type": "code",
      "source": [
        "hepatite = hepatite[hepatite['ALP'].notna()]"
      ],
      "metadata": {
        "id": "gRwDGN0ZIT9k"
      },
      "execution_count": 137,
      "outputs": []
    },
    {
      "cell_type": "code",
      "source": [
        "hepatite = hepatite[hepatite['ALT'].notna()]"
      ],
      "metadata": {
        "id": "Z9UJ-V01IW_g"
      },
      "execution_count": 138,
      "outputs": []
    },
    {
      "cell_type": "code",
      "source": [
        "hepatite.isnull().sum()"
      ],
      "metadata": {
        "colab": {
          "base_uri": "https://localhost:8080/"
        },
        "id": "BTlm0naD1fJ1",
        "outputId": "2a59d248-a96f-4ead-ee92-4552fa61eea8"
      },
      "execution_count": 139,
      "outputs": [
        {
          "output_type": "execute_result",
          "data": {
            "text/plain": [
              "Age         0\n",
              "Sex         0\n",
              "ALB         0\n",
              "ALP         0\n",
              "ALT         0\n",
              "AST         0\n",
              "BIL         0\n",
              "CHE         0\n",
              "CHOL        0\n",
              "CREA        0\n",
              "GGT         0\n",
              "PROT        0\n",
              "Category    0\n",
              "dtype: int64"
            ]
          },
          "metadata": {},
          "execution_count": 139
        }
      ]
    },
    {
      "cell_type": "code",
      "source": [
        "print(hepatite.dtypes)"
      ],
      "metadata": {
        "colab": {
          "base_uri": "https://localhost:8080/"
        },
        "id": "_lWaT7D3m8aK",
        "outputId": "c0591d14-773e-4a1f-a2a0-25bd7b97ce6b"
      },
      "execution_count": 140,
      "outputs": [
        {
          "output_type": "stream",
          "name": "stdout",
          "text": [
            "Age           int64\n",
            "Sex          object\n",
            "ALB         float64\n",
            "ALP         float64\n",
            "ALT         float64\n",
            "AST         float64\n",
            "BIL         float64\n",
            "CHE         float64\n",
            "CHOL        float64\n",
            "CREA        float64\n",
            "GGT         float64\n",
            "PROT        float64\n",
            "Category     object\n",
            "dtype: object\n"
          ]
        }
      ]
    },
    {
      "cell_type": "code",
      "source": [
        "hepatite.describe()"
      ],
      "metadata": {
        "colab": {
          "base_uri": "https://localhost:8080/",
          "height": 364
        },
        "id": "ZgC09KGIneqr",
        "outputId": "3d4ae538-9f96-4e2a-b400-71a830db65c1"
      },
      "execution_count": 141,
      "outputs": [
        {
          "output_type": "execute_result",
          "data": {
            "text/plain": [
              "              Age         ALB         ALP         ALT         AST         BIL  \\\n",
              "count  589.000000  589.000000  589.000000  589.000000  589.000000  589.000000   \n",
              "mean    47.417657   41.624278   68.123090   26.575382   33.772835   11.018166   \n",
              "std      9.931334    5.761794   25.921072   20.863120   32.866871   17.406572   \n",
              "min     23.000000   14.900000   11.300000    0.900000   10.600000    0.800000   \n",
              "25%     39.000000   38.800000   52.500000   16.400000   21.500000    5.200000   \n",
              "50%     47.000000   41.900000   66.200000   22.700000   25.700000    7.100000   \n",
              "75%     54.000000   45.100000   79.900000   31.900000   31.700000   11.000000   \n",
              "max     77.000000   82.200000  416.600000  325.300000  324.000000  209.000000   \n",
              "\n",
              "              CHE        CHOL         CREA         GGT        PROT  \n",
              "count  589.000000  589.000000   589.000000  589.000000  589.000000  \n",
              "mean     8.203633    5.391341    81.669100   38.198472   71.890153  \n",
              "std      2.191073    1.128954    50.696991   54.302407    5.348883  \n",
              "min      1.420000    1.430000     8.000000    4.500000   44.800000  \n",
              "25%      6.930000    4.620000    68.000000   15.600000   69.300000  \n",
              "50%      8.260000    5.310000    77.000000   22.800000   72.100000  \n",
              "75%      9.570000    6.080000    89.000000   37.600000   75.200000  \n",
              "max     16.410000    9.670000  1079.100000  650.900000   86.500000  "
            ],
            "text/html": [
              "\n",
              "  <div id=\"df-4d18ba2a-0daf-4874-b0b9-4753c986848a\">\n",
              "    <div class=\"colab-df-container\">\n",
              "      <div>\n",
              "<style scoped>\n",
              "    .dataframe tbody tr th:only-of-type {\n",
              "        vertical-align: middle;\n",
              "    }\n",
              "\n",
              "    .dataframe tbody tr th {\n",
              "        vertical-align: top;\n",
              "    }\n",
              "\n",
              "    .dataframe thead th {\n",
              "        text-align: right;\n",
              "    }\n",
              "</style>\n",
              "<table border=\"1\" class=\"dataframe\">\n",
              "  <thead>\n",
              "    <tr style=\"text-align: right;\">\n",
              "      <th></th>\n",
              "      <th>Age</th>\n",
              "      <th>ALB</th>\n",
              "      <th>ALP</th>\n",
              "      <th>ALT</th>\n",
              "      <th>AST</th>\n",
              "      <th>BIL</th>\n",
              "      <th>CHE</th>\n",
              "      <th>CHOL</th>\n",
              "      <th>CREA</th>\n",
              "      <th>GGT</th>\n",
              "      <th>PROT</th>\n",
              "    </tr>\n",
              "  </thead>\n",
              "  <tbody>\n",
              "    <tr>\n",
              "      <th>count</th>\n",
              "      <td>589.000000</td>\n",
              "      <td>589.000000</td>\n",
              "      <td>589.000000</td>\n",
              "      <td>589.000000</td>\n",
              "      <td>589.000000</td>\n",
              "      <td>589.000000</td>\n",
              "      <td>589.000000</td>\n",
              "      <td>589.000000</td>\n",
              "      <td>589.000000</td>\n",
              "      <td>589.000000</td>\n",
              "      <td>589.000000</td>\n",
              "    </tr>\n",
              "    <tr>\n",
              "      <th>mean</th>\n",
              "      <td>47.417657</td>\n",
              "      <td>41.624278</td>\n",
              "      <td>68.123090</td>\n",
              "      <td>26.575382</td>\n",
              "      <td>33.772835</td>\n",
              "      <td>11.018166</td>\n",
              "      <td>8.203633</td>\n",
              "      <td>5.391341</td>\n",
              "      <td>81.669100</td>\n",
              "      <td>38.198472</td>\n",
              "      <td>71.890153</td>\n",
              "    </tr>\n",
              "    <tr>\n",
              "      <th>std</th>\n",
              "      <td>9.931334</td>\n",
              "      <td>5.761794</td>\n",
              "      <td>25.921072</td>\n",
              "      <td>20.863120</td>\n",
              "      <td>32.866871</td>\n",
              "      <td>17.406572</td>\n",
              "      <td>2.191073</td>\n",
              "      <td>1.128954</td>\n",
              "      <td>50.696991</td>\n",
              "      <td>54.302407</td>\n",
              "      <td>5.348883</td>\n",
              "    </tr>\n",
              "    <tr>\n",
              "      <th>min</th>\n",
              "      <td>23.000000</td>\n",
              "      <td>14.900000</td>\n",
              "      <td>11.300000</td>\n",
              "      <td>0.900000</td>\n",
              "      <td>10.600000</td>\n",
              "      <td>0.800000</td>\n",
              "      <td>1.420000</td>\n",
              "      <td>1.430000</td>\n",
              "      <td>8.000000</td>\n",
              "      <td>4.500000</td>\n",
              "      <td>44.800000</td>\n",
              "    </tr>\n",
              "    <tr>\n",
              "      <th>25%</th>\n",
              "      <td>39.000000</td>\n",
              "      <td>38.800000</td>\n",
              "      <td>52.500000</td>\n",
              "      <td>16.400000</td>\n",
              "      <td>21.500000</td>\n",
              "      <td>5.200000</td>\n",
              "      <td>6.930000</td>\n",
              "      <td>4.620000</td>\n",
              "      <td>68.000000</td>\n",
              "      <td>15.600000</td>\n",
              "      <td>69.300000</td>\n",
              "    </tr>\n",
              "    <tr>\n",
              "      <th>50%</th>\n",
              "      <td>47.000000</td>\n",
              "      <td>41.900000</td>\n",
              "      <td>66.200000</td>\n",
              "      <td>22.700000</td>\n",
              "      <td>25.700000</td>\n",
              "      <td>7.100000</td>\n",
              "      <td>8.260000</td>\n",
              "      <td>5.310000</td>\n",
              "      <td>77.000000</td>\n",
              "      <td>22.800000</td>\n",
              "      <td>72.100000</td>\n",
              "    </tr>\n",
              "    <tr>\n",
              "      <th>75%</th>\n",
              "      <td>54.000000</td>\n",
              "      <td>45.100000</td>\n",
              "      <td>79.900000</td>\n",
              "      <td>31.900000</td>\n",
              "      <td>31.700000</td>\n",
              "      <td>11.000000</td>\n",
              "      <td>9.570000</td>\n",
              "      <td>6.080000</td>\n",
              "      <td>89.000000</td>\n",
              "      <td>37.600000</td>\n",
              "      <td>75.200000</td>\n",
              "    </tr>\n",
              "    <tr>\n",
              "      <th>max</th>\n",
              "      <td>77.000000</td>\n",
              "      <td>82.200000</td>\n",
              "      <td>416.600000</td>\n",
              "      <td>325.300000</td>\n",
              "      <td>324.000000</td>\n",
              "      <td>209.000000</td>\n",
              "      <td>16.410000</td>\n",
              "      <td>9.670000</td>\n",
              "      <td>1079.100000</td>\n",
              "      <td>650.900000</td>\n",
              "      <td>86.500000</td>\n",
              "    </tr>\n",
              "  </tbody>\n",
              "</table>\n",
              "</div>\n",
              "      <button class=\"colab-df-convert\" onclick=\"convertToInteractive('df-4d18ba2a-0daf-4874-b0b9-4753c986848a')\"\n",
              "              title=\"Convert this dataframe to an interactive table.\"\n",
              "              style=\"display:none;\">\n",
              "        \n",
              "  <svg xmlns=\"http://www.w3.org/2000/svg\" height=\"24px\"viewBox=\"0 0 24 24\"\n",
              "       width=\"24px\">\n",
              "    <path d=\"M0 0h24v24H0V0z\" fill=\"none\"/>\n",
              "    <path d=\"M18.56 5.44l.94 2.06.94-2.06 2.06-.94-2.06-.94-.94-2.06-.94 2.06-2.06.94zm-11 1L8.5 8.5l.94-2.06 2.06-.94-2.06-.94L8.5 2.5l-.94 2.06-2.06.94zm10 10l.94 2.06.94-2.06 2.06-.94-2.06-.94-.94-2.06-.94 2.06-2.06.94z\"/><path d=\"M17.41 7.96l-1.37-1.37c-.4-.4-.92-.59-1.43-.59-.52 0-1.04.2-1.43.59L10.3 9.45l-7.72 7.72c-.78.78-.78 2.05 0 2.83L4 21.41c.39.39.9.59 1.41.59.51 0 1.02-.2 1.41-.59l7.78-7.78 2.81-2.81c.8-.78.8-2.07 0-2.86zM5.41 20L4 18.59l7.72-7.72 1.47 1.35L5.41 20z\"/>\n",
              "  </svg>\n",
              "      </button>\n",
              "      \n",
              "  <style>\n",
              "    .colab-df-container {\n",
              "      display:flex;\n",
              "      flex-wrap:wrap;\n",
              "      gap: 12px;\n",
              "    }\n",
              "\n",
              "    .colab-df-convert {\n",
              "      background-color: #E8F0FE;\n",
              "      border: none;\n",
              "      border-radius: 50%;\n",
              "      cursor: pointer;\n",
              "      display: none;\n",
              "      fill: #1967D2;\n",
              "      height: 32px;\n",
              "      padding: 0 0 0 0;\n",
              "      width: 32px;\n",
              "    }\n",
              "\n",
              "    .colab-df-convert:hover {\n",
              "      background-color: #E2EBFA;\n",
              "      box-shadow: 0px 1px 2px rgba(60, 64, 67, 0.3), 0px 1px 3px 1px rgba(60, 64, 67, 0.15);\n",
              "      fill: #174EA6;\n",
              "    }\n",
              "\n",
              "    [theme=dark] .colab-df-convert {\n",
              "      background-color: #3B4455;\n",
              "      fill: #D2E3FC;\n",
              "    }\n",
              "\n",
              "    [theme=dark] .colab-df-convert:hover {\n",
              "      background-color: #434B5C;\n",
              "      box-shadow: 0px 1px 3px 1px rgba(0, 0, 0, 0.15);\n",
              "      filter: drop-shadow(0px 1px 2px rgba(0, 0, 0, 0.3));\n",
              "      fill: #FFFFFF;\n",
              "    }\n",
              "  </style>\n",
              "\n",
              "      <script>\n",
              "        const buttonEl =\n",
              "          document.querySelector('#df-4d18ba2a-0daf-4874-b0b9-4753c986848a button.colab-df-convert');\n",
              "        buttonEl.style.display =\n",
              "          google.colab.kernel.accessAllowed ? 'block' : 'none';\n",
              "\n",
              "        async function convertToInteractive(key) {\n",
              "          const element = document.querySelector('#df-4d18ba2a-0daf-4874-b0b9-4753c986848a');\n",
              "          const dataTable =\n",
              "            await google.colab.kernel.invokeFunction('convertToInteractive',\n",
              "                                                     [key], {});\n",
              "          if (!dataTable) return;\n",
              "\n",
              "          const docLinkHtml = 'Like what you see? Visit the ' +\n",
              "            '<a target=\"_blank\" href=https://colab.research.google.com/notebooks/data_table.ipynb>data table notebook</a>'\n",
              "            + ' to learn more about interactive tables.';\n",
              "          element.innerHTML = '';\n",
              "          dataTable['output_type'] = 'display_data';\n",
              "          await google.colab.output.renderOutput(dataTable, element);\n",
              "          const docLink = document.createElement('div');\n",
              "          docLink.innerHTML = docLinkHtml;\n",
              "          element.appendChild(docLink);\n",
              "        }\n",
              "      </script>\n",
              "    </div>\n",
              "  </div>\n",
              "  "
            ]
          },
          "metadata": {},
          "execution_count": 141
        }
      ]
    },
    {
      "cell_type": "code",
      "source": [
        "correlations = hepatite.corr(method='pearson')"
      ],
      "metadata": {
        "id": "iuI6ZcrEn3FQ"
      },
      "execution_count": 142,
      "outputs": []
    },
    {
      "cell_type": "code",
      "source": [
        "correlations"
      ],
      "metadata": {
        "colab": {
          "base_uri": "https://localhost:8080/",
          "height": 438
        },
        "id": "3F7a6863n583",
        "outputId": "9cc423eb-a521-4ce2-b344-6a3ae95276e9"
      },
      "execution_count": 143,
      "outputs": [
        {
          "output_type": "execute_result",
          "data": {
            "text/plain": [
              "           Age       ALB       ALP       ALT       AST       BIL       CHE  \\\n",
              "Age   1.000000 -0.191094  0.177720 -0.040576  0.072739  0.039655 -0.075863   \n",
              "ALB  -0.191094  1.000000 -0.146120  0.039497 -0.177609 -0.169597  0.360919   \n",
              "ALP   0.177720 -0.146120  1.000000  0.221603  0.067024  0.058372  0.029482   \n",
              "ALT  -0.040576  0.039497  0.221603  1.000000  0.198658 -0.106797  0.224344   \n",
              "AST   0.072739 -0.177609  0.067024  0.198658  1.000000  0.309580 -0.197270   \n",
              "BIL   0.039655 -0.169597  0.058372 -0.106797  0.309580  1.000000 -0.320713   \n",
              "CHE  -0.075863  0.360919  0.029482  0.224344 -0.197270 -0.320713  1.000000   \n",
              "CHOL  0.124742  0.210420  0.125900  0.149997 -0.201213 -0.181570  0.428018   \n",
              "CREA -0.025142  0.001433  0.153909 -0.036106 -0.017948  0.019910 -0.012120   \n",
              "GGT   0.143379 -0.147598  0.461300  0.219707  0.477774  0.210567 -0.095716   \n",
              "PROT -0.159760  0.570726 -0.063085  0.016786  0.017404 -0.052575  0.306288   \n",
              "\n",
              "          CHOL      CREA       GGT      PROT  \n",
              "Age   0.124742 -0.025142  0.143379 -0.159760  \n",
              "ALB   0.210420  0.001433 -0.147598  0.570726  \n",
              "ALP   0.125900  0.153909  0.461300 -0.063085  \n",
              "ALT   0.149997 -0.036106  0.219707  0.016786  \n",
              "AST  -0.201213 -0.017948  0.477774  0.017404  \n",
              "BIL  -0.181570  0.019910  0.210567 -0.052575  \n",
              "CHE   0.428018 -0.012120 -0.095716  0.306288  \n",
              "CHOL  1.000000 -0.051464  0.008823  0.245050  \n",
              "CREA -0.051464  1.000000  0.125353 -0.030111  \n",
              "GGT   0.008823  0.125353  1.000000 -0.037127  \n",
              "PROT  0.245050 -0.030111 -0.037127  1.000000  "
            ],
            "text/html": [
              "\n",
              "  <div id=\"df-3a39b14f-4008-4086-9307-5698fa66f419\">\n",
              "    <div class=\"colab-df-container\">\n",
              "      <div>\n",
              "<style scoped>\n",
              "    .dataframe tbody tr th:only-of-type {\n",
              "        vertical-align: middle;\n",
              "    }\n",
              "\n",
              "    .dataframe tbody tr th {\n",
              "        vertical-align: top;\n",
              "    }\n",
              "\n",
              "    .dataframe thead th {\n",
              "        text-align: right;\n",
              "    }\n",
              "</style>\n",
              "<table border=\"1\" class=\"dataframe\">\n",
              "  <thead>\n",
              "    <tr style=\"text-align: right;\">\n",
              "      <th></th>\n",
              "      <th>Age</th>\n",
              "      <th>ALB</th>\n",
              "      <th>ALP</th>\n",
              "      <th>ALT</th>\n",
              "      <th>AST</th>\n",
              "      <th>BIL</th>\n",
              "      <th>CHE</th>\n",
              "      <th>CHOL</th>\n",
              "      <th>CREA</th>\n",
              "      <th>GGT</th>\n",
              "      <th>PROT</th>\n",
              "    </tr>\n",
              "  </thead>\n",
              "  <tbody>\n",
              "    <tr>\n",
              "      <th>Age</th>\n",
              "      <td>1.000000</td>\n",
              "      <td>-0.191094</td>\n",
              "      <td>0.177720</td>\n",
              "      <td>-0.040576</td>\n",
              "      <td>0.072739</td>\n",
              "      <td>0.039655</td>\n",
              "      <td>-0.075863</td>\n",
              "      <td>0.124742</td>\n",
              "      <td>-0.025142</td>\n",
              "      <td>0.143379</td>\n",
              "      <td>-0.159760</td>\n",
              "    </tr>\n",
              "    <tr>\n",
              "      <th>ALB</th>\n",
              "      <td>-0.191094</td>\n",
              "      <td>1.000000</td>\n",
              "      <td>-0.146120</td>\n",
              "      <td>0.039497</td>\n",
              "      <td>-0.177609</td>\n",
              "      <td>-0.169597</td>\n",
              "      <td>0.360919</td>\n",
              "      <td>0.210420</td>\n",
              "      <td>0.001433</td>\n",
              "      <td>-0.147598</td>\n",
              "      <td>0.570726</td>\n",
              "    </tr>\n",
              "    <tr>\n",
              "      <th>ALP</th>\n",
              "      <td>0.177720</td>\n",
              "      <td>-0.146120</td>\n",
              "      <td>1.000000</td>\n",
              "      <td>0.221603</td>\n",
              "      <td>0.067024</td>\n",
              "      <td>0.058372</td>\n",
              "      <td>0.029482</td>\n",
              "      <td>0.125900</td>\n",
              "      <td>0.153909</td>\n",
              "      <td>0.461300</td>\n",
              "      <td>-0.063085</td>\n",
              "    </tr>\n",
              "    <tr>\n",
              "      <th>ALT</th>\n",
              "      <td>-0.040576</td>\n",
              "      <td>0.039497</td>\n",
              "      <td>0.221603</td>\n",
              "      <td>1.000000</td>\n",
              "      <td>0.198658</td>\n",
              "      <td>-0.106797</td>\n",
              "      <td>0.224344</td>\n",
              "      <td>0.149997</td>\n",
              "      <td>-0.036106</td>\n",
              "      <td>0.219707</td>\n",
              "      <td>0.016786</td>\n",
              "    </tr>\n",
              "    <tr>\n",
              "      <th>AST</th>\n",
              "      <td>0.072739</td>\n",
              "      <td>-0.177609</td>\n",
              "      <td>0.067024</td>\n",
              "      <td>0.198658</td>\n",
              "      <td>1.000000</td>\n",
              "      <td>0.309580</td>\n",
              "      <td>-0.197270</td>\n",
              "      <td>-0.201213</td>\n",
              "      <td>-0.017948</td>\n",
              "      <td>0.477774</td>\n",
              "      <td>0.017404</td>\n",
              "    </tr>\n",
              "    <tr>\n",
              "      <th>BIL</th>\n",
              "      <td>0.039655</td>\n",
              "      <td>-0.169597</td>\n",
              "      <td>0.058372</td>\n",
              "      <td>-0.106797</td>\n",
              "      <td>0.309580</td>\n",
              "      <td>1.000000</td>\n",
              "      <td>-0.320713</td>\n",
              "      <td>-0.181570</td>\n",
              "      <td>0.019910</td>\n",
              "      <td>0.210567</td>\n",
              "      <td>-0.052575</td>\n",
              "    </tr>\n",
              "    <tr>\n",
              "      <th>CHE</th>\n",
              "      <td>-0.075863</td>\n",
              "      <td>0.360919</td>\n",
              "      <td>0.029482</td>\n",
              "      <td>0.224344</td>\n",
              "      <td>-0.197270</td>\n",
              "      <td>-0.320713</td>\n",
              "      <td>1.000000</td>\n",
              "      <td>0.428018</td>\n",
              "      <td>-0.012120</td>\n",
              "      <td>-0.095716</td>\n",
              "      <td>0.306288</td>\n",
              "    </tr>\n",
              "    <tr>\n",
              "      <th>CHOL</th>\n",
              "      <td>0.124742</td>\n",
              "      <td>0.210420</td>\n",
              "      <td>0.125900</td>\n",
              "      <td>0.149997</td>\n",
              "      <td>-0.201213</td>\n",
              "      <td>-0.181570</td>\n",
              "      <td>0.428018</td>\n",
              "      <td>1.000000</td>\n",
              "      <td>-0.051464</td>\n",
              "      <td>0.008823</td>\n",
              "      <td>0.245050</td>\n",
              "    </tr>\n",
              "    <tr>\n",
              "      <th>CREA</th>\n",
              "      <td>-0.025142</td>\n",
              "      <td>0.001433</td>\n",
              "      <td>0.153909</td>\n",
              "      <td>-0.036106</td>\n",
              "      <td>-0.017948</td>\n",
              "      <td>0.019910</td>\n",
              "      <td>-0.012120</td>\n",
              "      <td>-0.051464</td>\n",
              "      <td>1.000000</td>\n",
              "      <td>0.125353</td>\n",
              "      <td>-0.030111</td>\n",
              "    </tr>\n",
              "    <tr>\n",
              "      <th>GGT</th>\n",
              "      <td>0.143379</td>\n",
              "      <td>-0.147598</td>\n",
              "      <td>0.461300</td>\n",
              "      <td>0.219707</td>\n",
              "      <td>0.477774</td>\n",
              "      <td>0.210567</td>\n",
              "      <td>-0.095716</td>\n",
              "      <td>0.008823</td>\n",
              "      <td>0.125353</td>\n",
              "      <td>1.000000</td>\n",
              "      <td>-0.037127</td>\n",
              "    </tr>\n",
              "    <tr>\n",
              "      <th>PROT</th>\n",
              "      <td>-0.159760</td>\n",
              "      <td>0.570726</td>\n",
              "      <td>-0.063085</td>\n",
              "      <td>0.016786</td>\n",
              "      <td>0.017404</td>\n",
              "      <td>-0.052575</td>\n",
              "      <td>0.306288</td>\n",
              "      <td>0.245050</td>\n",
              "      <td>-0.030111</td>\n",
              "      <td>-0.037127</td>\n",
              "      <td>1.000000</td>\n",
              "    </tr>\n",
              "  </tbody>\n",
              "</table>\n",
              "</div>\n",
              "      <button class=\"colab-df-convert\" onclick=\"convertToInteractive('df-3a39b14f-4008-4086-9307-5698fa66f419')\"\n",
              "              title=\"Convert this dataframe to an interactive table.\"\n",
              "              style=\"display:none;\">\n",
              "        \n",
              "  <svg xmlns=\"http://www.w3.org/2000/svg\" height=\"24px\"viewBox=\"0 0 24 24\"\n",
              "       width=\"24px\">\n",
              "    <path d=\"M0 0h24v24H0V0z\" fill=\"none\"/>\n",
              "    <path d=\"M18.56 5.44l.94 2.06.94-2.06 2.06-.94-2.06-.94-.94-2.06-.94 2.06-2.06.94zm-11 1L8.5 8.5l.94-2.06 2.06-.94-2.06-.94L8.5 2.5l-.94 2.06-2.06.94zm10 10l.94 2.06.94-2.06 2.06-.94-2.06-.94-.94-2.06-.94 2.06-2.06.94z\"/><path d=\"M17.41 7.96l-1.37-1.37c-.4-.4-.92-.59-1.43-.59-.52 0-1.04.2-1.43.59L10.3 9.45l-7.72 7.72c-.78.78-.78 2.05 0 2.83L4 21.41c.39.39.9.59 1.41.59.51 0 1.02-.2 1.41-.59l7.78-7.78 2.81-2.81c.8-.78.8-2.07 0-2.86zM5.41 20L4 18.59l7.72-7.72 1.47 1.35L5.41 20z\"/>\n",
              "  </svg>\n",
              "      </button>\n",
              "      \n",
              "  <style>\n",
              "    .colab-df-container {\n",
              "      display:flex;\n",
              "      flex-wrap:wrap;\n",
              "      gap: 12px;\n",
              "    }\n",
              "\n",
              "    .colab-df-convert {\n",
              "      background-color: #E8F0FE;\n",
              "      border: none;\n",
              "      border-radius: 50%;\n",
              "      cursor: pointer;\n",
              "      display: none;\n",
              "      fill: #1967D2;\n",
              "      height: 32px;\n",
              "      padding: 0 0 0 0;\n",
              "      width: 32px;\n",
              "    }\n",
              "\n",
              "    .colab-df-convert:hover {\n",
              "      background-color: #E2EBFA;\n",
              "      box-shadow: 0px 1px 2px rgba(60, 64, 67, 0.3), 0px 1px 3px 1px rgba(60, 64, 67, 0.15);\n",
              "      fill: #174EA6;\n",
              "    }\n",
              "\n",
              "    [theme=dark] .colab-df-convert {\n",
              "      background-color: #3B4455;\n",
              "      fill: #D2E3FC;\n",
              "    }\n",
              "\n",
              "    [theme=dark] .colab-df-convert:hover {\n",
              "      background-color: #434B5C;\n",
              "      box-shadow: 0px 1px 3px 1px rgba(0, 0, 0, 0.15);\n",
              "      filter: drop-shadow(0px 1px 2px rgba(0, 0, 0, 0.3));\n",
              "      fill: #FFFFFF;\n",
              "    }\n",
              "  </style>\n",
              "\n",
              "      <script>\n",
              "        const buttonEl =\n",
              "          document.querySelector('#df-3a39b14f-4008-4086-9307-5698fa66f419 button.colab-df-convert');\n",
              "        buttonEl.style.display =\n",
              "          google.colab.kernel.accessAllowed ? 'block' : 'none';\n",
              "\n",
              "        async function convertToInteractive(key) {\n",
              "          const element = document.querySelector('#df-3a39b14f-4008-4086-9307-5698fa66f419');\n",
              "          const dataTable =\n",
              "            await google.colab.kernel.invokeFunction('convertToInteractive',\n",
              "                                                     [key], {});\n",
              "          if (!dataTable) return;\n",
              "\n",
              "          const docLinkHtml = 'Like what you see? Visit the ' +\n",
              "            '<a target=\"_blank\" href=https://colab.research.google.com/notebooks/data_table.ipynb>data table notebook</a>'\n",
              "            + ' to learn more about interactive tables.';\n",
              "          element.innerHTML = '';\n",
              "          dataTable['output_type'] = 'display_data';\n",
              "          await google.colab.output.renderOutput(dataTable, element);\n",
              "          const docLink = document.createElement('div');\n",
              "          docLink.innerHTML = docLinkHtml;\n",
              "          element.appendChild(docLink);\n",
              "        }\n",
              "      </script>\n",
              "    </div>\n",
              "  </div>\n",
              "  "
            ]
          },
          "metadata": {},
          "execution_count": 143
        }
      ]
    },
    {
      "cell_type": "code",
      "source": [
        "hepatite.skew()"
      ],
      "metadata": {
        "colab": {
          "base_uri": "https://localhost:8080/"
        },
        "id": "r-jPg1wto-rX",
        "outputId": "e9d9c032-9fdb-4e67-c1aa-0f6d59a14da2"
      },
      "execution_count": 144,
      "outputs": [
        {
          "output_type": "stream",
          "name": "stderr",
          "text": [
            "/usr/local/lib/python3.7/dist-packages/ipykernel_launcher.py:1: FutureWarning: Dropping of nuisance columns in DataFrame reductions (with 'numeric_only=None') is deprecated; in a future version this will raise TypeError.  Select only valid columns before calling the reduction.\n",
            "  \"\"\"Entry point for launching an IPython kernel.\n"
          ]
        },
        {
          "output_type": "execute_result",
          "data": {
            "text/plain": [
              "Age      0.286558\n",
              "ALB     -0.102228\n",
              "ALP      4.756845\n",
              "ALT      6.815926\n",
              "AST      5.246583\n",
              "BIL      8.089304\n",
              "CHE     -0.067161\n",
              "CHOL     0.378780\n",
              "CREA    14.955189\n",
              "GGT      5.936910\n",
              "PROT    -1.061908\n",
              "dtype: float64"
            ]
          },
          "metadata": {},
          "execution_count": 144
        }
      ]
    },
    {
      "cell_type": "code",
      "source": [
        "hepatite.plot(kind='density', subplots=True, layout=(6,2), sharex=False)\n",
        "plt.show()"
      ],
      "metadata": {
        "colab": {
          "base_uri": "https://localhost:8080/",
          "height": 269
        },
        "id": "bW2Iqx75ph7F",
        "outputId": "2075f8f7-c828-48e1-d56d-bad41a436966"
      },
      "execution_count": 145,
      "outputs": [
        {
          "output_type": "display_data",
          "data": {
            "text/plain": [
              "<Figure size 432x288 with 12 Axes>"
            ],
            "image/png": "[encoded data removed]"
          },
          "metadata": {
            "needs_background": "light"
          }
        }
      ]
    },
    {
      "cell_type": "markdown",
      "source": [
        "## **Predictors and class split**"
      ],
      "metadata": {
        "id": "YdmegljIFRxx"
      }
    },
    {
      "cell_type": "code",
      "source": [
        "X_hepatite=hepatite.iloc[:,0:12].values"
      ],
      "metadata": {
        "id": "GTh0Zao8rSO7"
      },
      "execution_count": 146,
      "outputs": []
    },
    {
      "cell_type": "code",
      "source": [
        "X_hepatite"
      ],
      "metadata": {
        "colab": {
          "base_uri": "https://localhost:8080/"
        },
        "id": "Aijfai1zrhBH",
        "outputId": "830ee7a9-608e-43c7-e32e-28cf1c6f4905"
      },
      "execution_count": 124,
      "outputs": [
        {
          "output_type": "execute_result",
          "data": {
            "text/plain": [
              "array([[32, 'm', 38.5, ..., 106.0, 12.1, 69.0],\n",
              "       [32, 'm', 38.5, ..., 74.0, 15.6, 76.5],\n",
              "       [32, 'm', 46.9, ..., 86.0, 33.2, 79.3],\n",
              "       ...,\n",
              "       [62, 'f', 32.0, ..., 55.7, 650.9, 68.5],\n",
              "       [64, 'f', 24.0, ..., 63.0, 35.9, 71.3],\n",
              "       [64, 'f', 29.0, ..., 66.7, 64.2, 82.0]], dtype=object)"
            ]
          },
          "metadata": {},
          "execution_count": 124
        }
      ]
    },
    {
      "cell_type": "code",
      "source": [
        "Y_hepatite=hepatite.iloc[:,12].values"
      ],
      "metadata": {
        "id": "RVdXVkDprmDe"
      },
      "execution_count": 147,
      "outputs": []
    },
    {
      "cell_type": "code",
      "source": [
        "Y_hepatite"
      ],
      "metadata": {
        "colab": {
          "base_uri": "https://localhost:8080/"
        },
        "id": "Thxpa5Ukrqrr",
        "outputId": "418b55f4-1d27-49f2-8ec4-fde9efa85015"
      },
      "execution_count": 148,
      "outputs": [
        {
          "output_type": "execute_result",
          "data": {
            "text/plain": [
              "array(['0=Blood Donor', '0=Blood Donor', '0=Blood Donor', '0=Blood Donor',\n",
              "       '0=Blood Donor', '0=Blood Donor', '0=Blood Donor', '0=Blood Donor',\n",
              "       '0=Blood Donor', '0=Blood Donor', '0=Blood Donor', '0=Blood Donor',\n",
              "       '0=Blood Donor', '0=Blood Donor', '0=Blood Donor', '0=Blood Donor',\n",
              "       '0=Blood Donor', '0=Blood Donor', '0=Blood Donor', '0=Blood Donor',\n",
              "       '0=Blood Donor', '0=Blood Donor', '0=Blood Donor', '0=Blood Donor',\n",
              "       '0=Blood Donor', '0=Blood Donor', '0=Blood Donor', '0=Blood Donor',\n",
              "       '0=Blood Donor', '0=Blood Donor', '0=Blood Donor', '0=Blood Donor',\n",
              "       '0=Blood Donor', '0=Blood Donor', '0=Blood Donor', '0=Blood Donor',\n",
              "       '0=Blood Donor', '0=Blood Donor', '0=Blood Donor', '0=Blood Donor',\n",
              "       '0=Blood Donor', '0=Blood Donor', '0=Blood Donor', '0=Blood Donor',\n",
              "       '0=Blood Donor', '0=Blood Donor', '0=Blood Donor', '0=Blood Donor',\n",
              "       '0=Blood Donor', '0=Blood Donor', '0=Blood Donor', '0=Blood Donor',\n",
              "       '0=Blood Donor', '0=Blood Donor', '0=Blood Donor', '0=Blood Donor',\n",
              "       '0=Blood Donor', '0=Blood Donor', '0=Blood Donor', '0=Blood Donor',\n",
              "       '0=Blood Donor', '0=Blood Donor', '0=Blood Donor', '0=Blood Donor',\n",
              "       '0=Blood Donor', '0=Blood Donor', '0=Blood Donor', '0=Blood Donor',\n",
              "       '0=Blood Donor', '0=Blood Donor', '0=Blood Donor', '0=Blood Donor',\n",
              "       '0=Blood Donor', '0=Blood Donor', '0=Blood Donor', '0=Blood Donor',\n",
              "       '0=Blood Donor', '0=Blood Donor', '0=Blood Donor', '0=Blood Donor',\n",
              "       '0=Blood Donor', '0=Blood Donor', '0=Blood Donor', '0=Blood Donor',\n",
              "       '0=Blood Donor', '0=Blood Donor', '0=Blood Donor', '0=Blood Donor',\n",
              "       '0=Blood Donor', '0=Blood Donor', '0=Blood Donor', '0=Blood Donor',\n",
              "       '0=Blood Donor', '0=Blood Donor', '0=Blood Donor', '0=Blood Donor',\n",
              "       '0=Blood Donor', '0=Blood Donor', '0=Blood Donor', '0=Blood Donor',\n",
              "       '0=Blood Donor', '0=Blood Donor', '0=Blood Donor', '0=Blood Donor',\n",
              "       '0=Blood Donor', '0=Blood Donor', '0=Blood Donor', '0=Blood Donor',\n",
              "       '0=Blood Donor', '0=Blood Donor', '0=Blood Donor', '0=Blood Donor',\n",
              "       '0=Blood Donor', '0=Blood Donor', '0=Blood Donor', '0=Blood Donor',\n",
              "       '0=Blood Donor', '0=Blood Donor', '0=Blood Donor', '0=Blood Donor',\n",
              "       '0=Blood Donor', '0=Blood Donor', '0=Blood Donor', '0=Blood Donor',\n",
              "       '0=Blood Donor', '0=Blood Donor', '0=Blood Donor', '0=Blood Donor',\n",
              "       '0=Blood Donor', '0=Blood Donor', '0=Blood Donor', '0=Blood Donor',\n",
              "       '0=Blood Donor', '0=Blood Donor', '0=Blood Donor', '0=Blood Donor',\n",
              "       '0=Blood Donor', '0=Blood Donor', '0=Blood Donor', '0=Blood Donor',\n",
              "       '0=Blood Donor', '0=Blood Donor', '0=Blood Donor', '0=Blood Donor',\n",
              "       '0=Blood Donor', '0=Blood Donor', '0=Blood Donor', '0=Blood Donor',\n",
              "       '0=Blood Donor', '0=Blood Donor', '0=Blood Donor', '0=Blood Donor',\n",
              "       '0=Blood Donor', '0=Blood Donor', '0=Blood Donor', '0=Blood Donor',\n",
              "       '0=Blood Donor', '0=Blood Donor', '0=Blood Donor', '0=Blood Donor',\n",
              "       '0=Blood Donor', '0=Blood Donor', '0=Blood Donor', '0=Blood Donor',\n",
              "       '0=Blood Donor', '0=Blood Donor', '0=Blood Donor', '0=Blood Donor',\n",
              "       '0=Blood Donor', '0=Blood Donor', '0=Blood Donor', '0=Blood Donor',\n",
              "       '0=Blood Donor', '0=Blood Donor', '0=Blood Donor', '0=Blood Donor',\n",
              "       '0=Blood Donor', '0=Blood Donor', '0=Blood Donor', '0=Blood Donor',\n",
              "       '0=Blood Donor', '0=Blood Donor', '0=Blood Donor', '0=Blood Donor',\n",
              "       '0=Blood Donor', '0=Blood Donor', '0=Blood Donor', '0=Blood Donor',\n",
              "       '0=Blood Donor', '0=Blood Donor', '0=Blood Donor', '0=Blood Donor',\n",
              "       '0=Blood Donor', '0=Blood Donor', '0=Blood Donor', '0=Blood Donor',\n",
              "       '0=Blood Donor', '0=Blood Donor', '0=Blood Donor', '0=Blood Donor',\n",
              "       '0=Blood Donor', '0=Blood Donor', '0=Blood Donor', '0=Blood Donor',\n",
              "       '0=Blood Donor', '0=Blood Donor', '0=Blood Donor', '0=Blood Donor',\n",
              "       '0=Blood Donor', '0=Blood Donor', '0=Blood Donor', '0=Blood Donor',\n",
              "       '0=Blood Donor', '0=Blood Donor', '0=Blood Donor', '0=Blood Donor',\n",
              "       '0=Blood Donor', '0=Blood Donor', '0=Blood Donor', '0=Blood Donor',\n",
              "       '0=Blood Donor', '0=Blood Donor', '0=Blood Donor', '0=Blood Donor',\n",
              "       '0=Blood Donor', '0=Blood Donor', '0=Blood Donor', '0=Blood Donor',\n",
              "       '0=Blood Donor', '0=Blood Donor', '0=Blood Donor', '0=Blood Donor',\n",
              "       '0=Blood Donor', '0=Blood Donor', '0=Blood Donor', '0=Blood Donor',\n",
              "       '0=Blood Donor', '0=Blood Donor', '0=Blood Donor', '0=Blood Donor',\n",
              "       '0=Blood Donor', '0=Blood Donor', '0=Blood Donor', '0=Blood Donor',\n",
              "       '0=Blood Donor', '0=Blood Donor', '0=Blood Donor', '0=Blood Donor',\n",
              "       '0=Blood Donor', '0=Blood Donor', '0=Blood Donor', '0=Blood Donor',\n",
              "       '0=Blood Donor', '0=Blood Donor', '0=Blood Donor', '0=Blood Donor',\n",
              "       '0=Blood Donor', '0=Blood Donor', '0=Blood Donor', '0=Blood Donor',\n",
              "       '0=Blood Donor', '0=Blood Donor', '0=Blood Donor', '0=Blood Donor',\n",
              "       '0=Blood Donor', '0=Blood Donor', '0=Blood Donor', '0=Blood Donor',\n",
              "       '0=Blood Donor', '0=Blood Donor', '0=Blood Donor', '0=Blood Donor',\n",
              "       '0=Blood Donor', '0=Blood Donor', '0=Blood Donor', '0=Blood Donor',\n",
              "       '0=Blood Donor', '0=Blood Donor', '0=Blood Donor', '0=Blood Donor',\n",
              "       '0=Blood Donor', '0=Blood Donor', '0=Blood Donor', '0=Blood Donor',\n",
              "       '0=Blood Donor', '0=Blood Donor', '0=Blood Donor', '0=Blood Donor',\n",
              "       '0=Blood Donor', '0=Blood Donor', '0=Blood Donor', '0=Blood Donor',\n",
              "       '0=Blood Donor', '0=Blood Donor', '0=Blood Donor', '0=Blood Donor',\n",
              "       '0=Blood Donor', '0=Blood Donor', '0=Blood Donor', '0=Blood Donor',\n",
              "       '0=Blood Donor', '0=Blood Donor', '0=Blood Donor', '0=Blood Donor',\n",
              "       '0=Blood Donor', '0=Blood Donor', '0=Blood Donor', '0=Blood Donor',\n",
              "       '0=Blood Donor', '0=Blood Donor', '0=Blood Donor', '0=Blood Donor',\n",
              "       '0=Blood Donor', '0=Blood Donor', '0=Blood Donor', '0=Blood Donor',\n",
              "       '0=Blood Donor', '0=Blood Donor', '0=Blood Donor', '0=Blood Donor',\n",
              "       '0=Blood Donor', '0=Blood Donor', '0=Blood Donor', '0=Blood Donor',\n",
              "       '0=Blood Donor', '0=Blood Donor', '0=Blood Donor', '0=Blood Donor',\n",
              "       '0=Blood Donor', '0=Blood Donor', '0=Blood Donor', '0=Blood Donor',\n",
              "       '0=Blood Donor', '0=Blood Donor', '0=Blood Donor', '0=Blood Donor',\n",
              "       '0=Blood Donor', '0=Blood Donor', '0=Blood Donor', '0=Blood Donor',\n",
              "       '0=Blood Donor', '0=Blood Donor', '0=Blood Donor', '0=Blood Donor',\n",
              "       '0=Blood Donor', '0=Blood Donor', '0=Blood Donor', '0=Blood Donor',\n",
              "       '0=Blood Donor', '0=Blood Donor', '0=Blood Donor', '0=Blood Donor',\n",
              "       '0=Blood Donor', '0=Blood Donor', '0=Blood Donor', '0=Blood Donor',\n",
              "       '0=Blood Donor', '0=Blood Donor', '0=Blood Donor', '0=Blood Donor',\n",
              "       '0=Blood Donor', '0=Blood Donor', '0=Blood Donor', '0=Blood Donor',\n",
              "       '0=Blood Donor', '0=Blood Donor', '0=Blood Donor', '0=Blood Donor',\n",
              "       '0=Blood Donor', '0=Blood Donor', '0=Blood Donor', '0=Blood Donor',\n",
              "       '0=Blood Donor', '0=Blood Donor', '0=Blood Donor', '0=Blood Donor',\n",
              "       '0=Blood Donor', '0=Blood Donor', '0=Blood Donor', '0=Blood Donor',\n",
              "       '0=Blood Donor', '0=Blood Donor', '0=Blood Donor', '0=Blood Donor',\n",
              "       '0=Blood Donor', '0=Blood Donor', '0=Blood Donor', '0=Blood Donor',\n",
              "       '0=Blood Donor', '0=Blood Donor', '0=Blood Donor', '0=Blood Donor',\n",
              "       '0=Blood Donor', '0=Blood Donor', '0=Blood Donor', '0=Blood Donor',\n",
              "       '0=Blood Donor', '0=Blood Donor', '0=Blood Donor', '0=Blood Donor',\n",
              "       '0=Blood Donor', '0=Blood Donor', '0=Blood Donor', '0=Blood Donor',\n",
              "       '0=Blood Donor', '0=Blood Donor', '0=Blood Donor', '0=Blood Donor',\n",
              "       '0=Blood Donor', '0=Blood Donor', '0=Blood Donor', '0=Blood Donor',\n",
              "       '0=Blood Donor', '0=Blood Donor', '0=Blood Donor', '0=Blood Donor',\n",
              "       '0=Blood Donor', '0=Blood Donor', '0=Blood Donor', '0=Blood Donor',\n",
              "       '0=Blood Donor', '0=Blood Donor', '0=Blood Donor', '0=Blood Donor',\n",
              "       '0=Blood Donor', '0=Blood Donor', '0=Blood Donor', '0=Blood Donor',\n",
              "       '0=Blood Donor', '0=Blood Donor', '0=Blood Donor', '0=Blood Donor',\n",
              "       '0=Blood Donor', '0=Blood Donor', '0=Blood Donor', '0=Blood Donor',\n",
              "       '0=Blood Donor', '0=Blood Donor', '0=Blood Donor', '0=Blood Donor',\n",
              "       '0=Blood Donor', '0=Blood Donor', '0=Blood Donor', '0=Blood Donor',\n",
              "       '0=Blood Donor', '0=Blood Donor', '0=Blood Donor', '0=Blood Donor',\n",
              "       '0=Blood Donor', '0=Blood Donor', '0=Blood Donor', '0=Blood Donor',\n",
              "       '0=Blood Donor', '0=Blood Donor', '0=Blood Donor', '0=Blood Donor',\n",
              "       '0=Blood Donor', '0=Blood Donor', '0=Blood Donor', '0=Blood Donor',\n",
              "       '0=Blood Donor', '0=Blood Donor', '0=Blood Donor', '0=Blood Donor',\n",
              "       '0=Blood Donor', '0=Blood Donor', '0=Blood Donor', '0=Blood Donor',\n",
              "       '0=Blood Donor', '0=Blood Donor', '0=Blood Donor', '0=Blood Donor',\n",
              "       '0=Blood Donor', '0=Blood Donor', '0=Blood Donor', '0=Blood Donor',\n",
              "       '0=Blood Donor', '0=Blood Donor', '0=Blood Donor', '0=Blood Donor',\n",
              "       '0=Blood Donor', '0=Blood Donor', '0=Blood Donor', '0=Blood Donor',\n",
              "       '0=Blood Donor', '0=Blood Donor', '0=Blood Donor', '0=Blood Donor',\n",
              "       '0=Blood Donor', '0=Blood Donor', '0=Blood Donor', '0=Blood Donor',\n",
              "       '0=Blood Donor', '0=Blood Donor', '0=Blood Donor', '0=Blood Donor',\n",
              "       '0=Blood Donor', '0=Blood Donor', '0=Blood Donor', '0=Blood Donor',\n",
              "       '0=Blood Donor', '0=Blood Donor', '0=Blood Donor', '0=Blood Donor',\n",
              "       '0=Blood Donor', '0=Blood Donor', '0=Blood Donor', '0=Blood Donor',\n",
              "       '0=Blood Donor', '0=Blood Donor', '0=Blood Donor', '0=Blood Donor',\n",
              "       '0=Blood Donor', '0=Blood Donor', '0=Blood Donor', '0=Blood Donor',\n",
              "       '0=Blood Donor', '0=Blood Donor', '0=Blood Donor', '0=Blood Donor',\n",
              "       '0=Blood Donor', '0=Blood Donor', '0=Blood Donor', '0=Blood Donor',\n",
              "       '0=Blood Donor', '0=Blood Donor', '0s=suspect Blood Donor',\n",
              "       '0s=suspect Blood Donor', '0s=suspect Blood Donor',\n",
              "       '0s=suspect Blood Donor', '0s=suspect Blood Donor',\n",
              "       '0s=suspect Blood Donor', '0s=suspect Blood Donor', '1=Hepatitis',\n",
              "       '1=Hepatitis', '1=Hepatitis', '1=Hepatitis', '1=Hepatitis',\n",
              "       '1=Hepatitis', '1=Hepatitis', '1=Hepatitis', '1=Hepatitis',\n",
              "       '1=Hepatitis', '1=Hepatitis', '1=Hepatitis', '1=Hepatitis',\n",
              "       '1=Hepatitis', '1=Hepatitis', '1=Hepatitis', '1=Hepatitis',\n",
              "       '1=Hepatitis', '1=Hepatitis', '1=Hepatitis', '2=Fibrosis',\n",
              "       '2=Fibrosis', '2=Fibrosis', '2=Fibrosis', '2=Fibrosis',\n",
              "       '2=Fibrosis', '2=Fibrosis', '2=Fibrosis', '2=Fibrosis',\n",
              "       '2=Fibrosis', '2=Fibrosis', '2=Fibrosis', '3=Cirrhosis',\n",
              "       '3=Cirrhosis', '3=Cirrhosis', '3=Cirrhosis', '3=Cirrhosis',\n",
              "       '3=Cirrhosis', '3=Cirrhosis', '3=Cirrhosis', '3=Cirrhosis',\n",
              "       '3=Cirrhosis', '3=Cirrhosis', '3=Cirrhosis', '3=Cirrhosis',\n",
              "       '3=Cirrhosis', '3=Cirrhosis', '3=Cirrhosis', '3=Cirrhosis',\n",
              "       '3=Cirrhosis', '3=Cirrhosis', '3=Cirrhosis', '3=Cirrhosis',\n",
              "       '3=Cirrhosis', '3=Cirrhosis', '3=Cirrhosis'], dtype=object)"
            ]
          },
          "metadata": {},
          "execution_count": 148
        }
      ]
    },
    {
      "cell_type": "code",
      "source": [
        "from sklearn import preprocessing"
      ],
      "metadata": {
        "id": "6dVzerEMrzWN"
      },
      "execution_count": 149,
      "outputs": []
    },
    {
      "cell_type": "code",
      "source": [
        "from sklearn.preprocessing import LabelEncoder"
      ],
      "metadata": {
        "id": "k9_XPpCJr1nv"
      },
      "execution_count": 150,
      "outputs": []
    },
    {
      "cell_type": "code",
      "source": [
        "encoder=preprocessing.LabelEncoder()"
      ],
      "metadata": {
        "id": "EFPA1KuTr3eu"
      },
      "execution_count": 151,
      "outputs": []
    },
    {
      "cell_type": "code",
      "source": [
        "X_hepatite[:,1]=encoder.fit_transform(X_hepatite[:,1])"
      ],
      "metadata": {
        "id": "k7X1fS-Jr6ab"
      },
      "execution_count": 152,
      "outputs": []
    },
    {
      "cell_type": "code",
      "source": [
        "hepatite['Category'] = hepatite['Category'].map({'0=Blood Donor':0,\n",
        "                             '0s=suspect Blood Donor':4,\n",
        "                             '1=Hepatitis':1,\n",
        "                             '2=Fibrosis':2,\n",
        "                             '3=Cirrhosis':3})"
      ],
      "metadata": {
        "id": "bMHk-gMsOAT5"
      },
      "execution_count": 154,
      "outputs": []
    },
    {
      "cell_type": "code",
      "source": [
        "data_scaler = preprocessing.MinMaxScaler(feature_range=(0,1))\n",
        "data_rescaled = data_scaler.fit_transform(X_hepatite)"
      ],
      "metadata": {
        "id": "eu4xdPlJU3n_"
      },
      "execution_count": 155,
      "outputs": []
    },
    {
      "cell_type": "code",
      "source": [
        "X_hepatite=data_rescaled"
      ],
      "metadata": {
        "id": "ONpJ3TBFVcPS"
      },
      "execution_count": 156,
      "outputs": []
    },
    {
      "cell_type": "code",
      "source": [
        "X_hepatite"
      ],
      "metadata": {
        "colab": {
          "base_uri": "https://localhost:8080/"
        },
        "id": "W8q__5q0RGyh",
        "outputId": "b5579751-21ef-42f3-c2ba-14c5bef86c2f"
      },
      "execution_count": 157,
      "outputs": [
        {
          "output_type": "execute_result",
          "data": {
            "text/plain": [
              "array([[0.16666667, 1.        , 0.35066865, ..., 0.09149473, 0.01175743,\n",
              "        0.58033573],\n",
              "       [0.16666667, 1.        , 0.35066865, ..., 0.0616189 , 0.01717203,\n",
              "        0.76019185],\n",
              "       [0.16666667, 1.        , 0.47548291, ..., 0.07282233, 0.04439975,\n",
              "        0.82733813],\n",
              "       ...,\n",
              "       [0.72222222, 0.        , 0.25408618, ..., 0.04453366, 1.        ,\n",
              "        0.56834532],\n",
              "       [0.75925926, 0.        , 0.13521545, ..., 0.05134908, 0.04857673,\n",
              "        0.63549161],\n",
              "       [0.75925926, 0.        , 0.20950966, ..., 0.05480347, 0.09235767,\n",
              "        0.89208633]])"
            ]
          },
          "metadata": {},
          "execution_count": 157
        }
      ]
    },
    {
      "cell_type": "code",
      "source": [
        "Y_hepatite"
      ],
      "metadata": {
        "colab": {
          "base_uri": "https://localhost:8080/"
        },
        "id": "9MS_arWnRRZK",
        "outputId": "bd13a343-ed0f-4c2c-b560-dc09d5fd2715"
      },
      "execution_count": 158,
      "outputs": [
        {
          "output_type": "execute_result",
          "data": {
            "text/plain": [
              "array(['0=Blood Donor', '0=Blood Donor', '0=Blood Donor', '0=Blood Donor',\n",
              "       '0=Blood Donor', '0=Blood Donor', '0=Blood Donor', '0=Blood Donor',\n",
              "       '0=Blood Donor', '0=Blood Donor', '0=Blood Donor', '0=Blood Donor',\n",
              "       '0=Blood Donor', '0=Blood Donor', '0=Blood Donor', '0=Blood Donor',\n",
              "       '0=Blood Donor', '0=Blood Donor', '0=Blood Donor', '0=Blood Donor',\n",
              "       '0=Blood Donor', '0=Blood Donor', '0=Blood Donor', '0=Blood Donor',\n",
              "       '0=Blood Donor', '0=Blood Donor', '0=Blood Donor', '0=Blood Donor',\n",
              "       '0=Blood Donor', '0=Blood Donor', '0=Blood Donor', '0=Blood Donor',\n",
              "       '0=Blood Donor', '0=Blood Donor', '0=Blood Donor', '0=Blood Donor',\n",
              "       '0=Blood Donor', '0=Blood Donor', '0=Blood Donor', '0=Blood Donor',\n",
              "       '0=Blood Donor', '0=Blood Donor', '0=Blood Donor', '0=Blood Donor',\n",
              "       '0=Blood Donor', '0=Blood Donor', '0=Blood Donor', '0=Blood Donor',\n",
              "       '0=Blood Donor', '0=Blood Donor', '0=Blood Donor', '0=Blood Donor',\n",
              "       '0=Blood Donor', '0=Blood Donor', '0=Blood Donor', '0=Blood Donor',\n",
              "       '0=Blood Donor', '0=Blood Donor', '0=Blood Donor', '0=Blood Donor',\n",
              "       '0=Blood Donor', '0=Blood Donor', '0=Blood Donor', '0=Blood Donor',\n",
              "       '0=Blood Donor', '0=Blood Donor', '0=Blood Donor', '0=Blood Donor',\n",
              "       '0=Blood Donor', '0=Blood Donor', '0=Blood Donor', '0=Blood Donor',\n",
              "       '0=Blood Donor', '0=Blood Donor', '0=Blood Donor', '0=Blood Donor',\n",
              "       '0=Blood Donor', '0=Blood Donor', '0=Blood Donor', '0=Blood Donor',\n",
              "       '0=Blood Donor', '0=Blood Donor', '0=Blood Donor', '0=Blood Donor',\n",
              "       '0=Blood Donor', '0=Blood Donor', '0=Blood Donor', '0=Blood Donor',\n",
              "       '0=Blood Donor', '0=Blood Donor', '0=Blood Donor', '0=Blood Donor',\n",
              "       '0=Blood Donor', '0=Blood Donor', '0=Blood Donor', '0=Blood Donor',\n",
              "       '0=Blood Donor', '0=Blood Donor', '0=Blood Donor', '0=Blood Donor',\n",
              "       '0=Blood Donor', '0=Blood Donor', '0=Blood Donor', '0=Blood Donor',\n",
              "       '0=Blood Donor', '0=Blood Donor', '0=Blood Donor', '0=Blood Donor',\n",
              "       '0=Blood Donor', '0=Blood Donor', '0=Blood Donor', '0=Blood Donor',\n",
              "       '0=Blood Donor', '0=Blood Donor', '0=Blood Donor', '0=Blood Donor',\n",
              "       '0=Blood Donor', '0=Blood Donor', '0=Blood Donor', '0=Blood Donor',\n",
              "       '0=Blood Donor', '0=Blood Donor', '0=Blood Donor', '0=Blood Donor',\n",
              "       '0=Blood Donor', '0=Blood Donor', '0=Blood Donor', '0=Blood Donor',\n",
              "       '0=Blood Donor', '0=Blood Donor', '0=Blood Donor', '0=Blood Donor',\n",
              "       '0=Blood Donor', '0=Blood Donor', '0=Blood Donor', '0=Blood Donor',\n",
              "       '0=Blood Donor', '0=Blood Donor', '0=Blood Donor', '0=Blood Donor',\n",
              "       '0=Blood Donor', '0=Blood Donor', '0=Blood Donor', '0=Blood Donor',\n",
              "       '0=Blood Donor', '0=Blood Donor', '0=Blood Donor', '0=Blood Donor',\n",
              "       '0=Blood Donor', '0=Blood Donor', '0=Blood Donor', '0=Blood Donor',\n",
              "       '0=Blood Donor', '0=Blood Donor', '0=Blood Donor', '0=Blood Donor',\n",
              "       '0=Blood Donor', '0=Blood Donor', '0=Blood Donor', '0=Blood Donor',\n",
              "       '0=Blood Donor', '0=Blood Donor', '0=Blood Donor', '0=Blood Donor',\n",
              "       '0=Blood Donor', '0=Blood Donor', '0=Blood Donor', '0=Blood Donor',\n",
              "       '0=Blood Donor', '0=Blood Donor', '0=Blood Donor', '0=Blood Donor',\n",
              "       '0=Blood Donor', '0=Blood Donor', '0=Blood Donor', '0=Blood Donor',\n",
              "       '0=Blood Donor', '0=Blood Donor', '0=Blood Donor', '0=Blood Donor',\n",
              "       '0=Blood Donor', '0=Blood Donor', '0=Blood Donor', '0=Blood Donor',\n",
              "       '0=Blood Donor', '0=Blood Donor', '0=Blood Donor', '0=Blood Donor',\n",
              "       '0=Blood Donor', '0=Blood Donor', '0=Blood Donor', '0=Blood Donor',\n",
              "       '0=Blood Donor', '0=Blood Donor', '0=Blood Donor', '0=Blood Donor',\n",
              "       '0=Blood Donor', '0=Blood Donor', '0=Blood Donor', '0=Blood Donor',\n",
              "       '0=Blood Donor', '0=Blood Donor', '0=Blood Donor', '0=Blood Donor',\n",
              "       '0=Blood Donor', '0=Blood Donor', '0=Blood Donor', '0=Blood Donor',\n",
              "       '0=Blood Donor', '0=Blood Donor', '0=Blood Donor', '0=Blood Donor',\n",
              "       '0=Blood Donor', '0=Blood Donor', '0=Blood Donor', '0=Blood Donor',\n",
              "       '0=Blood Donor', '0=Blood Donor', '0=Blood Donor', '0=Blood Donor',\n",
              "       '0=Blood Donor', '0=Blood Donor', '0=Blood Donor', '0=Blood Donor',\n",
              "       '0=Blood Donor', '0=Blood Donor', '0=Blood Donor', '0=Blood Donor',\n",
              "       '0=Blood Donor', '0=Blood Donor', '0=Blood Donor', '0=Blood Donor',\n",
              "       '0=Blood Donor', '0=Blood Donor', '0=Blood Donor', '0=Blood Donor',\n",
              "       '0=Blood Donor', '0=Blood Donor', '0=Blood Donor', '0=Blood Donor',\n",
              "       '0=Blood Donor', '0=Blood Donor', '0=Blood Donor', '0=Blood Donor',\n",
              "       '0=Blood Donor', '0=Blood Donor', '0=Blood Donor', '0=Blood Donor',\n",
              "       '0=Blood Donor', '0=Blood Donor', '0=Blood Donor', '0=Blood Donor',\n",
              "       '0=Blood Donor', '0=Blood Donor', '0=Blood Donor', '0=Blood Donor',\n",
              "       '0=Blood Donor', '0=Blood Donor', '0=Blood Donor', '0=Blood Donor',\n",
              "       '0=Blood Donor', '0=Blood Donor', '0=Blood Donor', '0=Blood Donor',\n",
              "       '0=Blood Donor', '0=Blood Donor', '0=Blood Donor', '0=Blood Donor',\n",
              "       '0=Blood Donor', '0=Blood Donor', '0=Blood Donor', '0=Blood Donor',\n",
              "       '0=Blood Donor', '0=Blood Donor', '0=Blood Donor', '0=Blood Donor',\n",
              "       '0=Blood Donor', '0=Blood Donor', '0=Blood Donor', '0=Blood Donor',\n",
              "       '0=Blood Donor', '0=Blood Donor', '0=Blood Donor', '0=Blood Donor',\n",
              "       '0=Blood Donor', '0=Blood Donor', '0=Blood Donor', '0=Blood Donor',\n",
              "       '0=Blood Donor', '0=Blood Donor', '0=Blood Donor', '0=Blood Donor',\n",
              "       '0=Blood Donor', '0=Blood Donor', '0=Blood Donor', '0=Blood Donor',\n",
              "       '0=Blood Donor', '0=Blood Donor', '0=Blood Donor', '0=Blood Donor',\n",
              "       '0=Blood Donor', '0=Blood Donor', '0=Blood Donor', '0=Blood Donor',\n",
              "       '0=Blood Donor', '0=Blood Donor', '0=Blood Donor', '0=Blood Donor',\n",
              "       '0=Blood Donor', '0=Blood Donor', '0=Blood Donor', '0=Blood Donor',\n",
              "       '0=Blood Donor', '0=Blood Donor', '0=Blood Donor', '0=Blood Donor',\n",
              "       '0=Blood Donor', '0=Blood Donor', '0=Blood Donor', '0=Blood Donor',\n",
              "       '0=Blood Donor', '0=Blood Donor', '0=Blood Donor', '0=Blood Donor',\n",
              "       '0=Blood Donor', '0=Blood Donor', '0=Blood Donor', '0=Blood Donor',\n",
              "       '0=Blood Donor', '0=Blood Donor', '0=Blood Donor', '0=Blood Donor',\n",
              "       '0=Blood Donor', '0=Blood Donor', '0=Blood Donor', '0=Blood Donor',\n",
              "       '0=Blood Donor', '0=Blood Donor', '0=Blood Donor', '0=Blood Donor',\n",
              "       '0=Blood Donor', '0=Blood Donor', '0=Blood Donor', '0=Blood Donor',\n",
              "       '0=Blood Donor', '0=Blood Donor', '0=Blood Donor', '0=Blood Donor',\n",
              "       '0=Blood Donor', '0=Blood Donor', '0=Blood Donor', '0=Blood Donor',\n",
              "       '0=Blood Donor', '0=Blood Donor', '0=Blood Donor', '0=Blood Donor',\n",
              "       '0=Blood Donor', '0=Blood Donor', '0=Blood Donor', '0=Blood Donor',\n",
              "       '0=Blood Donor', '0=Blood Donor', '0=Blood Donor', '0=Blood Donor',\n",
              "       '0=Blood Donor', '0=Blood Donor', '0=Blood Donor', '0=Blood Donor',\n",
              "       '0=Blood Donor', '0=Blood Donor', '0=Blood Donor', '0=Blood Donor',\n",
              "       '0=Blood Donor', '0=Blood Donor', '0=Blood Donor', '0=Blood Donor',\n",
              "       '0=Blood Donor', '0=Blood Donor', '0=Blood Donor', '0=Blood Donor',\n",
              "       '0=Blood Donor', '0=Blood Donor', '0=Blood Donor', '0=Blood Donor',\n",
              "       '0=Blood Donor', '0=Blood Donor', '0=Blood Donor', '0=Blood Donor',\n",
              "       '0=Blood Donor', '0=Blood Donor', '0=Blood Donor', '0=Blood Donor',\n",
              "       '0=Blood Donor', '0=Blood Donor', '0=Blood Donor', '0=Blood Donor',\n",
              "       '0=Blood Donor', '0=Blood Donor', '0=Blood Donor', '0=Blood Donor',\n",
              "       '0=Blood Donor', '0=Blood Donor', '0=Blood Donor', '0=Blood Donor',\n",
              "       '0=Blood Donor', '0=Blood Donor', '0=Blood Donor', '0=Blood Donor',\n",
              "       '0=Blood Donor', '0=Blood Donor', '0=Blood Donor', '0=Blood Donor',\n",
              "       '0=Blood Donor', '0=Blood Donor', '0=Blood Donor', '0=Blood Donor',\n",
              "       '0=Blood Donor', '0=Blood Donor', '0=Blood Donor', '0=Blood Donor',\n",
              "       '0=Blood Donor', '0=Blood Donor', '0=Blood Donor', '0=Blood Donor',\n",
              "       '0=Blood Donor', '0=Blood Donor', '0=Blood Donor', '0=Blood Donor',\n",
              "       '0=Blood Donor', '0=Blood Donor', '0=Blood Donor', '0=Blood Donor',\n",
              "       '0=Blood Donor', '0=Blood Donor', '0=Blood Donor', '0=Blood Donor',\n",
              "       '0=Blood Donor', '0=Blood Donor', '0=Blood Donor', '0=Blood Donor',\n",
              "       '0=Blood Donor', '0=Blood Donor', '0=Blood Donor', '0=Blood Donor',\n",
              "       '0=Blood Donor', '0=Blood Donor', '0=Blood Donor', '0=Blood Donor',\n",
              "       '0=Blood Donor', '0=Blood Donor', '0=Blood Donor', '0=Blood Donor',\n",
              "       '0=Blood Donor', '0=Blood Donor', '0=Blood Donor', '0=Blood Donor',\n",
              "       '0=Blood Donor', '0=Blood Donor', '0=Blood Donor', '0=Blood Donor',\n",
              "       '0=Blood Donor', '0=Blood Donor', '0=Blood Donor', '0=Blood Donor',\n",
              "       '0=Blood Donor', '0=Blood Donor', '0=Blood Donor', '0=Blood Donor',\n",
              "       '0=Blood Donor', '0=Blood Donor', '0=Blood Donor', '0=Blood Donor',\n",
              "       '0=Blood Donor', '0=Blood Donor', '0=Blood Donor', '0=Blood Donor',\n",
              "       '0=Blood Donor', '0=Blood Donor', '0=Blood Donor', '0=Blood Donor',\n",
              "       '0=Blood Donor', '0=Blood Donor', '0=Blood Donor', '0=Blood Donor',\n",
              "       '0=Blood Donor', '0=Blood Donor', '0=Blood Donor', '0=Blood Donor',\n",
              "       '0=Blood Donor', '0=Blood Donor', '0=Blood Donor', '0=Blood Donor',\n",
              "       '0=Blood Donor', '0=Blood Donor', '0=Blood Donor', '0=Blood Donor',\n",
              "       '0=Blood Donor', '0=Blood Donor', '0=Blood Donor', '0=Blood Donor',\n",
              "       '0=Blood Donor', '0=Blood Donor', '0=Blood Donor', '0=Blood Donor',\n",
              "       '0=Blood Donor', '0=Blood Donor', '0=Blood Donor', '0=Blood Donor',\n",
              "       '0=Blood Donor', '0=Blood Donor', '0=Blood Donor', '0=Blood Donor',\n",
              "       '0=Blood Donor', '0=Blood Donor', '0=Blood Donor', '0=Blood Donor',\n",
              "       '0=Blood Donor', '0=Blood Donor', '0=Blood Donor', '0=Blood Donor',\n",
              "       '0=Blood Donor', '0=Blood Donor', '0=Blood Donor', '0=Blood Donor',\n",
              "       '0=Blood Donor', '0=Blood Donor', '0s=suspect Blood Donor',\n",
              "       '0s=suspect Blood Donor', '0s=suspect Blood Donor',\n",
              "       '0s=suspect Blood Donor', '0s=suspect Blood Donor',\n",
              "       '0s=suspect Blood Donor', '0s=suspect Blood Donor', '1=Hepatitis',\n",
              "       '1=Hepatitis', '1=Hepatitis', '1=Hepatitis', '1=Hepatitis',\n",
              "       '1=Hepatitis', '1=Hepatitis', '1=Hepatitis', '1=Hepatitis',\n",
              "       '1=Hepatitis', '1=Hepatitis', '1=Hepatitis', '1=Hepatitis',\n",
              "       '1=Hepatitis', '1=Hepatitis', '1=Hepatitis', '1=Hepatitis',\n",
              "       '1=Hepatitis', '1=Hepatitis', '1=Hepatitis', '2=Fibrosis',\n",
              "       '2=Fibrosis', '2=Fibrosis', '2=Fibrosis', '2=Fibrosis',\n",
              "       '2=Fibrosis', '2=Fibrosis', '2=Fibrosis', '2=Fibrosis',\n",
              "       '2=Fibrosis', '2=Fibrosis', '2=Fibrosis', '3=Cirrhosis',\n",
              "       '3=Cirrhosis', '3=Cirrhosis', '3=Cirrhosis', '3=Cirrhosis',\n",
              "       '3=Cirrhosis', '3=Cirrhosis', '3=Cirrhosis', '3=Cirrhosis',\n",
              "       '3=Cirrhosis', '3=Cirrhosis', '3=Cirrhosis', '3=Cirrhosis',\n",
              "       '3=Cirrhosis', '3=Cirrhosis', '3=Cirrhosis', '3=Cirrhosis',\n",
              "       '3=Cirrhosis', '3=Cirrhosis', '3=Cirrhosis', '3=Cirrhosis',\n",
              "       '3=Cirrhosis', '3=Cirrhosis', '3=Cirrhosis'], dtype=object)"
            ]
          },
          "metadata": {},
          "execution_count": 158
        }
      ]
    },
    {
      "cell_type": "markdown",
      "source": [
        "## **Training base and test base**"
      ],
      "metadata": {
        "id": "8oAi_5LnF1hA"
      }
    },
    {
      "cell_type": "code",
      "source": [
        "from sklearn.model_selection import train_test_split"
      ],
      "metadata": {
        "id": "oeBgYLrmRLrZ"
      },
      "execution_count": 160,
      "outputs": []
    },
    {
      "cell_type": "code",
      "source": [
        "X_hepatite_treinamento, X_hepatite_teste, Y_hepatite_treinamento, Y_hepatite_teste = train_test_split(X_hepatite, Y_hepatite, test_size = 0.25, random_state = 0)"
      ],
      "metadata": {
        "id": "pS-duQNrRM3E"
      },
      "execution_count": 161,
      "outputs": []
    },
    {
      "cell_type": "code",
      "source": [
        "import pickle"
      ],
      "metadata": {
        "id": "2fsKHejWRi0x"
      },
      "execution_count": 162,
      "outputs": []
    },
    {
      "cell_type": "code",
      "source": [
        "with open('hepatite.pkl', mode = 'wb') as f:\n",
        "  pickle.dump([X_hepatite_treinamento, Y_hepatite_treinamento, X_hepatite_teste, Y_hepatite_teste], f)"
      ],
      "metadata": {
        "id": "TdkLjL8IRnOp"
      },
      "execution_count": 163,
      "outputs": []
    },
    {
      "cell_type": "code",
      "source": [
        "from sklearn.model_selection import GridSearchCV\n",
        "from sklearn.tree import DecisionTreeClassifier\n",
        "from sklearn.ensemble import RandomForestClassifier\n",
        "from sklearn.neighbors import KNeighborsClassifier\n",
        "from sklearn.linear_model import LogisticRegression\n",
        "from sklearn.svm import SVC\n",
        "from sklearn.neural_network import MLPClassifier"
      ],
      "metadata": {
        "id": "bVFpziScRadf"
      },
      "execution_count": 164,
      "outputs": []
    },
    {
      "cell_type": "code",
      "source": [
        "parametros = {'criterion': ['gini', 'entropy'],\n",
        "              'n_estimators': [10, 40, 100, 150],\n",
        "              'min_samples_split': [2, 5, 10],\n",
        "              'min_samples_leaf': [1, 5, 10]}"
      ],
      "metadata": {
        "id": "e_AMYurcRk2B"
      },
      "execution_count": 165,
      "outputs": []
    },
    {
      "cell_type": "markdown",
      "source": [
        "## **Randon Forest**"
      ],
      "metadata": {
        "id": "ZENfb4kWKLaQ"
      }
    },
    {
      "cell_type": "code",
      "source": [
        "grid_search = GridSearchCV(estimator=RandomForestClassifier(), param_grid=parametros)\n",
        "grid_search.fit(X_hepatite, Y_hepatite)\n",
        "melhores_parametros = grid_search.best_params_\n",
        "melhor_resultado = grid_search.best_score_\n",
        "print(melhores_parametros)\n",
        "print(melhor_resultado)"
      ],
      "metadata": {
        "colab": {
          "base_uri": "https://localhost:8080/"
        },
        "id": "Y9IE4wSuRofX",
        "outputId": "c8d07455-4f64-44eb-c9ed-88798e28234d"
      },
      "execution_count": 166,
      "outputs": [
        {
          "output_type": "stream",
          "name": "stdout",
          "text": [
            "{'criterion': 'entropy', 'min_samples_leaf': 1, 'min_samples_split': 5, 'n_estimators': 10}\n",
            "0.9473417354773288\n"
          ]
        }
      ]
    },
    {
      "cell_type": "code",
      "source": [
        "parametros = {'n_neighbors': [3, 5, 10, 20],\n",
        "              'p': [1, 2]}"
      ],
      "metadata": {
        "id": "nk09Zw3SR7bY"
      },
      "execution_count": 167,
      "outputs": []
    },
    {
      "cell_type": "code",
      "source": [
        "from sklearn.metrics import accuracy_score, confusion_matrix, classification_report"
      ],
      "metadata": {
        "id": "RcTSGpndLTQl"
      },
      "execution_count": 175,
      "outputs": []
    },
    {
      "cell_type": "code",
      "source": [
        "from yellowbrick.classifier import ConfusionMatrix"
      ],
      "metadata": {
        "id": "nhPxtRI6Laju"
      },
      "execution_count": 176,
      "outputs": []
    },
    {
      "cell_type": "code",
      "source": [
        "cm = ConfusionMatrix(RandomForestClassifier())\n",
        "cm.fit(X_hepatite_treinamento, Y_hepatite_treinamento)\n",
        "cm.score(X_hepatite_teste, Y_hepatite_teste)"
      ],
      "metadata": {
        "colab": {
          "base_uri": "https://localhost:8080/",
          "height": 485
        },
        "id": "8gfH_k77LuhQ",
        "outputId": "49c6c93a-f163-41a8-ade8-812b3865298a"
      },
      "execution_count": 178,
      "outputs": [
        {
          "output_type": "execute_result",
          "data": {
            "text/plain": [
              "0.9527027027027027"
            ]
          },
          "metadata": {},
          "execution_count": 178
        },
        {
          "output_type": "display_data",
          "data": {
            "text/plain": [
              "<Figure size 576x396 with 1 Axes>"
            ],
            "image/png": "[encoded data removed]"
          },
          "metadata": {}
        }
      ]
    },
    {
      "cell_type": "markdown",
      "source": [
        "## **KNN**"
      ],
      "metadata": {
        "id": "oqjmlYQdKcyN"
      }
    },
    {
      "cell_type": "code",
      "source": [
        "grid_search = GridSearchCV(estimator=KNeighborsClassifier(), param_grid=parametros)\n",
        "grid_search.fit(X_hepatite, Y_hepatite)\n",
        "melhores_parametros = grid_search.best_params_\n",
        "melhor_resultado = grid_search.best_score_\n",
        "print(melhores_parametros)\n",
        "print(melhor_resultado)"
      ],
      "metadata": {
        "colab": {
          "base_uri": "https://localhost:8080/"
        },
        "id": "nG1y2zV9R9LW",
        "outputId": "e97cc7b3-a386-4255-ba25-9325de4b2c60"
      },
      "execution_count": 168,
      "outputs": [
        {
          "output_type": "stream",
          "name": "stdout",
          "text": [
            "{'n_neighbors': 5, 'p': 1}\n",
            "0.9201796320440389\n"
          ]
        }
      ]
    },
    {
      "cell_type": "code",
      "source": [
        "from yellowbrick.classifier import ConfusionMatrix"
      ],
      "metadata": {
        "id": "hUOzVMalNJam"
      },
      "execution_count": 179,
      "outputs": []
    },
    {
      "cell_type": "code",
      "source": [
        "cm = ConfusionMatrix(KNeighborsClassifier())\n",
        "cm.fit(X_hepatite_treinamento, Y_hepatite_treinamento)\n",
        "cm.score(X_hepatite_teste, Y_hepatite_teste)"
      ],
      "metadata": {
        "colab": {
          "base_uri": "https://localhost:8080/",
          "height": 485
        },
        "id": "naWTwuIBNKjd",
        "outputId": "49c12e43-611e-4e43-8444-5b2387ea2b04"
      },
      "execution_count": 180,
      "outputs": [
        {
          "output_type": "execute_result",
          "data": {
            "text/plain": [
              "0.8918918918918919"
            ]
          },
          "metadata": {},
          "execution_count": 180
        },
        {
          "output_type": "display_data",
          "data": {
            "text/plain": [
              "<Figure size 576x396 with 1 Axes>"
            ],
            "image/png": "[encoded data removed]"
          },
          "metadata": {}
        }
      ]
    },
    {
      "cell_type": "markdown",
      "source": [
        "## **Logistic Regression**"
      ],
      "metadata": {
        "id": "C1-PowPCNC8m"
      }
    },
    {
      "cell_type": "code",
      "source": [
        "parametros = {'tol': [0.0001, 0.00001, 0.000001],\n",
        "              'C': [1.0, 1.5, 2.0],\n",
        "              'solver': ['lbfgs', 'sag', 'saga']}"
      ],
      "metadata": {
        "id": "PRXwIA7wXtfw"
      },
      "execution_count": 169,
      "outputs": []
    },
    {
      "cell_type": "code",
      "source": [
        "grid_search = GridSearchCV(estimator=LogisticRegression(), param_grid=parametros)\n",
        "grid_search.fit(X_hepatite, Y_hepatite)\n",
        "melhores_parametros = grid_search.best_params_\n",
        "melhor_resultado = grid_search.best_score_\n",
        "print(melhores_parametros)\n",
        "print(melhor_resultado)"
      ],
      "metadata": {
        "colab": {
          "base_uri": "https://localhost:8080/"
        },
        "id": "9nLTVLJZXwYe",
        "outputId": "f1334242-15fb-4e60-8144-a24cd20dec26"
      },
      "execution_count": 170,
      "outputs": [
        {
          "output_type": "stream",
          "name": "stderr",
          "text": [
            "/usr/local/lib/python3.7/dist-packages/sklearn/linear_model/_sag.py:354: ConvergenceWarning: The max_iter was reached which means the coef_ did not converge\n",
            "  ConvergenceWarning,\n"
          ]
        },
        {
          "output_type": "stream",
          "name": "stdout",
          "text": [
            "{'C': 1.5, 'solver': 'lbfgs', 'tol': 0.0001}\n",
            "0.9270027524264812\n"
          ]
        },
        {
          "output_type": "stream",
          "name": "stderr",
          "text": [
            "/usr/local/lib/python3.7/dist-packages/sklearn/linear_model/_sag.py:354: ConvergenceWarning: The max_iter was reached which means the coef_ did not converge\n",
            "  ConvergenceWarning,\n",
            "/usr/local/lib/python3.7/dist-packages/sklearn/linear_model/_sag.py:354: ConvergenceWarning: The max_iter was reached which means the coef_ did not converge\n",
            "  ConvergenceWarning,\n",
            "/usr/local/lib/python3.7/dist-packages/sklearn/linear_model/_sag.py:354: ConvergenceWarning: The max_iter was reached which means the coef_ did not converge\n",
            "  ConvergenceWarning,\n",
            "/usr/local/lib/python3.7/dist-packages/sklearn/linear_model/_sag.py:354: ConvergenceWarning: The max_iter was reached which means the coef_ did not converge\n",
            "  ConvergenceWarning,\n",
            "/usr/local/lib/python3.7/dist-packages/sklearn/linear_model/_sag.py:354: ConvergenceWarning: The max_iter was reached which means the coef_ did not converge\n",
            "  ConvergenceWarning,\n"
          ]
        }
      ]
    },
    {
      "cell_type": "code",
      "source": [
        "cm = ConfusionMatrix(LogisticRegression())\n",
        "cm.fit(X_hepatite_treinamento, Y_hepatite_treinamento)\n",
        "cm.score(X_hepatite_teste, Y_hepatite_teste)"
      ],
      "metadata": {
        "colab": {
          "base_uri": "https://localhost:8080/",
          "height": 485
        },
        "id": "kY9vMJCPNdjV",
        "outputId": "ce4cfbc1-8d8f-4882-c821-69fcd567cc26"
      },
      "execution_count": 181,
      "outputs": [
        {
          "output_type": "execute_result",
          "data": {
            "text/plain": [
              "0.9054054054054054"
            ]
          },
          "metadata": {},
          "execution_count": 181
        },
        {
          "output_type": "display_data",
          "data": {
            "text/plain": [
              "<Figure size 576x396 with 1 Axes>"
            ],
            "image/png": "[encoded data removed]"
          },
          "metadata": {}
        }
      ]
    },
    {
      "cell_type": "markdown",
      "source": [
        "# **SVC**"
      ],
      "metadata": {
        "id": "Ehgh19AnNU6y"
      }
    },
    {
      "cell_type": "code",
      "source": [
        "parametros = {'tol': [0.001, 0.0001, 0.00001],\n",
        "              'C': [1.0, 1.5, 2.0],\n",
        "              'kernel': ['rbf', 'linear', 'poly', 'sigmoid']}"
      ],
      "metadata": {
        "id": "_NFNdm1UX_TS"
      },
      "execution_count": 171,
      "outputs": []
    },
    {
      "cell_type": "code",
      "source": [
        "grid_search = GridSearchCV(estimator=SVC(), param_grid=parametros)\n",
        "grid_search.fit(X_hepatite, Y_hepatite)\n",
        "melhores_parametros = grid_search.best_params_\n",
        "melhor_resultado = grid_search.best_score_\n",
        "print(melhores_parametros)\n",
        "print(melhor_resultado)"
      ],
      "metadata": {
        "colab": {
          "base_uri": "https://localhost:8080/"
        },
        "id": "DKfY09y8YBhO",
        "outputId": "05af6f6e-d7f1-4236-98d2-ea279db52eca"
      },
      "execution_count": 172,
      "outputs": [
        {
          "output_type": "stream",
          "name": "stdout",
          "text": [
            "{'C': 1.0, 'kernel': 'poly', 'tol': 0.001}\n",
            "0.940576560915544\n"
          ]
        }
      ]
    },
    {
      "cell_type": "code",
      "source": [
        "cm = ConfusionMatrix(SVC())\n",
        "cm.fit(X_hepatite_treinamento, Y_hepatite_treinamento)\n",
        "cm.score(X_hepatite_teste, Y_hepatite_teste)"
      ],
      "metadata": {
        "colab": {
          "base_uri": "https://localhost:8080/",
          "height": 485
        },
        "id": "0nns8HvLNl8l",
        "outputId": "9d6613d3-1685-420b-a254-52a03fe8f12d"
      },
      "execution_count": 182,
      "outputs": [
        {
          "output_type": "execute_result",
          "data": {
            "text/plain": [
              "0.9054054054054054"
            ]
          },
          "metadata": {},
          "execution_count": 182
        },
        {
          "output_type": "display_data",
          "data": {
            "text/plain": [
              "<Figure size 576x396 with 1 Axes>"
            ],
            "image/png": "[encoded data removed]"
          },
          "metadata": {}
        }
      ]
    },
    {
      "cell_type": "markdown",
      "source": [
        "## **Neural Networks**"
      ],
      "metadata": {
        "id": "5XEY81o_Ky4a"
      }
    },
    {
      "cell_type": "code",
      "source": [
        "parametros = {'activation': ['relu', 'logistic', 'identity'],\n",
        "              'solver': ['adam', 'sgd'],\n",
        "              'batch_size': [10, 56]}"
      ],
      "metadata": {
        "id": "J1oJcGmmYJGB"
      },
      "execution_count": 173,
      "outputs": []
    },
    {
      "cell_type": "code",
      "source": [
        "grid_search = GridSearchCV(estimator=MLPClassifier(), param_grid=parametros)\n",
        "grid_search.fit(X_hepatite, Y_hepatite)\n",
        "melhores_parametros = grid_search.best_params_\n",
        "melhor_resultado = grid_search.best_score_\n",
        "print(melhores_parametros)\n",
        "print(melhor_resultado)"
      ],
      "metadata": {
        "colab": {
          "base_uri": "https://localhost:8080/"
        },
        "id": "mCzVU7lsYLVZ",
        "outputId": "d7e89b51-5e7a-440c-f621-8efdbd66dfd1"
      },
      "execution_count": 174,
      "outputs": [
        {
          "output_type": "stream",
          "name": "stderr",
          "text": [
            "/usr/local/lib/python3.7/dist-packages/sklearn/neural_network/_multilayer_perceptron.py:696: ConvergenceWarning: Stochastic Optimizer: Maximum iterations (200) reached and the optimization hasn't converged yet.\n",
            "  ConvergenceWarning,\n",
            "/usr/local/lib/python3.7/dist-packages/sklearn/neural_network/_multilayer_perceptron.py:696: ConvergenceWarning: Stochastic Optimizer: Maximum iterations (200) reached and the optimization hasn't converged yet.\n",
            "  ConvergenceWarning,\n",
            "/usr/local/lib/python3.7/dist-packages/sklearn/neural_network/_multilayer_perceptron.py:696: ConvergenceWarning: Stochastic Optimizer: Maximum iterations (200) reached and the optimization hasn't converged yet.\n",
            "  ConvergenceWarning,\n",
            "/usr/local/lib/python3.7/dist-packages/sklearn/neural_network/_multilayer_perceptron.py:696: ConvergenceWarning: Stochastic Optimizer: Maximum iterations (200) reached and the optimization hasn't converged yet.\n",
            "  ConvergenceWarning,\n",
            "/usr/local/lib/python3.7/dist-packages/sklearn/neural_network/_multilayer_perceptron.py:696: ConvergenceWarning: Stochastic Optimizer: Maximum iterations (200) reached and the optimization hasn't converged yet.\n",
            "  ConvergenceWarning,\n",
            "/usr/local/lib/python3.7/dist-packages/sklearn/neural_network/_multilayer_perceptron.py:696: ConvergenceWarning: Stochastic Optimizer: Maximum iterations (200) reached and the optimization hasn't converged yet.\n",
            "  ConvergenceWarning,\n",
            "/usr/local/lib/python3.7/dist-packages/sklearn/neural_network/_multilayer_perceptron.py:696: ConvergenceWarning: Stochastic Optimizer: Maximum iterations (200) reached and the optimization hasn't converged yet.\n",
            "  ConvergenceWarning,\n",
            "/usr/local/lib/python3.7/dist-packages/sklearn/neural_network/_multilayer_perceptron.py:696: ConvergenceWarning: Stochastic Optimizer: Maximum iterations (200) reached and the optimization hasn't converged yet.\n",
            "  ConvergenceWarning,\n",
            "/usr/local/lib/python3.7/dist-packages/sklearn/neural_network/_multilayer_perceptron.py:696: ConvergenceWarning: Stochastic Optimizer: Maximum iterations (200) reached and the optimization hasn't converged yet.\n",
            "  ConvergenceWarning,\n",
            "/usr/local/lib/python3.7/dist-packages/sklearn/neural_network/_multilayer_perceptron.py:696: ConvergenceWarning: Stochastic Optimizer: Maximum iterations (200) reached and the optimization hasn't converged yet.\n",
            "  ConvergenceWarning,\n",
            "/usr/local/lib/python3.7/dist-packages/sklearn/neural_network/_multilayer_perceptron.py:696: ConvergenceWarning: Stochastic Optimizer: Maximum iterations (200) reached and the optimization hasn't converged yet.\n",
            "  ConvergenceWarning,\n",
            "/usr/local/lib/python3.7/dist-packages/sklearn/neural_network/_multilayer_perceptron.py:696: ConvergenceWarning: Stochastic Optimizer: Maximum iterations (200) reached and the optimization hasn't converged yet.\n",
            "  ConvergenceWarning,\n",
            "/usr/local/lib/python3.7/dist-packages/sklearn/neural_network/_multilayer_perceptron.py:696: ConvergenceWarning: Stochastic Optimizer: Maximum iterations (200) reached and the optimization hasn't converged yet.\n",
            "  ConvergenceWarning,\n",
            "/usr/local/lib/python3.7/dist-packages/sklearn/neural_network/_multilayer_perceptron.py:696: ConvergenceWarning: Stochastic Optimizer: Maximum iterations (200) reached and the optimization hasn't converged yet.\n",
            "  ConvergenceWarning,\n",
            "/usr/local/lib/python3.7/dist-packages/sklearn/neural_network/_multilayer_perceptron.py:696: ConvergenceWarning: Stochastic Optimizer: Maximum iterations (200) reached and the optimization hasn't converged yet.\n",
            "  ConvergenceWarning,\n",
            "/usr/local/lib/python3.7/dist-packages/sklearn/neural_network/_multilayer_perceptron.py:696: ConvergenceWarning: Stochastic Optimizer: Maximum iterations (200) reached and the optimization hasn't converged yet.\n",
            "  ConvergenceWarning,\n",
            "/usr/local/lib/python3.7/dist-packages/sklearn/neural_network/_multilayer_perceptron.py:696: ConvergenceWarning: Stochastic Optimizer: Maximum iterations (200) reached and the optimization hasn't converged yet.\n",
            "  ConvergenceWarning,\n",
            "/usr/local/lib/python3.7/dist-packages/sklearn/neural_network/_multilayer_perceptron.py:696: ConvergenceWarning: Stochastic Optimizer: Maximum iterations (200) reached and the optimization hasn't converged yet.\n",
            "  ConvergenceWarning,\n",
            "/usr/local/lib/python3.7/dist-packages/sklearn/neural_network/_multilayer_perceptron.py:696: ConvergenceWarning: Stochastic Optimizer: Maximum iterations (200) reached and the optimization hasn't converged yet.\n",
            "  ConvergenceWarning,\n",
            "/usr/local/lib/python3.7/dist-packages/sklearn/neural_network/_multilayer_perceptron.py:696: ConvergenceWarning: Stochastic Optimizer: Maximum iterations (200) reached and the optimization hasn't converged yet.\n",
            "  ConvergenceWarning,\n",
            "/usr/local/lib/python3.7/dist-packages/sklearn/neural_network/_multilayer_perceptron.py:696: ConvergenceWarning: Stochastic Optimizer: Maximum iterations (200) reached and the optimization hasn't converged yet.\n",
            "  ConvergenceWarning,\n",
            "/usr/local/lib/python3.7/dist-packages/sklearn/neural_network/_multilayer_perceptron.py:696: ConvergenceWarning: Stochastic Optimizer: Maximum iterations (200) reached and the optimization hasn't converged yet.\n",
            "  ConvergenceWarning,\n",
            "/usr/local/lib/python3.7/dist-packages/sklearn/neural_network/_multilayer_perceptron.py:696: ConvergenceWarning: Stochastic Optimizer: Maximum iterations (200) reached and the optimization hasn't converged yet.\n",
            "  ConvergenceWarning,\n",
            "/usr/local/lib/python3.7/dist-packages/sklearn/neural_network/_multilayer_perceptron.py:696: ConvergenceWarning: Stochastic Optimizer: Maximum iterations (200) reached and the optimization hasn't converged yet.\n",
            "  ConvergenceWarning,\n",
            "/usr/local/lib/python3.7/dist-packages/sklearn/neural_network/_multilayer_perceptron.py:696: ConvergenceWarning: Stochastic Optimizer: Maximum iterations (200) reached and the optimization hasn't converged yet.\n",
            "  ConvergenceWarning,\n",
            "/usr/local/lib/python3.7/dist-packages/sklearn/neural_network/_multilayer_perceptron.py:696: ConvergenceWarning: Stochastic Optimizer: Maximum iterations (200) reached and the optimization hasn't converged yet.\n",
            "  ConvergenceWarning,\n",
            "/usr/local/lib/python3.7/dist-packages/sklearn/neural_network/_multilayer_perceptron.py:696: ConvergenceWarning: Stochastic Optimizer: Maximum iterations (200) reached and the optimization hasn't converged yet.\n",
            "  ConvergenceWarning,\n",
            "/usr/local/lib/python3.7/dist-packages/sklearn/neural_network/_multilayer_perceptron.py:696: ConvergenceWarning: Stochastic Optimizer: Maximum iterations (200) reached and the optimization hasn't converged yet.\n",
            "  ConvergenceWarning,\n",
            "/usr/local/lib/python3.7/dist-packages/sklearn/neural_network/_multilayer_perceptron.py:696: ConvergenceWarning: Stochastic Optimizer: Maximum iterations (200) reached and the optimization hasn't converged yet.\n",
            "  ConvergenceWarning,\n",
            "/usr/local/lib/python3.7/dist-packages/sklearn/neural_network/_multilayer_perceptron.py:696: ConvergenceWarning: Stochastic Optimizer: Maximum iterations (200) reached and the optimization hasn't converged yet.\n",
            "  ConvergenceWarning,\n",
            "/usr/local/lib/python3.7/dist-packages/sklearn/neural_network/_multilayer_perceptron.py:696: ConvergenceWarning: Stochastic Optimizer: Maximum iterations (200) reached and the optimization hasn't converged yet.\n",
            "  ConvergenceWarning,\n",
            "/usr/local/lib/python3.7/dist-packages/sklearn/neural_network/_multilayer_perceptron.py:696: ConvergenceWarning: Stochastic Optimizer: Maximum iterations (200) reached and the optimization hasn't converged yet.\n",
            "  ConvergenceWarning,\n",
            "/usr/local/lib/python3.7/dist-packages/sklearn/neural_network/_multilayer_perceptron.py:696: ConvergenceWarning: Stochastic Optimizer: Maximum iterations (200) reached and the optimization hasn't converged yet.\n",
            "  ConvergenceWarning,\n",
            "/usr/local/lib/python3.7/dist-packages/sklearn/neural_network/_multilayer_perceptron.py:696: ConvergenceWarning: Stochastic Optimizer: Maximum iterations (200) reached and the optimization hasn't converged yet.\n",
            "  ConvergenceWarning,\n",
            "/usr/local/lib/python3.7/dist-packages/sklearn/neural_network/_multilayer_perceptron.py:696: ConvergenceWarning: Stochastic Optimizer: Maximum iterations (200) reached and the optimization hasn't converged yet.\n",
            "  ConvergenceWarning,\n",
            "/usr/local/lib/python3.7/dist-packages/sklearn/neural_network/_multilayer_perceptron.py:696: ConvergenceWarning: Stochastic Optimizer: Maximum iterations (200) reached and the optimization hasn't converged yet.\n",
            "  ConvergenceWarning,\n",
            "/usr/local/lib/python3.7/dist-packages/sklearn/neural_network/_multilayer_perceptron.py:696: ConvergenceWarning: Stochastic Optimizer: Maximum iterations (200) reached and the optimization hasn't converged yet.\n",
            "  ConvergenceWarning,\n",
            "/usr/local/lib/python3.7/dist-packages/sklearn/neural_network/_multilayer_perceptron.py:696: ConvergenceWarning: Stochastic Optimizer: Maximum iterations (200) reached and the optimization hasn't converged yet.\n",
            "  ConvergenceWarning,\n",
            "/usr/local/lib/python3.7/dist-packages/sklearn/neural_network/_multilayer_perceptron.py:696: ConvergenceWarning: Stochastic Optimizer: Maximum iterations (200) reached and the optimization hasn't converged yet.\n",
            "  ConvergenceWarning,\n",
            "/usr/local/lib/python3.7/dist-packages/sklearn/neural_network/_multilayer_perceptron.py:696: ConvergenceWarning: Stochastic Optimizer: Maximum iterations (200) reached and the optimization hasn't converged yet.\n",
            "  ConvergenceWarning,\n",
            "/usr/local/lib/python3.7/dist-packages/sklearn/neural_network/_multilayer_perceptron.py:696: ConvergenceWarning: Stochastic Optimizer: Maximum iterations (200) reached and the optimization hasn't converged yet.\n",
            "  ConvergenceWarning,\n",
            "/usr/local/lib/python3.7/dist-packages/sklearn/neural_network/_multilayer_perceptron.py:696: ConvergenceWarning: Stochastic Optimizer: Maximum iterations (200) reached and the optimization hasn't converged yet.\n",
            "  ConvergenceWarning,\n",
            "/usr/local/lib/python3.7/dist-packages/sklearn/neural_network/_multilayer_perceptron.py:696: ConvergenceWarning: Stochastic Optimizer: Maximum iterations (200) reached and the optimization hasn't converged yet.\n",
            "  ConvergenceWarning,\n",
            "/usr/local/lib/python3.7/dist-packages/sklearn/neural_network/_multilayer_perceptron.py:696: ConvergenceWarning: Stochastic Optimizer: Maximum iterations (200) reached and the optimization hasn't converged yet.\n",
            "  ConvergenceWarning,\n",
            "/usr/local/lib/python3.7/dist-packages/sklearn/neural_network/_multilayer_perceptron.py:696: ConvergenceWarning: Stochastic Optimizer: Maximum iterations (200) reached and the optimization hasn't converged yet.\n",
            "  ConvergenceWarning,\n",
            "/usr/local/lib/python3.7/dist-packages/sklearn/neural_network/_multilayer_perceptron.py:696: ConvergenceWarning: Stochastic Optimizer: Maximum iterations (200) reached and the optimization hasn't converged yet.\n",
            "  ConvergenceWarning,\n",
            "/usr/local/lib/python3.7/dist-packages/sklearn/neural_network/_multilayer_perceptron.py:696: ConvergenceWarning: Stochastic Optimizer: Maximum iterations (200) reached and the optimization hasn't converged yet.\n",
            "  ConvergenceWarning,\n",
            "/usr/local/lib/python3.7/dist-packages/sklearn/neural_network/_multilayer_perceptron.py:696: ConvergenceWarning: Stochastic Optimizer: Maximum iterations (200) reached and the optimization hasn't converged yet.\n",
            "  ConvergenceWarning,\n",
            "/usr/local/lib/python3.7/dist-packages/sklearn/neural_network/_multilayer_perceptron.py:696: ConvergenceWarning: Stochastic Optimizer: Maximum iterations (200) reached and the optimization hasn't converged yet.\n",
            "  ConvergenceWarning,\n"
          ]
        },
        {
          "output_type": "stream",
          "name": "stdout",
          "text": [
            "{'activation': 'logistic', 'batch_size': 10, 'solver': 'adam'}\n",
            "0.9490511371867305\n"
          ]
        },
        {
          "output_type": "stream",
          "name": "stderr",
          "text": [
            "/usr/local/lib/python3.7/dist-packages/sklearn/neural_network/_multilayer_perceptron.py:696: ConvergenceWarning: Stochastic Optimizer: Maximum iterations (200) reached and the optimization hasn't converged yet.\n",
            "  ConvergenceWarning,\n"
          ]
        }
      ]
    },
    {
      "cell_type": "code",
      "source": [
        "cm = ConfusionMatrix(MLPClassifier())\n",
        "cm.fit(X_hepatite_treinamento, Y_hepatite_treinamento)\n",
        "cm.score(X_hepatite_teste, Y_hepatite_teste)"
      ],
      "metadata": {
        "colab": {
          "base_uri": "https://localhost:8080/",
          "height": 540
        },
        "id": "zckdyqeRN0_T",
        "outputId": "cff11496-3ea8-4890-bb4c-6e56587095e7"
      },
      "execution_count": 183,
      "outputs": [
        {
          "output_type": "stream",
          "name": "stderr",
          "text": [
            "/usr/local/lib/python3.7/dist-packages/sklearn/neural_network/_multilayer_perceptron.py:696: ConvergenceWarning: Stochastic Optimizer: Maximum iterations (200) reached and the optimization hasn't converged yet.\n",
            "  ConvergenceWarning,\n"
          ]
        },
        {
          "output_type": "execute_result",
          "data": {
            "text/plain": [
              "0.9391891891891891"
            ]
          },
          "metadata": {},
          "execution_count": 183
        },
        {
          "output_type": "display_data",
          "data": {
            "text/plain": [
              "<Figure size 576x396 with 1 Axes>"
            ],
            "image/png": "[encoded data removed]"
          },
          "metadata": {}
        }
      ]
    },
    {
      "cell_type": "markdown",
      "source": [
        "## **Method comparison**"
      ],
      "metadata": {
        "id": "giCAXGbxOMrf"
      }
    },
    {
      "cell_type": "code",
      "source": [
        "from sklearn.model_selection import cross_val_score, KFold"
      ],
      "metadata": {
        "id": "tlXKxAbiazkt"
      },
      "execution_count": 184,
      "outputs": []
    },
    {
      "cell_type": "code",
      "source": [
        "resultados_random_forest = []\n",
        "resultados_rede_neural =[]"
      ],
      "metadata": {
        "id": "n-5TfIf_a4l4"
      },
      "execution_count": 185,
      "outputs": []
    },
    {
      "cell_type": "code",
      "source": [
        "for i in range(20):\n",
        "  print(i)\n",
        "  kfold = KFold(n_splits=10, shuffle=True, random_state=i)\n",
        "\n",
        "  random_forest = RandomForestClassifier(criterion= 'gini', min_samples_leaf= 1, min_samples_split= 2, n_estimators= 10)\n",
        "  scores = cross_val_score(random_forest, X_hepatite, Y_hepatite, cv = kfold)\n",
        "  resultados_random_forest.append(scores.mean())\n",
        "\n",
        "  rede_neural=MLPClassifier(activation= 'relu', batch_size= 56, solver= 'adam')\n",
        "  scores = cross_val_score(rede_neural, X_hepatite, Y_hepatite, cv = kfold)\n",
        "  resultados_rede_neural.append(scores.mean())\n"
      ],
      "metadata": {
        "colab": {
          "base_uri": "https://localhost:8080/"
        },
        "id": "06Rp4P8usuZO",
        "outputId": "3ae50e77-28e4-487f-9f31-7ecf5252cbf4"
      },
      "execution_count": 186,
      "outputs": [
        {
          "output_type": "stream",
          "name": "stdout",
          "text": [
            "0\n"
          ]
        },
        {
          "output_type": "stream",
          "name": "stderr",
          "text": [
            "/usr/local/lib/python3.7/dist-packages/sklearn/neural_network/_multilayer_perceptron.py:696: ConvergenceWarning: Stochastic Optimizer: Maximum iterations (200) reached and the optimization hasn't converged yet.\n",
            "  ConvergenceWarning,\n",
            "/usr/local/lib/python3.7/dist-packages/sklearn/neural_network/_multilayer_perceptron.py:696: ConvergenceWarning: Stochastic Optimizer: Maximum iterations (200) reached and the optimization hasn't converged yet.\n",
            "  ConvergenceWarning,\n",
            "/usr/local/lib/python3.7/dist-packages/sklearn/neural_network/_multilayer_perceptron.py:696: ConvergenceWarning: Stochastic Optimizer: Maximum iterations (200) reached and the optimization hasn't converged yet.\n",
            "  ConvergenceWarning,\n",
            "/usr/local/lib/python3.7/dist-packages/sklearn/neural_network/_multilayer_perceptron.py:696: ConvergenceWarning: Stochastic Optimizer: Maximum iterations (200) reached and the optimization hasn't converged yet.\n",
            "  ConvergenceWarning,\n",
            "/usr/local/lib/python3.7/dist-packages/sklearn/neural_network/_multilayer_perceptron.py:696: ConvergenceWarning: Stochastic Optimizer: Maximum iterations (200) reached and the optimization hasn't converged yet.\n",
            "  ConvergenceWarning,\n",
            "/usr/local/lib/python3.7/dist-packages/sklearn/neural_network/_multilayer_perceptron.py:696: ConvergenceWarning: Stochastic Optimizer: Maximum iterations (200) reached and the optimization hasn't converged yet.\n",
            "  ConvergenceWarning,\n",
            "/usr/local/lib/python3.7/dist-packages/sklearn/neural_network/_multilayer_perceptron.py:696: ConvergenceWarning: Stochastic Optimizer: Maximum iterations (200) reached and the optimization hasn't converged yet.\n",
            "  ConvergenceWarning,\n",
            "/usr/local/lib/python3.7/dist-packages/sklearn/neural_network/_multilayer_perceptron.py:696: ConvergenceWarning: Stochastic Optimizer: Maximum iterations (200) reached and the optimization hasn't converged yet.\n",
            "  ConvergenceWarning,\n",
            "/usr/local/lib/python3.7/dist-packages/sklearn/neural_network/_multilayer_perceptron.py:696: ConvergenceWarning: Stochastic Optimizer: Maximum iterations (200) reached and the optimization hasn't converged yet.\n",
            "  ConvergenceWarning,\n",
            "/usr/local/lib/python3.7/dist-packages/sklearn/neural_network/_multilayer_perceptron.py:696: ConvergenceWarning: Stochastic Optimizer: Maximum iterations (200) reached and the optimization hasn't converged yet.\n",
            "  ConvergenceWarning,\n"
          ]
        },
        {
          "output_type": "stream",
          "name": "stdout",
          "text": [
            "1\n"
          ]
        },
        {
          "output_type": "stream",
          "name": "stderr",
          "text": [
            "/usr/local/lib/python3.7/dist-packages/sklearn/neural_network/_multilayer_perceptron.py:696: ConvergenceWarning: Stochastic Optimizer: Maximum iterations (200) reached and the optimization hasn't converged yet.\n",
            "  ConvergenceWarning,\n",
            "/usr/local/lib/python3.7/dist-packages/sklearn/neural_network/_multilayer_perceptron.py:696: ConvergenceWarning: Stochastic Optimizer: Maximum iterations (200) reached and the optimization hasn't converged yet.\n",
            "  ConvergenceWarning,\n",
            "/usr/local/lib/python3.7/dist-packages/sklearn/neural_network/_multilayer_perceptron.py:696: ConvergenceWarning: Stochastic Optimizer: Maximum iterations (200) reached and the optimization hasn't converged yet.\n",
            "  ConvergenceWarning,\n",
            "/usr/local/lib/python3.7/dist-packages/sklearn/neural_network/_multilayer_perceptron.py:696: ConvergenceWarning: Stochastic Optimizer: Maximum iterations (200) reached and the optimization hasn't converged yet.\n",
            "  ConvergenceWarning,\n",
            "/usr/local/lib/python3.7/dist-packages/sklearn/neural_network/_multilayer_perceptron.py:696: ConvergenceWarning: Stochastic Optimizer: Maximum iterations (200) reached and the optimization hasn't converged yet.\n",
            "  ConvergenceWarning,\n",
            "/usr/local/lib/python3.7/dist-packages/sklearn/neural_network/_multilayer_perceptron.py:696: ConvergenceWarning: Stochastic Optimizer: Maximum iterations (200) reached and the optimization hasn't converged yet.\n",
            "  ConvergenceWarning,\n",
            "/usr/local/lib/python3.7/dist-packages/sklearn/neural_network/_multilayer_perceptron.py:696: ConvergenceWarning: Stochastic Optimizer: Maximum iterations (200) reached and the optimization hasn't converged yet.\n",
            "  ConvergenceWarning,\n",
            "/usr/local/lib/python3.7/dist-packages/sklearn/neural_network/_multilayer_perceptron.py:696: ConvergenceWarning: Stochastic Optimizer: Maximum iterations (200) reached and the optimization hasn't converged yet.\n",
            "  ConvergenceWarning,\n",
            "/usr/local/lib/python3.7/dist-packages/sklearn/neural_network/_multilayer_perceptron.py:696: ConvergenceWarning: Stochastic Optimizer: Maximum iterations (200) reached and the optimization hasn't converged yet.\n",
            "  ConvergenceWarning,\n",
            "/usr/local/lib/python3.7/dist-packages/sklearn/neural_network/_multilayer_perceptron.py:696: ConvergenceWarning: Stochastic Optimizer: Maximum iterations (200) reached and the optimization hasn't converged yet.\n",
            "  ConvergenceWarning,\n"
          ]
        },
        {
          "output_type": "stream",
          "name": "stdout",
          "text": [
            "2\n"
          ]
        },
        {
          "output_type": "stream",
          "name": "stderr",
          "text": [
            "/usr/local/lib/python3.7/dist-packages/sklearn/neural_network/_multilayer_perceptron.py:696: ConvergenceWarning: Stochastic Optimizer: Maximum iterations (200) reached and the optimization hasn't converged yet.\n",
            "  ConvergenceWarning,\n",
            "/usr/local/lib/python3.7/dist-packages/sklearn/neural_network/_multilayer_perceptron.py:696: ConvergenceWarning: Stochastic Optimizer: Maximum iterations (200) reached and the optimization hasn't converged yet.\n",
            "  ConvergenceWarning,\n",
            "/usr/local/lib/python3.7/dist-packages/sklearn/neural_network/_multilayer_perceptron.py:696: ConvergenceWarning: Stochastic Optimizer: Maximum iterations (200) reached and the optimization hasn't converged yet.\n",
            "  ConvergenceWarning,\n",
            "/usr/local/lib/python3.7/dist-packages/sklearn/neural_network/_multilayer_perceptron.py:696: ConvergenceWarning: Stochastic Optimizer: Maximum iterations (200) reached and the optimization hasn't converged yet.\n",
            "  ConvergenceWarning,\n",
            "/usr/local/lib/python3.7/dist-packages/sklearn/neural_network/_multilayer_perceptron.py:696: ConvergenceWarning: Stochastic Optimizer: Maximum iterations (200) reached and the optimization hasn't converged yet.\n",
            "  ConvergenceWarning,\n",
            "/usr/local/lib/python3.7/dist-packages/sklearn/neural_network/_multilayer_perceptron.py:696: ConvergenceWarning: Stochastic Optimizer: Maximum iterations (200) reached and the optimization hasn't converged yet.\n",
            "  ConvergenceWarning,\n",
            "/usr/local/lib/python3.7/dist-packages/sklearn/neural_network/_multilayer_perceptron.py:696: ConvergenceWarning: Stochastic Optimizer: Maximum iterations (200) reached and the optimization hasn't converged yet.\n",
            "  ConvergenceWarning,\n",
            "/usr/local/lib/python3.7/dist-packages/sklearn/neural_network/_multilayer_perceptron.py:696: ConvergenceWarning: Stochastic Optimizer: Maximum iterations (200) reached and the optimization hasn't converged yet.\n",
            "  ConvergenceWarning,\n",
            "/usr/local/lib/python3.7/dist-packages/sklearn/neural_network/_multilayer_perceptron.py:696: ConvergenceWarning: Stochastic Optimizer: Maximum iterations (200) reached and the optimization hasn't converged yet.\n",
            "  ConvergenceWarning,\n",
            "/usr/local/lib/python3.7/dist-packages/sklearn/neural_network/_multilayer_perceptron.py:696: ConvergenceWarning: Stochastic Optimizer: Maximum iterations (200) reached and the optimization hasn't converged yet.\n",
            "  ConvergenceWarning,\n"
          ]
        },
        {
          "output_type": "stream",
          "name": "stdout",
          "text": [
            "3\n"
          ]
        },
        {
          "output_type": "stream",
          "name": "stderr",
          "text": [
            "/usr/local/lib/python3.7/dist-packages/sklearn/neural_network/_multilayer_perceptron.py:696: ConvergenceWarning: Stochastic Optimizer: Maximum iterations (200) reached and the optimization hasn't converged yet.\n",
            "  ConvergenceWarning,\n",
            "/usr/local/lib/python3.7/dist-packages/sklearn/neural_network/_multilayer_perceptron.py:696: ConvergenceWarning: Stochastic Optimizer: Maximum iterations (200) reached and the optimization hasn't converged yet.\n",
            "  ConvergenceWarning,\n",
            "/usr/local/lib/python3.7/dist-packages/sklearn/neural_network/_multilayer_perceptron.py:696: ConvergenceWarning: Stochastic Optimizer: Maximum iterations (200) reached and the optimization hasn't converged yet.\n",
            "  ConvergenceWarning,\n",
            "/usr/local/lib/python3.7/dist-packages/sklearn/neural_network/_multilayer_perceptron.py:696: ConvergenceWarning: Stochastic Optimizer: Maximum iterations (200) reached and the optimization hasn't converged yet.\n",
            "  ConvergenceWarning,\n",
            "/usr/local/lib/python3.7/dist-packages/sklearn/neural_network/_multilayer_perceptron.py:696: ConvergenceWarning: Stochastic Optimizer: Maximum iterations (200) reached and the optimization hasn't converged yet.\n",
            "  ConvergenceWarning,\n",
            "/usr/local/lib/python3.7/dist-packages/sklearn/neural_network/_multilayer_perceptron.py:696: ConvergenceWarning: Stochastic Optimizer: Maximum iterations (200) reached and the optimization hasn't converged yet.\n",
            "  ConvergenceWarning,\n",
            "/usr/local/lib/python3.7/dist-packages/sklearn/neural_network/_multilayer_perceptron.py:696: ConvergenceWarning: Stochastic Optimizer: Maximum iterations (200) reached and the optimization hasn't converged yet.\n",
            "  ConvergenceWarning,\n",
            "/usr/local/lib/python3.7/dist-packages/sklearn/neural_network/_multilayer_perceptron.py:696: ConvergenceWarning: Stochastic Optimizer: Maximum iterations (200) reached and the optimization hasn't converged yet.\n",
            "  ConvergenceWarning,\n",
            "/usr/local/lib/python3.7/dist-packages/sklearn/neural_network/_multilayer_perceptron.py:696: ConvergenceWarning: Stochastic Optimizer: Maximum iterations (200) reached and the optimization hasn't converged yet.\n",
            "  ConvergenceWarning,\n",
            "/usr/local/lib/python3.7/dist-packages/sklearn/neural_network/_multilayer_perceptron.py:696: ConvergenceWarning: Stochastic Optimizer: Maximum iterations (200) reached and the optimization hasn't converged yet.\n",
            "  ConvergenceWarning,\n"
          ]
        },
        {
          "output_type": "stream",
          "name": "stdout",
          "text": [
            "4\n"
          ]
        },
        {
          "output_type": "stream",
          "name": "stderr",
          "text": [
            "/usr/local/lib/python3.7/dist-packages/sklearn/neural_network/_multilayer_perceptron.py:696: ConvergenceWarning: Stochastic Optimizer: Maximum iterations (200) reached and the optimization hasn't converged yet.\n",
            "  ConvergenceWarning,\n",
            "/usr/local/lib/python3.7/dist-packages/sklearn/neural_network/_multilayer_perceptron.py:696: ConvergenceWarning: Stochastic Optimizer: Maximum iterations (200) reached and the optimization hasn't converged yet.\n",
            "  ConvergenceWarning,\n",
            "/usr/local/lib/python3.7/dist-packages/sklearn/neural_network/_multilayer_perceptron.py:696: ConvergenceWarning: Stochastic Optimizer: Maximum iterations (200) reached and the optimization hasn't converged yet.\n",
            "  ConvergenceWarning,\n",
            "/usr/local/lib/python3.7/dist-packages/sklearn/neural_network/_multilayer_perceptron.py:696: ConvergenceWarning: Stochastic Optimizer: Maximum iterations (200) reached and the optimization hasn't converged yet.\n",
            "  ConvergenceWarning,\n",
            "/usr/local/lib/python3.7/dist-packages/sklearn/neural_network/_multilayer_perceptron.py:696: ConvergenceWarning: Stochastic Optimizer: Maximum iterations (200) reached and the optimization hasn't converged yet.\n",
            "  ConvergenceWarning,\n",
            "/usr/local/lib/python3.7/dist-packages/sklearn/neural_network/_multilayer_perceptron.py:696: ConvergenceWarning: Stochastic Optimizer: Maximum iterations (200) reached and the optimization hasn't converged yet.\n",
            "  ConvergenceWarning,\n",
            "/usr/local/lib/python3.7/dist-packages/sklearn/neural_network/_multilayer_perceptron.py:696: ConvergenceWarning: Stochastic Optimizer: Maximum iterations (200) reached and the optimization hasn't converged yet.\n",
            "  ConvergenceWarning,\n",
            "/usr/local/lib/python3.7/dist-packages/sklearn/neural_network/_multilayer_perceptron.py:696: ConvergenceWarning: Stochastic Optimizer: Maximum iterations (200) reached and the optimization hasn't converged yet.\n",
            "  ConvergenceWarning,\n",
            "/usr/local/lib/python3.7/dist-packages/sklearn/neural_network/_multilayer_perceptron.py:696: ConvergenceWarning: Stochastic Optimizer: Maximum iterations (200) reached and the optimization hasn't converged yet.\n",
            "  ConvergenceWarning,\n",
            "/usr/local/lib/python3.7/dist-packages/sklearn/neural_network/_multilayer_perceptron.py:696: ConvergenceWarning: Stochastic Optimizer: Maximum iterations (200) reached and the optimization hasn't converged yet.\n",
            "  ConvergenceWarning,\n"
          ]
        },
        {
          "output_type": "stream",
          "name": "stdout",
          "text": [
            "5\n"
          ]
        },
        {
          "output_type": "stream",
          "name": "stderr",
          "text": [
            "/usr/local/lib/python3.7/dist-packages/sklearn/neural_network/_multilayer_perceptron.py:696: ConvergenceWarning: Stochastic Optimizer: Maximum iterations (200) reached and the optimization hasn't converged yet.\n",
            "  ConvergenceWarning,\n",
            "/usr/local/lib/python3.7/dist-packages/sklearn/neural_network/_multilayer_perceptron.py:696: ConvergenceWarning: Stochastic Optimizer: Maximum iterations (200) reached and the optimization hasn't converged yet.\n",
            "  ConvergenceWarning,\n",
            "/usr/local/lib/python3.7/dist-packages/sklearn/neural_network/_multilayer_perceptron.py:696: ConvergenceWarning: Stochastic Optimizer: Maximum iterations (200) reached and the optimization hasn't converged yet.\n",
            "  ConvergenceWarning,\n",
            "/usr/local/lib/python3.7/dist-packages/sklearn/neural_network/_multilayer_perceptron.py:696: ConvergenceWarning: Stochastic Optimizer: Maximum iterations (200) reached and the optimization hasn't converged yet.\n",
            "  ConvergenceWarning,\n",
            "/usr/local/lib/python3.7/dist-packages/sklearn/neural_network/_multilayer_perceptron.py:696: ConvergenceWarning: Stochastic Optimizer: Maximum iterations (200) reached and the optimization hasn't converged yet.\n",
            "  ConvergenceWarning,\n",
            "/usr/local/lib/python3.7/dist-packages/sklearn/neural_network/_multilayer_perceptron.py:696: ConvergenceWarning: Stochastic Optimizer: Maximum iterations (200) reached and the optimization hasn't converged yet.\n",
            "  ConvergenceWarning,\n",
            "/usr/local/lib/python3.7/dist-packages/sklearn/neural_network/_multilayer_perceptron.py:696: ConvergenceWarning: Stochastic Optimizer: Maximum iterations (200) reached and the optimization hasn't converged yet.\n",
            "  ConvergenceWarning,\n",
            "/usr/local/lib/python3.7/dist-packages/sklearn/neural_network/_multilayer_perceptron.py:696: ConvergenceWarning: Stochastic Optimizer: Maximum iterations (200) reached and the optimization hasn't converged yet.\n",
            "  ConvergenceWarning,\n",
            "/usr/local/lib/python3.7/dist-packages/sklearn/neural_network/_multilayer_perceptron.py:696: ConvergenceWarning: Stochastic Optimizer: Maximum iterations (200) reached and the optimization hasn't converged yet.\n",
            "  ConvergenceWarning,\n",
            "/usr/local/lib/python3.7/dist-packages/sklearn/neural_network/_multilayer_perceptron.py:696: ConvergenceWarning: Stochastic Optimizer: Maximum iterations (200) reached and the optimization hasn't converged yet.\n",
            "  ConvergenceWarning,\n"
          ]
        },
        {
          "output_type": "stream",
          "name": "stdout",
          "text": [
            "6\n"
          ]
        },
        {
          "output_type": "stream",
          "name": "stderr",
          "text": [
            "/usr/local/lib/python3.7/dist-packages/sklearn/neural_network/_multilayer_perceptron.py:696: ConvergenceWarning: Stochastic Optimizer: Maximum iterations (200) reached and the optimization hasn't converged yet.\n",
            "  ConvergenceWarning,\n",
            "/usr/local/lib/python3.7/dist-packages/sklearn/neural_network/_multilayer_perceptron.py:696: ConvergenceWarning: Stochastic Optimizer: Maximum iterations (200) reached and the optimization hasn't converged yet.\n",
            "  ConvergenceWarning,\n",
            "/usr/local/lib/python3.7/dist-packages/sklearn/neural_network/_multilayer_perceptron.py:696: ConvergenceWarning: Stochastic Optimizer: Maximum iterations (200) reached and the optimization hasn't converged yet.\n",
            "  ConvergenceWarning,\n",
            "/usr/local/lib/python3.7/dist-packages/sklearn/neural_network/_multilayer_perceptron.py:696: ConvergenceWarning: Stochastic Optimizer: Maximum iterations (200) reached and the optimization hasn't converged yet.\n",
            "  ConvergenceWarning,\n",
            "/usr/local/lib/python3.7/dist-packages/sklearn/neural_network/_multilayer_perceptron.py:696: ConvergenceWarning: Stochastic Optimizer: Maximum iterations (200) reached and the optimization hasn't converged yet.\n",
            "  ConvergenceWarning,\n",
            "/usr/local/lib/python3.7/dist-packages/sklearn/neural_network/_multilayer_perceptron.py:696: ConvergenceWarning: Stochastic Optimizer: Maximum iterations (200) reached and the optimization hasn't converged yet.\n",
            "  ConvergenceWarning,\n",
            "/usr/local/lib/python3.7/dist-packages/sklearn/neural_network/_multilayer_perceptron.py:696: ConvergenceWarning: Stochastic Optimizer: Maximum iterations (200) reached and the optimization hasn't converged yet.\n",
            "  ConvergenceWarning,\n",
            "/usr/local/lib/python3.7/dist-packages/sklearn/neural_network/_multilayer_perceptron.py:696: ConvergenceWarning: Stochastic Optimizer: Maximum iterations (200) reached and the optimization hasn't converged yet.\n",
            "  ConvergenceWarning,\n",
            "/usr/local/lib/python3.7/dist-packages/sklearn/neural_network/_multilayer_perceptron.py:696: ConvergenceWarning: Stochastic Optimizer: Maximum iterations (200) reached and the optimization hasn't converged yet.\n",
            "  ConvergenceWarning,\n",
            "/usr/local/lib/python3.7/dist-packages/sklearn/neural_network/_multilayer_perceptron.py:696: ConvergenceWarning: Stochastic Optimizer: Maximum iterations (200) reached and the optimization hasn't converged yet.\n",
            "  ConvergenceWarning,\n"
          ]
        },
        {
          "output_type": "stream",
          "name": "stdout",
          "text": [
            "7\n"
          ]
        },
        {
          "output_type": "stream",
          "name": "stderr",
          "text": [
            "/usr/local/lib/python3.7/dist-packages/sklearn/neural_network/_multilayer_perceptron.py:696: ConvergenceWarning: Stochastic Optimizer: Maximum iterations (200) reached and the optimization hasn't converged yet.\n",
            "  ConvergenceWarning,\n",
            "/usr/local/lib/python3.7/dist-packages/sklearn/neural_network/_multilayer_perceptron.py:696: ConvergenceWarning: Stochastic Optimizer: Maximum iterations (200) reached and the optimization hasn't converged yet.\n",
            "  ConvergenceWarning,\n",
            "/usr/local/lib/python3.7/dist-packages/sklearn/neural_network/_multilayer_perceptron.py:696: ConvergenceWarning: Stochastic Optimizer: Maximum iterations (200) reached and the optimization hasn't converged yet.\n",
            "  ConvergenceWarning,\n",
            "/usr/local/lib/python3.7/dist-packages/sklearn/neural_network/_multilayer_perceptron.py:696: ConvergenceWarning: Stochastic Optimizer: Maximum iterations (200) reached and the optimization hasn't converged yet.\n",
            "  ConvergenceWarning,\n",
            "/usr/local/lib/python3.7/dist-packages/sklearn/neural_network/_multilayer_perceptron.py:696: ConvergenceWarning: Stochastic Optimizer: Maximum iterations (200) reached and the optimization hasn't converged yet.\n",
            "  ConvergenceWarning,\n",
            "/usr/local/lib/python3.7/dist-packages/sklearn/neural_network/_multilayer_perceptron.py:696: ConvergenceWarning: Stochastic Optimizer: Maximum iterations (200) reached and the optimization hasn't converged yet.\n",
            "  ConvergenceWarning,\n",
            "/usr/local/lib/python3.7/dist-packages/sklearn/neural_network/_multilayer_perceptron.py:696: ConvergenceWarning: Stochastic Optimizer: Maximum iterations (200) reached and the optimization hasn't converged yet.\n",
            "  ConvergenceWarning,\n",
            "/usr/local/lib/python3.7/dist-packages/sklearn/neural_network/_multilayer_perceptron.py:696: ConvergenceWarning: Stochastic Optimizer: Maximum iterations (200) reached and the optimization hasn't converged yet.\n",
            "  ConvergenceWarning,\n",
            "/usr/local/lib/python3.7/dist-packages/sklearn/neural_network/_multilayer_perceptron.py:696: ConvergenceWarning: Stochastic Optimizer: Maximum iterations (200) reached and the optimization hasn't converged yet.\n",
            "  ConvergenceWarning,\n",
            "/usr/local/lib/python3.7/dist-packages/sklearn/neural_network/_multilayer_perceptron.py:696: ConvergenceWarning: Stochastic Optimizer: Maximum iterations (200) reached and the optimization hasn't converged yet.\n",
            "  ConvergenceWarning,\n"
          ]
        },
        {
          "output_type": "stream",
          "name": "stdout",
          "text": [
            "8\n"
          ]
        },
        {
          "output_type": "stream",
          "name": "stderr",
          "text": [
            "/usr/local/lib/python3.7/dist-packages/sklearn/neural_network/_multilayer_perceptron.py:696: ConvergenceWarning: Stochastic Optimizer: Maximum iterations (200) reached and the optimization hasn't converged yet.\n",
            "  ConvergenceWarning,\n",
            "/usr/local/lib/python3.7/dist-packages/sklearn/neural_network/_multilayer_perceptron.py:696: ConvergenceWarning: Stochastic Optimizer: Maximum iterations (200) reached and the optimization hasn't converged yet.\n",
            "  ConvergenceWarning,\n",
            "/usr/local/lib/python3.7/dist-packages/sklearn/neural_network/_multilayer_perceptron.py:696: ConvergenceWarning: Stochastic Optimizer: Maximum iterations (200) reached and the optimization hasn't converged yet.\n",
            "  ConvergenceWarning,\n",
            "/usr/local/lib/python3.7/dist-packages/sklearn/neural_network/_multilayer_perceptron.py:696: ConvergenceWarning: Stochastic Optimizer: Maximum iterations (200) reached and the optimization hasn't converged yet.\n",
            "  ConvergenceWarning,\n",
            "/usr/local/lib/python3.7/dist-packages/sklearn/neural_network/_multilayer_perceptron.py:696: ConvergenceWarning: Stochastic Optimizer: Maximum iterations (200) reached and the optimization hasn't converged yet.\n",
            "  ConvergenceWarning,\n",
            "/usr/local/lib/python3.7/dist-packages/sklearn/neural_network/_multilayer_perceptron.py:696: ConvergenceWarning: Stochastic Optimizer: Maximum iterations (200) reached and the optimization hasn't converged yet.\n",
            "  ConvergenceWarning,\n",
            "/usr/local/lib/python3.7/dist-packages/sklearn/neural_network/_multilayer_perceptron.py:696: ConvergenceWarning: Stochastic Optimizer: Maximum iterations (200) reached and the optimization hasn't converged yet.\n",
            "  ConvergenceWarning,\n",
            "/usr/local/lib/python3.7/dist-packages/sklearn/neural_network/_multilayer_perceptron.py:696: ConvergenceWarning: Stochastic Optimizer: Maximum iterations (200) reached and the optimization hasn't converged yet.\n",
            "  ConvergenceWarning,\n",
            "/usr/local/lib/python3.7/dist-packages/sklearn/neural_network/_multilayer_perceptron.py:696: ConvergenceWarning: Stochastic Optimizer: Maximum iterations (200) reached and the optimization hasn't converged yet.\n",
            "  ConvergenceWarning,\n",
            "/usr/local/lib/python3.7/dist-packages/sklearn/neural_network/_multilayer_perceptron.py:696: ConvergenceWarning: Stochastic Optimizer: Maximum iterations (200) reached and the optimization hasn't converged yet.\n",
            "  ConvergenceWarning,\n"
          ]
        },
        {
          "output_type": "stream",
          "name": "stdout",
          "text": [
            "9\n"
          ]
        },
        {
          "output_type": "stream",
          "name": "stderr",
          "text": [
            "/usr/local/lib/python3.7/dist-packages/sklearn/neural_network/_multilayer_perceptron.py:696: ConvergenceWarning: Stochastic Optimizer: Maximum iterations (200) reached and the optimization hasn't converged yet.\n",
            "  ConvergenceWarning,\n",
            "/usr/local/lib/python3.7/dist-packages/sklearn/neural_network/_multilayer_perceptron.py:696: ConvergenceWarning: Stochastic Optimizer: Maximum iterations (200) reached and the optimization hasn't converged yet.\n",
            "  ConvergenceWarning,\n",
            "/usr/local/lib/python3.7/dist-packages/sklearn/neural_network/_multilayer_perceptron.py:696: ConvergenceWarning: Stochastic Optimizer: Maximum iterations (200) reached and the optimization hasn't converged yet.\n",
            "  ConvergenceWarning,\n",
            "/usr/local/lib/python3.7/dist-packages/sklearn/neural_network/_multilayer_perceptron.py:696: ConvergenceWarning: Stochastic Optimizer: Maximum iterations (200) reached and the optimization hasn't converged yet.\n",
            "  ConvergenceWarning,\n",
            "/usr/local/lib/python3.7/dist-packages/sklearn/neural_network/_multilayer_perceptron.py:696: ConvergenceWarning: Stochastic Optimizer: Maximum iterations (200) reached and the optimization hasn't converged yet.\n",
            "  ConvergenceWarning,\n",
            "/usr/local/lib/python3.7/dist-packages/sklearn/neural_network/_multilayer_perceptron.py:696: ConvergenceWarning: Stochastic Optimizer: Maximum iterations (200) reached and the optimization hasn't converged yet.\n",
            "  ConvergenceWarning,\n",
            "/usr/local/lib/python3.7/dist-packages/sklearn/neural_network/_multilayer_perceptron.py:696: ConvergenceWarning: Stochastic Optimizer: Maximum iterations (200) reached and the optimization hasn't converged yet.\n",
            "  ConvergenceWarning,\n",
            "/usr/local/lib/python3.7/dist-packages/sklearn/neural_network/_multilayer_perceptron.py:696: ConvergenceWarning: Stochastic Optimizer: Maximum iterations (200) reached and the optimization hasn't converged yet.\n",
            "  ConvergenceWarning,\n",
            "/usr/local/lib/python3.7/dist-packages/sklearn/neural_network/_multilayer_perceptron.py:696: ConvergenceWarning: Stochastic Optimizer: Maximum iterations (200) reached and the optimization hasn't converged yet.\n",
            "  ConvergenceWarning,\n",
            "/usr/local/lib/python3.7/dist-packages/sklearn/neural_network/_multilayer_perceptron.py:696: ConvergenceWarning: Stochastic Optimizer: Maximum iterations (200) reached and the optimization hasn't converged yet.\n",
            "  ConvergenceWarning,\n"
          ]
        },
        {
          "output_type": "stream",
          "name": "stdout",
          "text": [
            "10\n"
          ]
        },
        {
          "output_type": "stream",
          "name": "stderr",
          "text": [
            "/usr/local/lib/python3.7/dist-packages/sklearn/neural_network/_multilayer_perceptron.py:696: ConvergenceWarning: Stochastic Optimizer: Maximum iterations (200) reached and the optimization hasn't converged yet.\n",
            "  ConvergenceWarning,\n",
            "/usr/local/lib/python3.7/dist-packages/sklearn/neural_network/_multilayer_perceptron.py:696: ConvergenceWarning: Stochastic Optimizer: Maximum iterations (200) reached and the optimization hasn't converged yet.\n",
            "  ConvergenceWarning,\n",
            "/usr/local/lib/python3.7/dist-packages/sklearn/neural_network/_multilayer_perceptron.py:696: ConvergenceWarning: Stochastic Optimizer: Maximum iterations (200) reached and the optimization hasn't converged yet.\n",
            "  ConvergenceWarning,\n",
            "/usr/local/lib/python3.7/dist-packages/sklearn/neural_network/_multilayer_perceptron.py:696: ConvergenceWarning: Stochastic Optimizer: Maximum iterations (200) reached and the optimization hasn't converged yet.\n",
            "  ConvergenceWarning,\n",
            "/usr/local/lib/python3.7/dist-packages/sklearn/neural_network/_multilayer_perceptron.py:696: ConvergenceWarning: Stochastic Optimizer: Maximum iterations (200) reached and the optimization hasn't converged yet.\n",
            "  ConvergenceWarning,\n",
            "/usr/local/lib/python3.7/dist-packages/sklearn/neural_network/_multilayer_perceptron.py:696: ConvergenceWarning: Stochastic Optimizer: Maximum iterations (200) reached and the optimization hasn't converged yet.\n",
            "  ConvergenceWarning,\n",
            "/usr/local/lib/python3.7/dist-packages/sklearn/neural_network/_multilayer_perceptron.py:696: ConvergenceWarning: Stochastic Optimizer: Maximum iterations (200) reached and the optimization hasn't converged yet.\n",
            "  ConvergenceWarning,\n",
            "/usr/local/lib/python3.7/dist-packages/sklearn/neural_network/_multilayer_perceptron.py:696: ConvergenceWarning: Stochastic Optimizer: Maximum iterations (200) reached and the optimization hasn't converged yet.\n",
            "  ConvergenceWarning,\n",
            "/usr/local/lib/python3.7/dist-packages/sklearn/neural_network/_multilayer_perceptron.py:696: ConvergenceWarning: Stochastic Optimizer: Maximum iterations (200) reached and the optimization hasn't converged yet.\n",
            "  ConvergenceWarning,\n",
            "/usr/local/lib/python3.7/dist-packages/sklearn/neural_network/_multilayer_perceptron.py:696: ConvergenceWarning: Stochastic Optimizer: Maximum iterations (200) reached and the optimization hasn't converged yet.\n",
            "  ConvergenceWarning,\n"
          ]
        },
        {
          "output_type": "stream",
          "name": "stdout",
          "text": [
            "11\n"
          ]
        },
        {
          "output_type": "stream",
          "name": "stderr",
          "text": [
            "/usr/local/lib/python3.7/dist-packages/sklearn/neural_network/_multilayer_perceptron.py:696: ConvergenceWarning: Stochastic Optimizer: Maximum iterations (200) reached and the optimization hasn't converged yet.\n",
            "  ConvergenceWarning,\n",
            "/usr/local/lib/python3.7/dist-packages/sklearn/neural_network/_multilayer_perceptron.py:696: ConvergenceWarning: Stochastic Optimizer: Maximum iterations (200) reached and the optimization hasn't converged yet.\n",
            "  ConvergenceWarning,\n",
            "/usr/local/lib/python3.7/dist-packages/sklearn/neural_network/_multilayer_perceptron.py:696: ConvergenceWarning: Stochastic Optimizer: Maximum iterations (200) reached and the optimization hasn't converged yet.\n",
            "  ConvergenceWarning,\n",
            "/usr/local/lib/python3.7/dist-packages/sklearn/neural_network/_multilayer_perceptron.py:696: ConvergenceWarning: Stochastic Optimizer: Maximum iterations (200) reached and the optimization hasn't converged yet.\n",
            "  ConvergenceWarning,\n",
            "/usr/local/lib/python3.7/dist-packages/sklearn/neural_network/_multilayer_perceptron.py:696: ConvergenceWarning: Stochastic Optimizer: Maximum iterations (200) reached and the optimization hasn't converged yet.\n",
            "  ConvergenceWarning,\n",
            "/usr/local/lib/python3.7/dist-packages/sklearn/neural_network/_multilayer_perceptron.py:696: ConvergenceWarning: Stochastic Optimizer: Maximum iterations (200) reached and the optimization hasn't converged yet.\n",
            "  ConvergenceWarning,\n",
            "/usr/local/lib/python3.7/dist-packages/sklearn/neural_network/_multilayer_perceptron.py:696: ConvergenceWarning: Stochastic Optimizer: Maximum iterations (200) reached and the optimization hasn't converged yet.\n",
            "  ConvergenceWarning,\n",
            "/usr/local/lib/python3.7/dist-packages/sklearn/neural_network/_multilayer_perceptron.py:696: ConvergenceWarning: Stochastic Optimizer: Maximum iterations (200) reached and the optimization hasn't converged yet.\n",
            "  ConvergenceWarning,\n",
            "/usr/local/lib/python3.7/dist-packages/sklearn/neural_network/_multilayer_perceptron.py:696: ConvergenceWarning: Stochastic Optimizer: Maximum iterations (200) reached and the optimization hasn't converged yet.\n",
            "  ConvergenceWarning,\n",
            "/usr/local/lib/python3.7/dist-packages/sklearn/neural_network/_multilayer_perceptron.py:696: ConvergenceWarning: Stochastic Optimizer: Maximum iterations (200) reached and the optimization hasn't converged yet.\n",
            "  ConvergenceWarning,\n"
          ]
        },
        {
          "output_type": "stream",
          "name": "stdout",
          "text": [
            "12\n"
          ]
        },
        {
          "output_type": "stream",
          "name": "stderr",
          "text": [
            "/usr/local/lib/python3.7/dist-packages/sklearn/neural_network/_multilayer_perceptron.py:696: ConvergenceWarning: Stochastic Optimizer: Maximum iterations (200) reached and the optimization hasn't converged yet.\n",
            "  ConvergenceWarning,\n",
            "/usr/local/lib/python3.7/dist-packages/sklearn/neural_network/_multilayer_perceptron.py:696: ConvergenceWarning: Stochastic Optimizer: Maximum iterations (200) reached and the optimization hasn't converged yet.\n",
            "  ConvergenceWarning,\n",
            "/usr/local/lib/python3.7/dist-packages/sklearn/neural_network/_multilayer_perceptron.py:696: ConvergenceWarning: Stochastic Optimizer: Maximum iterations (200) reached and the optimization hasn't converged yet.\n",
            "  ConvergenceWarning,\n",
            "/usr/local/lib/python3.7/dist-packages/sklearn/neural_network/_multilayer_perceptron.py:696: ConvergenceWarning: Stochastic Optimizer: Maximum iterations (200) reached and the optimization hasn't converged yet.\n",
            "  ConvergenceWarning,\n",
            "/usr/local/lib/python3.7/dist-packages/sklearn/neural_network/_multilayer_perceptron.py:696: ConvergenceWarning: Stochastic Optimizer: Maximum iterations (200) reached and the optimization hasn't converged yet.\n",
            "  ConvergenceWarning,\n",
            "/usr/local/lib/python3.7/dist-packages/sklearn/neural_network/_multilayer_perceptron.py:696: ConvergenceWarning: Stochastic Optimizer: Maximum iterations (200) reached and the optimization hasn't converged yet.\n",
            "  ConvergenceWarning,\n",
            "/usr/local/lib/python3.7/dist-packages/sklearn/neural_network/_multilayer_perceptron.py:696: ConvergenceWarning: Stochastic Optimizer: Maximum iterations (200) reached and the optimization hasn't converged yet.\n",
            "  ConvergenceWarning,\n",
            "/usr/local/lib/python3.7/dist-packages/sklearn/neural_network/_multilayer_perceptron.py:696: ConvergenceWarning: Stochastic Optimizer: Maximum iterations (200) reached and the optimization hasn't converged yet.\n",
            "  ConvergenceWarning,\n",
            "/usr/local/lib/python3.7/dist-packages/sklearn/neural_network/_multilayer_perceptron.py:696: ConvergenceWarning: Stochastic Optimizer: Maximum iterations (200) reached and the optimization hasn't converged yet.\n",
            "  ConvergenceWarning,\n",
            "/usr/local/lib/python3.7/dist-packages/sklearn/neural_network/_multilayer_perceptron.py:696: ConvergenceWarning: Stochastic Optimizer: Maximum iterations (200) reached and the optimization hasn't converged yet.\n",
            "  ConvergenceWarning,\n"
          ]
        },
        {
          "output_type": "stream",
          "name": "stdout",
          "text": [
            "13\n"
          ]
        },
        {
          "output_type": "stream",
          "name": "stderr",
          "text": [
            "/usr/local/lib/python3.7/dist-packages/sklearn/neural_network/_multilayer_perceptron.py:696: ConvergenceWarning: Stochastic Optimizer: Maximum iterations (200) reached and the optimization hasn't converged yet.\n",
            "  ConvergenceWarning,\n",
            "/usr/local/lib/python3.7/dist-packages/sklearn/neural_network/_multilayer_perceptron.py:696: ConvergenceWarning: Stochastic Optimizer: Maximum iterations (200) reached and the optimization hasn't converged yet.\n",
            "  ConvergenceWarning,\n",
            "/usr/local/lib/python3.7/dist-packages/sklearn/neural_network/_multilayer_perceptron.py:696: ConvergenceWarning: Stochastic Optimizer: Maximum iterations (200) reached and the optimization hasn't converged yet.\n",
            "  ConvergenceWarning,\n",
            "/usr/local/lib/python3.7/dist-packages/sklearn/neural_network/_multilayer_perceptron.py:696: ConvergenceWarning: Stochastic Optimizer: Maximum iterations (200) reached and the optimization hasn't converged yet.\n",
            "  ConvergenceWarning,\n",
            "/usr/local/lib/python3.7/dist-packages/sklearn/neural_network/_multilayer_perceptron.py:696: ConvergenceWarning: Stochastic Optimizer: Maximum iterations (200) reached and the optimization hasn't converged yet.\n",
            "  ConvergenceWarning,\n",
            "/usr/local/lib/python3.7/dist-packages/sklearn/neural_network/_multilayer_perceptron.py:696: ConvergenceWarning: Stochastic Optimizer: Maximum iterations (200) reached and the optimization hasn't converged yet.\n",
            "  ConvergenceWarning,\n",
            "/usr/local/lib/python3.7/dist-packages/sklearn/neural_network/_multilayer_perceptron.py:696: ConvergenceWarning: Stochastic Optimizer: Maximum iterations (200) reached and the optimization hasn't converged yet.\n",
            "  ConvergenceWarning,\n",
            "/usr/local/lib/python3.7/dist-packages/sklearn/neural_network/_multilayer_perceptron.py:696: ConvergenceWarning: Stochastic Optimizer: Maximum iterations (200) reached and the optimization hasn't converged yet.\n",
            "  ConvergenceWarning,\n",
            "/usr/local/lib/python3.7/dist-packages/sklearn/neural_network/_multilayer_perceptron.py:696: ConvergenceWarning: Stochastic Optimizer: Maximum iterations (200) reached and the optimization hasn't converged yet.\n",
            "  ConvergenceWarning,\n",
            "/usr/local/lib/python3.7/dist-packages/sklearn/neural_network/_multilayer_perceptron.py:696: ConvergenceWarning: Stochastic Optimizer: Maximum iterations (200) reached and the optimization hasn't converged yet.\n",
            "  ConvergenceWarning,\n"
          ]
        },
        {
          "output_type": "stream",
          "name": "stdout",
          "text": [
            "14\n"
          ]
        },
        {
          "output_type": "stream",
          "name": "stderr",
          "text": [
            "/usr/local/lib/python3.7/dist-packages/sklearn/neural_network/_multilayer_perceptron.py:696: ConvergenceWarning: Stochastic Optimizer: Maximum iterations (200) reached and the optimization hasn't converged yet.\n",
            "  ConvergenceWarning,\n",
            "/usr/local/lib/python3.7/dist-packages/sklearn/neural_network/_multilayer_perceptron.py:696: ConvergenceWarning: Stochastic Optimizer: Maximum iterations (200) reached and the optimization hasn't converged yet.\n",
            "  ConvergenceWarning,\n",
            "/usr/local/lib/python3.7/dist-packages/sklearn/neural_network/_multilayer_perceptron.py:696: ConvergenceWarning: Stochastic Optimizer: Maximum iterations (200) reached and the optimization hasn't converged yet.\n",
            "  ConvergenceWarning,\n",
            "/usr/local/lib/python3.7/dist-packages/sklearn/neural_network/_multilayer_perceptron.py:696: ConvergenceWarning: Stochastic Optimizer: Maximum iterations (200) reached and the optimization hasn't converged yet.\n",
            "  ConvergenceWarning,\n",
            "/usr/local/lib/python3.7/dist-packages/sklearn/neural_network/_multilayer_perceptron.py:696: ConvergenceWarning: Stochastic Optimizer: Maximum iterations (200) reached and the optimization hasn't converged yet.\n",
            "  ConvergenceWarning,\n",
            "/usr/local/lib/python3.7/dist-packages/sklearn/neural_network/_multilayer_perceptron.py:696: ConvergenceWarning: Stochastic Optimizer: Maximum iterations (200) reached and the optimization hasn't converged yet.\n",
            "  ConvergenceWarning,\n",
            "/usr/local/lib/python3.7/dist-packages/sklearn/neural_network/_multilayer_perceptron.py:696: ConvergenceWarning: Stochastic Optimizer: Maximum iterations (200) reached and the optimization hasn't converged yet.\n",
            "  ConvergenceWarning,\n",
            "/usr/local/lib/python3.7/dist-packages/sklearn/neural_network/_multilayer_perceptron.py:696: ConvergenceWarning: Stochastic Optimizer: Maximum iterations (200) reached and the optimization hasn't converged yet.\n",
            "  ConvergenceWarning,\n",
            "/usr/local/lib/python3.7/dist-packages/sklearn/neural_network/_multilayer_perceptron.py:696: ConvergenceWarning: Stochastic Optimizer: Maximum iterations (200) reached and the optimization hasn't converged yet.\n",
            "  ConvergenceWarning,\n",
            "/usr/local/lib/python3.7/dist-packages/sklearn/neural_network/_multilayer_perceptron.py:696: ConvergenceWarning: Stochastic Optimizer: Maximum iterations (200) reached and the optimization hasn't converged yet.\n",
            "  ConvergenceWarning,\n"
          ]
        },
        {
          "output_type": "stream",
          "name": "stdout",
          "text": [
            "15\n"
          ]
        },
        {
          "output_type": "stream",
          "name": "stderr",
          "text": [
            "/usr/local/lib/python3.7/dist-packages/sklearn/neural_network/_multilayer_perceptron.py:696: ConvergenceWarning: Stochastic Optimizer: Maximum iterations (200) reached and the optimization hasn't converged yet.\n",
            "  ConvergenceWarning,\n",
            "/usr/local/lib/python3.7/dist-packages/sklearn/neural_network/_multilayer_perceptron.py:696: ConvergenceWarning: Stochastic Optimizer: Maximum iterations (200) reached and the optimization hasn't converged yet.\n",
            "  ConvergenceWarning,\n",
            "/usr/local/lib/python3.7/dist-packages/sklearn/neural_network/_multilayer_perceptron.py:696: ConvergenceWarning: Stochastic Optimizer: Maximum iterations (200) reached and the optimization hasn't converged yet.\n",
            "  ConvergenceWarning,\n",
            "/usr/local/lib/python3.7/dist-packages/sklearn/neural_network/_multilayer_perceptron.py:696: ConvergenceWarning: Stochastic Optimizer: Maximum iterations (200) reached and the optimization hasn't converged yet.\n",
            "  ConvergenceWarning,\n",
            "/usr/local/lib/python3.7/dist-packages/sklearn/neural_network/_multilayer_perceptron.py:696: ConvergenceWarning: Stochastic Optimizer: Maximum iterations (200) reached and the optimization hasn't converged yet.\n",
            "  ConvergenceWarning,\n",
            "/usr/local/lib/python3.7/dist-packages/sklearn/neural_network/_multilayer_perceptron.py:696: ConvergenceWarning: Stochastic Optimizer: Maximum iterations (200) reached and the optimization hasn't converged yet.\n",
            "  ConvergenceWarning,\n",
            "/usr/local/lib/python3.7/dist-packages/sklearn/neural_network/_multilayer_perceptron.py:696: ConvergenceWarning: Stochastic Optimizer: Maximum iterations (200) reached and the optimization hasn't converged yet.\n",
            "  ConvergenceWarning,\n",
            "/usr/local/lib/python3.7/dist-packages/sklearn/neural_network/_multilayer_perceptron.py:696: ConvergenceWarning: Stochastic Optimizer: Maximum iterations (200) reached and the optimization hasn't converged yet.\n",
            "  ConvergenceWarning,\n",
            "/usr/local/lib/python3.7/dist-packages/sklearn/neural_network/_multilayer_perceptron.py:696: ConvergenceWarning: Stochastic Optimizer: Maximum iterations (200) reached and the optimization hasn't converged yet.\n",
            "  ConvergenceWarning,\n",
            "/usr/local/lib/python3.7/dist-packages/sklearn/neural_network/_multilayer_perceptron.py:696: ConvergenceWarning: Stochastic Optimizer: Maximum iterations (200) reached and the optimization hasn't converged yet.\n",
            "  ConvergenceWarning,\n"
          ]
        },
        {
          "output_type": "stream",
          "name": "stdout",
          "text": [
            "16\n"
          ]
        },
        {
          "output_type": "stream",
          "name": "stderr",
          "text": [
            "/usr/local/lib/python3.7/dist-packages/sklearn/neural_network/_multilayer_perceptron.py:696: ConvergenceWarning: Stochastic Optimizer: Maximum iterations (200) reached and the optimization hasn't converged yet.\n",
            "  ConvergenceWarning,\n",
            "/usr/local/lib/python3.7/dist-packages/sklearn/neural_network/_multilayer_perceptron.py:696: ConvergenceWarning: Stochastic Optimizer: Maximum iterations (200) reached and the optimization hasn't converged yet.\n",
            "  ConvergenceWarning,\n",
            "/usr/local/lib/python3.7/dist-packages/sklearn/neural_network/_multilayer_perceptron.py:696: ConvergenceWarning: Stochastic Optimizer: Maximum iterations (200) reached and the optimization hasn't converged yet.\n",
            "  ConvergenceWarning,\n",
            "/usr/local/lib/python3.7/dist-packages/sklearn/neural_network/_multilayer_perceptron.py:696: ConvergenceWarning: Stochastic Optimizer: Maximum iterations (200) reached and the optimization hasn't converged yet.\n",
            "  ConvergenceWarning,\n",
            "/usr/local/lib/python3.7/dist-packages/sklearn/neural_network/_multilayer_perceptron.py:696: ConvergenceWarning: Stochastic Optimizer: Maximum iterations (200) reached and the optimization hasn't converged yet.\n",
            "  ConvergenceWarning,\n",
            "/usr/local/lib/python3.7/dist-packages/sklearn/neural_network/_multilayer_perceptron.py:696: ConvergenceWarning: Stochastic Optimizer: Maximum iterations (200) reached and the optimization hasn't converged yet.\n",
            "  ConvergenceWarning,\n",
            "/usr/local/lib/python3.7/dist-packages/sklearn/neural_network/_multilayer_perceptron.py:696: ConvergenceWarning: Stochastic Optimizer: Maximum iterations (200) reached and the optimization hasn't converged yet.\n",
            "  ConvergenceWarning,\n",
            "/usr/local/lib/python3.7/dist-packages/sklearn/neural_network/_multilayer_perceptron.py:696: ConvergenceWarning: Stochastic Optimizer: Maximum iterations (200) reached and the optimization hasn't converged yet.\n",
            "  ConvergenceWarning,\n",
            "/usr/local/lib/python3.7/dist-packages/sklearn/neural_network/_multilayer_perceptron.py:696: ConvergenceWarning: Stochastic Optimizer: Maximum iterations (200) reached and the optimization hasn't converged yet.\n",
            "  ConvergenceWarning,\n",
            "/usr/local/lib/python3.7/dist-packages/sklearn/neural_network/_multilayer_perceptron.py:696: ConvergenceWarning: Stochastic Optimizer: Maximum iterations (200) reached and the optimization hasn't converged yet.\n",
            "  ConvergenceWarning,\n"
          ]
        },
        {
          "output_type": "stream",
          "name": "stdout",
          "text": [
            "17\n"
          ]
        },
        {
          "output_type": "stream",
          "name": "stderr",
          "text": [
            "/usr/local/lib/python3.7/dist-packages/sklearn/neural_network/_multilayer_perceptron.py:696: ConvergenceWarning: Stochastic Optimizer: Maximum iterations (200) reached and the optimization hasn't converged yet.\n",
            "  ConvergenceWarning,\n",
            "/usr/local/lib/python3.7/dist-packages/sklearn/neural_network/_multilayer_perceptron.py:696: ConvergenceWarning: Stochastic Optimizer: Maximum iterations (200) reached and the optimization hasn't converged yet.\n",
            "  ConvergenceWarning,\n",
            "/usr/local/lib/python3.7/dist-packages/sklearn/neural_network/_multilayer_perceptron.py:696: ConvergenceWarning: Stochastic Optimizer: Maximum iterations (200) reached and the optimization hasn't converged yet.\n",
            "  ConvergenceWarning,\n",
            "/usr/local/lib/python3.7/dist-packages/sklearn/neural_network/_multilayer_perceptron.py:696: ConvergenceWarning: Stochastic Optimizer: Maximum iterations (200) reached and the optimization hasn't converged yet.\n",
            "  ConvergenceWarning,\n",
            "/usr/local/lib/python3.7/dist-packages/sklearn/neural_network/_multilayer_perceptron.py:696: ConvergenceWarning: Stochastic Optimizer: Maximum iterations (200) reached and the optimization hasn't converged yet.\n",
            "  ConvergenceWarning,\n",
            "/usr/local/lib/python3.7/dist-packages/sklearn/neural_network/_multilayer_perceptron.py:696: ConvergenceWarning: Stochastic Optimizer: Maximum iterations (200) reached and the optimization hasn't converged yet.\n",
            "  ConvergenceWarning,\n",
            "/usr/local/lib/python3.7/dist-packages/sklearn/neural_network/_multilayer_perceptron.py:696: ConvergenceWarning: Stochastic Optimizer: Maximum iterations (200) reached and the optimization hasn't converged yet.\n",
            "  ConvergenceWarning,\n",
            "/usr/local/lib/python3.7/dist-packages/sklearn/neural_network/_multilayer_perceptron.py:696: ConvergenceWarning: Stochastic Optimizer: Maximum iterations (200) reached and the optimization hasn't converged yet.\n",
            "  ConvergenceWarning,\n",
            "/usr/local/lib/python3.7/dist-packages/sklearn/neural_network/_multilayer_perceptron.py:696: ConvergenceWarning: Stochastic Optimizer: Maximum iterations (200) reached and the optimization hasn't converged yet.\n",
            "  ConvergenceWarning,\n",
            "/usr/local/lib/python3.7/dist-packages/sklearn/neural_network/_multilayer_perceptron.py:696: ConvergenceWarning: Stochastic Optimizer: Maximum iterations (200) reached and the optimization hasn't converged yet.\n",
            "  ConvergenceWarning,\n"
          ]
        },
        {
          "output_type": "stream",
          "name": "stdout",
          "text": [
            "18\n"
          ]
        },
        {
          "output_type": "stream",
          "name": "stderr",
          "text": [
            "/usr/local/lib/python3.7/dist-packages/sklearn/neural_network/_multilayer_perceptron.py:696: ConvergenceWarning: Stochastic Optimizer: Maximum iterations (200) reached and the optimization hasn't converged yet.\n",
            "  ConvergenceWarning,\n",
            "/usr/local/lib/python3.7/dist-packages/sklearn/neural_network/_multilayer_perceptron.py:696: ConvergenceWarning: Stochastic Optimizer: Maximum iterations (200) reached and the optimization hasn't converged yet.\n",
            "  ConvergenceWarning,\n",
            "/usr/local/lib/python3.7/dist-packages/sklearn/neural_network/_multilayer_perceptron.py:696: ConvergenceWarning: Stochastic Optimizer: Maximum iterations (200) reached and the optimization hasn't converged yet.\n",
            "  ConvergenceWarning,\n",
            "/usr/local/lib/python3.7/dist-packages/sklearn/neural_network/_multilayer_perceptron.py:696: ConvergenceWarning: Stochastic Optimizer: Maximum iterations (200) reached and the optimization hasn't converged yet.\n",
            "  ConvergenceWarning,\n",
            "/usr/local/lib/python3.7/dist-packages/sklearn/neural_network/_multilayer_perceptron.py:696: ConvergenceWarning: Stochastic Optimizer: Maximum iterations (200) reached and the optimization hasn't converged yet.\n",
            "  ConvergenceWarning,\n",
            "/usr/local/lib/python3.7/dist-packages/sklearn/neural_network/_multilayer_perceptron.py:696: ConvergenceWarning: Stochastic Optimizer: Maximum iterations (200) reached and the optimization hasn't converged yet.\n",
            "  ConvergenceWarning,\n",
            "/usr/local/lib/python3.7/dist-packages/sklearn/neural_network/_multilayer_perceptron.py:696: ConvergenceWarning: Stochastic Optimizer: Maximum iterations (200) reached and the optimization hasn't converged yet.\n",
            "  ConvergenceWarning,\n",
            "/usr/local/lib/python3.7/dist-packages/sklearn/neural_network/_multilayer_perceptron.py:696: ConvergenceWarning: Stochastic Optimizer: Maximum iterations (200) reached and the optimization hasn't converged yet.\n",
            "  ConvergenceWarning,\n",
            "/usr/local/lib/python3.7/dist-packages/sklearn/neural_network/_multilayer_perceptron.py:696: ConvergenceWarning: Stochastic Optimizer: Maximum iterations (200) reached and the optimization hasn't converged yet.\n",
            "  ConvergenceWarning,\n",
            "/usr/local/lib/python3.7/dist-packages/sklearn/neural_network/_multilayer_perceptron.py:696: ConvergenceWarning: Stochastic Optimizer: Maximum iterations (200) reached and the optimization hasn't converged yet.\n",
            "  ConvergenceWarning,\n"
          ]
        },
        {
          "output_type": "stream",
          "name": "stdout",
          "text": [
            "19\n"
          ]
        },
        {
          "output_type": "stream",
          "name": "stderr",
          "text": [
            "/usr/local/lib/python3.7/dist-packages/sklearn/neural_network/_multilayer_perceptron.py:696: ConvergenceWarning: Stochastic Optimizer: Maximum iterations (200) reached and the optimization hasn't converged yet.\n",
            "  ConvergenceWarning,\n",
            "/usr/local/lib/python3.7/dist-packages/sklearn/neural_network/_multilayer_perceptron.py:696: ConvergenceWarning: Stochastic Optimizer: Maximum iterations (200) reached and the optimization hasn't converged yet.\n",
            "  ConvergenceWarning,\n",
            "/usr/local/lib/python3.7/dist-packages/sklearn/neural_network/_multilayer_perceptron.py:696: ConvergenceWarning: Stochastic Optimizer: Maximum iterations (200) reached and the optimization hasn't converged yet.\n",
            "  ConvergenceWarning,\n",
            "/usr/local/lib/python3.7/dist-packages/sklearn/neural_network/_multilayer_perceptron.py:696: ConvergenceWarning: Stochastic Optimizer: Maximum iterations (200) reached and the optimization hasn't converged yet.\n",
            "  ConvergenceWarning,\n",
            "/usr/local/lib/python3.7/dist-packages/sklearn/neural_network/_multilayer_perceptron.py:696: ConvergenceWarning: Stochastic Optimizer: Maximum iterations (200) reached and the optimization hasn't converged yet.\n",
            "  ConvergenceWarning,\n",
            "/usr/local/lib/python3.7/dist-packages/sklearn/neural_network/_multilayer_perceptron.py:696: ConvergenceWarning: Stochastic Optimizer: Maximum iterations (200) reached and the optimization hasn't converged yet.\n",
            "  ConvergenceWarning,\n",
            "/usr/local/lib/python3.7/dist-packages/sklearn/neural_network/_multilayer_perceptron.py:696: ConvergenceWarning: Stochastic Optimizer: Maximum iterations (200) reached and the optimization hasn't converged yet.\n",
            "  ConvergenceWarning,\n",
            "/usr/local/lib/python3.7/dist-packages/sklearn/neural_network/_multilayer_perceptron.py:696: ConvergenceWarning: Stochastic Optimizer: Maximum iterations (200) reached and the optimization hasn't converged yet.\n",
            "  ConvergenceWarning,\n",
            "/usr/local/lib/python3.7/dist-packages/sklearn/neural_network/_multilayer_perceptron.py:696: ConvergenceWarning: Stochastic Optimizer: Maximum iterations (200) reached and the optimization hasn't converged yet.\n",
            "  ConvergenceWarning,\n",
            "/usr/local/lib/python3.7/dist-packages/sklearn/neural_network/_multilayer_perceptron.py:696: ConvergenceWarning: Stochastic Optimizer: Maximum iterations (200) reached and the optimization hasn't converged yet.\n",
            "  ConvergenceWarning,\n"
          ]
        }
      ]
    },
    {
      "cell_type": "code",
      "source": [
        "resultados = pd.DataFrame({'Random forest': resultados_random_forest,'RN':resultados_rede_neural})"
      ],
      "metadata": {
        "id": "GwVS-0iFwGW6"
      },
      "execution_count": 187,
      "outputs": []
    },
    {
      "cell_type": "code",
      "source": [
        "resultados.describe()"
      ],
      "metadata": {
        "colab": {
          "base_uri": "https://localhost:8080/",
          "height": 300
        },
        "id": "FUJREz9exvAf",
        "outputId": "7360073c-17a4-49ba-ca33-3dbc4b0d5573"
      },
      "execution_count": 188,
      "outputs": [
        {
          "output_type": "execute_result",
          "data": {
            "text/plain": [
              "       Random forest         RN\n",
              "count      20.000000  20.000000\n",
              "mean        0.939021   0.948619\n",
              "std         0.006099   0.003103\n",
              "min         0.921859   0.943980\n",
              "25%         0.937127   0.945646\n",
              "50%         0.938866   0.949021\n",
              "75%         0.943936   0.950738\n",
              "max         0.947428   0.954179"
            ],
            "text/html": [
              "\n",
              "  <div id=\"df-9364af72-1cd6-4f00-9bd9-b029e0e62424\">\n",
              "    <div class=\"colab-df-container\">\n",
              "      <div>\n",
              "<style scoped>\n",
              "    .dataframe tbody tr th:only-of-type {\n",
              "        vertical-align: middle;\n",
              "    }\n",
              "\n",
              "    .dataframe tbody tr th {\n",
              "        vertical-align: top;\n",
              "    }\n",
              "\n",
              "    .dataframe thead th {\n",
              "        text-align: right;\n",
              "    }\n",
              "</style>\n",
              "<table border=\"1\" class=\"dataframe\">\n",
              "  <thead>\n",
              "    <tr style=\"text-align: right;\">\n",
              "      <th></th>\n",
              "      <th>Random forest</th>\n",
              "      <th>RN</th>\n",
              "    </tr>\n",
              "  </thead>\n",
              "  <tbody>\n",
              "    <tr>\n",
              "      <th>count</th>\n",
              "      <td>20.000000</td>\n",
              "      <td>20.000000</td>\n",
              "    </tr>\n",
              "    <tr>\n",
              "      <th>mean</th>\n",
              "      <td>0.939021</td>\n",
              "      <td>0.948619</td>\n",
              "    </tr>\n",
              "    <tr>\n",
              "      <th>std</th>\n",
              "      <td>0.006099</td>\n",
              "      <td>0.003103</td>\n",
              "    </tr>\n",
              "    <tr>\n",
              "      <th>min</th>\n",
              "      <td>0.921859</td>\n",
              "      <td>0.943980</td>\n",
              "    </tr>\n",
              "    <tr>\n",
              "      <th>25%</th>\n",
              "      <td>0.937127</td>\n",
              "      <td>0.945646</td>\n",
              "    </tr>\n",
              "    <tr>\n",
              "      <th>50%</th>\n",
              "      <td>0.938866</td>\n",
              "      <td>0.949021</td>\n",
              "    </tr>\n",
              "    <tr>\n",
              "      <th>75%</th>\n",
              "      <td>0.943936</td>\n",
              "      <td>0.950738</td>\n",
              "    </tr>\n",
              "    <tr>\n",
              "      <th>max</th>\n",
              "      <td>0.947428</td>\n",
              "      <td>0.954179</td>\n",
              "    </tr>\n",
              "  </tbody>\n",
              "</table>\n",
              "</div>\n",
              "      <button class=\"colab-df-convert\" onclick=\"convertToInteractive('df-9364af72-1cd6-4f00-9bd9-b029e0e62424')\"\n",
              "              title=\"Convert this dataframe to an interactive table.\"\n",
              "              style=\"display:none;\">\n",
              "        \n",
              "  <svg xmlns=\"http://www.w3.org/2000/svg\" height=\"24px\"viewBox=\"0 0 24 24\"\n",
              "       width=\"24px\">\n",
              "    <path d=\"M0 0h24v24H0V0z\" fill=\"none\"/>\n",
              "    <path d=\"M18.56 5.44l.94 2.06.94-2.06 2.06-.94-2.06-.94-.94-2.06-.94 2.06-2.06.94zm-11 1L8.5 8.5l.94-2.06 2.06-.94-2.06-.94L8.5 2.5l-.94 2.06-2.06.94zm10 10l.94 2.06.94-2.06 2.06-.94-2.06-.94-.94-2.06-.94 2.06-2.06.94z\"/><path d=\"M17.41 7.96l-1.37-1.37c-.4-.4-.92-.59-1.43-.59-.52 0-1.04.2-1.43.59L10.3 9.45l-7.72 7.72c-.78.78-.78 2.05 0 2.83L4 21.41c.39.39.9.59 1.41.59.51 0 1.02-.2 1.41-.59l7.78-7.78 2.81-2.81c.8-.78.8-2.07 0-2.86zM5.41 20L4 18.59l7.72-7.72 1.47 1.35L5.41 20z\"/>\n",
              "  </svg>\n",
              "      </button>\n",
              "      \n",
              "  <style>\n",
              "    .colab-df-container {\n",
              "      display:flex;\n",
              "      flex-wrap:wrap;\n",
              "      gap: 12px;\n",
              "    }\n",
              "\n",
              "    .colab-df-convert {\n",
              "      background-color: #E8F0FE;\n",
              "      border: none;\n",
              "      border-radius: 50%;\n",
              "      cursor: pointer;\n",
              "      display: none;\n",
              "      fill: #1967D2;\n",
              "      height: 32px;\n",
              "      padding: 0 0 0 0;\n",
              "      width: 32px;\n",
              "    }\n",
              "\n",
              "    .colab-df-convert:hover {\n",
              "      background-color: #E2EBFA;\n",
              "      box-shadow: 0px 1px 2px rgba(60, 64, 67, 0.3), 0px 1px 3px 1px rgba(60, 64, 67, 0.15);\n",
              "      fill: #174EA6;\n",
              "    }\n",
              "\n",
              "    [theme=dark] .colab-df-convert {\n",
              "      background-color: #3B4455;\n",
              "      fill: #D2E3FC;\n",
              "    }\n",
              "\n",
              "    [theme=dark] .colab-df-convert:hover {\n",
              "      background-color: #434B5C;\n",
              "      box-shadow: 0px 1px 3px 1px rgba(0, 0, 0, 0.15);\n",
              "      filter: drop-shadow(0px 1px 2px rgba(0, 0, 0, 0.3));\n",
              "      fill: #FFFFFF;\n",
              "    }\n",
              "  </style>\n",
              "\n",
              "      <script>\n",
              "        const buttonEl =\n",
              "          document.querySelector('#df-9364af72-1cd6-4f00-9bd9-b029e0e62424 button.colab-df-convert');\n",
              "        buttonEl.style.display =\n",
              "          google.colab.kernel.accessAllowed ? 'block' : 'none';\n",
              "\n",
              "        async function convertToInteractive(key) {\n",
              "          const element = document.querySelector('#df-9364af72-1cd6-4f00-9bd9-b029e0e62424');\n",
              "          const dataTable =\n",
              "            await google.colab.kernel.invokeFunction('convertToInteractive',\n",
              "                                                     [key], {});\n",
              "          if (!dataTable) return;\n",
              "\n",
              "          const docLinkHtml = 'Like what you see? Visit the ' +\n",
              "            '<a target=\"_blank\" href=https://colab.research.google.com/notebooks/data_table.ipynb>data table notebook</a>'\n",
              "            + ' to learn more about interactive tables.';\n",
              "          element.innerHTML = '';\n",
              "          dataTable['output_type'] = 'display_data';\n",
              "          await google.colab.output.renderOutput(dataTable, element);\n",
              "          const docLink = document.createElement('div');\n",
              "          docLink.innerHTML = docLinkHtml;\n",
              "          element.appendChild(docLink);\n",
              "        }\n",
              "      </script>\n",
              "    </div>\n",
              "  </div>\n",
              "  "
            ]
          },
          "metadata": {},
          "execution_count": 188
        }
      ]
    },
    {
      "cell_type": "code",
      "source": [
        "(resultados.std() / resultados.mean()) * 100"
      ],
      "metadata": {
        "colab": {
          "base_uri": "https://localhost:8080/"
        },
        "id": "7M0cwXOcyIP2",
        "outputId": "9419cdd8-67e2-47ae-d260-9d6db66a89a5"
      },
      "execution_count": 189,
      "outputs": [
        {
          "output_type": "execute_result",
          "data": {
            "text/plain": [
              "Random forest    0.649485\n",
              "RN               0.327099\n",
              "dtype: float64"
            ]
          },
          "metadata": {},
          "execution_count": 189
        }
      ]
    },
    {
      "cell_type": "code",
      "source": [
        "with open('hepatite.pkl', 'rb') as f:\n",
        "  X_hepatite_treinamento, X_hepatite_teste, Y_hepatite_treinamento, Y_hepatite_teste = pickle.load(f)"
      ],
      "metadata": {
        "id": "9Li7hV23VGv4"
      },
      "execution_count": 190,
      "outputs": []
    },
    {
      "cell_type": "code",
      "source": [
        "X_hepatite.shape"
      ],
      "metadata": {
        "colab": {
          "base_uri": "https://localhost:8080/"
        },
        "id": "2xtWBQYSVaee",
        "outputId": "0113db68-8229-4fcd-d099-47a978abaae2"
      },
      "execution_count": 191,
      "outputs": [
        {
          "output_type": "execute_result",
          "data": {
            "text/plain": [
              "(589, 12)"
            ]
          },
          "metadata": {},
          "execution_count": 191
        }
      ]
    },
    {
      "cell_type": "code",
      "source": [
        "Y_hepatite.shape"
      ],
      "metadata": {
        "colab": {
          "base_uri": "https://localhost:8080/"
        },
        "id": "fgigLYo1YCv5",
        "outputId": "935cb0b3-d65b-4689-ae86-b3c49c2c86ff"
      },
      "execution_count": 192,
      "outputs": [
        {
          "output_type": "execute_result",
          "data": {
            "text/plain": [
              "(589,)"
            ]
          },
          "metadata": {},
          "execution_count": 192
        }
      ]
    },
    {
      "cell_type": "code",
      "source": [
        "from sklearn.neural_network import MLPClassifier\n",
        "from sklearn.ensemble import RandomForestClassifier\n"
      ],
      "metadata": {
        "id": "JJwmOEXKYQYz"
      },
      "execution_count": 193,
      "outputs": []
    },
    {
      "cell_type": "code",
      "source": [
        "classificador_rede_neural=MLPClassifier(activation= 'relu', batch_size= 56, solver= 'adam')\n",
        "classificador_rede_neural.fit(X_hepatite, Y_hepatite)"
      ],
      "metadata": {
        "colab": {
          "base_uri": "https://localhost:8080/"
        },
        "id": "2FXuLSqMYiJN",
        "outputId": "5418375e-b5aa-44d0-8611-ec6a90a5ee1d"
      },
      "execution_count": 194,
      "outputs": [
        {
          "output_type": "stream",
          "name": "stderr",
          "text": [
            "/usr/local/lib/python3.7/dist-packages/sklearn/neural_network/_multilayer_perceptron.py:696: ConvergenceWarning: Stochastic Optimizer: Maximum iterations (200) reached and the optimization hasn't converged yet.\n",
            "  ConvergenceWarning,\n"
          ]
        },
        {
          "output_type": "execute_result",
          "data": {
            "text/plain": [
              "MLPClassifier(batch_size=56)"
            ]
          },
          "metadata": {},
          "execution_count": 194
        }
      ]
    },
    {
      "cell_type": "code",
      "source": [
        " classificador_random_forest = RandomForestClassifier(criterion= 'gini', min_samples_leaf= 1, min_samples_split= 2, n_estimators= 10)\n",
        " classificador_random_forest.fit(X_hepatite, Y_hepatite)"
      ],
      "metadata": {
        "colab": {
          "base_uri": "https://localhost:8080/"
        },
        "id": "PO9KkuhPY8u7",
        "outputId": "53870ca2-ba1e-463c-c1be-cf683a334c5d"
      },
      "execution_count": 195,
      "outputs": [
        {
          "output_type": "execute_result",
          "data": {
            "text/plain": [
              "RandomForestClassifier(n_estimators=10)"
            ]
          },
          "metadata": {},
          "execution_count": 195
        }
      ]
    },
    {
      "cell_type": "markdown",
      "source": [
        "## **Save the data**"
      ],
      "metadata": {
        "id": "RY2LY4ZfPeo8"
      }
    },
    {
      "cell_type": "code",
      "source": [
        "import pickle\n"
      ],
      "metadata": {
        "id": "t4NGor3pZO6Q"
      },
      "execution_count": 196,
      "outputs": []
    },
    {
      "cell_type": "code",
      "source": [
        "pickle.dump(random_forest, open('random_forest_final.sav', 'wb'))\n"
      ],
      "metadata": {
        "id": "O4aws5tYZub8"
      },
      "execution_count": 197,
      "outputs": []
    },
    {
      "cell_type": "code",
      "source": [
        "pickle.dump(rede_neural, open('rede_neural_final.sav', 'wb'))"
      ],
      "metadata": {
        "id": "VRixqLcKZwm2"
      },
      "execution_count": 198,
      "outputs": []
    }
  ]
}