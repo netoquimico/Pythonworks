{
  "nbformat": 4,
  "nbformat_minor": 0,
  "metadata": {
    "colab": {
      "provenance": [],
      "authorship_tag": "ABX9TyO5H1jOY6L/M+jx0EwS4bYw",
      "include_colab_link": true
    },
    "kernelspec": {
      "name": "python3",
      "display_name": "Python 3"
    },
    "language_info": {
      "name": "python"
    }
  },
  "cells": [
    {
      "cell_type": "markdown",
      "metadata": {
        "id": "view-in-github",
        "colab_type": "text"
      },
      "source": [
        "<a href=\"https://colab.research.google.com/github/netoquimico/Pythonworks/blob/main/Monte%20Carlo%20random%20numbers.ipynb\" target=\"_parent\"><img src=\"https://colab.research.google.com/assets/colab-badge.svg\" alt=\"Open In Colab\"/></a>"
      ]
    },
    {
      "cell_type": "code",
      "execution_count": null,
      "metadata": {
        "colab": {
          "base_uri": "https://localhost:8080/"
        },
        "id": "5HHwTZI8pOPy",
        "outputId": "21771b1e-8c77-4f2a-9659-18f3fa3e98f2"
      },
      "outputs": [
        {
          "output_type": "stream",
          "name": "stdout",
          "text": [
            "Number 8 was drawn 6117 times\n",
            "Number 12 was drawn 6094 times\n",
            "Number 1 was drawn 6075 times\n",
            "Number 22 was drawn 6047 times\n",
            "Number 2 was drawn 6036 times\n",
            "Number 13 was drawn 6035 times\n",
            "Number 10 was drawn 6028 times\n",
            "Number 21 was drawn 6028 times\n",
            "Number 16 was drawn 6019 times\n",
            "Number 24 was drawn 6008 times\n",
            "Number 6 was drawn 6007 times\n",
            "Number 9 was drawn 6000 times\n",
            "Number 7 was drawn 5999 times\n",
            "Number 3 was drawn 5998 times\n",
            "Number 19 was drawn 5998 times\n"
          ]
        }
      ],
      "source": [
        "import random\n",
        "\n",
        "# Number of simulations to run\n",
        "n_simulations = 10000\n",
        "\n",
        "# Number of draws in each simulation\n",
        "n_draws = 15\n",
        "\n",
        "# Range of possible numbers\n",
        "numbers = range(1, 26)\n",
        "\n",
        "# Keep track of the number of times each number is drawn\n",
        "counts = {number: 0 for number in numbers}\n",
        "\n",
        "for _ in range(n_simulations):\n",
        "    # Perform a single simulation\n",
        "    draw = random.sample(numbers, n_draws)\n",
        "    for number in draw:\n",
        "        counts[number] += 1\n",
        "\n",
        "# Sort the counts in descending order\n",
        "sorted_counts = sorted(counts.items(), key=lambda x: x[1], reverse=True)\n",
        "\n",
        "# Print the most likely numbers\n",
        "for number, count in sorted_counts[:15]:\n",
        "    print(f\"Number {number} was drawn {count} times\")\n"
      ]
    }
  ]
}