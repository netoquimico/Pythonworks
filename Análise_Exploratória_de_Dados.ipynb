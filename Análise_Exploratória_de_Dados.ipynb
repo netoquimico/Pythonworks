{
  "nbformat": 4,
  "nbformat_minor": 0,
  "metadata": {
    "colab": {
      "provenance": [],
      "authorship_tag": "ABX9TyMtMrrKsfA4y2bWnjw6hQQk",
      "include_colab_link": true
    },
    "kernelspec": {
      "name": "python3",
      "display_name": "Python 3"
    },
    "language_info": {
      "name": "python"
    }
  },
  "cells": [
    {
      "cell_type": "markdown",
      "metadata": {
        "id": "view-in-github",
        "colab_type": "text"
      },
      "source": [
        "<a href=\"https://colab.research.google.com/github/netoquimico/Pythonworks/blob/main/An%C3%A1lise_Explorat%C3%B3ria_de_Dados.ipynb\" target=\"_parent\"><img src=\"https://colab.research.google.com/assets/colab-badge.svg\" alt=\"Open In Colab\"/></a>"
      ]
    },
    {
      "cell_type": "code",
      "execution_count": 27,
      "metadata": {
        "id": "sgyyxbbHNRKU"
      },
      "outputs": [],
      "source": [
        "import pandas as pd\n",
        "import datetime as dt\n",
        "import seaborn as sns"
      ]
    },
    {
      "cell_type": "code",
      "source": [
        "Base=pd.read_csv('/content/netflix daily top 10.csv')"
      ],
      "metadata": {
        "id": "gRwKtu0BN_2B"
      },
      "execution_count": 2,
      "outputs": []
    },
    {
      "cell_type": "markdown",
      "source": [
        "**Base de Dados**"
      ],
      "metadata": {
        "id": "snEWqlfHOZKO"
      }
    },
    {
      "cell_type": "code",
      "source": [
        "Base"
      ],
      "metadata": {
        "colab": {
          "base_uri": "https://localhost:8080/",
          "height": 721
        },
        "id": "kY82Lh-GOYrC",
        "outputId": "0663ecf6-474a-4e89-974c-517a49a38751"
      },
      "execution_count": 3,
      "outputs": [
        {
          "output_type": "execute_result",
          "data": {
            "text/plain": [
              "           As of  Rank Year to Date Rank Last Week Rank  \\\n",
              "0     2020-04-01     1                 1              1   \n",
              "1     2020-04-01     2                 2              -   \n",
              "2     2020-04-01     3                 3              2   \n",
              "3     2020-04-01     4                 4              -   \n",
              "4     2020-04-01     5                 5              4   \n",
              "...          ...   ...               ...            ...   \n",
              "7095  2022-03-11     6                 5              1   \n",
              "7096  2022-03-11     7                 7              2   \n",
              "7097  2022-03-11     8                 8              -   \n",
              "7098  2022-03-11     9                 9              7   \n",
              "7099  2022-03-11    10                10              -   \n",
              "\n",
              "                             Title     Type Netflix Exclusive  \\\n",
              "0     Tiger King: Murder, Mayhem …  TV Show               Yes   \n",
              "1                            Ozark  TV Show               Yes   \n",
              "2                     All American  TV Show               NaN   \n",
              "3                     Blood Father    Movie               NaN   \n",
              "4                     The Platform    Movie               Yes   \n",
              "...                            ...      ...               ...   \n",
              "7095           Worst Roommate Ever  TV Show               Yes   \n",
              "7096             Vikings: Valhalla  TV Show               Yes   \n",
              "7097                       Shooter    Movie               NaN   \n",
              "7098                       Shrek 2    Movie               NaN   \n",
              "7099                         Shrek    Movie               NaN   \n",
              "\n",
              "     Netflix Release Date  Days In Top 10  Viewership Score  \n",
              "0            Mar 20, 2020               9                90  \n",
              "1            Jul 21, 2017               5                45  \n",
              "2            Mar 28, 2019               9                76  \n",
              "3            Mar 26, 2020               5                30  \n",
              "4            Mar 20, 2020               9                55  \n",
              "...                   ...             ...               ...  \n",
              "7095          Mar 1, 2022              10                81  \n",
              "7096         Feb 25, 2022              14               100  \n",
              "7097          Aug 1, 2014               3                 7  \n",
              "7098          Mar 1, 2022              10                33  \n",
              "7099          May 1, 2018               7                12  \n",
              "\n",
              "[7100 rows x 10 columns]"
            ],
            "text/html": [
              "\n",
              "  <div id=\"df-045f9e46-1b27-443c-aef5-df1fea3cd30e\" class=\"colab-df-container\">\n",
              "    <div>\n",
              "<style scoped>\n",
              "    .dataframe tbody tr th:only-of-type {\n",
              "        vertical-align: middle;\n",
              "    }\n",
              "\n",
              "    .dataframe tbody tr th {\n",
              "        vertical-align: top;\n",
              "    }\n",
              "\n",
              "    .dataframe thead th {\n",
              "        text-align: right;\n",
              "    }\n",
              "</style>\n",
              "<table border=\"1\" class=\"dataframe\">\n",
              "  <thead>\n",
              "    <tr style=\"text-align: right;\">\n",
              "      <th></th>\n",
              "      <th>As of</th>\n",
              "      <th>Rank</th>\n",
              "      <th>Year to Date Rank</th>\n",
              "      <th>Last Week Rank</th>\n",
              "      <th>Title</th>\n",
              "      <th>Type</th>\n",
              "      <th>Netflix Exclusive</th>\n",
              "      <th>Netflix Release Date</th>\n",
              "      <th>Days In Top 10</th>\n",
              "      <th>Viewership Score</th>\n",
              "    </tr>\n",
              "  </thead>\n",
              "  <tbody>\n",
              "    <tr>\n",
              "      <th>0</th>\n",
              "      <td>2020-04-01</td>\n",
              "      <td>1</td>\n",
              "      <td>1</td>\n",
              "      <td>1</td>\n",
              "      <td>Tiger King: Murder, Mayhem …</td>\n",
              "      <td>TV Show</td>\n",
              "      <td>Yes</td>\n",
              "      <td>Mar 20, 2020</td>\n",
              "      <td>9</td>\n",
              "      <td>90</td>\n",
              "    </tr>\n",
              "    <tr>\n",
              "      <th>1</th>\n",
              "      <td>2020-04-01</td>\n",
              "      <td>2</td>\n",
              "      <td>2</td>\n",
              "      <td>-</td>\n",
              "      <td>Ozark</td>\n",
              "      <td>TV Show</td>\n",
              "      <td>Yes</td>\n",
              "      <td>Jul 21, 2017</td>\n",
              "      <td>5</td>\n",
              "      <td>45</td>\n",
              "    </tr>\n",
              "    <tr>\n",
              "      <th>2</th>\n",
              "      <td>2020-04-01</td>\n",
              "      <td>3</td>\n",
              "      <td>3</td>\n",
              "      <td>2</td>\n",
              "      <td>All American</td>\n",
              "      <td>TV Show</td>\n",
              "      <td>NaN</td>\n",
              "      <td>Mar 28, 2019</td>\n",
              "      <td>9</td>\n",
              "      <td>76</td>\n",
              "    </tr>\n",
              "    <tr>\n",
              "      <th>3</th>\n",
              "      <td>2020-04-01</td>\n",
              "      <td>4</td>\n",
              "      <td>4</td>\n",
              "      <td>-</td>\n",
              "      <td>Blood Father</td>\n",
              "      <td>Movie</td>\n",
              "      <td>NaN</td>\n",
              "      <td>Mar 26, 2020</td>\n",
              "      <td>5</td>\n",
              "      <td>30</td>\n",
              "    </tr>\n",
              "    <tr>\n",
              "      <th>4</th>\n",
              "      <td>2020-04-01</td>\n",
              "      <td>5</td>\n",
              "      <td>5</td>\n",
              "      <td>4</td>\n",
              "      <td>The Platform</td>\n",
              "      <td>Movie</td>\n",
              "      <td>Yes</td>\n",
              "      <td>Mar 20, 2020</td>\n",
              "      <td>9</td>\n",
              "      <td>55</td>\n",
              "    </tr>\n",
              "    <tr>\n",
              "      <th>...</th>\n",
              "      <td>...</td>\n",
              "      <td>...</td>\n",
              "      <td>...</td>\n",
              "      <td>...</td>\n",
              "      <td>...</td>\n",
              "      <td>...</td>\n",
              "      <td>...</td>\n",
              "      <td>...</td>\n",
              "      <td>...</td>\n",
              "      <td>...</td>\n",
              "    </tr>\n",
              "    <tr>\n",
              "      <th>7095</th>\n",
              "      <td>2022-03-11</td>\n",
              "      <td>6</td>\n",
              "      <td>5</td>\n",
              "      <td>1</td>\n",
              "      <td>Worst Roommate Ever</td>\n",
              "      <td>TV Show</td>\n",
              "      <td>Yes</td>\n",
              "      <td>Mar 1, 2022</td>\n",
              "      <td>10</td>\n",
              "      <td>81</td>\n",
              "    </tr>\n",
              "    <tr>\n",
              "      <th>7096</th>\n",
              "      <td>2022-03-11</td>\n",
              "      <td>7</td>\n",
              "      <td>7</td>\n",
              "      <td>2</td>\n",
              "      <td>Vikings: Valhalla</td>\n",
              "      <td>TV Show</td>\n",
              "      <td>Yes</td>\n",
              "      <td>Feb 25, 2022</td>\n",
              "      <td>14</td>\n",
              "      <td>100</td>\n",
              "    </tr>\n",
              "    <tr>\n",
              "      <th>7097</th>\n",
              "      <td>2022-03-11</td>\n",
              "      <td>8</td>\n",
              "      <td>8</td>\n",
              "      <td>-</td>\n",
              "      <td>Shooter</td>\n",
              "      <td>Movie</td>\n",
              "      <td>NaN</td>\n",
              "      <td>Aug 1, 2014</td>\n",
              "      <td>3</td>\n",
              "      <td>7</td>\n",
              "    </tr>\n",
              "    <tr>\n",
              "      <th>7098</th>\n",
              "      <td>2022-03-11</td>\n",
              "      <td>9</td>\n",
              "      <td>9</td>\n",
              "      <td>7</td>\n",
              "      <td>Shrek 2</td>\n",
              "      <td>Movie</td>\n",
              "      <td>NaN</td>\n",
              "      <td>Mar 1, 2022</td>\n",
              "      <td>10</td>\n",
              "      <td>33</td>\n",
              "    </tr>\n",
              "    <tr>\n",
              "      <th>7099</th>\n",
              "      <td>2022-03-11</td>\n",
              "      <td>10</td>\n",
              "      <td>10</td>\n",
              "      <td>-</td>\n",
              "      <td>Shrek</td>\n",
              "      <td>Movie</td>\n",
              "      <td>NaN</td>\n",
              "      <td>May 1, 2018</td>\n",
              "      <td>7</td>\n",
              "      <td>12</td>\n",
              "    </tr>\n",
              "  </tbody>\n",
              "</table>\n",
              "<p>7100 rows × 10 columns</p>\n",
              "</div>\n",
              "    <div class=\"colab-df-buttons\">\n",
              "\n",
              "  <div class=\"colab-df-container\">\n",
              "    <button class=\"colab-df-convert\" onclick=\"convertToInteractive('df-045f9e46-1b27-443c-aef5-df1fea3cd30e')\"\n",
              "            title=\"Convert this dataframe to an interactive table.\"\n",
              "            style=\"display:none;\">\n",
              "\n",
              "  <svg xmlns=\"http://www.w3.org/2000/svg\" height=\"24px\" viewBox=\"0 -960 960 960\">\n",
              "    <path d=\"M120-120v-720h720v720H120Zm60-500h600v-160H180v160Zm220 220h160v-160H400v160Zm0 220h160v-160H400v160ZM180-400h160v-160H180v160Zm440 0h160v-160H620v160ZM180-180h160v-160H180v160Zm440 0h160v-160H620v160Z\"/>\n",
              "  </svg>\n",
              "    </button>\n",
              "\n",
              "  <style>\n",
              "    .colab-df-container {\n",
              "      display:flex;\n",
              "      gap: 12px;\n",
              "    }\n",
              "\n",
              "    .colab-df-convert {\n",
              "      background-color: #E8F0FE;\n",
              "      border: none;\n",
              "      border-radius: 50%;\n",
              "      cursor: pointer;\n",
              "      display: none;\n",
              "      fill: #1967D2;\n",
              "      height: 32px;\n",
              "      padding: 0 0 0 0;\n",
              "      width: 32px;\n",
              "    }\n",
              "\n",
              "    .colab-df-convert:hover {\n",
              "      background-color: #E2EBFA;\n",
              "      box-shadow: 0px 1px 2px rgba(60, 64, 67, 0.3), 0px 1px 3px 1px rgba(60, 64, 67, 0.15);\n",
              "      fill: #174EA6;\n",
              "    }\n",
              "\n",
              "    .colab-df-buttons div {\n",
              "      margin-bottom: 4px;\n",
              "    }\n",
              "\n",
              "    [theme=dark] .colab-df-convert {\n",
              "      background-color: #3B4455;\n",
              "      fill: #D2E3FC;\n",
              "    }\n",
              "\n",
              "    [theme=dark] .colab-df-convert:hover {\n",
              "      background-color: #434B5C;\n",
              "      box-shadow: 0px 1px 3px 1px rgba(0, 0, 0, 0.15);\n",
              "      filter: drop-shadow(0px 1px 2px rgba(0, 0, 0, 0.3));\n",
              "      fill: #FFFFFF;\n",
              "    }\n",
              "  </style>\n",
              "\n",
              "    <script>\n",
              "      const buttonEl =\n",
              "        document.querySelector('#df-045f9e46-1b27-443c-aef5-df1fea3cd30e button.colab-df-convert');\n",
              "      buttonEl.style.display =\n",
              "        google.colab.kernel.accessAllowed ? 'block' : 'none';\n",
              "\n",
              "      async function convertToInteractive(key) {\n",
              "        const element = document.querySelector('#df-045f9e46-1b27-443c-aef5-df1fea3cd30e');\n",
              "        const dataTable =\n",
              "          await google.colab.kernel.invokeFunction('convertToInteractive',\n",
              "                                                    [key], {});\n",
              "        if (!dataTable) return;\n",
              "\n",
              "        const docLinkHtml = 'Like what you see? Visit the ' +\n",
              "          '<a target=\"_blank\" href=https://colab.research.google.com/notebooks/data_table.ipynb>data table notebook</a>'\n",
              "          + ' to learn more about interactive tables.';\n",
              "        element.innerHTML = '';\n",
              "        dataTable['output_type'] = 'display_data';\n",
              "        await google.colab.output.renderOutput(dataTable, element);\n",
              "        const docLink = document.createElement('div');\n",
              "        docLink.innerHTML = docLinkHtml;\n",
              "        element.appendChild(docLink);\n",
              "      }\n",
              "    </script>\n",
              "  </div>\n",
              "\n",
              "\n",
              "<div id=\"df-c7112bc1-b402-46a0-924f-b248e911c458\">\n",
              "  <button class=\"colab-df-quickchart\" onclick=\"quickchart('df-c7112bc1-b402-46a0-924f-b248e911c458')\"\n",
              "            title=\"Suggest charts.\"\n",
              "            style=\"display:none;\">\n",
              "\n",
              "<svg xmlns=\"http://www.w3.org/2000/svg\" height=\"24px\"viewBox=\"0 0 24 24\"\n",
              "     width=\"24px\">\n",
              "    <g>\n",
              "        <path d=\"M19 3H5c-1.1 0-2 .9-2 2v14c0 1.1.9 2 2 2h14c1.1 0 2-.9 2-2V5c0-1.1-.9-2-2-2zM9 17H7v-7h2v7zm4 0h-2V7h2v10zm4 0h-2v-4h2v4z\"/>\n",
              "    </g>\n",
              "</svg>\n",
              "  </button>\n",
              "\n",
              "<style>\n",
              "  .colab-df-quickchart {\n",
              "    background-color: #E8F0FE;\n",
              "    border: none;\n",
              "    border-radius: 50%;\n",
              "    cursor: pointer;\n",
              "    display: none;\n",
              "    fill: #1967D2;\n",
              "    height: 32px;\n",
              "    padding: 0 0 0 0;\n",
              "    width: 32px;\n",
              "  }\n",
              "\n",
              "  .colab-df-quickchart:hover {\n",
              "    background-color: #E2EBFA;\n",
              "    box-shadow: 0px 1px 2px rgba(60, 64, 67, 0.3), 0px 1px 3px 1px rgba(60, 64, 67, 0.15);\n",
              "    fill: #174EA6;\n",
              "  }\n",
              "\n",
              "  [theme=dark] .colab-df-quickchart {\n",
              "    background-color: #3B4455;\n",
              "    fill: #D2E3FC;\n",
              "  }\n",
              "\n",
              "  [theme=dark] .colab-df-quickchart:hover {\n",
              "    background-color: #434B5C;\n",
              "    box-shadow: 0px 1px 3px 1px rgba(0, 0, 0, 0.15);\n",
              "    filter: drop-shadow(0px 1px 2px rgba(0, 0, 0, 0.3));\n",
              "    fill: #FFFFFF;\n",
              "  }\n",
              "</style>\n",
              "\n",
              "  <script>\n",
              "    async function quickchart(key) {\n",
              "      const charts = await google.colab.kernel.invokeFunction(\n",
              "          'suggestCharts', [key], {});\n",
              "    }\n",
              "    (() => {\n",
              "      let quickchartButtonEl =\n",
              "        document.querySelector('#df-c7112bc1-b402-46a0-924f-b248e911c458 button');\n",
              "      quickchartButtonEl.style.display =\n",
              "        google.colab.kernel.accessAllowed ? 'block' : 'none';\n",
              "    })();\n",
              "  </script>\n",
              "</div>\n",
              "    </div>\n",
              "  </div>\n"
            ]
          },
          "metadata": {},
          "execution_count": 3
        }
      ]
    },
    {
      "cell_type": "code",
      "source": [
        "Base.dtypes"
      ],
      "metadata": {
        "colab": {
          "base_uri": "https://localhost:8080/"
        },
        "id": "-k63e0d-Pbkz",
        "outputId": "cdfb990a-69dd-483c-ed36-f5bd59666d00"
      },
      "execution_count": 4,
      "outputs": [
        {
          "output_type": "execute_result",
          "data": {
            "text/plain": [
              "As of                   object\n",
              "Rank                     int64\n",
              "Year to Date Rank       object\n",
              "Last Week Rank          object\n",
              "Title                   object\n",
              "Type                    object\n",
              "Netflix Exclusive       object\n",
              "Netflix Release Date    object\n",
              "Days In Top 10           int64\n",
              "Viewership Score         int64\n",
              "dtype: object"
            ]
          },
          "metadata": {},
          "execution_count": 4
        }
      ]
    },
    {
      "cell_type": "markdown",
      "source": [
        "Convertendo a coluna 'As of' de object para data"
      ],
      "metadata": {
        "id": "_YmAYpXsTR_z"
      }
    },
    {
      "cell_type": "code",
      "source": [
        "Base['As of'] = pd.to_datetime(Base['As of'])"
      ],
      "metadata": {
        "id": "n_effwKqTYi4"
      },
      "execution_count": 5,
      "outputs": []
    },
    {
      "cell_type": "code",
      "source": [
        "Base.dtypes"
      ],
      "metadata": {
        "colab": {
          "base_uri": "https://localhost:8080/"
        },
        "id": "xaogh9bOTlT8",
        "outputId": "ca57e7f4-846e-4920-e34d-e3f5d8505d90"
      },
      "execution_count": 6,
      "outputs": [
        {
          "output_type": "execute_result",
          "data": {
            "text/plain": [
              "As of                   datetime64[ns]\n",
              "Rank                             int64\n",
              "Year to Date Rank               object\n",
              "Last Week Rank                  object\n",
              "Title                           object\n",
              "Type                            object\n",
              "Netflix Exclusive               object\n",
              "Netflix Release Date            object\n",
              "Days In Top 10                   int64\n",
              "Viewership Score                 int64\n",
              "dtype: object"
            ]
          },
          "metadata": {},
          "execution_count": 6
        }
      ]
    },
    {
      "cell_type": "markdown",
      "source": [
        "Período de ánalise"
      ],
      "metadata": {
        "id": "R72oacmRT0D8"
      }
    },
    {
      "cell_type": "code",
      "source": [
        "inicio=pd.to_datetime(Base['As of']).dt.date.min()\n",
        "print(inicio)"
      ],
      "metadata": {
        "colab": {
          "base_uri": "https://localhost:8080/"
        },
        "id": "kJQeM6oJTpQB",
        "outputId": "6b446f1b-1f1c-439e-c5be-63cadb28457e"
      },
      "execution_count": 9,
      "outputs": [
        {
          "output_type": "stream",
          "name": "stdout",
          "text": [
            "2020-04-01\n"
          ]
        }
      ]
    },
    {
      "cell_type": "code",
      "source": [
        "final=pd.to_datetime(Base['As of']).dt.date.max()\n",
        "print(final)"
      ],
      "metadata": {
        "colab": {
          "base_uri": "https://localhost:8080/"
        },
        "id": "OR2sm66CUL15",
        "outputId": "717fb7fd-6b46-493e-a99b-6adb31de95a5"
      },
      "execution_count": 11,
      "outputs": [
        {
          "output_type": "stream",
          "name": "stdout",
          "text": [
            "2022-03-11\n"
          ]
        }
      ]
    },
    {
      "cell_type": "markdown",
      "source": [
        "Verificando valores nulos"
      ],
      "metadata": {
        "id": "k9TplRpHU83d"
      }
    },
    {
      "cell_type": "code",
      "source": [
        "Base.isnull().sum()"
      ],
      "metadata": {
        "colab": {
          "base_uri": "https://localhost:8080/"
        },
        "id": "_w_ejNjfVAKy",
        "outputId": "3c74e342-eef3-4ed9-e9dd-8e1f9ad2f10b"
      },
      "execution_count": 12,
      "outputs": [
        {
          "output_type": "execute_result",
          "data": {
            "text/plain": [
              "As of                      0\n",
              "Rank                       0\n",
              "Year to Date Rank          0\n",
              "Last Week Rank             0\n",
              "Title                      0\n",
              "Type                       0\n",
              "Netflix Exclusive       2501\n",
              "Netflix Release Date       0\n",
              "Days In Top 10             0\n",
              "Viewership Score           0\n",
              "dtype: int64"
            ]
          },
          "metadata": {},
          "execution_count": 12
        }
      ]
    },
    {
      "cell_type": "markdown",
      "source": [
        "Análise valores nulos"
      ],
      "metadata": {
        "id": "Ta8mc9aoVV06"
      }
    },
    {
      "cell_type": "code",
      "source": [
        "Base['Netflix Exclusive'].value_counts()"
      ],
      "metadata": {
        "colab": {
          "base_uri": "https://localhost:8080/"
        },
        "id": "LjoMrZ1EVa4Y",
        "outputId": "4240c025-2604-42ab-c1ac-f5e24a9cb80c"
      },
      "execution_count": 13,
      "outputs": [
        {
          "output_type": "execute_result",
          "data": {
            "text/plain": [
              "Yes    4599\n",
              "Name: Netflix Exclusive, dtype: int64"
            ]
          },
          "metadata": {},
          "execution_count": 13
        }
      ]
    },
    {
      "cell_type": "markdown",
      "source": [
        "Converter os valores NaN para Not"
      ],
      "metadata": {
        "id": "y2wYq43ZVvMw"
      }
    },
    {
      "cell_type": "code",
      "source": [
        "Base['Netflix Exclusive'] = Base['Netflix Exclusive'].fillna(\"Not\")"
      ],
      "metadata": {
        "id": "8URr7RHSWPl0"
      },
      "execution_count": 15,
      "outputs": []
    },
    {
      "cell_type": "code",
      "source": [
        "Base['Netflix Exclusive'].value_counts()"
      ],
      "metadata": {
        "colab": {
          "base_uri": "https://localhost:8080/"
        },
        "id": "erLp-i7_WtaG",
        "outputId": "bfb3b62e-36eb-4cbb-bb55-7421b9c6bf8e"
      },
      "execution_count": 16,
      "outputs": [
        {
          "output_type": "execute_result",
          "data": {
            "text/plain": [
              "Yes    4599\n",
              "Not    2501\n",
              "Name: Netflix Exclusive, dtype: int64"
            ]
          },
          "metadata": {},
          "execution_count": 16
        }
      ]
    },
    {
      "cell_type": "markdown",
      "source": [
        "**Estatística**"
      ],
      "metadata": {
        "id": "WHld9KGmW8Kq"
      }
    },
    {
      "cell_type": "code",
      "source": [
        "Base.describe()"
      ],
      "metadata": {
        "colab": {
          "base_uri": "https://localhost:8080/",
          "height": 300
        },
        "id": "s0qvU6AuXAZk",
        "outputId": "d96f3c6b-f824-4024-9604-abd8da15cb55"
      },
      "execution_count": 18,
      "outputs": [
        {
          "output_type": "execute_result",
          "data": {
            "text/plain": [
              "              Rank  Days In Top 10  Viewership Score\n",
              "count  7100.000000     7100.000000       7100.000000\n",
              "mean      5.500000       24.123662        122.790141\n",
              "std       2.872484       58.473789        213.861642\n",
              "min       1.000000        1.000000          1.000000\n",
              "25%       3.000000        3.000000         19.000000\n",
              "50%       5.500000        7.000000         50.000000\n",
              "75%       8.000000       18.000000        128.000000\n",
              "max      10.000000      428.000000       1474.000000"
            ],
            "text/html": [
              "\n",
              "  <div id=\"df-0caaac87-d307-4380-a8cc-cb2516b379d6\" class=\"colab-df-container\">\n",
              "    <div>\n",
              "<style scoped>\n",
              "    .dataframe tbody tr th:only-of-type {\n",
              "        vertical-align: middle;\n",
              "    }\n",
              "\n",
              "    .dataframe tbody tr th {\n",
              "        vertical-align: top;\n",
              "    }\n",
              "\n",
              "    .dataframe thead th {\n",
              "        text-align: right;\n",
              "    }\n",
              "</style>\n",
              "<table border=\"1\" class=\"dataframe\">\n",
              "  <thead>\n",
              "    <tr style=\"text-align: right;\">\n",
              "      <th></th>\n",
              "      <th>Rank</th>\n",
              "      <th>Days In Top 10</th>\n",
              "      <th>Viewership Score</th>\n",
              "    </tr>\n",
              "  </thead>\n",
              "  <tbody>\n",
              "    <tr>\n",
              "      <th>count</th>\n",
              "      <td>7100.000000</td>\n",
              "      <td>7100.000000</td>\n",
              "      <td>7100.000000</td>\n",
              "    </tr>\n",
              "    <tr>\n",
              "      <th>mean</th>\n",
              "      <td>5.500000</td>\n",
              "      <td>24.123662</td>\n",
              "      <td>122.790141</td>\n",
              "    </tr>\n",
              "    <tr>\n",
              "      <th>std</th>\n",
              "      <td>2.872484</td>\n",
              "      <td>58.473789</td>\n",
              "      <td>213.861642</td>\n",
              "    </tr>\n",
              "    <tr>\n",
              "      <th>min</th>\n",
              "      <td>1.000000</td>\n",
              "      <td>1.000000</td>\n",
              "      <td>1.000000</td>\n",
              "    </tr>\n",
              "    <tr>\n",
              "      <th>25%</th>\n",
              "      <td>3.000000</td>\n",
              "      <td>3.000000</td>\n",
              "      <td>19.000000</td>\n",
              "    </tr>\n",
              "    <tr>\n",
              "      <th>50%</th>\n",
              "      <td>5.500000</td>\n",
              "      <td>7.000000</td>\n",
              "      <td>50.000000</td>\n",
              "    </tr>\n",
              "    <tr>\n",
              "      <th>75%</th>\n",
              "      <td>8.000000</td>\n",
              "      <td>18.000000</td>\n",
              "      <td>128.000000</td>\n",
              "    </tr>\n",
              "    <tr>\n",
              "      <th>max</th>\n",
              "      <td>10.000000</td>\n",
              "      <td>428.000000</td>\n",
              "      <td>1474.000000</td>\n",
              "    </tr>\n",
              "  </tbody>\n",
              "</table>\n",
              "</div>\n",
              "    <div class=\"colab-df-buttons\">\n",
              "\n",
              "  <div class=\"colab-df-container\">\n",
              "    <button class=\"colab-df-convert\" onclick=\"convertToInteractive('df-0caaac87-d307-4380-a8cc-cb2516b379d6')\"\n",
              "            title=\"Convert this dataframe to an interactive table.\"\n",
              "            style=\"display:none;\">\n",
              "\n",
              "  <svg xmlns=\"http://www.w3.org/2000/svg\" height=\"24px\" viewBox=\"0 -960 960 960\">\n",
              "    <path d=\"M120-120v-720h720v720H120Zm60-500h600v-160H180v160Zm220 220h160v-160H400v160Zm0 220h160v-160H400v160ZM180-400h160v-160H180v160Zm440 0h160v-160H620v160ZM180-180h160v-160H180v160Zm440 0h160v-160H620v160Z\"/>\n",
              "  </svg>\n",
              "    </button>\n",
              "\n",
              "  <style>\n",
              "    .colab-df-container {\n",
              "      display:flex;\n",
              "      gap: 12px;\n",
              "    }\n",
              "\n",
              "    .colab-df-convert {\n",
              "      background-color: #E8F0FE;\n",
              "      border: none;\n",
              "      border-radius: 50%;\n",
              "      cursor: pointer;\n",
              "      display: none;\n",
              "      fill: #1967D2;\n",
              "      height: 32px;\n",
              "      padding: 0 0 0 0;\n",
              "      width: 32px;\n",
              "    }\n",
              "\n",
              "    .colab-df-convert:hover {\n",
              "      background-color: #E2EBFA;\n",
              "      box-shadow: 0px 1px 2px rgba(60, 64, 67, 0.3), 0px 1px 3px 1px rgba(60, 64, 67, 0.15);\n",
              "      fill: #174EA6;\n",
              "    }\n",
              "\n",
              "    .colab-df-buttons div {\n",
              "      margin-bottom: 4px;\n",
              "    }\n",
              "\n",
              "    [theme=dark] .colab-df-convert {\n",
              "      background-color: #3B4455;\n",
              "      fill: #D2E3FC;\n",
              "    }\n",
              "\n",
              "    [theme=dark] .colab-df-convert:hover {\n",
              "      background-color: #434B5C;\n",
              "      box-shadow: 0px 1px 3px 1px rgba(0, 0, 0, 0.15);\n",
              "      filter: drop-shadow(0px 1px 2px rgba(0, 0, 0, 0.3));\n",
              "      fill: #FFFFFF;\n",
              "    }\n",
              "  </style>\n",
              "\n",
              "    <script>\n",
              "      const buttonEl =\n",
              "        document.querySelector('#df-0caaac87-d307-4380-a8cc-cb2516b379d6 button.colab-df-convert');\n",
              "      buttonEl.style.display =\n",
              "        google.colab.kernel.accessAllowed ? 'block' : 'none';\n",
              "\n",
              "      async function convertToInteractive(key) {\n",
              "        const element = document.querySelector('#df-0caaac87-d307-4380-a8cc-cb2516b379d6');\n",
              "        const dataTable =\n",
              "          await google.colab.kernel.invokeFunction('convertToInteractive',\n",
              "                                                    [key], {});\n",
              "        if (!dataTable) return;\n",
              "\n",
              "        const docLinkHtml = 'Like what you see? Visit the ' +\n",
              "          '<a target=\"_blank\" href=https://colab.research.google.com/notebooks/data_table.ipynb>data table notebook</a>'\n",
              "          + ' to learn more about interactive tables.';\n",
              "        element.innerHTML = '';\n",
              "        dataTable['output_type'] = 'display_data';\n",
              "        await google.colab.output.renderOutput(dataTable, element);\n",
              "        const docLink = document.createElement('div');\n",
              "        docLink.innerHTML = docLinkHtml;\n",
              "        element.appendChild(docLink);\n",
              "      }\n",
              "    </script>\n",
              "  </div>\n",
              "\n",
              "\n",
              "<div id=\"df-485d71dc-4236-47a8-bc43-7a5a21733e49\">\n",
              "  <button class=\"colab-df-quickchart\" onclick=\"quickchart('df-485d71dc-4236-47a8-bc43-7a5a21733e49')\"\n",
              "            title=\"Suggest charts.\"\n",
              "            style=\"display:none;\">\n",
              "\n",
              "<svg xmlns=\"http://www.w3.org/2000/svg\" height=\"24px\"viewBox=\"0 0 24 24\"\n",
              "     width=\"24px\">\n",
              "    <g>\n",
              "        <path d=\"M19 3H5c-1.1 0-2 .9-2 2v14c0 1.1.9 2 2 2h14c1.1 0 2-.9 2-2V5c0-1.1-.9-2-2-2zM9 17H7v-7h2v7zm4 0h-2V7h2v10zm4 0h-2v-4h2v4z\"/>\n",
              "    </g>\n",
              "</svg>\n",
              "  </button>\n",
              "\n",
              "<style>\n",
              "  .colab-df-quickchart {\n",
              "    background-color: #E8F0FE;\n",
              "    border: none;\n",
              "    border-radius: 50%;\n",
              "    cursor: pointer;\n",
              "    display: none;\n",
              "    fill: #1967D2;\n",
              "    height: 32px;\n",
              "    padding: 0 0 0 0;\n",
              "    width: 32px;\n",
              "  }\n",
              "\n",
              "  .colab-df-quickchart:hover {\n",
              "    background-color: #E2EBFA;\n",
              "    box-shadow: 0px 1px 2px rgba(60, 64, 67, 0.3), 0px 1px 3px 1px rgba(60, 64, 67, 0.15);\n",
              "    fill: #174EA6;\n",
              "  }\n",
              "\n",
              "  [theme=dark] .colab-df-quickchart {\n",
              "    background-color: #3B4455;\n",
              "    fill: #D2E3FC;\n",
              "  }\n",
              "\n",
              "  [theme=dark] .colab-df-quickchart:hover {\n",
              "    background-color: #434B5C;\n",
              "    box-shadow: 0px 1px 3px 1px rgba(0, 0, 0, 0.15);\n",
              "    filter: drop-shadow(0px 1px 2px rgba(0, 0, 0, 0.3));\n",
              "    fill: #FFFFFF;\n",
              "  }\n",
              "</style>\n",
              "\n",
              "  <script>\n",
              "    async function quickchart(key) {\n",
              "      const charts = await google.colab.kernel.invokeFunction(\n",
              "          'suggestCharts', [key], {});\n",
              "    }\n",
              "    (() => {\n",
              "      let quickchartButtonEl =\n",
              "        document.querySelector('#df-485d71dc-4236-47a8-bc43-7a5a21733e49 button');\n",
              "      quickchartButtonEl.style.display =\n",
              "        google.colab.kernel.accessAllowed ? 'block' : 'none';\n",
              "    })();\n",
              "  </script>\n",
              "</div>\n",
              "    </div>\n",
              "  </div>\n"
            ]
          },
          "metadata": {},
          "execution_count": 18
        }
      ]
    },
    {
      "cell_type": "markdown",
      "source": [
        "Gráfico BoxPlot"
      ],
      "metadata": {
        "id": "pPyHmF7kX0qR"
      }
    },
    {
      "cell_type": "code",
      "source": [
        "Base.plot(kind='box',figsize=(10,6),subplots=True);"
      ],
      "metadata": {
        "colab": {
          "base_uri": "https://localhost:8080/",
          "height": 403
        },
        "id": "Ap9IgFXlX4Hx",
        "outputId": "c4fb0a21-4e92-4d49-bf3c-65faf31e4ccc"
      },
      "execution_count": 20,
      "outputs": [
        {
          "output_type": "display_data",
          "data": {
            "text/plain": [
              "<Figure size 1000x600 with 3 Axes>"
            ],
            "image/png": "[encoded data removed]"
          },
          "metadata": {}
        }
      ]
    },
    {
      "cell_type": "markdown",
      "source": [
        "Análise Outliers"
      ],
      "metadata": {
        "id": "CofV5T1yZffY"
      }
    },
    {
      "cell_type": "code",
      "source": [
        "Base[Base['Days In Top 10']>=100]"
      ],
      "metadata": {
        "colab": {
          "base_uri": "https://localhost:8080/",
          "height": 669
        },
        "id": "OkumAataZiUc",
        "outputId": "9a64f562-696a-489c-e6f0-7f6d0e629f69"
      },
      "execution_count": 21,
      "outputs": [
        {
          "output_type": "execute_result",
          "data": {
            "text/plain": [
              "          As of  Rank Year to Date Rank Last Week Rank      Title     Type  \\\n",
              "2886 2021-01-14     7                 6              8  Cocomelon  TV Show   \n",
              "2896 2021-01-15     7                 7             10  Cocomelon  TV Show   \n",
              "2909 2021-01-16    10                 7              9  Cocomelon  TV Show   \n",
              "2919 2021-01-17    10                10              9  Cocomelon  TV Show   \n",
              "3019 2021-01-27    10                 -              -  Cocomelon  TV Show   \n",
              "...         ...   ...               ...            ...        ...      ...   \n",
              "6674 2022-01-28     5                 6              -  Cocomelon  TV Show   \n",
              "6687 2022-01-29     8                 5              8  Cocomelon  TV Show   \n",
              "6718 2022-02-01     9                 -              7  Cocomelon  TV Show   \n",
              "6959 2022-02-25    10                 -              -  Cocomelon  TV Show   \n",
              "6998 2022-03-01     9                 -              -  Cocomelon  TV Show   \n",
              "\n",
              "     Netflix Exclusive Netflix Release Date  Days In Top 10  Viewership Score  \n",
              "2886               Not          Jun 1, 2020             100               287  \n",
              "2896               Not          Jun 1, 2020             101               291  \n",
              "2909               Not          Jun 1, 2020             102               292  \n",
              "2919               Not          Jun 1, 2020             103               293  \n",
              "3019               Not          Jun 1, 2020             104               294  \n",
              "...                ...                  ...             ...               ...  \n",
              "6674               Not          Jun 1, 2020             424              1466  \n",
              "6687               Not          Jun 1, 2020             425              1469  \n",
              "6718               Not          Jun 1, 2020             426              1471  \n",
              "6959               Not          Jun 1, 2020             427              1472  \n",
              "6998               Not          Jun 1, 2020             428              1474  \n",
              "\n",
              "[329 rows x 10 columns]"
            ],
            "text/html": [
              "\n",
              "  <div id=\"df-7bcd1127-055b-42ab-8f0a-79df8d825a94\" class=\"colab-df-container\">\n",
              "    <div>\n",
              "<style scoped>\n",
              "    .dataframe tbody tr th:only-of-type {\n",
              "        vertical-align: middle;\n",
              "    }\n",
              "\n",
              "    .dataframe tbody tr th {\n",
              "        vertical-align: top;\n",
              "    }\n",
              "\n",
              "    .dataframe thead th {\n",
              "        text-align: right;\n",
              "    }\n",
              "</style>\n",
              "<table border=\"1\" class=\"dataframe\">\n",
              "  <thead>\n",
              "    <tr style=\"text-align: right;\">\n",
              "      <th></th>\n",
              "      <th>As of</th>\n",
              "      <th>Rank</th>\n",
              "      <th>Year to Date Rank</th>\n",
              "      <th>Last Week Rank</th>\n",
              "      <th>Title</th>\n",
              "      <th>Type</th>\n",
              "      <th>Netflix Exclusive</th>\n",
              "      <th>Netflix Release Date</th>\n",
              "      <th>Days In Top 10</th>\n",
              "      <th>Viewership Score</th>\n",
              "    </tr>\n",
              "  </thead>\n",
              "  <tbody>\n",
              "    <tr>\n",
              "      <th>2886</th>\n",
              "      <td>2021-01-14</td>\n",
              "      <td>7</td>\n",
              "      <td>6</td>\n",
              "      <td>8</td>\n",
              "      <td>Cocomelon</td>\n",
              "      <td>TV Show</td>\n",
              "      <td>Not</td>\n",
              "      <td>Jun 1, 2020</td>\n",
              "      <td>100</td>\n",
              "      <td>287</td>\n",
              "    </tr>\n",
              "    <tr>\n",
              "      <th>2896</th>\n",
              "      <td>2021-01-15</td>\n",
              "      <td>7</td>\n",
              "      <td>7</td>\n",
              "      <td>10</td>\n",
              "      <td>Cocomelon</td>\n",
              "      <td>TV Show</td>\n",
              "      <td>Not</td>\n",
              "      <td>Jun 1, 2020</td>\n",
              "      <td>101</td>\n",
              "      <td>291</td>\n",
              "    </tr>\n",
              "    <tr>\n",
              "      <th>2909</th>\n",
              "      <td>2021-01-16</td>\n",
              "      <td>10</td>\n",
              "      <td>7</td>\n",
              "      <td>9</td>\n",
              "      <td>Cocomelon</td>\n",
              "      <td>TV Show</td>\n",
              "      <td>Not</td>\n",
              "      <td>Jun 1, 2020</td>\n",
              "      <td>102</td>\n",
              "      <td>292</td>\n",
              "    </tr>\n",
              "    <tr>\n",
              "      <th>2919</th>\n",
              "      <td>2021-01-17</td>\n",
              "      <td>10</td>\n",
              "      <td>10</td>\n",
              "      <td>9</td>\n",
              "      <td>Cocomelon</td>\n",
              "      <td>TV Show</td>\n",
              "      <td>Not</td>\n",
              "      <td>Jun 1, 2020</td>\n",
              "      <td>103</td>\n",
              "      <td>293</td>\n",
              "    </tr>\n",
              "    <tr>\n",
              "      <th>3019</th>\n",
              "      <td>2021-01-27</td>\n",
              "      <td>10</td>\n",
              "      <td>-</td>\n",
              "      <td>-</td>\n",
              "      <td>Cocomelon</td>\n",
              "      <td>TV Show</td>\n",
              "      <td>Not</td>\n",
              "      <td>Jun 1, 2020</td>\n",
              "      <td>104</td>\n",
              "      <td>294</td>\n",
              "    </tr>\n",
              "    <tr>\n",
              "      <th>...</th>\n",
              "      <td>...</td>\n",
              "      <td>...</td>\n",
              "      <td>...</td>\n",
              "      <td>...</td>\n",
              "      <td>...</td>\n",
              "      <td>...</td>\n",
              "      <td>...</td>\n",
              "      <td>...</td>\n",
              "      <td>...</td>\n",
              "      <td>...</td>\n",
              "    </tr>\n",
              "    <tr>\n",
              "      <th>6674</th>\n",
              "      <td>2022-01-28</td>\n",
              "      <td>5</td>\n",
              "      <td>6</td>\n",
              "      <td>-</td>\n",
              "      <td>Cocomelon</td>\n",
              "      <td>TV Show</td>\n",
              "      <td>Not</td>\n",
              "      <td>Jun 1, 2020</td>\n",
              "      <td>424</td>\n",
              "      <td>1466</td>\n",
              "    </tr>\n",
              "    <tr>\n",
              "      <th>6687</th>\n",
              "      <td>2022-01-29</td>\n",
              "      <td>8</td>\n",
              "      <td>5</td>\n",
              "      <td>8</td>\n",
              "      <td>Cocomelon</td>\n",
              "      <td>TV Show</td>\n",
              "      <td>Not</td>\n",
              "      <td>Jun 1, 2020</td>\n",
              "      <td>425</td>\n",
              "      <td>1469</td>\n",
              "    </tr>\n",
              "    <tr>\n",
              "      <th>6718</th>\n",
              "      <td>2022-02-01</td>\n",
              "      <td>9</td>\n",
              "      <td>-</td>\n",
              "      <td>7</td>\n",
              "      <td>Cocomelon</td>\n",
              "      <td>TV Show</td>\n",
              "      <td>Not</td>\n",
              "      <td>Jun 1, 2020</td>\n",
              "      <td>426</td>\n",
              "      <td>1471</td>\n",
              "    </tr>\n",
              "    <tr>\n",
              "      <th>6959</th>\n",
              "      <td>2022-02-25</td>\n",
              "      <td>10</td>\n",
              "      <td>-</td>\n",
              "      <td>-</td>\n",
              "      <td>Cocomelon</td>\n",
              "      <td>TV Show</td>\n",
              "      <td>Not</td>\n",
              "      <td>Jun 1, 2020</td>\n",
              "      <td>427</td>\n",
              "      <td>1472</td>\n",
              "    </tr>\n",
              "    <tr>\n",
              "      <th>6998</th>\n",
              "      <td>2022-03-01</td>\n",
              "      <td>9</td>\n",
              "      <td>-</td>\n",
              "      <td>-</td>\n",
              "      <td>Cocomelon</td>\n",
              "      <td>TV Show</td>\n",
              "      <td>Not</td>\n",
              "      <td>Jun 1, 2020</td>\n",
              "      <td>428</td>\n",
              "      <td>1474</td>\n",
              "    </tr>\n",
              "  </tbody>\n",
              "</table>\n",
              "<p>329 rows × 10 columns</p>\n",
              "</div>\n",
              "    <div class=\"colab-df-buttons\">\n",
              "\n",
              "  <div class=\"colab-df-container\">\n",
              "    <button class=\"colab-df-convert\" onclick=\"convertToInteractive('df-7bcd1127-055b-42ab-8f0a-79df8d825a94')\"\n",
              "            title=\"Convert this dataframe to an interactive table.\"\n",
              "            style=\"display:none;\">\n",
              "\n",
              "  <svg xmlns=\"http://www.w3.org/2000/svg\" height=\"24px\" viewBox=\"0 -960 960 960\">\n",
              "    <path d=\"M120-120v-720h720v720H120Zm60-500h600v-160H180v160Zm220 220h160v-160H400v160Zm0 220h160v-160H400v160ZM180-400h160v-160H180v160Zm440 0h160v-160H620v160ZM180-180h160v-160H180v160Zm440 0h160v-160H620v160Z\"/>\n",
              "  </svg>\n",
              "    </button>\n",
              "\n",
              "  <style>\n",
              "    .colab-df-container {\n",
              "      display:flex;\n",
              "      gap: 12px;\n",
              "    }\n",
              "\n",
              "    .colab-df-convert {\n",
              "      background-color: #E8F0FE;\n",
              "      border: none;\n",
              "      border-radius: 50%;\n",
              "      cursor: pointer;\n",
              "      display: none;\n",
              "      fill: #1967D2;\n",
              "      height: 32px;\n",
              "      padding: 0 0 0 0;\n",
              "      width: 32px;\n",
              "    }\n",
              "\n",
              "    .colab-df-convert:hover {\n",
              "      background-color: #E2EBFA;\n",
              "      box-shadow: 0px 1px 2px rgba(60, 64, 67, 0.3), 0px 1px 3px 1px rgba(60, 64, 67, 0.15);\n",
              "      fill: #174EA6;\n",
              "    }\n",
              "\n",
              "    .colab-df-buttons div {\n",
              "      margin-bottom: 4px;\n",
              "    }\n",
              "\n",
              "    [theme=dark] .colab-df-convert {\n",
              "      background-color: #3B4455;\n",
              "      fill: #D2E3FC;\n",
              "    }\n",
              "\n",
              "    [theme=dark] .colab-df-convert:hover {\n",
              "      background-color: #434B5C;\n",
              "      box-shadow: 0px 1px 3px 1px rgba(0, 0, 0, 0.15);\n",
              "      filter: drop-shadow(0px 1px 2px rgba(0, 0, 0, 0.3));\n",
              "      fill: #FFFFFF;\n",
              "    }\n",
              "  </style>\n",
              "\n",
              "    <script>\n",
              "      const buttonEl =\n",
              "        document.querySelector('#df-7bcd1127-055b-42ab-8f0a-79df8d825a94 button.colab-df-convert');\n",
              "      buttonEl.style.display =\n",
              "        google.colab.kernel.accessAllowed ? 'block' : 'none';\n",
              "\n",
              "      async function convertToInteractive(key) {\n",
              "        const element = document.querySelector('#df-7bcd1127-055b-42ab-8f0a-79df8d825a94');\n",
              "        const dataTable =\n",
              "          await google.colab.kernel.invokeFunction('convertToInteractive',\n",
              "                                                    [key], {});\n",
              "        if (!dataTable) return;\n",
              "\n",
              "        const docLinkHtml = 'Like what you see? Visit the ' +\n",
              "          '<a target=\"_blank\" href=https://colab.research.google.com/notebooks/data_table.ipynb>data table notebook</a>'\n",
              "          + ' to learn more about interactive tables.';\n",
              "        element.innerHTML = '';\n",
              "        dataTable['output_type'] = 'display_data';\n",
              "        await google.colab.output.renderOutput(dataTable, element);\n",
              "        const docLink = document.createElement('div');\n",
              "        docLink.innerHTML = docLinkHtml;\n",
              "        element.appendChild(docLink);\n",
              "      }\n",
              "    </script>\n",
              "  </div>\n",
              "\n",
              "\n",
              "<div id=\"df-c0b1acc6-9284-4c38-96cf-c67a7d4490db\">\n",
              "  <button class=\"colab-df-quickchart\" onclick=\"quickchart('df-c0b1acc6-9284-4c38-96cf-c67a7d4490db')\"\n",
              "            title=\"Suggest charts.\"\n",
              "            style=\"display:none;\">\n",
              "\n",
              "<svg xmlns=\"http://www.w3.org/2000/svg\" height=\"24px\"viewBox=\"0 0 24 24\"\n",
              "     width=\"24px\">\n",
              "    <g>\n",
              "        <path d=\"M19 3H5c-1.1 0-2 .9-2 2v14c0 1.1.9 2 2 2h14c1.1 0 2-.9 2-2V5c0-1.1-.9-2-2-2zM9 17H7v-7h2v7zm4 0h-2V7h2v10zm4 0h-2v-4h2v4z\"/>\n",
              "    </g>\n",
              "</svg>\n",
              "  </button>\n",
              "\n",
              "<style>\n",
              "  .colab-df-quickchart {\n",
              "    background-color: #E8F0FE;\n",
              "    border: none;\n",
              "    border-radius: 50%;\n",
              "    cursor: pointer;\n",
              "    display: none;\n",
              "    fill: #1967D2;\n",
              "    height: 32px;\n",
              "    padding: 0 0 0 0;\n",
              "    width: 32px;\n",
              "  }\n",
              "\n",
              "  .colab-df-quickchart:hover {\n",
              "    background-color: #E2EBFA;\n",
              "    box-shadow: 0px 1px 2px rgba(60, 64, 67, 0.3), 0px 1px 3px 1px rgba(60, 64, 67, 0.15);\n",
              "    fill: #174EA6;\n",
              "  }\n",
              "\n",
              "  [theme=dark] .colab-df-quickchart {\n",
              "    background-color: #3B4455;\n",
              "    fill: #D2E3FC;\n",
              "  }\n",
              "\n",
              "  [theme=dark] .colab-df-quickchart:hover {\n",
              "    background-color: #434B5C;\n",
              "    box-shadow: 0px 1px 3px 1px rgba(0, 0, 0, 0.15);\n",
              "    filter: drop-shadow(0px 1px 2px rgba(0, 0, 0, 0.3));\n",
              "    fill: #FFFFFF;\n",
              "  }\n",
              "</style>\n",
              "\n",
              "  <script>\n",
              "    async function quickchart(key) {\n",
              "      const charts = await google.colab.kernel.invokeFunction(\n",
              "          'suggestCharts', [key], {});\n",
              "    }\n",
              "    (() => {\n",
              "      let quickchartButtonEl =\n",
              "        document.querySelector('#df-c0b1acc6-9284-4c38-96cf-c67a7d4490db button');\n",
              "      quickchartButtonEl.style.display =\n",
              "        google.colab.kernel.accessAllowed ? 'block' : 'none';\n",
              "    })();\n",
              "  </script>\n",
              "</div>\n",
              "    </div>\n",
              "  </div>\n"
            ]
          },
          "metadata": {},
          "execution_count": 21
        }
      ]
    },
    {
      "cell_type": "code",
      "source": [
        "Base.Title.value_counts()"
      ],
      "metadata": {
        "colab": {
          "base_uri": "https://localhost:8080/"
        },
        "id": "kY02XvSbcK79",
        "outputId": "d9514fa7-75f5-46ea-d43a-742ed90f3edd"
      },
      "execution_count": 22,
      "outputs": [
        {
          "output_type": "execute_result",
          "data": {
            "text/plain": [
              "Cocomelon                       428\n",
              "Ozark                            85\n",
              "Cobra Kai                        81\n",
              "Manifest                         80\n",
              "The Queenâs Gambit             73\n",
              "                               ... \n",
              "The Office                        1\n",
              "Animals on the Loose: A You…      1\n",
              "Dark                              1\n",
              "The Secret Life of Pets 2         1\n",
              "Step Up Revolution                1\n",
              "Name: Title, Length: 645, dtype: int64"
            ]
          },
          "metadata": {},
          "execution_count": 22
        }
      ]
    },
    {
      "cell_type": "code",
      "source": [
        "Base.Type.value_counts().plot(kind='bar');"
      ],
      "metadata": {
        "colab": {
          "base_uri": "https://localhost:8080/",
          "height": 542
        },
        "id": "DxFpgy1pcywb",
        "outputId": "5514c0d4-f6d7-470a-d0d9-73da35d625fe"
      },
      "execution_count": 25,
      "outputs": [
        {
          "output_type": "display_data",
          "data": {
            "text/plain": [
              "<Figure size 640x480 with 1 Axes>"
            ],
            "image/png": "[encoded data removed]"
          },
          "metadata": {}
        }
      ]
    }
  ]
}