{
  "nbformat": 4,
  "nbformat_minor": 0,
  "metadata": {
    "colab": {
      "provenance": [],
      "authorship_tag": "ABX9TyNlPk0+PYgKdtlVqo+IPafo",
      "include_colab_link": true
    },
    "kernelspec": {
      "name": "python3",
      "display_name": "Python 3"
    },
    "language_info": {
      "name": "python"
    },
    "widgets": {
      "application/vnd.jupyter.widget-state+json": {
        "e0bda63d044c481a874a63863ce468b8": {
          "model_module": "@jupyter-widgets/controls",
          "model_name": "HBoxModel",
          "model_module_version": "1.5.0",
          "state": {
            "_dom_classes": [],
            "_model_module": "@jupyter-widgets/controls",
            "_model_module_version": "1.5.0",
            "_model_name": "HBoxModel",
            "_view_count": null,
            "_view_module": "@jupyter-widgets/controls",
            "_view_module_version": "1.5.0",
            "_view_name": "HBoxView",
            "box_style": "",
            "children": [
              "IPY_MODEL_e3ec5e19f9b04bb5be8286f9ce9504b8",
              "IPY_MODEL_e1da7642e2014934977e23ba4bda4056",
              "IPY_MODEL_475fcfb3bd4944a989156773d6ea0603"
            ],
            "layout": "IPY_MODEL_84d556ff23a04bf38149752b87db497d"
          }
        },
        "e3ec5e19f9b04bb5be8286f9ce9504b8": {
          "model_module": "@jupyter-widgets/controls",
          "model_name": "HTMLModel",
          "model_module_version": "1.5.0",
          "state": {
            "_dom_classes": [],
            "_model_module": "@jupyter-widgets/controls",
            "_model_module_version": "1.5.0",
            "_model_name": "HTMLModel",
            "_view_count": null,
            "_view_module": "@jupyter-widgets/controls",
            "_view_module_version": "1.5.0",
            "_view_name": "HTMLView",
            "description": "",
            "description_tooltip": null,
            "layout": "IPY_MODEL_e64475b7321e4e2fa84993f11ec2f94a",
            "placeholder": "​",
            "style": "IPY_MODEL_ad169bbc1a79493ca4717bf25b35ceb1",
            "value": "Done! Use &#x27;show&#x27; commands to display/save.   "
          }
        },
        "e1da7642e2014934977e23ba4bda4056": {
          "model_module": "@jupyter-widgets/controls",
          "model_name": "FloatProgressModel",
          "model_module_version": "1.5.0",
          "state": {
            "_dom_classes": [],
            "_model_module": "@jupyter-widgets/controls",
            "_model_module_version": "1.5.0",
            "_model_name": "FloatProgressModel",
            "_view_count": null,
            "_view_module": "@jupyter-widgets/controls",
            "_view_module_version": "1.5.0",
            "_view_name": "ProgressView",
            "bar_style": "success",
            "description": "",
            "description_tooltip": null,
            "layout": "IPY_MODEL_16f1fc8dd2c040f8a00d2d512927cb8f",
            "max": 1,
            "min": 0,
            "orientation": "horizontal",
            "style": "IPY_MODEL_7b454d2d095b4b0ebd1325ec3275b9b1",
            "value": 1
          }
        },
        "475fcfb3bd4944a989156773d6ea0603": {
          "model_module": "@jupyter-widgets/controls",
          "model_name": "HTMLModel",
          "model_module_version": "1.5.0",
          "state": {
            "_dom_classes": [],
            "_model_module": "@jupyter-widgets/controls",
            "_model_module_version": "1.5.0",
            "_model_name": "HTMLModel",
            "_view_count": null,
            "_view_module": "@jupyter-widgets/controls",
            "_view_module_version": "1.5.0",
            "_view_name": "HTMLView",
            "description": "",
            "description_tooltip": null,
            "layout": "IPY_MODEL_3a9e1270f0814890ac2e93f72d14622f",
            "placeholder": "​",
            "style": "IPY_MODEL_055d9e3ee8d7409eb63d695e1e5f1363",
            "value": " [100%]   00:01 -&gt; (00:00 left)"
          }
        },
        "84d556ff23a04bf38149752b87db497d": {
          "model_module": "@jupyter-widgets/base",
          "model_name": "LayoutModel",
          "model_module_version": "1.2.0",
          "state": {
            "_model_module": "@jupyter-widgets/base",
            "_model_module_version": "1.2.0",
            "_model_name": "LayoutModel",
            "_view_count": null,
            "_view_module": "@jupyter-widgets/base",
            "_view_module_version": "1.2.0",
            "_view_name": "LayoutView",
            "align_content": null,
            "align_items": null,
            "align_self": null,
            "border": null,
            "bottom": null,
            "display": "inline-flex",
            "flex": null,
            "flex_flow": "row wrap",
            "grid_area": null,
            "grid_auto_columns": null,
            "grid_auto_flow": null,
            "grid_auto_rows": null,
            "grid_column": null,
            "grid_gap": null,
            "grid_row": null,
            "grid_template_areas": null,
            "grid_template_columns": null,
            "grid_template_rows": null,
            "height": null,
            "justify_content": null,
            "justify_items": null,
            "left": null,
            "margin": null,
            "max_height": null,
            "max_width": null,
            "min_height": null,
            "min_width": null,
            "object_fit": null,
            "object_position": null,
            "order": null,
            "overflow": null,
            "overflow_x": null,
            "overflow_y": null,
            "padding": null,
            "right": null,
            "top": null,
            "visibility": null,
            "width": "100%"
          }
        },
        "e64475b7321e4e2fa84993f11ec2f94a": {
          "model_module": "@jupyter-widgets/base",
          "model_name": "LayoutModel",
          "model_module_version": "1.2.0",
          "state": {
            "_model_module": "@jupyter-widgets/base",
            "_model_module_version": "1.2.0",
            "_model_name": "LayoutModel",
            "_view_count": null,
            "_view_module": "@jupyter-widgets/base",
            "_view_module_version": "1.2.0",
            "_view_name": "LayoutView",
            "align_content": null,
            "align_items": null,
            "align_self": null,
            "border": null,
            "bottom": null,
            "display": null,
            "flex": null,
            "flex_flow": null,
            "grid_area": null,
            "grid_auto_columns": null,
            "grid_auto_flow": null,
            "grid_auto_rows": null,
            "grid_column": null,
            "grid_gap": null,
            "grid_row": null,
            "grid_template_areas": null,
            "grid_template_columns": null,
            "grid_template_rows": null,
            "height": null,
            "justify_content": null,
            "justify_items": null,
            "left": null,
            "margin": null,
            "max_height": null,
            "max_width": null,
            "min_height": null,
            "min_width": null,
            "object_fit": null,
            "object_position": null,
            "order": null,
            "overflow": null,
            "overflow_x": null,
            "overflow_y": null,
            "padding": null,
            "right": null,
            "top": null,
            "visibility": null,
            "width": null
          }
        },
        "ad169bbc1a79493ca4717bf25b35ceb1": {
          "model_module": "@jupyter-widgets/controls",
          "model_name": "DescriptionStyleModel",
          "model_module_version": "1.5.0",
          "state": {
            "_model_module": "@jupyter-widgets/controls",
            "_model_module_version": "1.5.0",
            "_model_name": "DescriptionStyleModel",
            "_view_count": null,
            "_view_module": "@jupyter-widgets/base",
            "_view_module_version": "1.2.0",
            "_view_name": "StyleView",
            "description_width": ""
          }
        },
        "16f1fc8dd2c040f8a00d2d512927cb8f": {
          "model_module": "@jupyter-widgets/base",
          "model_name": "LayoutModel",
          "model_module_version": "1.2.0",
          "state": {
            "_model_module": "@jupyter-widgets/base",
            "_model_module_version": "1.2.0",
            "_model_name": "LayoutModel",
            "_view_count": null,
            "_view_module": "@jupyter-widgets/base",
            "_view_module_version": "1.2.0",
            "_view_name": "LayoutView",
            "align_content": null,
            "align_items": null,
            "align_self": null,
            "border": null,
            "bottom": null,
            "display": null,
            "flex": "2",
            "flex_flow": null,
            "grid_area": null,
            "grid_auto_columns": null,
            "grid_auto_flow": null,
            "grid_auto_rows": null,
            "grid_column": null,
            "grid_gap": null,
            "grid_row": null,
            "grid_template_areas": null,
            "grid_template_columns": null,
            "grid_template_rows": null,
            "height": null,
            "justify_content": null,
            "justify_items": null,
            "left": null,
            "margin": null,
            "max_height": null,
            "max_width": null,
            "min_height": null,
            "min_width": null,
            "object_fit": null,
            "object_position": null,
            "order": null,
            "overflow": null,
            "overflow_x": null,
            "overflow_y": null,
            "padding": null,
            "right": null,
            "top": null,
            "visibility": null,
            "width": null
          }
        },
        "7b454d2d095b4b0ebd1325ec3275b9b1": {
          "model_module": "@jupyter-widgets/controls",
          "model_name": "ProgressStyleModel",
          "model_module_version": "1.5.0",
          "state": {
            "_model_module": "@jupyter-widgets/controls",
            "_model_module_version": "1.5.0",
            "_model_name": "ProgressStyleModel",
            "_view_count": null,
            "_view_module": "@jupyter-widgets/base",
            "_view_module_version": "1.2.0",
            "_view_name": "StyleView",
            "bar_color": null,
            "description_width": ""
          }
        },
        "3a9e1270f0814890ac2e93f72d14622f": {
          "model_module": "@jupyter-widgets/base",
          "model_name": "LayoutModel",
          "model_module_version": "1.2.0",
          "state": {
            "_model_module": "@jupyter-widgets/base",
            "_model_module_version": "1.2.0",
            "_model_name": "LayoutModel",
            "_view_count": null,
            "_view_module": "@jupyter-widgets/base",
            "_view_module_version": "1.2.0",
            "_view_name": "LayoutView",
            "align_content": null,
            "align_items": null,
            "align_self": null,
            "border": null,
            "bottom": null,
            "display": null,
            "flex": null,
            "flex_flow": null,
            "grid_area": null,
            "grid_auto_columns": null,
            "grid_auto_flow": null,
            "grid_auto_rows": null,
            "grid_column": null,
            "grid_gap": null,
            "grid_row": null,
            "grid_template_areas": null,
            "grid_template_columns": null,
            "grid_template_rows": null,
            "height": null,
            "justify_content": null,
            "justify_items": null,
            "left": null,
            "margin": null,
            "max_height": null,
            "max_width": null,
            "min_height": null,
            "min_width": null,
            "object_fit": null,
            "object_position": null,
            "order": null,
            "overflow": null,
            "overflow_x": null,
            "overflow_y": null,
            "padding": null,
            "right": null,
            "top": null,
            "visibility": null,
            "width": null
          }
        },
        "055d9e3ee8d7409eb63d695e1e5f1363": {
          "model_module": "@jupyter-widgets/controls",
          "model_name": "DescriptionStyleModel",
          "model_module_version": "1.5.0",
          "state": {
            "_model_module": "@jupyter-widgets/controls",
            "_model_module_version": "1.5.0",
            "_model_name": "DescriptionStyleModel",
            "_view_count": null,
            "_view_module": "@jupyter-widgets/base",
            "_view_module_version": "1.2.0",
            "_view_name": "StyleView",
            "description_width": ""
          }
        }
      }
    }
  },
  "cells": [
    {
      "cell_type": "markdown",
      "metadata": {
        "id": "view-in-github",
        "colab_type": "text"
      },
      "source": [
        "<a href=\"https://colab.research.google.com/github/netoquimico/Pythonworks/blob/main/Avalia%C3%A7%C3%A3o_Paran%C3%A1_Banco.ipynb\" target=\"_parent\"><img src=\"https://colab.research.google.com/assets/colab-badge.svg\" alt=\"Open In Colab\"/></a>"
      ]
    },
    {
      "cell_type": "code",
      "source": [
        "pip install sweetviz"
      ],
      "metadata": {
        "colab": {
          "base_uri": "https://localhost:8080/"
        },
        "id": "x34vCyW-yINe",
        "outputId": "d84e5743-7cc1-4bfd-ffd9-420431057595"
      },
      "execution_count": 1,
      "outputs": [
        {
          "output_type": "stream",
          "name": "stdout",
          "text": [
            "Collecting sweetviz\n",
            "  Downloading sweetviz-2.3.1-py3-none-any.whl (15.1 MB)\n",
            "\u001b[2K     \u001b[90m━━━━━━━━━━━━━━━━━━━━━━━━━━━━━━━━━━━━━━━━\u001b[0m \u001b[32m15.1/15.1 MB\u001b[0m \u001b[31m25.3 MB/s\u001b[0m eta \u001b[36m0:00:00\u001b[0m\n",
            "\u001b[?25hRequirement already satisfied: pandas!=1.0.0,!=1.0.1,!=1.0.2,>=0.25.3 in /usr/local/lib/python3.10/dist-packages (from sweetviz) (2.0.3)\n",
            "Requirement already satisfied: numpy>=1.16.0 in /usr/local/lib/python3.10/dist-packages (from sweetviz) (1.25.2)\n",
            "Requirement already satisfied: matplotlib>=3.1.3 in /usr/local/lib/python3.10/dist-packages (from sweetviz) (3.7.1)\n",
            "Requirement already satisfied: tqdm>=4.43.0 in /usr/local/lib/python3.10/dist-packages (from sweetviz) (4.66.2)\n",
            "Requirement already satisfied: scipy>=1.3.2 in /usr/local/lib/python3.10/dist-packages (from sweetviz) (1.11.4)\n",
            "Requirement already satisfied: jinja2>=2.11.1 in /usr/local/lib/python3.10/dist-packages (from sweetviz) (3.1.3)\n",
            "Requirement already satisfied: importlib-resources>=1.2.0 in /usr/local/lib/python3.10/dist-packages (from sweetviz) (6.4.0)\n",
            "Requirement already satisfied: MarkupSafe>=2.0 in /usr/local/lib/python3.10/dist-packages (from jinja2>=2.11.1->sweetviz) (2.1.5)\n",
            "Requirement already satisfied: contourpy>=1.0.1 in /usr/local/lib/python3.10/dist-packages (from matplotlib>=3.1.3->sweetviz) (1.2.1)\n",
            "Requirement already satisfied: cycler>=0.10 in /usr/local/lib/python3.10/dist-packages (from matplotlib>=3.1.3->sweetviz) (0.12.1)\n",
            "Requirement already satisfied: fonttools>=4.22.0 in /usr/local/lib/python3.10/dist-packages (from matplotlib>=3.1.3->sweetviz) (4.51.0)\n",
            "Requirement already satisfied: kiwisolver>=1.0.1 in /usr/local/lib/python3.10/dist-packages (from matplotlib>=3.1.3->sweetviz) (1.4.5)\n",
            "Requirement already satisfied: packaging>=20.0 in /usr/local/lib/python3.10/dist-packages (from matplotlib>=3.1.3->sweetviz) (24.0)\n",
            "Requirement already satisfied: pillow>=6.2.0 in /usr/local/lib/python3.10/dist-packages (from matplotlib>=3.1.3->sweetviz) (9.4.0)\n",
            "Requirement already satisfied: pyparsing>=2.3.1 in /usr/local/lib/python3.10/dist-packages (from matplotlib>=3.1.3->sweetviz) (3.1.2)\n",
            "Requirement already satisfied: python-dateutil>=2.7 in /usr/local/lib/python3.10/dist-packages (from matplotlib>=3.1.3->sweetviz) (2.8.2)\n",
            "Requirement already satisfied: pytz>=2020.1 in /usr/local/lib/python3.10/dist-packages (from pandas!=1.0.0,!=1.0.1,!=1.0.2,>=0.25.3->sweetviz) (2023.4)\n",
            "Requirement already satisfied: tzdata>=2022.1 in /usr/local/lib/python3.10/dist-packages (from pandas!=1.0.0,!=1.0.1,!=1.0.2,>=0.25.3->sweetviz) (2024.1)\n",
            "Requirement already satisfied: six>=1.5 in /usr/local/lib/python3.10/dist-packages (from python-dateutil>=2.7->matplotlib>=3.1.3->sweetviz) (1.16.0)\n",
            "Installing collected packages: sweetviz\n",
            "Successfully installed sweetviz-2.3.1\n"
          ]
        }
      ]
    },
    {
      "cell_type": "code",
      "source": [
        "import pandas as pd\n",
        "import numpy as np\n",
        "import seaborn as sns\n",
        "import matplotlib.pyplot as plt\n",
        "import plotly.express as px\n",
        "import sweetviz as sv\n"
      ],
      "metadata": {
        "id": "KcD3hO4yAX-r"
      },
      "execution_count": 2,
      "outputs": []
    },
    {
      "cell_type": "code",
      "source": [
        "df=pd.read_csv('/content/dados_operacoes.csv')"
      ],
      "metadata": {
        "id": "u5px2TBGwXUA"
      },
      "execution_count": 4,
      "outputs": []
    },
    {
      "cell_type": "code",
      "source": [
        "pd.set_option('display.max_columns', None)"
      ],
      "metadata": {
        "id": "pldj3WPHxRU-"
      },
      "execution_count": 5,
      "outputs": []
    },
    {
      "cell_type": "code",
      "source": [
        "df.head(10)"
      ],
      "metadata": {
        "colab": {
          "base_uri": "https://localhost:8080/",
          "height": 626
        },
        "id": "-PSzB-pzwjuY",
        "outputId": "00423373-fc05-4efd-9dc6-7b2f4a914b48"
      },
      "execution_count": 6,
      "outputs": [
        {
          "output_type": "execute_result",
          "data": {
            "text/plain": [
              "                                         id       contrato data_operacao  \\\n",
              "0  682e8b505c30bb12052f9457516dc47e7eafc8ed  1760865030954    2019-09-13   \n",
              "1  45ad9d444a276407df8b6f47c0fcc5b127dadaaa  6023030871505    2022-11-03   \n",
              "2  81cec74ea2ca41535fee03daeb410ddbdf12906a   560263027614    2021-06-13   \n",
              "3  4e987d9178e2dcb07c2bf3878736233a676a0a87  1397061435926    2021-08-30   \n",
              "4  595943ecdb32a24ccb6ef374b6d865f3b60d7130  3823566005671    2022-11-16   \n",
              "5  5e45a621fbb7998f7588091f8b7d480d3b24b2fc  5444678845030    2020-11-02   \n",
              "6  a31aba3a584cedd544a31cfe3af96a0dc06bad17  9023412229198    2019-11-22   \n",
              "7  b0798e02f03eb1ad4ef5a8cbbc69e2732a7052d0  4167168660296    2021-12-08   \n",
              "8  1676c0f980840a4fb7d808fc831412e8cc0c1b29  7565583960651    2022-08-18   \n",
              "9  3411c0726cfae279d32d3a6a1d1c8a8fc560ffd5  7872966313608    2019-12-04   \n",
              "\n",
              "   nascimento idade genero                    bairro              cidade  \\\n",
              "0  1974-06-08    48      F         Conjunto Paulo Vi             Moreira   \n",
              "1  1988-07-23    34      F               Minas Caixa  da Mota de Azevedo   \n",
              "2  1975-08-17  Null   Null          Vila Mantiqueira      Rocha da Prata   \n",
              "3  1982-08-17    40      F                  Anchieta             da Mata   \n",
              "4  1985-07-14    37      F         Conjunto Floramar    Moreira de Goiás   \n",
              "5  1984-05-29    38      M                Vila Fumec              Campos   \n",
              "6  1997-02-10    26      M                      Null                Null   \n",
              "7  1997-10-18    25      F              Vila Da Ária              Araújo   \n",
              "8  1984-06-17    38      M                Vila Tirol              Campos   \n",
              "9  1999-11-17    23      M  Nossa Senhora Do Rosário              Fogaça   \n",
              "\n",
              "           estado        cep              telefone            cartao  \\\n",
              "0  Rio de Janeiro  XXXXX-685     XXXXXXXXXXXXX2797              Null   \n",
              "1           Amapá   XXXXX735                  Null  XXXXXXXXXX562960   \n",
              "2  Santa Catarina   XXXXX863   XXXXXXXXXXXXX1-3076      XXXXXXXXXX55   \n",
              "3            Null       Null                  Null              Null   \n",
              "4     Mato Grosso   XXXXX384     XXXXXXXXXXXXX7089              Null   \n",
              "5         Roraima       Null  XXXXXXXXXXXXX91 1070   XXXXXXXXXX12230   \n",
              "6      Pernambuco  XXXXX-022   XXXXXXXXXXXXX9-1921   XXXXXXXXXX13258   \n",
              "7         Alagoas   XXXXX007     XXXXXXXXXXXXX4284              Null   \n",
              "8         Alagoas   XXXXX935  XXXXXXXXXXXXX42 5215              Null   \n",
              "9           Ceará   XXXXX304  XXXXXXXXXXXXX48 3612              Null   \n",
              "\n",
              "                            email                        ocupacao  \\\n",
              "0           XXXXa51@mXXXXXXXXXXXX                  Espeleologista   \n",
              "1    XXXXXXXXXXXnda@tXXXXXXXXXXXX                          Mágico   \n",
              "2                            Null                            Null   \n",
              "3                            Null  Conferente de carga e descarga   \n",
              "4                            Null                       Treinador   \n",
              "5                            Null                 Cirurgião bucal   \n",
              "6                            Null        Produtor de audio visual   \n",
              "7  XXXXXXXXXXXXXara@aXXXXXXXXXXXX                       Velejador   \n",
              "8       XXXXXXXXlyn@pXXXXXXXXXXXX                         Soldado   \n",
              "9       XXXXXXXXcia@aXXXXXXXXXXXX                            Null   \n",
              "\n",
              "                                 empregador      operacao  valor_principal  \\\n",
              "0  e53d5342e82e0ce6061bc3aaea1a986f24a73613          Prod         27810.69   \n",
              "1  f715ffaf2c8294df43df3357c6a37f04b900fb06         Refin          9589.96   \n",
              "2  da9515ffa45dd12791be0941b91188e51fe1cc04          Prod         42963.20   \n",
              "3  0c1741dc26339e6af3e4b6badcf984d383d1ca44  Port + Refin          2954.14   \n",
              "4  f97b240dc24290c19e717d7a654747aa31722ad3          Prod         31186.17   \n",
              "5                                      Null  Port + Refin         41432.39   \n",
              "6  25474923a0bac6ed841e0b776b035c73c444da1f          Prod         16870.66   \n",
              "7  8e9e183c401487c93eb9c9127d15e0908208d252         Refin          2832.39   \n",
              "8  ecfeed45ad3c07bc0533b71937ff3fb0be094a12          Prod         22710.72   \n",
              "9  8032e14ec79691c862249d17e0050d7da49913b9          Prod         18878.32   \n",
              "\n",
              "   parcelas  quantidade_parcelas  parcelas_pagas  quantidade_parcelas_pagas  \\\n",
              "0       100                  100              20                         20   \n",
              "1        40                   40               6                          6   \n",
              "2       100                  100              10                         10   \n",
              "3       120                  120               6                          6   \n",
              "4       100                  100              10                         10   \n",
              "5        40                   40               8                          8   \n",
              "6        60                   60               9                          9   \n",
              "7        80                   80              12                         12   \n",
              "8        40                   40              10                         10   \n",
              "9        40                   40               0                          0   \n",
              "\n",
              "   taxa_contrato  valor_parcela  valor_bruto  \n",
              "0        1.46493         531.56   53156.0000  \n",
              "1        4.53587         523.82   20952.8000  \n",
              "2        1.44749         815.71   81571.0000  \n",
              "3        1.82904          60.96    7315.1997  \n",
              "4        3.28340        1066.11  106611.0000  \n",
              "5        0.70787        1193.00   47720.0000  \n",
              "6        1.13080         388.80   23328.0000  \n",
              "7        2.67154          86.12    6889.6000  \n",
              "8        3.64272        1087.15   43486.0000  \n",
              "9        0.99986         574.94   22997.6000  "
            ],
            "text/html": [
              "\n",
              "  <div id=\"df-311a504a-5f6e-4dd9-b1f8-6299f4b0781d\" class=\"colab-df-container\">\n",
              "    <div>\n",
              "<style scoped>\n",
              "    .dataframe tbody tr th:only-of-type {\n",
              "        vertical-align: middle;\n",
              "    }\n",
              "\n",
              "    .dataframe tbody tr th {\n",
              "        vertical-align: top;\n",
              "    }\n",
              "\n",
              "    .dataframe thead th {\n",
              "        text-align: right;\n",
              "    }\n",
              "</style>\n",
              "<table border=\"1\" class=\"dataframe\">\n",
              "  <thead>\n",
              "    <tr style=\"text-align: right;\">\n",
              "      <th></th>\n",
              "      <th>id</th>\n",
              "      <th>contrato</th>\n",
              "      <th>data_operacao</th>\n",
              "      <th>nascimento</th>\n",
              "      <th>idade</th>\n",
              "      <th>genero</th>\n",
              "      <th>bairro</th>\n",
              "      <th>cidade</th>\n",
              "      <th>estado</th>\n",
              "      <th>cep</th>\n",
              "      <th>telefone</th>\n",
              "      <th>cartao</th>\n",
              "      <th>email</th>\n",
              "      <th>ocupacao</th>\n",
              "      <th>empregador</th>\n",
              "      <th>operacao</th>\n",
              "      <th>valor_principal</th>\n",
              "      <th>parcelas</th>\n",
              "      <th>quantidade_parcelas</th>\n",
              "      <th>parcelas_pagas</th>\n",
              "      <th>quantidade_parcelas_pagas</th>\n",
              "      <th>taxa_contrato</th>\n",
              "      <th>valor_parcela</th>\n",
              "      <th>valor_bruto</th>\n",
              "    </tr>\n",
              "  </thead>\n",
              "  <tbody>\n",
              "    <tr>\n",
              "      <th>0</th>\n",
              "      <td>682e8b505c30bb12052f9457516dc47e7eafc8ed</td>\n",
              "      <td>1760865030954</td>\n",
              "      <td>2019-09-13</td>\n",
              "      <td>1974-06-08</td>\n",
              "      <td>48</td>\n",
              "      <td>F</td>\n",
              "      <td>Conjunto Paulo Vi</td>\n",
              "      <td>Moreira</td>\n",
              "      <td>Rio de Janeiro</td>\n",
              "      <td>XXXXX-685</td>\n",
              "      <td>XXXXXXXXXXXXX2797</td>\n",
              "      <td>Null</td>\n",
              "      <td>XXXXa51@mXXXXXXXXXXXX</td>\n",
              "      <td>Espeleologista</td>\n",
              "      <td>e53d5342e82e0ce6061bc3aaea1a986f24a73613</td>\n",
              "      <td>Prod</td>\n",
              "      <td>27810.69</td>\n",
              "      <td>100</td>\n",
              "      <td>100</td>\n",
              "      <td>20</td>\n",
              "      <td>20</td>\n",
              "      <td>1.46493</td>\n",
              "      <td>531.56</td>\n",
              "      <td>53156.0000</td>\n",
              "    </tr>\n",
              "    <tr>\n",
              "      <th>1</th>\n",
              "      <td>45ad9d444a276407df8b6f47c0fcc5b127dadaaa</td>\n",
              "      <td>6023030871505</td>\n",
              "      <td>2022-11-03</td>\n",
              "      <td>1988-07-23</td>\n",
              "      <td>34</td>\n",
              "      <td>F</td>\n",
              "      <td>Minas Caixa</td>\n",
              "      <td>da Mota de Azevedo</td>\n",
              "      <td>Amapá</td>\n",
              "      <td>XXXXX735</td>\n",
              "      <td>Null</td>\n",
              "      <td>XXXXXXXXXX562960</td>\n",
              "      <td>XXXXXXXXXXXnda@tXXXXXXXXXXXX</td>\n",
              "      <td>Mágico</td>\n",
              "      <td>f715ffaf2c8294df43df3357c6a37f04b900fb06</td>\n",
              "      <td>Refin</td>\n",
              "      <td>9589.96</td>\n",
              "      <td>40</td>\n",
              "      <td>40</td>\n",
              "      <td>6</td>\n",
              "      <td>6</td>\n",
              "      <td>4.53587</td>\n",
              "      <td>523.82</td>\n",
              "      <td>20952.8000</td>\n",
              "    </tr>\n",
              "    <tr>\n",
              "      <th>2</th>\n",
              "      <td>81cec74ea2ca41535fee03daeb410ddbdf12906a</td>\n",
              "      <td>560263027614</td>\n",
              "      <td>2021-06-13</td>\n",
              "      <td>1975-08-17</td>\n",
              "      <td>Null</td>\n",
              "      <td>Null</td>\n",
              "      <td>Vila Mantiqueira</td>\n",
              "      <td>Rocha da Prata</td>\n",
              "      <td>Santa Catarina</td>\n",
              "      <td>XXXXX863</td>\n",
              "      <td>XXXXXXXXXXXXX1-3076</td>\n",
              "      <td>XXXXXXXXXX55</td>\n",
              "      <td>Null</td>\n",
              "      <td>Null</td>\n",
              "      <td>da9515ffa45dd12791be0941b91188e51fe1cc04</td>\n",
              "      <td>Prod</td>\n",
              "      <td>42963.20</td>\n",
              "      <td>100</td>\n",
              "      <td>100</td>\n",
              "      <td>10</td>\n",
              "      <td>10</td>\n",
              "      <td>1.44749</td>\n",
              "      <td>815.71</td>\n",
              "      <td>81571.0000</td>\n",
              "    </tr>\n",
              "    <tr>\n",
              "      <th>3</th>\n",
              "      <td>4e987d9178e2dcb07c2bf3878736233a676a0a87</td>\n",
              "      <td>1397061435926</td>\n",
              "      <td>2021-08-30</td>\n",
              "      <td>1982-08-17</td>\n",
              "      <td>40</td>\n",
              "      <td>F</td>\n",
              "      <td>Anchieta</td>\n",
              "      <td>da Mata</td>\n",
              "      <td>Null</td>\n",
              "      <td>Null</td>\n",
              "      <td>Null</td>\n",
              "      <td>Null</td>\n",
              "      <td>Null</td>\n",
              "      <td>Conferente de carga e descarga</td>\n",
              "      <td>0c1741dc26339e6af3e4b6badcf984d383d1ca44</td>\n",
              "      <td>Port + Refin</td>\n",
              "      <td>2954.14</td>\n",
              "      <td>120</td>\n",
              "      <td>120</td>\n",
              "      <td>6</td>\n",
              "      <td>6</td>\n",
              "      <td>1.82904</td>\n",
              "      <td>60.96</td>\n",
              "      <td>7315.1997</td>\n",
              "    </tr>\n",
              "    <tr>\n",
              "      <th>4</th>\n",
              "      <td>595943ecdb32a24ccb6ef374b6d865f3b60d7130</td>\n",
              "      <td>3823566005671</td>\n",
              "      <td>2022-11-16</td>\n",
              "      <td>1985-07-14</td>\n",
              "      <td>37</td>\n",
              "      <td>F</td>\n",
              "      <td>Conjunto Floramar</td>\n",
              "      <td>Moreira de Goiás</td>\n",
              "      <td>Mato Grosso</td>\n",
              "      <td>XXXXX384</td>\n",
              "      <td>XXXXXXXXXXXXX7089</td>\n",
              "      <td>Null</td>\n",
              "      <td>Null</td>\n",
              "      <td>Treinador</td>\n",
              "      <td>f97b240dc24290c19e717d7a654747aa31722ad3</td>\n",
              "      <td>Prod</td>\n",
              "      <td>31186.17</td>\n",
              "      <td>100</td>\n",
              "      <td>100</td>\n",
              "      <td>10</td>\n",
              "      <td>10</td>\n",
              "      <td>3.28340</td>\n",
              "      <td>1066.11</td>\n",
              "      <td>106611.0000</td>\n",
              "    </tr>\n",
              "    <tr>\n",
              "      <th>5</th>\n",
              "      <td>5e45a621fbb7998f7588091f8b7d480d3b24b2fc</td>\n",
              "      <td>5444678845030</td>\n",
              "      <td>2020-11-02</td>\n",
              "      <td>1984-05-29</td>\n",
              "      <td>38</td>\n",
              "      <td>M</td>\n",
              "      <td>Vila Fumec</td>\n",
              "      <td>Campos</td>\n",
              "      <td>Roraima</td>\n",
              "      <td>Null</td>\n",
              "      <td>XXXXXXXXXXXXX91 1070</td>\n",
              "      <td>XXXXXXXXXX12230</td>\n",
              "      <td>Null</td>\n",
              "      <td>Cirurgião bucal</td>\n",
              "      <td>Null</td>\n",
              "      <td>Port + Refin</td>\n",
              "      <td>41432.39</td>\n",
              "      <td>40</td>\n",
              "      <td>40</td>\n",
              "      <td>8</td>\n",
              "      <td>8</td>\n",
              "      <td>0.70787</td>\n",
              "      <td>1193.00</td>\n",
              "      <td>47720.0000</td>\n",
              "    </tr>\n",
              "    <tr>\n",
              "      <th>6</th>\n",
              "      <td>a31aba3a584cedd544a31cfe3af96a0dc06bad17</td>\n",
              "      <td>9023412229198</td>\n",
              "      <td>2019-11-22</td>\n",
              "      <td>1997-02-10</td>\n",
              "      <td>26</td>\n",
              "      <td>M</td>\n",
              "      <td>Null</td>\n",
              "      <td>Null</td>\n",
              "      <td>Pernambuco</td>\n",
              "      <td>XXXXX-022</td>\n",
              "      <td>XXXXXXXXXXXXX9-1921</td>\n",
              "      <td>XXXXXXXXXX13258</td>\n",
              "      <td>Null</td>\n",
              "      <td>Produtor de audio visual</td>\n",
              "      <td>25474923a0bac6ed841e0b776b035c73c444da1f</td>\n",
              "      <td>Prod</td>\n",
              "      <td>16870.66</td>\n",
              "      <td>60</td>\n",
              "      <td>60</td>\n",
              "      <td>9</td>\n",
              "      <td>9</td>\n",
              "      <td>1.13080</td>\n",
              "      <td>388.80</td>\n",
              "      <td>23328.0000</td>\n",
              "    </tr>\n",
              "    <tr>\n",
              "      <th>7</th>\n",
              "      <td>b0798e02f03eb1ad4ef5a8cbbc69e2732a7052d0</td>\n",
              "      <td>4167168660296</td>\n",
              "      <td>2021-12-08</td>\n",
              "      <td>1997-10-18</td>\n",
              "      <td>25</td>\n",
              "      <td>F</td>\n",
              "      <td>Vila Da Ária</td>\n",
              "      <td>Araújo</td>\n",
              "      <td>Alagoas</td>\n",
              "      <td>XXXXX007</td>\n",
              "      <td>XXXXXXXXXXXXX4284</td>\n",
              "      <td>Null</td>\n",
              "      <td>XXXXXXXXXXXXXara@aXXXXXXXXXXXX</td>\n",
              "      <td>Velejador</td>\n",
              "      <td>8e9e183c401487c93eb9c9127d15e0908208d252</td>\n",
              "      <td>Refin</td>\n",
              "      <td>2832.39</td>\n",
              "      <td>80</td>\n",
              "      <td>80</td>\n",
              "      <td>12</td>\n",
              "      <td>12</td>\n",
              "      <td>2.67154</td>\n",
              "      <td>86.12</td>\n",
              "      <td>6889.6000</td>\n",
              "    </tr>\n",
              "    <tr>\n",
              "      <th>8</th>\n",
              "      <td>1676c0f980840a4fb7d808fc831412e8cc0c1b29</td>\n",
              "      <td>7565583960651</td>\n",
              "      <td>2022-08-18</td>\n",
              "      <td>1984-06-17</td>\n",
              "      <td>38</td>\n",
              "      <td>M</td>\n",
              "      <td>Vila Tirol</td>\n",
              "      <td>Campos</td>\n",
              "      <td>Alagoas</td>\n",
              "      <td>XXXXX935</td>\n",
              "      <td>XXXXXXXXXXXXX42 5215</td>\n",
              "      <td>Null</td>\n",
              "      <td>XXXXXXXXlyn@pXXXXXXXXXXXX</td>\n",
              "      <td>Soldado</td>\n",
              "      <td>ecfeed45ad3c07bc0533b71937ff3fb0be094a12</td>\n",
              "      <td>Prod</td>\n",
              "      <td>22710.72</td>\n",
              "      <td>40</td>\n",
              "      <td>40</td>\n",
              "      <td>10</td>\n",
              "      <td>10</td>\n",
              "      <td>3.64272</td>\n",
              "      <td>1087.15</td>\n",
              "      <td>43486.0000</td>\n",
              "    </tr>\n",
              "    <tr>\n",
              "      <th>9</th>\n",
              "      <td>3411c0726cfae279d32d3a6a1d1c8a8fc560ffd5</td>\n",
              "      <td>7872966313608</td>\n",
              "      <td>2019-12-04</td>\n",
              "      <td>1999-11-17</td>\n",
              "      <td>23</td>\n",
              "      <td>M</td>\n",
              "      <td>Nossa Senhora Do Rosário</td>\n",
              "      <td>Fogaça</td>\n",
              "      <td>Ceará</td>\n",
              "      <td>XXXXX304</td>\n",
              "      <td>XXXXXXXXXXXXX48 3612</td>\n",
              "      <td>Null</td>\n",
              "      <td>XXXXXXXXcia@aXXXXXXXXXXXX</td>\n",
              "      <td>Null</td>\n",
              "      <td>8032e14ec79691c862249d17e0050d7da49913b9</td>\n",
              "      <td>Prod</td>\n",
              "      <td>18878.32</td>\n",
              "      <td>40</td>\n",
              "      <td>40</td>\n",
              "      <td>0</td>\n",
              "      <td>0</td>\n",
              "      <td>0.99986</td>\n",
              "      <td>574.94</td>\n",
              "      <td>22997.6000</td>\n",
              "    </tr>\n",
              "  </tbody>\n",
              "</table>\n",
              "</div>\n",
              "    <div class=\"colab-df-buttons\">\n",
              "\n",
              "  <div class=\"colab-df-container\">\n",
              "    <button class=\"colab-df-convert\" onclick=\"convertToInteractive('df-311a504a-5f6e-4dd9-b1f8-6299f4b0781d')\"\n",
              "            title=\"Convert this dataframe to an interactive table.\"\n",
              "            style=\"display:none;\">\n",
              "\n",
              "  <svg xmlns=\"http://www.w3.org/2000/svg\" height=\"24px\" viewBox=\"0 -960 960 960\">\n",
              "    <path d=\"M120-120v-720h720v720H120Zm60-500h600v-160H180v160Zm220 220h160v-160H400v160Zm0 220h160v-160H400v160ZM180-400h160v-160H180v160Zm440 0h160v-160H620v160ZM180-180h160v-160H180v160Zm440 0h160v-160H620v160Z\"/>\n",
              "  </svg>\n",
              "    </button>\n",
              "\n",
              "  <style>\n",
              "    .colab-df-container {\n",
              "      display:flex;\n",
              "      gap: 12px;\n",
              "    }\n",
              "\n",
              "    .colab-df-convert {\n",
              "      background-color: #E8F0FE;\n",
              "      border: none;\n",
              "      border-radius: 50%;\n",
              "      cursor: pointer;\n",
              "      display: none;\n",
              "      fill: #1967D2;\n",
              "      height: 32px;\n",
              "      padding: 0 0 0 0;\n",
              "      width: 32px;\n",
              "    }\n",
              "\n",
              "    .colab-df-convert:hover {\n",
              "      background-color: #E2EBFA;\n",
              "      box-shadow: 0px 1px 2px rgba(60, 64, 67, 0.3), 0px 1px 3px 1px rgba(60, 64, 67, 0.15);\n",
              "      fill: #174EA6;\n",
              "    }\n",
              "\n",
              "    .colab-df-buttons div {\n",
              "      margin-bottom: 4px;\n",
              "    }\n",
              "\n",
              "    [theme=dark] .colab-df-convert {\n",
              "      background-color: #3B4455;\n",
              "      fill: #D2E3FC;\n",
              "    }\n",
              "\n",
              "    [theme=dark] .colab-df-convert:hover {\n",
              "      background-color: #434B5C;\n",
              "      box-shadow: 0px 1px 3px 1px rgba(0, 0, 0, 0.15);\n",
              "      filter: drop-shadow(0px 1px 2px rgba(0, 0, 0, 0.3));\n",
              "      fill: #FFFFFF;\n",
              "    }\n",
              "  </style>\n",
              "\n",
              "    <script>\n",
              "      const buttonEl =\n",
              "        document.querySelector('#df-311a504a-5f6e-4dd9-b1f8-6299f4b0781d button.colab-df-convert');\n",
              "      buttonEl.style.display =\n",
              "        google.colab.kernel.accessAllowed ? 'block' : 'none';\n",
              "\n",
              "      async function convertToInteractive(key) {\n",
              "        const element = document.querySelector('#df-311a504a-5f6e-4dd9-b1f8-6299f4b0781d');\n",
              "        const dataTable =\n",
              "          await google.colab.kernel.invokeFunction('convertToInteractive',\n",
              "                                                    [key], {});\n",
              "        if (!dataTable) return;\n",
              "\n",
              "        const docLinkHtml = 'Like what you see? Visit the ' +\n",
              "          '<a target=\"_blank\" href=https://colab.research.google.com/notebooks/data_table.ipynb>data table notebook</a>'\n",
              "          + ' to learn more about interactive tables.';\n",
              "        element.innerHTML = '';\n",
              "        dataTable['output_type'] = 'display_data';\n",
              "        await google.colab.output.renderOutput(dataTable, element);\n",
              "        const docLink = document.createElement('div');\n",
              "        docLink.innerHTML = docLinkHtml;\n",
              "        element.appendChild(docLink);\n",
              "      }\n",
              "    </script>\n",
              "  </div>\n",
              "\n",
              "\n",
              "<div id=\"df-60123b83-3d8a-492a-8dcb-66962d3a2de4\">\n",
              "  <button class=\"colab-df-quickchart\" onclick=\"quickchart('df-60123b83-3d8a-492a-8dcb-66962d3a2de4')\"\n",
              "            title=\"Suggest charts\"\n",
              "            style=\"display:none;\">\n",
              "\n",
              "<svg xmlns=\"http://www.w3.org/2000/svg\" height=\"24px\"viewBox=\"0 0 24 24\"\n",
              "     width=\"24px\">\n",
              "    <g>\n",
              "        <path d=\"M19 3H5c-1.1 0-2 .9-2 2v14c0 1.1.9 2 2 2h14c1.1 0 2-.9 2-2V5c0-1.1-.9-2-2-2zM9 17H7v-7h2v7zm4 0h-2V7h2v10zm4 0h-2v-4h2v4z\"/>\n",
              "    </g>\n",
              "</svg>\n",
              "  </button>\n",
              "\n",
              "<style>\n",
              "  .colab-df-quickchart {\n",
              "      --bg-color: #E8F0FE;\n",
              "      --fill-color: #1967D2;\n",
              "      --hover-bg-color: #E2EBFA;\n",
              "      --hover-fill-color: #174EA6;\n",
              "      --disabled-fill-color: #AAA;\n",
              "      --disabled-bg-color: #DDD;\n",
              "  }\n",
              "\n",
              "  [theme=dark] .colab-df-quickchart {\n",
              "      --bg-color: #3B4455;\n",
              "      --fill-color: #D2E3FC;\n",
              "      --hover-bg-color: #434B5C;\n",
              "      --hover-fill-color: #FFFFFF;\n",
              "      --disabled-bg-color: #3B4455;\n",
              "      --disabled-fill-color: #666;\n",
              "  }\n",
              "\n",
              "  .colab-df-quickchart {\n",
              "    background-color: var(--bg-color);\n",
              "    border: none;\n",
              "    border-radius: 50%;\n",
              "    cursor: pointer;\n",
              "    display: none;\n",
              "    fill: var(--fill-color);\n",
              "    height: 32px;\n",
              "    padding: 0;\n",
              "    width: 32px;\n",
              "  }\n",
              "\n",
              "  .colab-df-quickchart:hover {\n",
              "    background-color: var(--hover-bg-color);\n",
              "    box-shadow: 0 1px 2px rgba(60, 64, 67, 0.3), 0 1px 3px 1px rgba(60, 64, 67, 0.15);\n",
              "    fill: var(--button-hover-fill-color);\n",
              "  }\n",
              "\n",
              "  .colab-df-quickchart-complete:disabled,\n",
              "  .colab-df-quickchart-complete:disabled:hover {\n",
              "    background-color: var(--disabled-bg-color);\n",
              "    fill: var(--disabled-fill-color);\n",
              "    box-shadow: none;\n",
              "  }\n",
              "\n",
              "  .colab-df-spinner {\n",
              "    border: 2px solid var(--fill-color);\n",
              "    border-color: transparent;\n",
              "    border-bottom-color: var(--fill-color);\n",
              "    animation:\n",
              "      spin 1s steps(1) infinite;\n",
              "  }\n",
              "\n",
              "  @keyframes spin {\n",
              "    0% {\n",
              "      border-color: transparent;\n",
              "      border-bottom-color: var(--fill-color);\n",
              "      border-left-color: var(--fill-color);\n",
              "    }\n",
              "    20% {\n",
              "      border-color: transparent;\n",
              "      border-left-color: var(--fill-color);\n",
              "      border-top-color: var(--fill-color);\n",
              "    }\n",
              "    30% {\n",
              "      border-color: transparent;\n",
              "      border-left-color: var(--fill-color);\n",
              "      border-top-color: var(--fill-color);\n",
              "      border-right-color: var(--fill-color);\n",
              "    }\n",
              "    40% {\n",
              "      border-color: transparent;\n",
              "      border-right-color: var(--fill-color);\n",
              "      border-top-color: var(--fill-color);\n",
              "    }\n",
              "    60% {\n",
              "      border-color: transparent;\n",
              "      border-right-color: var(--fill-color);\n",
              "    }\n",
              "    80% {\n",
              "      border-color: transparent;\n",
              "      border-right-color: var(--fill-color);\n",
              "      border-bottom-color: var(--fill-color);\n",
              "    }\n",
              "    90% {\n",
              "      border-color: transparent;\n",
              "      border-bottom-color: var(--fill-color);\n",
              "    }\n",
              "  }\n",
              "</style>\n",
              "\n",
              "  <script>\n",
              "    async function quickchart(key) {\n",
              "      const quickchartButtonEl =\n",
              "        document.querySelector('#' + key + ' button');\n",
              "      quickchartButtonEl.disabled = true;  // To prevent multiple clicks.\n",
              "      quickchartButtonEl.classList.add('colab-df-spinner');\n",
              "      try {\n",
              "        const charts = await google.colab.kernel.invokeFunction(\n",
              "            'suggestCharts', [key], {});\n",
              "      } catch (error) {\n",
              "        console.error('Error during call to suggestCharts:', error);\n",
              "      }\n",
              "      quickchartButtonEl.classList.remove('colab-df-spinner');\n",
              "      quickchartButtonEl.classList.add('colab-df-quickchart-complete');\n",
              "    }\n",
              "    (() => {\n",
              "      let quickchartButtonEl =\n",
              "        document.querySelector('#df-60123b83-3d8a-492a-8dcb-66962d3a2de4 button');\n",
              "      quickchartButtonEl.style.display =\n",
              "        google.colab.kernel.accessAllowed ? 'block' : 'none';\n",
              "    })();\n",
              "  </script>\n",
              "</div>\n",
              "\n",
              "    </div>\n",
              "  </div>\n"
            ],
            "application/vnd.google.colaboratory.intrinsic+json": {
              "type": "dataframe",
              "variable_name": "df"
            }
          },
          "metadata": {},
          "execution_count": 6
        }
      ]
    },
    {
      "cell_type": "markdown",
      "source": [
        "### **Label Encoder**"
      ],
      "metadata": {
        "id": "owPvT11ryl6K"
      }
    },
    {
      "cell_type": "markdown",
      "source": [
        "Variáveis que podem ser categorizadas"
      ],
      "metadata": {
        "id": "ZdMmJ0EM34Q-"
      }
    },
    {
      "cell_type": "code",
      "source": [
        "from sklearn.preprocessing import LabelEncoder"
      ],
      "metadata": {
        "id": "Vu1kU1a8yhLu"
      },
      "execution_count": 7,
      "outputs": []
    },
    {
      "cell_type": "code",
      "source": [
        "encoder = LabelEncoder()"
      ],
      "metadata": {
        "id": "3aYlQv_PyrpZ"
      },
      "execution_count": 8,
      "outputs": []
    },
    {
      "cell_type": "code",
      "source": [
        "df['estado'] = encoder.fit_transform(df['estado'])"
      ],
      "metadata": {
        "id": "QgdxbmUmzE7Q"
      },
      "execution_count": 9,
      "outputs": []
    },
    {
      "cell_type": "code",
      "source": [
        "df['genero'] = encoder.fit_transform(df['genero'])"
      ],
      "metadata": {
        "id": "xYn5OBiszRrj"
      },
      "execution_count": 10,
      "outputs": []
    },
    {
      "cell_type": "code",
      "source": [
        "df['operacao'] = encoder.fit_transform(df['operacao'])"
      ],
      "metadata": {
        "id": "vwUsEpEUzpS3"
      },
      "execution_count": 11,
      "outputs": []
    },
    {
      "cell_type": "code",
      "source": [
        "df['ocupacao'] = encoder.fit_transform(df['ocupacao'])"
      ],
      "metadata": {
        "id": "Y8DPidNdDLvF"
      },
      "execution_count": 12,
      "outputs": []
    },
    {
      "cell_type": "code",
      "source": [
        "df['estado'] = df['estado'].astype('category')\n",
        "df['genero'] = df['genero'].astype('category')\n",
        "df['ocupacao'] = df['ocupacao'].astype('category')"
      ],
      "metadata": {
        "id": "FGmYSZr30vFw"
      },
      "execution_count": 13,
      "outputs": []
    },
    {
      "cell_type": "code",
      "source": [
        "df.info()"
      ],
      "metadata": {
        "colab": {
          "base_uri": "https://localhost:8080/"
        },
        "id": "26zAMceZZk-B",
        "outputId": "9574b9db-60ef-407d-b4d8-b47aaf88c450"
      },
      "execution_count": 14,
      "outputs": [
        {
          "output_type": "stream",
          "name": "stdout",
          "text": [
            "<class 'pandas.core.frame.DataFrame'>\n",
            "RangeIndex: 14895 entries, 0 to 14894\n",
            "Data columns (total 24 columns):\n",
            " #   Column                     Non-Null Count  Dtype   \n",
            "---  ------                     --------------  -----   \n",
            " 0   id                         14895 non-null  object  \n",
            " 1   contrato                   14895 non-null  int64   \n",
            " 2   data_operacao              14895 non-null  object  \n",
            " 3   nascimento                 14895 non-null  object  \n",
            " 4   idade                      14895 non-null  object  \n",
            " 5   genero                     14895 non-null  category\n",
            " 6   bairro                     14895 non-null  object  \n",
            " 7   cidade                     14895 non-null  object  \n",
            " 8   estado                     14895 non-null  category\n",
            " 9   cep                        14895 non-null  object  \n",
            " 10  telefone                   14895 non-null  object  \n",
            " 11  cartao                     14895 non-null  object  \n",
            " 12  email                      14895 non-null  object  \n",
            " 13  ocupacao                   14895 non-null  category\n",
            " 14  empregador                 14895 non-null  object  \n",
            " 15  operacao                   14895 non-null  int64   \n",
            " 16  valor_principal            14895 non-null  float64 \n",
            " 17  parcelas                   14895 non-null  int64   \n",
            " 18  quantidade_parcelas        14895 non-null  int64   \n",
            " 19  parcelas_pagas             14895 non-null  int64   \n",
            " 20  quantidade_parcelas_pagas  14895 non-null  int64   \n",
            " 21  taxa_contrato              14895 non-null  float64 \n",
            " 22  valor_parcela              14895 non-null  float64 \n",
            " 23  valor_bruto                14895 non-null  float64 \n",
            "dtypes: category(3), float64(4), int64(6), object(11)\n",
            "memory usage: 2.5+ MB\n"
          ]
        }
      ]
    },
    {
      "cell_type": "markdown",
      "source": [],
      "metadata": {
        "id": "TOArPrw50uGR"
      }
    },
    {
      "cell_type": "markdown",
      "source": [
        "**Passando data de operação para tipo data / Criação da variável safra**"
      ],
      "metadata": {
        "id": "K1zhdEMbDTnU"
      }
    },
    {
      "cell_type": "code",
      "source": [
        "df['data_operacao'] = pd.to_datetime(df['data_operacao'])"
      ],
      "metadata": {
        "id": "DN0lqWBE66Ez"
      },
      "execution_count": 15,
      "outputs": []
    },
    {
      "cell_type": "code",
      "source": [
        "df['ano'] = df['data_operacao'].dt.year"
      ],
      "metadata": {
        "id": "n-f7okru6mDG"
      },
      "execution_count": 16,
      "outputs": []
    },
    {
      "cell_type": "code",
      "source": [
        "df['safra'] = df['ano'].apply(lambda x: str(x) + ' Safra')"
      ],
      "metadata": {
        "id": "d9XQirYS6qIB"
      },
      "execution_count": 17,
      "outputs": []
    },
    {
      "cell_type": "code",
      "source": [
        "safra = df.pop('safra')"
      ],
      "metadata": {
        "id": "ccuEcYHg7xVu"
      },
      "execution_count": 18,
      "outputs": []
    },
    {
      "cell_type": "code",
      "source": [
        "ano=df.pop('ano')"
      ],
      "metadata": {
        "id": "N7kTwuIT4K-Y"
      },
      "execution_count": 19,
      "outputs": []
    },
    {
      "cell_type": "code",
      "source": [
        "posicao_insercao = df.columns.get_loc('data_operacao') + 1\n",
        "df.insert(posicao_insercao, 'safra', safra)"
      ],
      "metadata": {
        "id": "u2z2m_AZ8Cdr"
      },
      "execution_count": 20,
      "outputs": []
    },
    {
      "cell_type": "code",
      "source": [
        "posicao_insercao = df.columns.get_loc('data_operacao') + 1\n",
        "df.insert(posicao_insercao, 'ano', ano)"
      ],
      "metadata": {
        "id": "660EOmw74QSM"
      },
      "execution_count": 21,
      "outputs": []
    },
    {
      "cell_type": "code",
      "source": [
        "df['safra'] = encoder.fit_transform(df['safra'])"
      ],
      "metadata": {
        "id": "T7_9YiIO8Vj-"
      },
      "execution_count": 22,
      "outputs": []
    },
    {
      "cell_type": "code",
      "source": [
        "df['safra'] = df['safra'].astype('category')"
      ],
      "metadata": {
        "id": "M0fpE-paZbUd"
      },
      "execution_count": 23,
      "outputs": []
    },
    {
      "cell_type": "code",
      "source": [
        "df['nascimento'] = pd.to_datetime(df['nascimento'], errors='coerce')"
      ],
      "metadata": {
        "id": "zsz7DsSt-D0m"
      },
      "execution_count": 24,
      "outputs": []
    },
    {
      "cell_type": "code",
      "source": [
        "df.head()"
      ],
      "metadata": {
        "colab": {
          "base_uri": "https://localhost:8080/",
          "height": 330
        },
        "id": "HMEIvPQ-9snx",
        "outputId": "a477a642-7168-48a7-d162-d30d40e61b63"
      },
      "execution_count": 25,
      "outputs": [
        {
          "output_type": "execute_result",
          "data": {
            "text/plain": [
              "                                         id       contrato data_operacao  \\\n",
              "0  682e8b505c30bb12052f9457516dc47e7eafc8ed  1760865030954    2019-09-13   \n",
              "1  45ad9d444a276407df8b6f47c0fcc5b127dadaaa  6023030871505    2022-11-03   \n",
              "2  81cec74ea2ca41535fee03daeb410ddbdf12906a   560263027614    2021-06-13   \n",
              "3  4e987d9178e2dcb07c2bf3878736233a676a0a87  1397061435926    2021-08-30   \n",
              "4  595943ecdb32a24ccb6ef374b6d865f3b60d7130  3823566005671    2022-11-16   \n",
              "\n",
              "    ano safra nascimento idade genero             bairro              cidade  \\\n",
              "0  2019     0 1974-06-08    48      0  Conjunto Paulo Vi             Moreira   \n",
              "1  2022     3 1988-07-23    34      0        Minas Caixa  da Mota de Azevedo   \n",
              "2  2021     2 1975-08-17  Null      2   Vila Mantiqueira      Rocha da Prata   \n",
              "3  2021     2 1982-08-17    40      0           Anchieta             da Mata   \n",
              "4  2022     3 1985-07-14    37      0  Conjunto Floramar    Moreira de Goiás   \n",
              "\n",
              "  estado        cep             telefone            cartao  \\\n",
              "0     21  XXXXX-685    XXXXXXXXXXXXX2797              Null   \n",
              "1      2   XXXXX735                 Null  XXXXXXXXXX562960   \n",
              "2     24   XXXXX863  XXXXXXXXXXXXX1-3076      XXXXXXXXXX55   \n",
              "3     13       Null                 Null              Null   \n",
              "4     10   XXXXX384    XXXXXXXXXXXXX7089              Null   \n",
              "\n",
              "                          email ocupacao  \\\n",
              "0         XXXXa51@mXXXXXXXXXXXX      293   \n",
              "1  XXXXXXXXXXXnda@tXXXXXXXXXXXX      473   \n",
              "2                          Null      490   \n",
              "3                          Null      161   \n",
              "4                          Null      705   \n",
              "\n",
              "                                 empregador  operacao  valor_principal  \\\n",
              "0  e53d5342e82e0ce6061bc3aaea1a986f24a73613         1         27810.69   \n",
              "1  f715ffaf2c8294df43df3357c6a37f04b900fb06         2          9589.96   \n",
              "2  da9515ffa45dd12791be0941b91188e51fe1cc04         1         42963.20   \n",
              "3  0c1741dc26339e6af3e4b6badcf984d383d1ca44         0          2954.14   \n",
              "4  f97b240dc24290c19e717d7a654747aa31722ad3         1         31186.17   \n",
              "\n",
              "   parcelas  quantidade_parcelas  parcelas_pagas  quantidade_parcelas_pagas  \\\n",
              "0       100                  100              20                         20   \n",
              "1        40                   40               6                          6   \n",
              "2       100                  100              10                         10   \n",
              "3       120                  120               6                          6   \n",
              "4       100                  100              10                         10   \n",
              "\n",
              "   taxa_contrato  valor_parcela  valor_bruto  \n",
              "0        1.46493         531.56   53156.0000  \n",
              "1        4.53587         523.82   20952.8000  \n",
              "2        1.44749         815.71   81571.0000  \n",
              "3        1.82904          60.96    7315.1997  \n",
              "4        3.28340        1066.11  106611.0000  "
            ],
            "text/html": [
              "\n",
              "  <div id=\"df-322d1333-0f12-4ea5-b199-f64559ba94ab\" class=\"colab-df-container\">\n",
              "    <div>\n",
              "<style scoped>\n",
              "    .dataframe tbody tr th:only-of-type {\n",
              "        vertical-align: middle;\n",
              "    }\n",
              "\n",
              "    .dataframe tbody tr th {\n",
              "        vertical-align: top;\n",
              "    }\n",
              "\n",
              "    .dataframe thead th {\n",
              "        text-align: right;\n",
              "    }\n",
              "</style>\n",
              "<table border=\"1\" class=\"dataframe\">\n",
              "  <thead>\n",
              "    <tr style=\"text-align: right;\">\n",
              "      <th></th>\n",
              "      <th>id</th>\n",
              "      <th>contrato</th>\n",
              "      <th>data_operacao</th>\n",
              "      <th>ano</th>\n",
              "      <th>safra</th>\n",
              "      <th>nascimento</th>\n",
              "      <th>idade</th>\n",
              "      <th>genero</th>\n",
              "      <th>bairro</th>\n",
              "      <th>cidade</th>\n",
              "      <th>estado</th>\n",
              "      <th>cep</th>\n",
              "      <th>telefone</th>\n",
              "      <th>cartao</th>\n",
              "      <th>email</th>\n",
              "      <th>ocupacao</th>\n",
              "      <th>empregador</th>\n",
              "      <th>operacao</th>\n",
              "      <th>valor_principal</th>\n",
              "      <th>parcelas</th>\n",
              "      <th>quantidade_parcelas</th>\n",
              "      <th>parcelas_pagas</th>\n",
              "      <th>quantidade_parcelas_pagas</th>\n",
              "      <th>taxa_contrato</th>\n",
              "      <th>valor_parcela</th>\n",
              "      <th>valor_bruto</th>\n",
              "    </tr>\n",
              "  </thead>\n",
              "  <tbody>\n",
              "    <tr>\n",
              "      <th>0</th>\n",
              "      <td>682e8b505c30bb12052f9457516dc47e7eafc8ed</td>\n",
              "      <td>1760865030954</td>\n",
              "      <td>2019-09-13</td>\n",
              "      <td>2019</td>\n",
              "      <td>0</td>\n",
              "      <td>1974-06-08</td>\n",
              "      <td>48</td>\n",
              "      <td>0</td>\n",
              "      <td>Conjunto Paulo Vi</td>\n",
              "      <td>Moreira</td>\n",
              "      <td>21</td>\n",
              "      <td>XXXXX-685</td>\n",
              "      <td>XXXXXXXXXXXXX2797</td>\n",
              "      <td>Null</td>\n",
              "      <td>XXXXa51@mXXXXXXXXXXXX</td>\n",
              "      <td>293</td>\n",
              "      <td>e53d5342e82e0ce6061bc3aaea1a986f24a73613</td>\n",
              "      <td>1</td>\n",
              "      <td>27810.69</td>\n",
              "      <td>100</td>\n",
              "      <td>100</td>\n",
              "      <td>20</td>\n",
              "      <td>20</td>\n",
              "      <td>1.46493</td>\n",
              "      <td>531.56</td>\n",
              "      <td>53156.0000</td>\n",
              "    </tr>\n",
              "    <tr>\n",
              "      <th>1</th>\n",
              "      <td>45ad9d444a276407df8b6f47c0fcc5b127dadaaa</td>\n",
              "      <td>6023030871505</td>\n",
              "      <td>2022-11-03</td>\n",
              "      <td>2022</td>\n",
              "      <td>3</td>\n",
              "      <td>1988-07-23</td>\n",
              "      <td>34</td>\n",
              "      <td>0</td>\n",
              "      <td>Minas Caixa</td>\n",
              "      <td>da Mota de Azevedo</td>\n",
              "      <td>2</td>\n",
              "      <td>XXXXX735</td>\n",
              "      <td>Null</td>\n",
              "      <td>XXXXXXXXXX562960</td>\n",
              "      <td>XXXXXXXXXXXnda@tXXXXXXXXXXXX</td>\n",
              "      <td>473</td>\n",
              "      <td>f715ffaf2c8294df43df3357c6a37f04b900fb06</td>\n",
              "      <td>2</td>\n",
              "      <td>9589.96</td>\n",
              "      <td>40</td>\n",
              "      <td>40</td>\n",
              "      <td>6</td>\n",
              "      <td>6</td>\n",
              "      <td>4.53587</td>\n",
              "      <td>523.82</td>\n",
              "      <td>20952.8000</td>\n",
              "    </tr>\n",
              "    <tr>\n",
              "      <th>2</th>\n",
              "      <td>81cec74ea2ca41535fee03daeb410ddbdf12906a</td>\n",
              "      <td>560263027614</td>\n",
              "      <td>2021-06-13</td>\n",
              "      <td>2021</td>\n",
              "      <td>2</td>\n",
              "      <td>1975-08-17</td>\n",
              "      <td>Null</td>\n",
              "      <td>2</td>\n",
              "      <td>Vila Mantiqueira</td>\n",
              "      <td>Rocha da Prata</td>\n",
              "      <td>24</td>\n",
              "      <td>XXXXX863</td>\n",
              "      <td>XXXXXXXXXXXXX1-3076</td>\n",
              "      <td>XXXXXXXXXX55</td>\n",
              "      <td>Null</td>\n",
              "      <td>490</td>\n",
              "      <td>da9515ffa45dd12791be0941b91188e51fe1cc04</td>\n",
              "      <td>1</td>\n",
              "      <td>42963.20</td>\n",
              "      <td>100</td>\n",
              "      <td>100</td>\n",
              "      <td>10</td>\n",
              "      <td>10</td>\n",
              "      <td>1.44749</td>\n",
              "      <td>815.71</td>\n",
              "      <td>81571.0000</td>\n",
              "    </tr>\n",
              "    <tr>\n",
              "      <th>3</th>\n",
              "      <td>4e987d9178e2dcb07c2bf3878736233a676a0a87</td>\n",
              "      <td>1397061435926</td>\n",
              "      <td>2021-08-30</td>\n",
              "      <td>2021</td>\n",
              "      <td>2</td>\n",
              "      <td>1982-08-17</td>\n",
              "      <td>40</td>\n",
              "      <td>0</td>\n",
              "      <td>Anchieta</td>\n",
              "      <td>da Mata</td>\n",
              "      <td>13</td>\n",
              "      <td>Null</td>\n",
              "      <td>Null</td>\n",
              "      <td>Null</td>\n",
              "      <td>Null</td>\n",
              "      <td>161</td>\n",
              "      <td>0c1741dc26339e6af3e4b6badcf984d383d1ca44</td>\n",
              "      <td>0</td>\n",
              "      <td>2954.14</td>\n",
              "      <td>120</td>\n",
              "      <td>120</td>\n",
              "      <td>6</td>\n",
              "      <td>6</td>\n",
              "      <td>1.82904</td>\n",
              "      <td>60.96</td>\n",
              "      <td>7315.1997</td>\n",
              "    </tr>\n",
              "    <tr>\n",
              "      <th>4</th>\n",
              "      <td>595943ecdb32a24ccb6ef374b6d865f3b60d7130</td>\n",
              "      <td>3823566005671</td>\n",
              "      <td>2022-11-16</td>\n",
              "      <td>2022</td>\n",
              "      <td>3</td>\n",
              "      <td>1985-07-14</td>\n",
              "      <td>37</td>\n",
              "      <td>0</td>\n",
              "      <td>Conjunto Floramar</td>\n",
              "      <td>Moreira de Goiás</td>\n",
              "      <td>10</td>\n",
              "      <td>XXXXX384</td>\n",
              "      <td>XXXXXXXXXXXXX7089</td>\n",
              "      <td>Null</td>\n",
              "      <td>Null</td>\n",
              "      <td>705</td>\n",
              "      <td>f97b240dc24290c19e717d7a654747aa31722ad3</td>\n",
              "      <td>1</td>\n",
              "      <td>31186.17</td>\n",
              "      <td>100</td>\n",
              "      <td>100</td>\n",
              "      <td>10</td>\n",
              "      <td>10</td>\n",
              "      <td>3.28340</td>\n",
              "      <td>1066.11</td>\n",
              "      <td>106611.0000</td>\n",
              "    </tr>\n",
              "  </tbody>\n",
              "</table>\n",
              "</div>\n",
              "    <div class=\"colab-df-buttons\">\n",
              "\n",
              "  <div class=\"colab-df-container\">\n",
              "    <button class=\"colab-df-convert\" onclick=\"convertToInteractive('df-322d1333-0f12-4ea5-b199-f64559ba94ab')\"\n",
              "            title=\"Convert this dataframe to an interactive table.\"\n",
              "            style=\"display:none;\">\n",
              "\n",
              "  <svg xmlns=\"http://www.w3.org/2000/svg\" height=\"24px\" viewBox=\"0 -960 960 960\">\n",
              "    <path d=\"M120-120v-720h720v720H120Zm60-500h600v-160H180v160Zm220 220h160v-160H400v160Zm0 220h160v-160H400v160ZM180-400h160v-160H180v160Zm440 0h160v-160H620v160ZM180-180h160v-160H180v160Zm440 0h160v-160H620v160Z\"/>\n",
              "  </svg>\n",
              "    </button>\n",
              "\n",
              "  <style>\n",
              "    .colab-df-container {\n",
              "      display:flex;\n",
              "      gap: 12px;\n",
              "    }\n",
              "\n",
              "    .colab-df-convert {\n",
              "      background-color: #E8F0FE;\n",
              "      border: none;\n",
              "      border-radius: 50%;\n",
              "      cursor: pointer;\n",
              "      display: none;\n",
              "      fill: #1967D2;\n",
              "      height: 32px;\n",
              "      padding: 0 0 0 0;\n",
              "      width: 32px;\n",
              "    }\n",
              "\n",
              "    .colab-df-convert:hover {\n",
              "      background-color: #E2EBFA;\n",
              "      box-shadow: 0px 1px 2px rgba(60, 64, 67, 0.3), 0px 1px 3px 1px rgba(60, 64, 67, 0.15);\n",
              "      fill: #174EA6;\n",
              "    }\n",
              "\n",
              "    .colab-df-buttons div {\n",
              "      margin-bottom: 4px;\n",
              "    }\n",
              "\n",
              "    [theme=dark] .colab-df-convert {\n",
              "      background-color: #3B4455;\n",
              "      fill: #D2E3FC;\n",
              "    }\n",
              "\n",
              "    [theme=dark] .colab-df-convert:hover {\n",
              "      background-color: #434B5C;\n",
              "      box-shadow: 0px 1px 3px 1px rgba(0, 0, 0, 0.15);\n",
              "      filter: drop-shadow(0px 1px 2px rgba(0, 0, 0, 0.3));\n",
              "      fill: #FFFFFF;\n",
              "    }\n",
              "  </style>\n",
              "\n",
              "    <script>\n",
              "      const buttonEl =\n",
              "        document.querySelector('#df-322d1333-0f12-4ea5-b199-f64559ba94ab button.colab-df-convert');\n",
              "      buttonEl.style.display =\n",
              "        google.colab.kernel.accessAllowed ? 'block' : 'none';\n",
              "\n",
              "      async function convertToInteractive(key) {\n",
              "        const element = document.querySelector('#df-322d1333-0f12-4ea5-b199-f64559ba94ab');\n",
              "        const dataTable =\n",
              "          await google.colab.kernel.invokeFunction('convertToInteractive',\n",
              "                                                    [key], {});\n",
              "        if (!dataTable) return;\n",
              "\n",
              "        const docLinkHtml = 'Like what you see? Visit the ' +\n",
              "          '<a target=\"_blank\" href=https://colab.research.google.com/notebooks/data_table.ipynb>data table notebook</a>'\n",
              "          + ' to learn more about interactive tables.';\n",
              "        element.innerHTML = '';\n",
              "        dataTable['output_type'] = 'display_data';\n",
              "        await google.colab.output.renderOutput(dataTable, element);\n",
              "        const docLink = document.createElement('div');\n",
              "        docLink.innerHTML = docLinkHtml;\n",
              "        element.appendChild(docLink);\n",
              "      }\n",
              "    </script>\n",
              "  </div>\n",
              "\n",
              "\n",
              "<div id=\"df-3b4616e3-c030-4a8c-9b46-550f6e2219b9\">\n",
              "  <button class=\"colab-df-quickchart\" onclick=\"quickchart('df-3b4616e3-c030-4a8c-9b46-550f6e2219b9')\"\n",
              "            title=\"Suggest charts\"\n",
              "            style=\"display:none;\">\n",
              "\n",
              "<svg xmlns=\"http://www.w3.org/2000/svg\" height=\"24px\"viewBox=\"0 0 24 24\"\n",
              "     width=\"24px\">\n",
              "    <g>\n",
              "        <path d=\"M19 3H5c-1.1 0-2 .9-2 2v14c0 1.1.9 2 2 2h14c1.1 0 2-.9 2-2V5c0-1.1-.9-2-2-2zM9 17H7v-7h2v7zm4 0h-2V7h2v10zm4 0h-2v-4h2v4z\"/>\n",
              "    </g>\n",
              "</svg>\n",
              "  </button>\n",
              "\n",
              "<style>\n",
              "  .colab-df-quickchart {\n",
              "      --bg-color: #E8F0FE;\n",
              "      --fill-color: #1967D2;\n",
              "      --hover-bg-color: #E2EBFA;\n",
              "      --hover-fill-color: #174EA6;\n",
              "      --disabled-fill-color: #AAA;\n",
              "      --disabled-bg-color: #DDD;\n",
              "  }\n",
              "\n",
              "  [theme=dark] .colab-df-quickchart {\n",
              "      --bg-color: #3B4455;\n",
              "      --fill-color: #D2E3FC;\n",
              "      --hover-bg-color: #434B5C;\n",
              "      --hover-fill-color: #FFFFFF;\n",
              "      --disabled-bg-color: #3B4455;\n",
              "      --disabled-fill-color: #666;\n",
              "  }\n",
              "\n",
              "  .colab-df-quickchart {\n",
              "    background-color: var(--bg-color);\n",
              "    border: none;\n",
              "    border-radius: 50%;\n",
              "    cursor: pointer;\n",
              "    display: none;\n",
              "    fill: var(--fill-color);\n",
              "    height: 32px;\n",
              "    padding: 0;\n",
              "    width: 32px;\n",
              "  }\n",
              "\n",
              "  .colab-df-quickchart:hover {\n",
              "    background-color: var(--hover-bg-color);\n",
              "    box-shadow: 0 1px 2px rgba(60, 64, 67, 0.3), 0 1px 3px 1px rgba(60, 64, 67, 0.15);\n",
              "    fill: var(--button-hover-fill-color);\n",
              "  }\n",
              "\n",
              "  .colab-df-quickchart-complete:disabled,\n",
              "  .colab-df-quickchart-complete:disabled:hover {\n",
              "    background-color: var(--disabled-bg-color);\n",
              "    fill: var(--disabled-fill-color);\n",
              "    box-shadow: none;\n",
              "  }\n",
              "\n",
              "  .colab-df-spinner {\n",
              "    border: 2px solid var(--fill-color);\n",
              "    border-color: transparent;\n",
              "    border-bottom-color: var(--fill-color);\n",
              "    animation:\n",
              "      spin 1s steps(1) infinite;\n",
              "  }\n",
              "\n",
              "  @keyframes spin {\n",
              "    0% {\n",
              "      border-color: transparent;\n",
              "      border-bottom-color: var(--fill-color);\n",
              "      border-left-color: var(--fill-color);\n",
              "    }\n",
              "    20% {\n",
              "      border-color: transparent;\n",
              "      border-left-color: var(--fill-color);\n",
              "      border-top-color: var(--fill-color);\n",
              "    }\n",
              "    30% {\n",
              "      border-color: transparent;\n",
              "      border-left-color: var(--fill-color);\n",
              "      border-top-color: var(--fill-color);\n",
              "      border-right-color: var(--fill-color);\n",
              "    }\n",
              "    40% {\n",
              "      border-color: transparent;\n",
              "      border-right-color: var(--fill-color);\n",
              "      border-top-color: var(--fill-color);\n",
              "    }\n",
              "    60% {\n",
              "      border-color: transparent;\n",
              "      border-right-color: var(--fill-color);\n",
              "    }\n",
              "    80% {\n",
              "      border-color: transparent;\n",
              "      border-right-color: var(--fill-color);\n",
              "      border-bottom-color: var(--fill-color);\n",
              "    }\n",
              "    90% {\n",
              "      border-color: transparent;\n",
              "      border-bottom-color: var(--fill-color);\n",
              "    }\n",
              "  }\n",
              "</style>\n",
              "\n",
              "  <script>\n",
              "    async function quickchart(key) {\n",
              "      const quickchartButtonEl =\n",
              "        document.querySelector('#' + key + ' button');\n",
              "      quickchartButtonEl.disabled = true;  // To prevent multiple clicks.\n",
              "      quickchartButtonEl.classList.add('colab-df-spinner');\n",
              "      try {\n",
              "        const charts = await google.colab.kernel.invokeFunction(\n",
              "            'suggestCharts', [key], {});\n",
              "      } catch (error) {\n",
              "        console.error('Error during call to suggestCharts:', error);\n",
              "      }\n",
              "      quickchartButtonEl.classList.remove('colab-df-spinner');\n",
              "      quickchartButtonEl.classList.add('colab-df-quickchart-complete');\n",
              "    }\n",
              "    (() => {\n",
              "      let quickchartButtonEl =\n",
              "        document.querySelector('#df-3b4616e3-c030-4a8c-9b46-550f6e2219b9 button');\n",
              "      quickchartButtonEl.style.display =\n",
              "        google.colab.kernel.accessAllowed ? 'block' : 'none';\n",
              "    })();\n",
              "  </script>\n",
              "</div>\n",
              "\n",
              "    </div>\n",
              "  </div>\n"
            ],
            "application/vnd.google.colaboratory.intrinsic+json": {
              "type": "dataframe",
              "variable_name": "df"
            }
          },
          "metadata": {},
          "execution_count": 25
        }
      ]
    },
    {
      "cell_type": "code",
      "source": [
        "df.info()"
      ],
      "metadata": {
        "colab": {
          "base_uri": "https://localhost:8080/"
        },
        "id": "esPsgIfH9cqy",
        "outputId": "5df28d95-ae58-45e0-864b-c97f9004ce02"
      },
      "execution_count": 26,
      "outputs": [
        {
          "output_type": "stream",
          "name": "stdout",
          "text": [
            "<class 'pandas.core.frame.DataFrame'>\n",
            "RangeIndex: 14895 entries, 0 to 14894\n",
            "Data columns (total 26 columns):\n",
            " #   Column                     Non-Null Count  Dtype         \n",
            "---  ------                     --------------  -----         \n",
            " 0   id                         14895 non-null  object        \n",
            " 1   contrato                   14895 non-null  int64         \n",
            " 2   data_operacao              14895 non-null  datetime64[ns]\n",
            " 3   ano                        14895 non-null  int32         \n",
            " 4   safra                      14895 non-null  category      \n",
            " 5   nascimento                 14895 non-null  datetime64[ns]\n",
            " 6   idade                      14895 non-null  object        \n",
            " 7   genero                     14895 non-null  category      \n",
            " 8   bairro                     14895 non-null  object        \n",
            " 9   cidade                     14895 non-null  object        \n",
            " 10  estado                     14895 non-null  category      \n",
            " 11  cep                        14895 non-null  object        \n",
            " 12  telefone                   14895 non-null  object        \n",
            " 13  cartao                     14895 non-null  object        \n",
            " 14  email                      14895 non-null  object        \n",
            " 15  ocupacao                   14895 non-null  category      \n",
            " 16  empregador                 14895 non-null  object        \n",
            " 17  operacao                   14895 non-null  int64         \n",
            " 18  valor_principal            14895 non-null  float64       \n",
            " 19  parcelas                   14895 non-null  int64         \n",
            " 20  quantidade_parcelas        14895 non-null  int64         \n",
            " 21  parcelas_pagas             14895 non-null  int64         \n",
            " 22  quantidade_parcelas_pagas  14895 non-null  int64         \n",
            " 23  taxa_contrato              14895 non-null  float64       \n",
            " 24  valor_parcela              14895 non-null  float64       \n",
            " 25  valor_bruto                14895 non-null  float64       \n",
            "dtypes: category(4), datetime64[ns](2), float64(4), int32(1), int64(6), object(9)\n",
            "memory usage: 2.5+ MB\n"
          ]
        }
      ]
    },
    {
      "cell_type": "markdown",
      "source": [
        "**Converter Variável idade de objeto para inteiro**"
      ],
      "metadata": {
        "id": "YPfKLRXhGghY"
      }
    },
    {
      "cell_type": "code",
      "source": [
        "df['idade'] = pd.to_numeric(df['idade'], errors='coerce')"
      ],
      "metadata": {
        "id": "TRSVzdWwGp9C"
      },
      "execution_count": 27,
      "outputs": []
    },
    {
      "cell_type": "code",
      "source": [
        "df['idade'] = df['idade'].fillna(0).astype(int)"
      ],
      "metadata": {
        "id": "geJMgL3MGuOa"
      },
      "execution_count": 28,
      "outputs": []
    },
    {
      "cell_type": "code",
      "source": [
        "df.info()"
      ],
      "metadata": {
        "colab": {
          "base_uri": "https://localhost:8080/"
        },
        "id": "is6LtQvZ_Ogm",
        "outputId": "c892b5ea-8319-4423-8c0d-7d903cfebfb4"
      },
      "execution_count": 29,
      "outputs": [
        {
          "output_type": "stream",
          "name": "stdout",
          "text": [
            "<class 'pandas.core.frame.DataFrame'>\n",
            "RangeIndex: 14895 entries, 0 to 14894\n",
            "Data columns (total 26 columns):\n",
            " #   Column                     Non-Null Count  Dtype         \n",
            "---  ------                     --------------  -----         \n",
            " 0   id                         14895 non-null  object        \n",
            " 1   contrato                   14895 non-null  int64         \n",
            " 2   data_operacao              14895 non-null  datetime64[ns]\n",
            " 3   ano                        14895 non-null  int32         \n",
            " 4   safra                      14895 non-null  category      \n",
            " 5   nascimento                 14895 non-null  datetime64[ns]\n",
            " 6   idade                      14895 non-null  int64         \n",
            " 7   genero                     14895 non-null  category      \n",
            " 8   bairro                     14895 non-null  object        \n",
            " 9   cidade                     14895 non-null  object        \n",
            " 10  estado                     14895 non-null  category      \n",
            " 11  cep                        14895 non-null  object        \n",
            " 12  telefone                   14895 non-null  object        \n",
            " 13  cartao                     14895 non-null  object        \n",
            " 14  email                      14895 non-null  object        \n",
            " 15  ocupacao                   14895 non-null  category      \n",
            " 16  empregador                 14895 non-null  object        \n",
            " 17  operacao                   14895 non-null  int64         \n",
            " 18  valor_principal            14895 non-null  float64       \n",
            " 19  parcelas                   14895 non-null  int64         \n",
            " 20  quantidade_parcelas        14895 non-null  int64         \n",
            " 21  parcelas_pagas             14895 non-null  int64         \n",
            " 22  quantidade_parcelas_pagas  14895 non-null  int64         \n",
            " 23  taxa_contrato              14895 non-null  float64       \n",
            " 24  valor_parcela              14895 non-null  float64       \n",
            " 25  valor_bruto                14895 non-null  float64       \n",
            "dtypes: category(4), datetime64[ns](2), float64(4), int32(1), int64(7), object(8)\n",
            "memory usage: 2.5+ MB\n"
          ]
        }
      ]
    },
    {
      "cell_type": "markdown",
      "source": [
        "**Apagando as variáveis com dados pessoais**"
      ],
      "metadata": {
        "id": "F-8QcDwKEBsn"
      }
    },
    {
      "cell_type": "code",
      "source": [
        "df = df.drop('cep', axis=1)"
      ],
      "metadata": {
        "id": "8XpEF8rQCbR9"
      },
      "execution_count": 30,
      "outputs": []
    },
    {
      "cell_type": "code",
      "source": [
        "df = df.drop('cartao', axis=1)"
      ],
      "metadata": {
        "id": "fzEEJRzGCed_"
      },
      "execution_count": 31,
      "outputs": []
    },
    {
      "cell_type": "code",
      "source": [
        "df = df.drop('email', axis=1)"
      ],
      "metadata": {
        "id": "cNLDcop7CmgU"
      },
      "execution_count": 32,
      "outputs": []
    },
    {
      "cell_type": "code",
      "source": [
        "df = df.drop('id', axis=1)"
      ],
      "metadata": {
        "id": "O1LM4CgoC48D"
      },
      "execution_count": 33,
      "outputs": []
    },
    {
      "cell_type": "code",
      "source": [
        "df = df.drop('telefone', axis=1)"
      ],
      "metadata": {
        "id": "gqdPnRBRD9CD"
      },
      "execution_count": 34,
      "outputs": []
    },
    {
      "cell_type": "code",
      "source": [
        "df = df.drop('empregador', axis=1)"
      ],
      "metadata": {
        "id": "2TtVLSfmEKw-"
      },
      "execution_count": 35,
      "outputs": []
    },
    {
      "cell_type": "code",
      "source": [
        "df = df.drop('bairro', axis=1)"
      ],
      "metadata": {
        "id": "9EG54XPxEQT8"
      },
      "execution_count": 36,
      "outputs": []
    },
    {
      "cell_type": "code",
      "source": [
        "df = df.drop('cidade', axis=1)"
      ],
      "metadata": {
        "id": "Bm8EwJwdFNic"
      },
      "execution_count": 37,
      "outputs": []
    },
    {
      "cell_type": "code",
      "source": [
        "df = df.drop('contrato', axis=1)"
      ],
      "metadata": {
        "id": "NWbZ1aSAFsdf"
      },
      "execution_count": 38,
      "outputs": []
    },
    {
      "cell_type": "code",
      "source": [
        "df = df.drop('nascimento', axis=1)"
      ],
      "metadata": {
        "id": "QQ7COy8MHqqO"
      },
      "execution_count": 39,
      "outputs": []
    },
    {
      "cell_type": "code",
      "source": [
        "df = df.drop('parcelas', axis=1)"
      ],
      "metadata": {
        "id": "hsm1ZTZXjzgl"
      },
      "execution_count": 40,
      "outputs": []
    },
    {
      "cell_type": "code",
      "source": [
        "df = df.drop('parcelas_pagas', axis=1)"
      ],
      "metadata": {
        "id": "04ME93Ioj8ke"
      },
      "execution_count": 41,
      "outputs": []
    },
    {
      "cell_type": "code",
      "source": [
        "df = df.drop('ocupacao', axis=1)"
      ],
      "metadata": {
        "id": "Ic2PfZVulJEw"
      },
      "execution_count": 42,
      "outputs": []
    },
    {
      "cell_type": "code",
      "source": [
        "df = df.drop('data_operacao', axis=1)"
      ],
      "metadata": {
        "id": "iw4tlwjx9Po5"
      },
      "execution_count": 43,
      "outputs": []
    },
    {
      "cell_type": "code",
      "source": [
        "df.head(100)\n"
      ],
      "metadata": {
        "colab": {
          "base_uri": "https://localhost:8080/",
          "height": 444
        },
        "id": "oGsNGYj5_s67",
        "outputId": "5f54c199-7cfb-4de9-b5b0-bfa4d50b3ddc"
      },
      "execution_count": 44,
      "outputs": [
        {
          "output_type": "execute_result",
          "data": {
            "text/plain": [
              "     ano safra  idade genero estado  operacao  valor_principal  \\\n",
              "0   2019     0     48      0     21         1         27810.69   \n",
              "1   2022     3     34      0      2         2          9589.96   \n",
              "2   2021     2      0      2     24         1         42963.20   \n",
              "3   2021     2     40      0     13         0          2954.14   \n",
              "4   2022     3     37      0     10         1         31186.17   \n",
              "..   ...   ...    ...    ...    ...       ...              ...   \n",
              "95  2021     2     43      2     13         0          5044.11   \n",
              "96  2019     0     48      1     13         1         34314.75   \n",
              "97  2021     2     38      2     13         2          8396.37   \n",
              "98  2022     3     51      0     15         1         35010.62   \n",
              "99  2020     1     34      0     14         0         29866.89   \n",
              "\n",
              "    quantidade_parcelas  quantidade_parcelas_pagas  taxa_contrato  \\\n",
              "0                   100                         20        1.46493   \n",
              "1                    40                          6        4.53587   \n",
              "2                   100                         10        1.44749   \n",
              "3                   120                          6        1.82904   \n",
              "4                   100                         10        3.28340   \n",
              "..                  ...                        ...            ...   \n",
              "95                   60                         33        1.29325   \n",
              "96                  100                         10        1.33849   \n",
              "97                   60                          6        1.02548   \n",
              "98                  120                         30        4.25379   \n",
              "99                   40                          2        0.98736   \n",
              "\n",
              "    valor_parcela  valor_bruto  \n",
              "0          531.56   53156.0000  \n",
              "1          523.82   20952.8000  \n",
              "2          815.71   81571.0000  \n",
              "3           60.96    7315.1997  \n",
              "4         1066.11  106611.0000  \n",
              "..            ...          ...  \n",
              "95         121.38    7282.8000  \n",
              "96         624.54   62453.9960  \n",
              "97         188.07   11284.2000  \n",
              "98        1499.39  179926.8000  \n",
              "99         907.43   36297.2000  \n",
              "\n",
              "[100 rows x 12 columns]"
            ],
            "text/html": [
              "\n",
              "  <div id=\"df-d07a224c-b31f-4bed-ab7c-ef767ce5fc74\" class=\"colab-df-container\">\n",
              "    <div>\n",
              "<style scoped>\n",
              "    .dataframe tbody tr th:only-of-type {\n",
              "        vertical-align: middle;\n",
              "    }\n",
              "\n",
              "    .dataframe tbody tr th {\n",
              "        vertical-align: top;\n",
              "    }\n",
              "\n",
              "    .dataframe thead th {\n",
              "        text-align: right;\n",
              "    }\n",
              "</style>\n",
              "<table border=\"1\" class=\"dataframe\">\n",
              "  <thead>\n",
              "    <tr style=\"text-align: right;\">\n",
              "      <th></th>\n",
              "      <th>ano</th>\n",
              "      <th>safra</th>\n",
              "      <th>idade</th>\n",
              "      <th>genero</th>\n",
              "      <th>estado</th>\n",
              "      <th>operacao</th>\n",
              "      <th>valor_principal</th>\n",
              "      <th>quantidade_parcelas</th>\n",
              "      <th>quantidade_parcelas_pagas</th>\n",
              "      <th>taxa_contrato</th>\n",
              "      <th>valor_parcela</th>\n",
              "      <th>valor_bruto</th>\n",
              "    </tr>\n",
              "  </thead>\n",
              "  <tbody>\n",
              "    <tr>\n",
              "      <th>0</th>\n",
              "      <td>2019</td>\n",
              "      <td>0</td>\n",
              "      <td>48</td>\n",
              "      <td>0</td>\n",
              "      <td>21</td>\n",
              "      <td>1</td>\n",
              "      <td>27810.69</td>\n",
              "      <td>100</td>\n",
              "      <td>20</td>\n",
              "      <td>1.46493</td>\n",
              "      <td>531.56</td>\n",
              "      <td>53156.0000</td>\n",
              "    </tr>\n",
              "    <tr>\n",
              "      <th>1</th>\n",
              "      <td>2022</td>\n",
              "      <td>3</td>\n",
              "      <td>34</td>\n",
              "      <td>0</td>\n",
              "      <td>2</td>\n",
              "      <td>2</td>\n",
              "      <td>9589.96</td>\n",
              "      <td>40</td>\n",
              "      <td>6</td>\n",
              "      <td>4.53587</td>\n",
              "      <td>523.82</td>\n",
              "      <td>20952.8000</td>\n",
              "    </tr>\n",
              "    <tr>\n",
              "      <th>2</th>\n",
              "      <td>2021</td>\n",
              "      <td>2</td>\n",
              "      <td>0</td>\n",
              "      <td>2</td>\n",
              "      <td>24</td>\n",
              "      <td>1</td>\n",
              "      <td>42963.20</td>\n",
              "      <td>100</td>\n",
              "      <td>10</td>\n",
              "      <td>1.44749</td>\n",
              "      <td>815.71</td>\n",
              "      <td>81571.0000</td>\n",
              "    </tr>\n",
              "    <tr>\n",
              "      <th>3</th>\n",
              "      <td>2021</td>\n",
              "      <td>2</td>\n",
              "      <td>40</td>\n",
              "      <td>0</td>\n",
              "      <td>13</td>\n",
              "      <td>0</td>\n",
              "      <td>2954.14</td>\n",
              "      <td>120</td>\n",
              "      <td>6</td>\n",
              "      <td>1.82904</td>\n",
              "      <td>60.96</td>\n",
              "      <td>7315.1997</td>\n",
              "    </tr>\n",
              "    <tr>\n",
              "      <th>4</th>\n",
              "      <td>2022</td>\n",
              "      <td>3</td>\n",
              "      <td>37</td>\n",
              "      <td>0</td>\n",
              "      <td>10</td>\n",
              "      <td>1</td>\n",
              "      <td>31186.17</td>\n",
              "      <td>100</td>\n",
              "      <td>10</td>\n",
              "      <td>3.28340</td>\n",
              "      <td>1066.11</td>\n",
              "      <td>106611.0000</td>\n",
              "    </tr>\n",
              "    <tr>\n",
              "      <th>...</th>\n",
              "      <td>...</td>\n",
              "      <td>...</td>\n",
              "      <td>...</td>\n",
              "      <td>...</td>\n",
              "      <td>...</td>\n",
              "      <td>...</td>\n",
              "      <td>...</td>\n",
              "      <td>...</td>\n",
              "      <td>...</td>\n",
              "      <td>...</td>\n",
              "      <td>...</td>\n",
              "      <td>...</td>\n",
              "    </tr>\n",
              "    <tr>\n",
              "      <th>95</th>\n",
              "      <td>2021</td>\n",
              "      <td>2</td>\n",
              "      <td>43</td>\n",
              "      <td>2</td>\n",
              "      <td>13</td>\n",
              "      <td>0</td>\n",
              "      <td>5044.11</td>\n",
              "      <td>60</td>\n",
              "      <td>33</td>\n",
              "      <td>1.29325</td>\n",
              "      <td>121.38</td>\n",
              "      <td>7282.8000</td>\n",
              "    </tr>\n",
              "    <tr>\n",
              "      <th>96</th>\n",
              "      <td>2019</td>\n",
              "      <td>0</td>\n",
              "      <td>48</td>\n",
              "      <td>1</td>\n",
              "      <td>13</td>\n",
              "      <td>1</td>\n",
              "      <td>34314.75</td>\n",
              "      <td>100</td>\n",
              "      <td>10</td>\n",
              "      <td>1.33849</td>\n",
              "      <td>624.54</td>\n",
              "      <td>62453.9960</td>\n",
              "    </tr>\n",
              "    <tr>\n",
              "      <th>97</th>\n",
              "      <td>2021</td>\n",
              "      <td>2</td>\n",
              "      <td>38</td>\n",
              "      <td>2</td>\n",
              "      <td>13</td>\n",
              "      <td>2</td>\n",
              "      <td>8396.37</td>\n",
              "      <td>60</td>\n",
              "      <td>6</td>\n",
              "      <td>1.02548</td>\n",
              "      <td>188.07</td>\n",
              "      <td>11284.2000</td>\n",
              "    </tr>\n",
              "    <tr>\n",
              "      <th>98</th>\n",
              "      <td>2022</td>\n",
              "      <td>3</td>\n",
              "      <td>51</td>\n",
              "      <td>0</td>\n",
              "      <td>15</td>\n",
              "      <td>1</td>\n",
              "      <td>35010.62</td>\n",
              "      <td>120</td>\n",
              "      <td>30</td>\n",
              "      <td>4.25379</td>\n",
              "      <td>1499.39</td>\n",
              "      <td>179926.8000</td>\n",
              "    </tr>\n",
              "    <tr>\n",
              "      <th>99</th>\n",
              "      <td>2020</td>\n",
              "      <td>1</td>\n",
              "      <td>34</td>\n",
              "      <td>0</td>\n",
              "      <td>14</td>\n",
              "      <td>0</td>\n",
              "      <td>29866.89</td>\n",
              "      <td>40</td>\n",
              "      <td>2</td>\n",
              "      <td>0.98736</td>\n",
              "      <td>907.43</td>\n",
              "      <td>36297.2000</td>\n",
              "    </tr>\n",
              "  </tbody>\n",
              "</table>\n",
              "<p>100 rows × 12 columns</p>\n",
              "</div>\n",
              "    <div class=\"colab-df-buttons\">\n",
              "\n",
              "  <div class=\"colab-df-container\">\n",
              "    <button class=\"colab-df-convert\" onclick=\"convertToInteractive('df-d07a224c-b31f-4bed-ab7c-ef767ce5fc74')\"\n",
              "            title=\"Convert this dataframe to an interactive table.\"\n",
              "            style=\"display:none;\">\n",
              "\n",
              "  <svg xmlns=\"http://www.w3.org/2000/svg\" height=\"24px\" viewBox=\"0 -960 960 960\">\n",
              "    <path d=\"M120-120v-720h720v720H120Zm60-500h600v-160H180v160Zm220 220h160v-160H400v160Zm0 220h160v-160H400v160ZM180-400h160v-160H180v160Zm440 0h160v-160H620v160ZM180-180h160v-160H180v160Zm440 0h160v-160H620v160Z\"/>\n",
              "  </svg>\n",
              "    </button>\n",
              "\n",
              "  <style>\n",
              "    .colab-df-container {\n",
              "      display:flex;\n",
              "      gap: 12px;\n",
              "    }\n",
              "\n",
              "    .colab-df-convert {\n",
              "      background-color: #E8F0FE;\n",
              "      border: none;\n",
              "      border-radius: 50%;\n",
              "      cursor: pointer;\n",
              "      display: none;\n",
              "      fill: #1967D2;\n",
              "      height: 32px;\n",
              "      padding: 0 0 0 0;\n",
              "      width: 32px;\n",
              "    }\n",
              "\n",
              "    .colab-df-convert:hover {\n",
              "      background-color: #E2EBFA;\n",
              "      box-shadow: 0px 1px 2px rgba(60, 64, 67, 0.3), 0px 1px 3px 1px rgba(60, 64, 67, 0.15);\n",
              "      fill: #174EA6;\n",
              "    }\n",
              "\n",
              "    .colab-df-buttons div {\n",
              "      margin-bottom: 4px;\n",
              "    }\n",
              "\n",
              "    [theme=dark] .colab-df-convert {\n",
              "      background-color: #3B4455;\n",
              "      fill: #D2E3FC;\n",
              "    }\n",
              "\n",
              "    [theme=dark] .colab-df-convert:hover {\n",
              "      background-color: #434B5C;\n",
              "      box-shadow: 0px 1px 3px 1px rgba(0, 0, 0, 0.15);\n",
              "      filter: drop-shadow(0px 1px 2px rgba(0, 0, 0, 0.3));\n",
              "      fill: #FFFFFF;\n",
              "    }\n",
              "  </style>\n",
              "\n",
              "    <script>\n",
              "      const buttonEl =\n",
              "        document.querySelector('#df-d07a224c-b31f-4bed-ab7c-ef767ce5fc74 button.colab-df-convert');\n",
              "      buttonEl.style.display =\n",
              "        google.colab.kernel.accessAllowed ? 'block' : 'none';\n",
              "\n",
              "      async function convertToInteractive(key) {\n",
              "        const element = document.querySelector('#df-d07a224c-b31f-4bed-ab7c-ef767ce5fc74');\n",
              "        const dataTable =\n",
              "          await google.colab.kernel.invokeFunction('convertToInteractive',\n",
              "                                                    [key], {});\n",
              "        if (!dataTable) return;\n",
              "\n",
              "        const docLinkHtml = 'Like what you see? Visit the ' +\n",
              "          '<a target=\"_blank\" href=https://colab.research.google.com/notebooks/data_table.ipynb>data table notebook</a>'\n",
              "          + ' to learn more about interactive tables.';\n",
              "        element.innerHTML = '';\n",
              "        dataTable['output_type'] = 'display_data';\n",
              "        await google.colab.output.renderOutput(dataTable, element);\n",
              "        const docLink = document.createElement('div');\n",
              "        docLink.innerHTML = docLinkHtml;\n",
              "        element.appendChild(docLink);\n",
              "      }\n",
              "    </script>\n",
              "  </div>\n",
              "\n",
              "\n",
              "<div id=\"df-fed05f7a-bfa9-4eaf-abf9-a8e3802f5b15\">\n",
              "  <button class=\"colab-df-quickchart\" onclick=\"quickchart('df-fed05f7a-bfa9-4eaf-abf9-a8e3802f5b15')\"\n",
              "            title=\"Suggest charts\"\n",
              "            style=\"display:none;\">\n",
              "\n",
              "<svg xmlns=\"http://www.w3.org/2000/svg\" height=\"24px\"viewBox=\"0 0 24 24\"\n",
              "     width=\"24px\">\n",
              "    <g>\n",
              "        <path d=\"M19 3H5c-1.1 0-2 .9-2 2v14c0 1.1.9 2 2 2h14c1.1 0 2-.9 2-2V5c0-1.1-.9-2-2-2zM9 17H7v-7h2v7zm4 0h-2V7h2v10zm4 0h-2v-4h2v4z\"/>\n",
              "    </g>\n",
              "</svg>\n",
              "  </button>\n",
              "\n",
              "<style>\n",
              "  .colab-df-quickchart {\n",
              "      --bg-color: #E8F0FE;\n",
              "      --fill-color: #1967D2;\n",
              "      --hover-bg-color: #E2EBFA;\n",
              "      --hover-fill-color: #174EA6;\n",
              "      --disabled-fill-color: #AAA;\n",
              "      --disabled-bg-color: #DDD;\n",
              "  }\n",
              "\n",
              "  [theme=dark] .colab-df-quickchart {\n",
              "      --bg-color: #3B4455;\n",
              "      --fill-color: #D2E3FC;\n",
              "      --hover-bg-color: #434B5C;\n",
              "      --hover-fill-color: #FFFFFF;\n",
              "      --disabled-bg-color: #3B4455;\n",
              "      --disabled-fill-color: #666;\n",
              "  }\n",
              "\n",
              "  .colab-df-quickchart {\n",
              "    background-color: var(--bg-color);\n",
              "    border: none;\n",
              "    border-radius: 50%;\n",
              "    cursor: pointer;\n",
              "    display: none;\n",
              "    fill: var(--fill-color);\n",
              "    height: 32px;\n",
              "    padding: 0;\n",
              "    width: 32px;\n",
              "  }\n",
              "\n",
              "  .colab-df-quickchart:hover {\n",
              "    background-color: var(--hover-bg-color);\n",
              "    box-shadow: 0 1px 2px rgba(60, 64, 67, 0.3), 0 1px 3px 1px rgba(60, 64, 67, 0.15);\n",
              "    fill: var(--button-hover-fill-color);\n",
              "  }\n",
              "\n",
              "  .colab-df-quickchart-complete:disabled,\n",
              "  .colab-df-quickchart-complete:disabled:hover {\n",
              "    background-color: var(--disabled-bg-color);\n",
              "    fill: var(--disabled-fill-color);\n",
              "    box-shadow: none;\n",
              "  }\n",
              "\n",
              "  .colab-df-spinner {\n",
              "    border: 2px solid var(--fill-color);\n",
              "    border-color: transparent;\n",
              "    border-bottom-color: var(--fill-color);\n",
              "    animation:\n",
              "      spin 1s steps(1) infinite;\n",
              "  }\n",
              "\n",
              "  @keyframes spin {\n",
              "    0% {\n",
              "      border-color: transparent;\n",
              "      border-bottom-color: var(--fill-color);\n",
              "      border-left-color: var(--fill-color);\n",
              "    }\n",
              "    20% {\n",
              "      border-color: transparent;\n",
              "      border-left-color: var(--fill-color);\n",
              "      border-top-color: var(--fill-color);\n",
              "    }\n",
              "    30% {\n",
              "      border-color: transparent;\n",
              "      border-left-color: var(--fill-color);\n",
              "      border-top-color: var(--fill-color);\n",
              "      border-right-color: var(--fill-color);\n",
              "    }\n",
              "    40% {\n",
              "      border-color: transparent;\n",
              "      border-right-color: var(--fill-color);\n",
              "      border-top-color: var(--fill-color);\n",
              "    }\n",
              "    60% {\n",
              "      border-color: transparent;\n",
              "      border-right-color: var(--fill-color);\n",
              "    }\n",
              "    80% {\n",
              "      border-color: transparent;\n",
              "      border-right-color: var(--fill-color);\n",
              "      border-bottom-color: var(--fill-color);\n",
              "    }\n",
              "    90% {\n",
              "      border-color: transparent;\n",
              "      border-bottom-color: var(--fill-color);\n",
              "    }\n",
              "  }\n",
              "</style>\n",
              "\n",
              "  <script>\n",
              "    async function quickchart(key) {\n",
              "      const quickchartButtonEl =\n",
              "        document.querySelector('#' + key + ' button');\n",
              "      quickchartButtonEl.disabled = true;  // To prevent multiple clicks.\n",
              "      quickchartButtonEl.classList.add('colab-df-spinner');\n",
              "      try {\n",
              "        const charts = await google.colab.kernel.invokeFunction(\n",
              "            'suggestCharts', [key], {});\n",
              "      } catch (error) {\n",
              "        console.error('Error during call to suggestCharts:', error);\n",
              "      }\n",
              "      quickchartButtonEl.classList.remove('colab-df-spinner');\n",
              "      quickchartButtonEl.classList.add('colab-df-quickchart-complete');\n",
              "    }\n",
              "    (() => {\n",
              "      let quickchartButtonEl =\n",
              "        document.querySelector('#df-fed05f7a-bfa9-4eaf-abf9-a8e3802f5b15 button');\n",
              "      quickchartButtonEl.style.display =\n",
              "        google.colab.kernel.accessAllowed ? 'block' : 'none';\n",
              "    })();\n",
              "  </script>\n",
              "</div>\n",
              "\n",
              "    </div>\n",
              "  </div>\n"
            ],
            "application/vnd.google.colaboratory.intrinsic+json": {
              "type": "dataframe",
              "variable_name": "df",
              "summary": "{\n  \"name\": \"df\",\n  \"rows\": 14895,\n  \"fields\": [\n    {\n      \"column\": \"ano\",\n      \"properties\": {\n        \"dtype\": \"int32\",\n        \"num_unique_values\": 4,\n        \"samples\": [\n          2022,\n          2020,\n          2019\n        ],\n        \"semantic_type\": \"\",\n        \"description\": \"\"\n      }\n    },\n    {\n      \"column\": \"safra\",\n      \"properties\": {\n        \"dtype\": \"category\",\n        \"num_unique_values\": 4,\n        \"samples\": [\n          3,\n          1,\n          0\n        ],\n        \"semantic_type\": \"\",\n        \"description\": \"\"\n      }\n    },\n    {\n      \"column\": \"idade\",\n      \"properties\": {\n        \"dtype\": \"number\",\n        \"std\": 16,\n        \"min\": 0,\n        \"max\": 53,\n        \"num_unique_values\": 34,\n        \"samples\": [\n          47,\n          21,\n          28\n        ],\n        \"semantic_type\": \"\",\n        \"description\": \"\"\n      }\n    },\n    {\n      \"column\": \"genero\",\n      \"properties\": {\n        \"dtype\": \"category\",\n        \"num_unique_values\": 3,\n        \"samples\": [\n          0,\n          2,\n          1\n        ],\n        \"semantic_type\": \"\",\n        \"description\": \"\"\n      }\n    },\n    {\n      \"column\": \"estado\",\n      \"properties\": {\n        \"dtype\": \"category\",\n        \"num_unique_values\": 28,\n        \"samples\": [\n          26,\n          15,\n          5\n        ],\n        \"semantic_type\": \"\",\n        \"description\": \"\"\n      }\n    },\n    {\n      \"column\": \"operacao\",\n      \"properties\": {\n        \"dtype\": \"number\",\n        \"std\": 0,\n        \"min\": 0,\n        \"max\": 2,\n        \"num_unique_values\": 3,\n        \"samples\": [\n          1,\n          2,\n          0\n        ],\n        \"semantic_type\": \"\",\n        \"description\": \"\"\n      }\n    },\n    {\n      \"column\": \"valor_principal\",\n      \"properties\": {\n        \"dtype\": \"number\",\n        \"std\": 13500.843754250101,\n        \"min\": 203.55,\n        \"max\": 49995.02,\n        \"num_unique_values\": 14875,\n        \"samples\": [\n          16613.04,\n          41698.75,\n          4932.44\n        ],\n        \"semantic_type\": \"\",\n        \"description\": \"\"\n      }\n    },\n    {\n      \"column\": \"quantidade_parcelas\",\n      \"properties\": {\n        \"dtype\": \"number\",\n        \"std\": 27,\n        \"min\": 40,\n        \"max\": 120,\n        \"num_unique_values\": 6,\n        \"samples\": [\n          100,\n          40,\n          90\n        ],\n        \"semantic_type\": \"\",\n        \"description\": \"\"\n      }\n    },\n    {\n      \"column\": \"quantidade_parcelas_pagas\",\n      \"properties\": {\n        \"dtype\": \"number\",\n        \"std\": 17,\n        \"min\": 0,\n        \"max\": 108,\n        \"num_unique_values\": 37,\n        \"samples\": [\n          18,\n          16,\n          9\n        ],\n        \"semantic_type\": \"\",\n        \"description\": \"\"\n      }\n    },\n    {\n      \"column\": \"taxa_contrato\",\n      \"properties\": {\n        \"dtype\": \"number\",\n        \"std\": 1.3411723408175018,\n        \"min\": 0.34737,\n        \"max\": 6.46168,\n        \"num_unique_values\": 14626,\n        \"samples\": [\n          5.42615,\n          2.553,\n          0.51636\n        ],\n        \"semantic_type\": \"\",\n        \"description\": \"\"\n      }\n    },\n    {\n      \"column\": \"valor_parcela\",\n      \"properties\": {\n        \"dtype\": \"number\",\n        \"std\": 515.0745030336285,\n        \"min\": 3.05,\n        \"max\": 3063.99,\n        \"num_unique_values\": 14227,\n        \"samples\": [\n          2239.73,\n          104.88,\n          1673.46\n        ],\n        \"semantic_type\": \"\",\n        \"description\": \"\"\n      }\n    },\n    {\n      \"column\": \"valor_bruto\",\n      \"properties\": {\n        \"dtype\": \"number\",\n        \"std\": 39877.20159293784,\n        \"min\": 252.4,\n        \"max\": 367678.8,\n        \"num_unique_values\": 14571,\n        \"samples\": [\n          70952.0,\n          8414.4,\n          7568.0\n        ],\n        \"semantic_type\": \"\",\n        \"description\": \"\"\n      }\n    }\n  ]\n}"
            }
          },
          "metadata": {},
          "execution_count": 44
        }
      ]
    },
    {
      "cell_type": "markdown",
      "source": [
        "**Para variáveis ​​numéricas usaremos a média para substituir os valores errados**"
      ],
      "metadata": {
        "id": "EPTfr9wDkpuy"
      }
    },
    {
      "cell_type": "code",
      "source": [
        "df['idade'].replace(0, df['idade'].mean(), inplace=True)"
      ],
      "metadata": {
        "id": "vFahHTU-k2LM"
      },
      "execution_count": 45,
      "outputs": []
    },
    {
      "cell_type": "markdown",
      "source": [
        "**Valores Vazios**"
      ],
      "metadata": {
        "id": "pwG8VrB6ICIz"
      }
    },
    {
      "cell_type": "code",
      "source": [
        "df.isnull().sum()"
      ],
      "metadata": {
        "colab": {
          "base_uri": "https://localhost:8080/"
        },
        "id": "7JQ_oR9rIAd0",
        "outputId": "dfc294a5-15ce-4446-c170-3ece3dba198f"
      },
      "execution_count": 46,
      "outputs": [
        {
          "output_type": "execute_result",
          "data": {
            "text/plain": [
              "ano                          0\n",
              "safra                        0\n",
              "idade                        0\n",
              "genero                       0\n",
              "estado                       0\n",
              "operacao                     0\n",
              "valor_principal              0\n",
              "quantidade_parcelas          0\n",
              "quantidade_parcelas_pagas    0\n",
              "taxa_contrato                0\n",
              "valor_parcela                0\n",
              "valor_bruto                  0\n",
              "dtype: int64"
            ]
          },
          "metadata": {},
          "execution_count": 46
        }
      ]
    },
    {
      "cell_type": "markdown",
      "source": [
        "**Análise dos dados usando SweetViz**"
      ],
      "metadata": {
        "id": "bilWZeHRiIRA"
      }
    },
    {
      "cell_type": "code",
      "source": [
        "report = sv.analyze(df)"
      ],
      "metadata": {
        "colab": {
          "base_uri": "https://localhost:8080/",
          "height": 49,
          "referenced_widgets": [
            "e0bda63d044c481a874a63863ce468b8",
            "e3ec5e19f9b04bb5be8286f9ce9504b8",
            "e1da7642e2014934977e23ba4bda4056",
            "475fcfb3bd4944a989156773d6ea0603",
            "84d556ff23a04bf38149752b87db497d",
            "e64475b7321e4e2fa84993f11ec2f94a",
            "ad169bbc1a79493ca4717bf25b35ceb1",
            "16f1fc8dd2c040f8a00d2d512927cb8f",
            "7b454d2d095b4b0ebd1325ec3275b9b1",
            "3a9e1270f0814890ac2e93f72d14622f",
            "055d9e3ee8d7409eb63d695e1e5f1363"
          ]
        },
        "id": "CejrGLXAiHaD",
        "outputId": "9dc6a676-2e36-43b6-b1a5-776618659fb2"
      },
      "execution_count": 47,
      "outputs": [
        {
          "output_type": "display_data",
          "data": {
            "text/plain": [
              "                                             |          | [  0%]   00:00 -> (? left)"
            ],
            "application/vnd.jupyter.widget-view+json": {
              "version_major": 2,
              "version_minor": 0,
              "model_id": "e0bda63d044c481a874a63863ce468b8"
            }
          },
          "metadata": {}
        }
      ]
    },
    {
      "cell_type": "code",
      "source": [
        "report.show_html(\"sweetviz_report.html\")"
      ],
      "metadata": {
        "colab": {
          "base_uri": "https://localhost:8080/"
        },
        "id": "RGKZ8i4niPeX",
        "outputId": "59f9f511-f876-481e-e9d3-947e58d50dc4"
      },
      "execution_count": 48,
      "outputs": [
        {
          "output_type": "stream",
          "name": "stdout",
          "text": [
            "Report sweetviz_report.html was generated! NOTEBOOK/COLAB USERS: the web browser MAY not pop up, regardless, the report IS saved in your notebook/colab files.\n"
          ]
        }
      ]
    },
    {
      "cell_type": "code",
      "source": [
        "df.describe()"
      ],
      "metadata": {
        "colab": {
          "base_uri": "https://localhost:8080/",
          "height": 320
        },
        "id": "Q3UeUwocjWB4",
        "outputId": "f8c93c49-bf06-45be-bd55-ea7cb8afa1d3"
      },
      "execution_count": 49,
      "outputs": [
        {
          "output_type": "execute_result",
          "data": {
            "text/plain": [
              "                ano         idade      operacao  valor_principal  \\\n",
              "count  14895.000000  14895.000000  14895.000000     14895.000000   \n",
              "mean    2020.714401     35.002947      1.194159     23185.875466   \n",
              "std        1.110065      8.861104      0.602605     13500.843754   \n",
              "min     2019.000000     21.000000      0.000000       203.550000   \n",
              "25%     2020.000000     29.126754      1.000000     12484.045000   \n",
              "50%     2021.000000     32.000000      1.000000     20256.790000   \n",
              "75%     2022.000000     42.000000      2.000000     34651.280000   \n",
              "max     2022.000000     53.000000      2.000000     49995.020000   \n",
              "\n",
              "       quantidade_parcelas  quantidade_parcelas_pagas  taxa_contrato  \\\n",
              "count         14895.000000               14895.000000   14895.000000   \n",
              "mean             68.224236                  15.739040       2.134701   \n",
              "std              27.128264                  17.519803       1.341172   \n",
              "min              40.000000                   0.000000       0.347370   \n",
              "25%              40.000000                   6.000000       1.023490   \n",
              "50%              60.000000                   9.000000       1.793700   \n",
              "75%              90.000000                  18.000000       3.019275   \n",
              "max             120.000000                 108.000000       6.461680   \n",
              "\n",
              "       valor_parcela    valor_bruto  \n",
              "count   14895.000000   14895.000000  \n",
              "mean      724.267448   47446.568597  \n",
              "std       515.074503   39877.201593  \n",
              "min         3.050000     252.400000  \n",
              "25%       336.700000   20689.500000  \n",
              "50%       601.640000   38220.000000  \n",
              "75%      1007.655000   61545.198000  \n",
              "max      3063.990000  367678.800000  "
            ],
            "text/html": [
              "\n",
              "  <div id=\"df-ca8fc7e7-21da-4a74-b93d-329494e9f0aa\" class=\"colab-df-container\">\n",
              "    <div>\n",
              "<style scoped>\n",
              "    .dataframe tbody tr th:only-of-type {\n",
              "        vertical-align: middle;\n",
              "    }\n",
              "\n",
              "    .dataframe tbody tr th {\n",
              "        vertical-align: top;\n",
              "    }\n",
              "\n",
              "    .dataframe thead th {\n",
              "        text-align: right;\n",
              "    }\n",
              "</style>\n",
              "<table border=\"1\" class=\"dataframe\">\n",
              "  <thead>\n",
              "    <tr style=\"text-align: right;\">\n",
              "      <th></th>\n",
              "      <th>ano</th>\n",
              "      <th>idade</th>\n",
              "      <th>operacao</th>\n",
              "      <th>valor_principal</th>\n",
              "      <th>quantidade_parcelas</th>\n",
              "      <th>quantidade_parcelas_pagas</th>\n",
              "      <th>taxa_contrato</th>\n",
              "      <th>valor_parcela</th>\n",
              "      <th>valor_bruto</th>\n",
              "    </tr>\n",
              "  </thead>\n",
              "  <tbody>\n",
              "    <tr>\n",
              "      <th>count</th>\n",
              "      <td>14895.000000</td>\n",
              "      <td>14895.000000</td>\n",
              "      <td>14895.000000</td>\n",
              "      <td>14895.000000</td>\n",
              "      <td>14895.000000</td>\n",
              "      <td>14895.000000</td>\n",
              "      <td>14895.000000</td>\n",
              "      <td>14895.000000</td>\n",
              "      <td>14895.000000</td>\n",
              "    </tr>\n",
              "    <tr>\n",
              "      <th>mean</th>\n",
              "      <td>2020.714401</td>\n",
              "      <td>35.002947</td>\n",
              "      <td>1.194159</td>\n",
              "      <td>23185.875466</td>\n",
              "      <td>68.224236</td>\n",
              "      <td>15.739040</td>\n",
              "      <td>2.134701</td>\n",
              "      <td>724.267448</td>\n",
              "      <td>47446.568597</td>\n",
              "    </tr>\n",
              "    <tr>\n",
              "      <th>std</th>\n",
              "      <td>1.110065</td>\n",
              "      <td>8.861104</td>\n",
              "      <td>0.602605</td>\n",
              "      <td>13500.843754</td>\n",
              "      <td>27.128264</td>\n",
              "      <td>17.519803</td>\n",
              "      <td>1.341172</td>\n",
              "      <td>515.074503</td>\n",
              "      <td>39877.201593</td>\n",
              "    </tr>\n",
              "    <tr>\n",
              "      <th>min</th>\n",
              "      <td>2019.000000</td>\n",
              "      <td>21.000000</td>\n",
              "      <td>0.000000</td>\n",
              "      <td>203.550000</td>\n",
              "      <td>40.000000</td>\n",
              "      <td>0.000000</td>\n",
              "      <td>0.347370</td>\n",
              "      <td>3.050000</td>\n",
              "      <td>252.400000</td>\n",
              "    </tr>\n",
              "    <tr>\n",
              "      <th>25%</th>\n",
              "      <td>2020.000000</td>\n",
              "      <td>29.126754</td>\n",
              "      <td>1.000000</td>\n",
              "      <td>12484.045000</td>\n",
              "      <td>40.000000</td>\n",
              "      <td>6.000000</td>\n",
              "      <td>1.023490</td>\n",
              "      <td>336.700000</td>\n",
              "      <td>20689.500000</td>\n",
              "    </tr>\n",
              "    <tr>\n",
              "      <th>50%</th>\n",
              "      <td>2021.000000</td>\n",
              "      <td>32.000000</td>\n",
              "      <td>1.000000</td>\n",
              "      <td>20256.790000</td>\n",
              "      <td>60.000000</td>\n",
              "      <td>9.000000</td>\n",
              "      <td>1.793700</td>\n",
              "      <td>601.640000</td>\n",
              "      <td>38220.000000</td>\n",
              "    </tr>\n",
              "    <tr>\n",
              "      <th>75%</th>\n",
              "      <td>2022.000000</td>\n",
              "      <td>42.000000</td>\n",
              "      <td>2.000000</td>\n",
              "      <td>34651.280000</td>\n",
              "      <td>90.000000</td>\n",
              "      <td>18.000000</td>\n",
              "      <td>3.019275</td>\n",
              "      <td>1007.655000</td>\n",
              "      <td>61545.198000</td>\n",
              "    </tr>\n",
              "    <tr>\n",
              "      <th>max</th>\n",
              "      <td>2022.000000</td>\n",
              "      <td>53.000000</td>\n",
              "      <td>2.000000</td>\n",
              "      <td>49995.020000</td>\n",
              "      <td>120.000000</td>\n",
              "      <td>108.000000</td>\n",
              "      <td>6.461680</td>\n",
              "      <td>3063.990000</td>\n",
              "      <td>367678.800000</td>\n",
              "    </tr>\n",
              "  </tbody>\n",
              "</table>\n",
              "</div>\n",
              "    <div class=\"colab-df-buttons\">\n",
              "\n",
              "  <div class=\"colab-df-container\">\n",
              "    <button class=\"colab-df-convert\" onclick=\"convertToInteractive('df-ca8fc7e7-21da-4a74-b93d-329494e9f0aa')\"\n",
              "            title=\"Convert this dataframe to an interactive table.\"\n",
              "            style=\"display:none;\">\n",
              "\n",
              "  <svg xmlns=\"http://www.w3.org/2000/svg\" height=\"24px\" viewBox=\"0 -960 960 960\">\n",
              "    <path d=\"M120-120v-720h720v720H120Zm60-500h600v-160H180v160Zm220 220h160v-160H400v160Zm0 220h160v-160H400v160ZM180-400h160v-160H180v160Zm440 0h160v-160H620v160ZM180-180h160v-160H180v160Zm440 0h160v-160H620v160Z\"/>\n",
              "  </svg>\n",
              "    </button>\n",
              "\n",
              "  <style>\n",
              "    .colab-df-container {\n",
              "      display:flex;\n",
              "      gap: 12px;\n",
              "    }\n",
              "\n",
              "    .colab-df-convert {\n",
              "      background-color: #E8F0FE;\n",
              "      border: none;\n",
              "      border-radius: 50%;\n",
              "      cursor: pointer;\n",
              "      display: none;\n",
              "      fill: #1967D2;\n",
              "      height: 32px;\n",
              "      padding: 0 0 0 0;\n",
              "      width: 32px;\n",
              "    }\n",
              "\n",
              "    .colab-df-convert:hover {\n",
              "      background-color: #E2EBFA;\n",
              "      box-shadow: 0px 1px 2px rgba(60, 64, 67, 0.3), 0px 1px 3px 1px rgba(60, 64, 67, 0.15);\n",
              "      fill: #174EA6;\n",
              "    }\n",
              "\n",
              "    .colab-df-buttons div {\n",
              "      margin-bottom: 4px;\n",
              "    }\n",
              "\n",
              "    [theme=dark] .colab-df-convert {\n",
              "      background-color: #3B4455;\n",
              "      fill: #D2E3FC;\n",
              "    }\n",
              "\n",
              "    [theme=dark] .colab-df-convert:hover {\n",
              "      background-color: #434B5C;\n",
              "      box-shadow: 0px 1px 3px 1px rgba(0, 0, 0, 0.15);\n",
              "      filter: drop-shadow(0px 1px 2px rgba(0, 0, 0, 0.3));\n",
              "      fill: #FFFFFF;\n",
              "    }\n",
              "  </style>\n",
              "\n",
              "    <script>\n",
              "      const buttonEl =\n",
              "        document.querySelector('#df-ca8fc7e7-21da-4a74-b93d-329494e9f0aa button.colab-df-convert');\n",
              "      buttonEl.style.display =\n",
              "        google.colab.kernel.accessAllowed ? 'block' : 'none';\n",
              "\n",
              "      async function convertToInteractive(key) {\n",
              "        const element = document.querySelector('#df-ca8fc7e7-21da-4a74-b93d-329494e9f0aa');\n",
              "        const dataTable =\n",
              "          await google.colab.kernel.invokeFunction('convertToInteractive',\n",
              "                                                    [key], {});\n",
              "        if (!dataTable) return;\n",
              "\n",
              "        const docLinkHtml = 'Like what you see? Visit the ' +\n",
              "          '<a target=\"_blank\" href=https://colab.research.google.com/notebooks/data_table.ipynb>data table notebook</a>'\n",
              "          + ' to learn more about interactive tables.';\n",
              "        element.innerHTML = '';\n",
              "        dataTable['output_type'] = 'display_data';\n",
              "        await google.colab.output.renderOutput(dataTable, element);\n",
              "        const docLink = document.createElement('div');\n",
              "        docLink.innerHTML = docLinkHtml;\n",
              "        element.appendChild(docLink);\n",
              "      }\n",
              "    </script>\n",
              "  </div>\n",
              "\n",
              "\n",
              "<div id=\"df-c3f2f0af-adfe-45af-9ac9-f80a9a594e4c\">\n",
              "  <button class=\"colab-df-quickchart\" onclick=\"quickchart('df-c3f2f0af-adfe-45af-9ac9-f80a9a594e4c')\"\n",
              "            title=\"Suggest charts\"\n",
              "            style=\"display:none;\">\n",
              "\n",
              "<svg xmlns=\"http://www.w3.org/2000/svg\" height=\"24px\"viewBox=\"0 0 24 24\"\n",
              "     width=\"24px\">\n",
              "    <g>\n",
              "        <path d=\"M19 3H5c-1.1 0-2 .9-2 2v14c0 1.1.9 2 2 2h14c1.1 0 2-.9 2-2V5c0-1.1-.9-2-2-2zM9 17H7v-7h2v7zm4 0h-2V7h2v10zm4 0h-2v-4h2v4z\"/>\n",
              "    </g>\n",
              "</svg>\n",
              "  </button>\n",
              "\n",
              "<style>\n",
              "  .colab-df-quickchart {\n",
              "      --bg-color: #E8F0FE;\n",
              "      --fill-color: #1967D2;\n",
              "      --hover-bg-color: #E2EBFA;\n",
              "      --hover-fill-color: #174EA6;\n",
              "      --disabled-fill-color: #AAA;\n",
              "      --disabled-bg-color: #DDD;\n",
              "  }\n",
              "\n",
              "  [theme=dark] .colab-df-quickchart {\n",
              "      --bg-color: #3B4455;\n",
              "      --fill-color: #D2E3FC;\n",
              "      --hover-bg-color: #434B5C;\n",
              "      --hover-fill-color: #FFFFFF;\n",
              "      --disabled-bg-color: #3B4455;\n",
              "      --disabled-fill-color: #666;\n",
              "  }\n",
              "\n",
              "  .colab-df-quickchart {\n",
              "    background-color: var(--bg-color);\n",
              "    border: none;\n",
              "    border-radius: 50%;\n",
              "    cursor: pointer;\n",
              "    display: none;\n",
              "    fill: var(--fill-color);\n",
              "    height: 32px;\n",
              "    padding: 0;\n",
              "    width: 32px;\n",
              "  }\n",
              "\n",
              "  .colab-df-quickchart:hover {\n",
              "    background-color: var(--hover-bg-color);\n",
              "    box-shadow: 0 1px 2px rgba(60, 64, 67, 0.3), 0 1px 3px 1px rgba(60, 64, 67, 0.15);\n",
              "    fill: var(--button-hover-fill-color);\n",
              "  }\n",
              "\n",
              "  .colab-df-quickchart-complete:disabled,\n",
              "  .colab-df-quickchart-complete:disabled:hover {\n",
              "    background-color: var(--disabled-bg-color);\n",
              "    fill: var(--disabled-fill-color);\n",
              "    box-shadow: none;\n",
              "  }\n",
              "\n",
              "  .colab-df-spinner {\n",
              "    border: 2px solid var(--fill-color);\n",
              "    border-color: transparent;\n",
              "    border-bottom-color: var(--fill-color);\n",
              "    animation:\n",
              "      spin 1s steps(1) infinite;\n",
              "  }\n",
              "\n",
              "  @keyframes spin {\n",
              "    0% {\n",
              "      border-color: transparent;\n",
              "      border-bottom-color: var(--fill-color);\n",
              "      border-left-color: var(--fill-color);\n",
              "    }\n",
              "    20% {\n",
              "      border-color: transparent;\n",
              "      border-left-color: var(--fill-color);\n",
              "      border-top-color: var(--fill-color);\n",
              "    }\n",
              "    30% {\n",
              "      border-color: transparent;\n",
              "      border-left-color: var(--fill-color);\n",
              "      border-top-color: var(--fill-color);\n",
              "      border-right-color: var(--fill-color);\n",
              "    }\n",
              "    40% {\n",
              "      border-color: transparent;\n",
              "      border-right-color: var(--fill-color);\n",
              "      border-top-color: var(--fill-color);\n",
              "    }\n",
              "    60% {\n",
              "      border-color: transparent;\n",
              "      border-right-color: var(--fill-color);\n",
              "    }\n",
              "    80% {\n",
              "      border-color: transparent;\n",
              "      border-right-color: var(--fill-color);\n",
              "      border-bottom-color: var(--fill-color);\n",
              "    }\n",
              "    90% {\n",
              "      border-color: transparent;\n",
              "      border-bottom-color: var(--fill-color);\n",
              "    }\n",
              "  }\n",
              "</style>\n",
              "\n",
              "  <script>\n",
              "    async function quickchart(key) {\n",
              "      const quickchartButtonEl =\n",
              "        document.querySelector('#' + key + ' button');\n",
              "      quickchartButtonEl.disabled = true;  // To prevent multiple clicks.\n",
              "      quickchartButtonEl.classList.add('colab-df-spinner');\n",
              "      try {\n",
              "        const charts = await google.colab.kernel.invokeFunction(\n",
              "            'suggestCharts', [key], {});\n",
              "      } catch (error) {\n",
              "        console.error('Error during call to suggestCharts:', error);\n",
              "      }\n",
              "      quickchartButtonEl.classList.remove('colab-df-spinner');\n",
              "      quickchartButtonEl.classList.add('colab-df-quickchart-complete');\n",
              "    }\n",
              "    (() => {\n",
              "      let quickchartButtonEl =\n",
              "        document.querySelector('#df-c3f2f0af-adfe-45af-9ac9-f80a9a594e4c button');\n",
              "      quickchartButtonEl.style.display =\n",
              "        google.colab.kernel.accessAllowed ? 'block' : 'none';\n",
              "    })();\n",
              "  </script>\n",
              "</div>\n",
              "\n",
              "    </div>\n",
              "  </div>\n"
            ],
            "application/vnd.google.colaboratory.intrinsic+json": {
              "type": "dataframe",
              "summary": "{\n  \"name\": \"df\",\n  \"rows\": 8,\n  \"fields\": [\n    {\n      \"column\": \"ano\",\n      \"properties\": {\n        \"dtype\": \"number\",\n        \"std\": 4707.089843560454,\n        \"min\": 1.110065434276682,\n        \"max\": 14895.0,\n        \"num_unique_values\": 7,\n        \"samples\": [\n          14895.0,\n          2020.7144008056396,\n          2021.0\n        ],\n        \"semantic_type\": \"\",\n        \"description\": \"\"\n      }\n    },\n    {\n      \"column\": \"idade\",\n      \"properties\": {\n        \"dtype\": \"number\",\n        \"std\": 5255.0325245932945,\n        \"min\": 8.861103899002124,\n        \"max\": 14895.0,\n        \"num_unique_values\": 8,\n        \"samples\": [\n          35.00294700252107,\n          32.0,\n          14895.0\n        ],\n        \"semantic_type\": \"\",\n        \"description\": \"\"\n      }\n    },\n    {\n      \"column\": \"operacao\",\n      \"properties\": {\n        \"dtype\": \"number\",\n        \"std\": 5265.783998970851,\n        \"min\": 0.0,\n        \"max\": 14895.0,\n        \"num_unique_values\": 6,\n        \"samples\": [\n          14895.0,\n          1.1941591137965761,\n          2.0\n        ],\n        \"semantic_type\": \"\",\n        \"description\": \"\"\n      }\n    },\n    {\n      \"column\": \"valor_principal\",\n      \"properties\": {\n        \"dtype\": \"number\",\n        \"std\": 15263.164894607426,\n        \"min\": 203.55,\n        \"max\": 49995.02,\n        \"num_unique_values\": 8,\n        \"samples\": [\n          23185.87546559248,\n          20256.79,\n          14895.0\n        ],\n        \"semantic_type\": \"\",\n        \"description\": \"\"\n      }\n    },\n    {\n      \"column\": \"quantidade_parcelas\",\n      \"properties\": {\n        \"dtype\": \"number\",\n        \"std\": 5243.770639437245,\n        \"min\": 27.12826444907248,\n        \"max\": 14895.0,\n        \"num_unique_values\": 7,\n        \"samples\": [\n          14895.0,\n          68.22423632091306,\n          90.0\n        ],\n        \"semantic_type\": \"\",\n        \"description\": \"\"\n      }\n    },\n    {\n      \"column\": \"quantidade_parcelas_pagas\",\n      \"properties\": {\n        \"dtype\": \"number\",\n        \"std\": 5257.489411713672,\n        \"min\": 0.0,\n        \"max\": 14895.0,\n        \"num_unique_values\": 8,\n        \"samples\": [\n          15.739039946290701,\n          9.0,\n          14895.0\n        ],\n        \"semantic_type\": \"\",\n        \"description\": \"\"\n      }\n    },\n    {\n      \"column\": \"taxa_contrato\",\n      \"properties\": {\n        \"dtype\": \"number\",\n        \"std\": 5265.363831936814,\n        \"min\": 0.34737,\n        \"max\": 14895.0,\n        \"num_unique_values\": 8,\n        \"samples\": [\n          2.1347009117153406,\n          1.7937,\n          14895.0\n        ],\n        \"semantic_type\": \"\",\n        \"description\": \"\"\n      }\n    },\n    {\n      \"column\": \"valor_parcela\",\n      \"properties\": {\n        \"dtype\": \"number\",\n        \"std\": 5037.405742357702,\n        \"min\": 3.05,\n        \"max\": 14895.0,\n        \"num_unique_values\": 8,\n        \"samples\": [\n          724.2674481369587,\n          601.64,\n          14895.0\n        ],\n        \"semantic_type\": \"\",\n        \"description\": \"\"\n      }\n    },\n    {\n      \"column\": \"valor_bruto\",\n      \"properties\": {\n        \"dtype\": \"number\",\n        \"std\": 120312.62475308309,\n        \"min\": 252.4,\n        \"max\": 367678.8,\n        \"num_unique_values\": 8,\n        \"samples\": [\n          47446.56859740249,\n          38220.0,\n          14895.0\n        ],\n        \"semantic_type\": \"\",\n        \"description\": \"\"\n      }\n    }\n  ]\n}"
            }
          },
          "metadata": {},
          "execution_count": 49
        }
      ]
    },
    {
      "cell_type": "code",
      "source": [
        "df.info()"
      ],
      "metadata": {
        "colab": {
          "base_uri": "https://localhost:8080/"
        },
        "id": "nKNNiHL_wfIv",
        "outputId": "b464f89c-528f-4f16-e364-e3c51dac0635"
      },
      "execution_count": 50,
      "outputs": [
        {
          "output_type": "stream",
          "name": "stdout",
          "text": [
            "<class 'pandas.core.frame.DataFrame'>\n",
            "RangeIndex: 14895 entries, 0 to 14894\n",
            "Data columns (total 12 columns):\n",
            " #   Column                     Non-Null Count  Dtype   \n",
            "---  ------                     --------------  -----   \n",
            " 0   ano                        14895 non-null  int32   \n",
            " 1   safra                      14895 non-null  category\n",
            " 2   idade                      14895 non-null  float64 \n",
            " 3   genero                     14895 non-null  category\n",
            " 4   estado                     14895 non-null  category\n",
            " 5   operacao                   14895 non-null  int64   \n",
            " 6   valor_principal            14895 non-null  float64 \n",
            " 7   quantidade_parcelas        14895 non-null  int64   \n",
            " 8   quantidade_parcelas_pagas  14895 non-null  int64   \n",
            " 9   taxa_contrato              14895 non-null  float64 \n",
            " 10  valor_parcela              14895 non-null  float64 \n",
            " 11  valor_bruto                14895 non-null  float64 \n",
            "dtypes: category(3), float64(5), int32(1), int64(3)\n",
            "memory usage: 1.0 MB\n"
          ]
        }
      ]
    },
    {
      "cell_type": "code",
      "source": [
        "plt.figure(figsize=(12, 6))\n",
        "plt.plot(df['safra'], df['valor_bruto'], marker='o')\n",
        "plt.title('Valor da Carteira ao Longo do Tempo')\n",
        "plt.xlabel('safra')\n",
        "plt.ylabel('Valor da Carteira')\n",
        "plt.grid(True)\n",
        "plt.show()"
      ],
      "metadata": {
        "colab": {
          "base_uri": "https://localhost:8080/",
          "height": 558
        },
        "id": "NI0pDRQYKbkA",
        "outputId": "8c89ef4a-6e3a-4503-fcdf-b81c84fc0a99"
      },
      "execution_count": 51,
      "outputs": [
        {
          "output_type": "display_data",
          "data": {
            "text/plain": [
              "<Figure size 1200x600 with 1 Axes>"
            ],
            "image/png": "[encoded data removed]"
          },
          "metadata": {}
        }
      ]
    },
    {
      "cell_type": "markdown",
      "source": [
        "# **Avaliação das variáveis**"
      ],
      "metadata": {
        "id": "zwpblA8i1TB9"
      }
    },
    {
      "cell_type": "markdown",
      "source": [
        "**Modelo de Árvore de decisão**"
      ],
      "metadata": {
        "id": "TMp4NA1JJngN"
      }
    },
    {
      "cell_type": "code",
      "source": [
        "from sklearn.model_selection import train_test_split\n",
        "from sklearn.tree import DecisionTreeClassifier\n",
        "import matplotlib.pyplot as plt\n",
        "from sklearn.tree import DecisionTreeRegressor\n",
        "from sklearn.metrics import mean_squared_error"
      ],
      "metadata": {
        "id": "4Td3sGCwEWgp"
      },
      "execution_count": 52,
      "outputs": []
    },
    {
      "cell_type": "code",
      "source": [
        "# Separando as variáveis independentes (X) da variável dependente (y)\n",
        "X = df.drop('valor_bruto', axis=1)\n",
        "y = df['valor_bruto']"
      ],
      "metadata": {
        "id": "Mchr5QJJ89_o"
      },
      "execution_count": 53,
      "outputs": []
    },
    {
      "cell_type": "code",
      "source": [
        "# Dividindo os dados em conjuntos de treinamento e teste\n",
        "X_train, X_test, y_train, y_test = train_test_split(X, y, test_size=0.2, random_state=123)\n"
      ],
      "metadata": {
        "id": "5ewO9lheEmcX"
      },
      "execution_count": 54,
      "outputs": []
    },
    {
      "cell_type": "code",
      "source": [
        "\n",
        "# Construindo e treinando a árvore de decisão para regressão\n",
        "modelo_arvore_regressao = DecisionTreeRegressor(random_state=123)\n",
        "modelo_arvore_regressao.fit(X_train, y_train)"
      ],
      "metadata": {
        "colab": {
          "base_uri": "https://localhost:8080/",
          "height": 75
        },
        "id": "QC1rfpi0ErCH",
        "outputId": "fbe512e7-773a-42ec-dd8c-9698f93b4fb3"
      },
      "execution_count": 55,
      "outputs": [
        {
          "output_type": "execute_result",
          "data": {
            "text/plain": [
              "DecisionTreeRegressor(random_state=123)"
            ],
            "text/html": [
              "<style>#sk-container-id-1 {color: black;background-color: white;}#sk-container-id-1 pre{padding: 0;}#sk-container-id-1 div.sk-toggleable {background-color: white;}#sk-container-id-1 label.sk-toggleable__label {cursor: pointer;display: block;width: 100%;margin-bottom: 0;padding: 0.3em;box-sizing: border-box;text-align: center;}#sk-container-id-1 label.sk-toggleable__label-arrow:before {content: \"▸\";float: left;margin-right: 0.25em;color: #696969;}#sk-container-id-1 label.sk-toggleable__label-arrow:hover:before {color: black;}#sk-container-id-1 div.sk-estimator:hover label.sk-toggleable__label-arrow:before {color: black;}#sk-container-id-1 div.sk-toggleable__content {max-height: 0;max-width: 0;overflow: hidden;text-align: left;background-color: #f0f8ff;}#sk-container-id-1 div.sk-toggleable__content pre {margin: 0.2em;color: black;border-radius: 0.25em;background-color: #f0f8ff;}#sk-container-id-1 input.sk-toggleable__control:checked~div.sk-toggleable__content {max-height: 200px;max-width: 100%;overflow: auto;}#sk-container-id-1 input.sk-toggleable__control:checked~label.sk-toggleable__label-arrow:before {content: \"▾\";}#sk-container-id-1 div.sk-estimator input.sk-toggleable__control:checked~label.sk-toggleable__label {background-color: #d4ebff;}#sk-container-id-1 div.sk-label input.sk-toggleable__control:checked~label.sk-toggleable__label {background-color: #d4ebff;}#sk-container-id-1 input.sk-hidden--visually {border: 0;clip: rect(1px 1px 1px 1px);clip: rect(1px, 1px, 1px, 1px);height: 1px;margin: -1px;overflow: hidden;padding: 0;position: absolute;width: 1px;}#sk-container-id-1 div.sk-estimator {font-family: monospace;background-color: #f0f8ff;border: 1px dotted black;border-radius: 0.25em;box-sizing: border-box;margin-bottom: 0.5em;}#sk-container-id-1 div.sk-estimator:hover {background-color: #d4ebff;}#sk-container-id-1 div.sk-parallel-item::after {content: \"\";width: 100%;border-bottom: 1px solid gray;flex-grow: 1;}#sk-container-id-1 div.sk-label:hover label.sk-toggleable__label {background-color: #d4ebff;}#sk-container-id-1 div.sk-serial::before {content: \"\";position: absolute;border-left: 1px solid gray;box-sizing: border-box;top: 0;bottom: 0;left: 50%;z-index: 0;}#sk-container-id-1 div.sk-serial {display: flex;flex-direction: column;align-items: center;background-color: white;padding-right: 0.2em;padding-left: 0.2em;position: relative;}#sk-container-id-1 div.sk-item {position: relative;z-index: 1;}#sk-container-id-1 div.sk-parallel {display: flex;align-items: stretch;justify-content: center;background-color: white;position: relative;}#sk-container-id-1 div.sk-item::before, #sk-container-id-1 div.sk-parallel-item::before {content: \"\";position: absolute;border-left: 1px solid gray;box-sizing: border-box;top: 0;bottom: 0;left: 50%;z-index: -1;}#sk-container-id-1 div.sk-parallel-item {display: flex;flex-direction: column;z-index: 1;position: relative;background-color: white;}#sk-container-id-1 div.sk-parallel-item:first-child::after {align-self: flex-end;width: 50%;}#sk-container-id-1 div.sk-parallel-item:last-child::after {align-self: flex-start;width: 50%;}#sk-container-id-1 div.sk-parallel-item:only-child::after {width: 0;}#sk-container-id-1 div.sk-dashed-wrapped {border: 1px dashed gray;margin: 0 0.4em 0.5em 0.4em;box-sizing: border-box;padding-bottom: 0.4em;background-color: white;}#sk-container-id-1 div.sk-label label {font-family: monospace;font-weight: bold;display: inline-block;line-height: 1.2em;}#sk-container-id-1 div.sk-label-container {text-align: center;}#sk-container-id-1 div.sk-container {/* jupyter's `normalize.less` sets `[hidden] { display: none; }` but bootstrap.min.css set `[hidden] { display: none !important; }` so we also need the `!important` here to be able to override the default hidden behavior on the sphinx rendered scikit-learn.org. See: https://github.com/scikit-learn/scikit-learn/issues/21755 */display: inline-block !important;position: relative;}#sk-container-id-1 div.sk-text-repr-fallback {display: none;}</style><div id=\"sk-container-id-1\" class=\"sk-top-container\"><div class=\"sk-text-repr-fallback\"><pre>DecisionTreeRegressor(random_state=123)</pre><b>In a Jupyter environment, please rerun this cell to show the HTML representation or trust the notebook. <br />On GitHub, the HTML representation is unable to render, please try loading this page with nbviewer.org.</b></div><div class=\"sk-container\" hidden><div class=\"sk-item\"><div class=\"sk-estimator sk-toggleable\"><input class=\"sk-toggleable__control sk-hidden--visually\" id=\"sk-estimator-id-1\" type=\"checkbox\" checked><label for=\"sk-estimator-id-1\" class=\"sk-toggleable__label sk-toggleable__label-arrow\">DecisionTreeRegressor</label><div class=\"sk-toggleable__content\"><pre>DecisionTreeRegressor(random_state=123)</pre></div></div></div></div></div>"
            ]
          },
          "metadata": {},
          "execution_count": 55
        }
      ]
    },
    {
      "cell_type": "code",
      "source": [
        "# Fazendo previsões no conjunto de teste\n",
        "predictions = modelo_arvore_regressao.predict(X_test)"
      ],
      "metadata": {
        "id": "38e2uG7xIOVP"
      },
      "execution_count": 56,
      "outputs": []
    },
    {
      "cell_type": "code",
      "source": [
        "# Avaliando o desempenho do modelo usando o erro quadrático médio (MSE)\n",
        "mse = mean_squared_error(y_test, predictions)\n",
        "print(\"Erro Quadrático Médio (MSE):\", mse)"
      ],
      "metadata": {
        "colab": {
          "base_uri": "https://localhost:8080/"
        },
        "id": "BSdogyd8IVOJ",
        "outputId": "58a2cc83-026b-4846-9828-9501f7a17831"
      },
      "execution_count": 57,
      "outputs": [
        {
          "output_type": "stream",
          "name": "stdout",
          "text": [
            "Erro Quadrático Médio (MSE): 405509.469183778\n"
          ]
        }
      ]
    },
    {
      "cell_type": "code",
      "source": [
        "# Avaliar a importância das variáveis\n",
        "importances = modelo_arvore_regressao.feature_importances_\n",
        "indices = np.argsort(importances)[::-1]\n",
        "print(\"Importância das variáveis:\")\n",
        "for f in range(X_train.shape[1]):\n",
        "    print(f\"{X_train.columns[indices[f]]}: {importances[indices[f]]}\")"
      ],
      "metadata": {
        "colab": {
          "base_uri": "https://localhost:8080/"
        },
        "id": "zvNTIG-UIYcm",
        "outputId": "7570a533-8792-445d-f582-6b6670a84ba7"
      },
      "execution_count": 58,
      "outputs": [
        {
          "output_type": "stream",
          "name": "stdout",
          "text": [
            "Importância das variáveis:\n",
            "valor_parcela: 0.6579492577980472\n",
            "quantidade_parcelas: 0.3319075919293725\n",
            "valor_principal: 0.010048586966725108\n",
            "idade: 5.745776506525205e-05\n",
            "quantidade_parcelas_pagas: 1.8231296215810268e-05\n",
            "taxa_contrato: 1.1648538720562572e-05\n",
            "estado: 4.45888394431615e-06\n",
            "genero: 1.6935307352507838e-06\n",
            "ano: 5.991970792031434e-07\n",
            "safra: 3.647537018365294e-07\n",
            "operacao: 1.0934039294207168e-07\n"
          ]
        }
      ]
    },
    {
      "cell_type": "code",
      "source": [
        "# As variáveis valor_parcela e quantidade_parcelas explicam praticamente 99% do modelo"
      ],
      "metadata": {
        "id": "f9pJlhG192fn"
      },
      "execution_count": 59,
      "outputs": []
    },
    {
      "cell_type": "markdown",
      "source": [
        "**Regressão linear**"
      ],
      "metadata": {
        "id": "loXYQKdoL8Y_"
      }
    },
    {
      "cell_type": "code",
      "source": [
        "from sklearn.linear_model import LinearRegression"
      ],
      "metadata": {
        "id": "i_5pjUh6MATV"
      },
      "execution_count": 60,
      "outputs": []
    },
    {
      "cell_type": "code",
      "source": [
        "X = df.drop(columns=[\"valor_bruto\"])  # Todas as variáveis, exceto a variável alvo\n",
        "y = df[\"valor_bruto\"]  # A variável alvo que queremos prever"
      ],
      "metadata": {
        "id": "-ktHMRuwMdHZ"
      },
      "execution_count": 61,
      "outputs": []
    },
    {
      "cell_type": "code",
      "source": [
        "# Instanciar o modelo de regressão linear\n",
        "model = LinearRegression()"
      ],
      "metadata": {
        "id": "FhDf4niyMip7"
      },
      "execution_count": 62,
      "outputs": []
    },
    {
      "cell_type": "code",
      "source": [
        "# Treinar o modelo\n",
        "model.fit(X, y)"
      ],
      "metadata": {
        "id": "Pe0_JuZ8Mlqb",
        "colab": {
          "base_uri": "https://localhost:8080/",
          "height": 75
        },
        "outputId": "6920303a-20c1-409c-980d-ad570b03d5ad"
      },
      "execution_count": 63,
      "outputs": [
        {
          "output_type": "execute_result",
          "data": {
            "text/plain": [
              "LinearRegression()"
            ],
            "text/html": [
              "<style>#sk-container-id-2 {color: black;background-color: white;}#sk-container-id-2 pre{padding: 0;}#sk-container-id-2 div.sk-toggleable {background-color: white;}#sk-container-id-2 label.sk-toggleable__label {cursor: pointer;display: block;width: 100%;margin-bottom: 0;padding: 0.3em;box-sizing: border-box;text-align: center;}#sk-container-id-2 label.sk-toggleable__label-arrow:before {content: \"▸\";float: left;margin-right: 0.25em;color: #696969;}#sk-container-id-2 label.sk-toggleable__label-arrow:hover:before {color: black;}#sk-container-id-2 div.sk-estimator:hover label.sk-toggleable__label-arrow:before {color: black;}#sk-container-id-2 div.sk-toggleable__content {max-height: 0;max-width: 0;overflow: hidden;text-align: left;background-color: #f0f8ff;}#sk-container-id-2 div.sk-toggleable__content pre {margin: 0.2em;color: black;border-radius: 0.25em;background-color: #f0f8ff;}#sk-container-id-2 input.sk-toggleable__control:checked~div.sk-toggleable__content {max-height: 200px;max-width: 100%;overflow: auto;}#sk-container-id-2 input.sk-toggleable__control:checked~label.sk-toggleable__label-arrow:before {content: \"▾\";}#sk-container-id-2 div.sk-estimator input.sk-toggleable__control:checked~label.sk-toggleable__label {background-color: #d4ebff;}#sk-container-id-2 div.sk-label input.sk-toggleable__control:checked~label.sk-toggleable__label {background-color: #d4ebff;}#sk-container-id-2 input.sk-hidden--visually {border: 0;clip: rect(1px 1px 1px 1px);clip: rect(1px, 1px, 1px, 1px);height: 1px;margin: -1px;overflow: hidden;padding: 0;position: absolute;width: 1px;}#sk-container-id-2 div.sk-estimator {font-family: monospace;background-color: #f0f8ff;border: 1px dotted black;border-radius: 0.25em;box-sizing: border-box;margin-bottom: 0.5em;}#sk-container-id-2 div.sk-estimator:hover {background-color: #d4ebff;}#sk-container-id-2 div.sk-parallel-item::after {content: \"\";width: 100%;border-bottom: 1px solid gray;flex-grow: 1;}#sk-container-id-2 div.sk-label:hover label.sk-toggleable__label {background-color: #d4ebff;}#sk-container-id-2 div.sk-serial::before {content: \"\";position: absolute;border-left: 1px solid gray;box-sizing: border-box;top: 0;bottom: 0;left: 50%;z-index: 0;}#sk-container-id-2 div.sk-serial {display: flex;flex-direction: column;align-items: center;background-color: white;padding-right: 0.2em;padding-left: 0.2em;position: relative;}#sk-container-id-2 div.sk-item {position: relative;z-index: 1;}#sk-container-id-2 div.sk-parallel {display: flex;align-items: stretch;justify-content: center;background-color: white;position: relative;}#sk-container-id-2 div.sk-item::before, #sk-container-id-2 div.sk-parallel-item::before {content: \"\";position: absolute;border-left: 1px solid gray;box-sizing: border-box;top: 0;bottom: 0;left: 50%;z-index: -1;}#sk-container-id-2 div.sk-parallel-item {display: flex;flex-direction: column;z-index: 1;position: relative;background-color: white;}#sk-container-id-2 div.sk-parallel-item:first-child::after {align-self: flex-end;width: 50%;}#sk-container-id-2 div.sk-parallel-item:last-child::after {align-self: flex-start;width: 50%;}#sk-container-id-2 div.sk-parallel-item:only-child::after {width: 0;}#sk-container-id-2 div.sk-dashed-wrapped {border: 1px dashed gray;margin: 0 0.4em 0.5em 0.4em;box-sizing: border-box;padding-bottom: 0.4em;background-color: white;}#sk-container-id-2 div.sk-label label {font-family: monospace;font-weight: bold;display: inline-block;line-height: 1.2em;}#sk-container-id-2 div.sk-label-container {text-align: center;}#sk-container-id-2 div.sk-container {/* jupyter's `normalize.less` sets `[hidden] { display: none; }` but bootstrap.min.css set `[hidden] { display: none !important; }` so we also need the `!important` here to be able to override the default hidden behavior on the sphinx rendered scikit-learn.org. See: https://github.com/scikit-learn/scikit-learn/issues/21755 */display: inline-block !important;position: relative;}#sk-container-id-2 div.sk-text-repr-fallback {display: none;}</style><div id=\"sk-container-id-2\" class=\"sk-top-container\"><div class=\"sk-text-repr-fallback\"><pre>LinearRegression()</pre><b>In a Jupyter environment, please rerun this cell to show the HTML representation or trust the notebook. <br />On GitHub, the HTML representation is unable to render, please try loading this page with nbviewer.org.</b></div><div class=\"sk-container\" hidden><div class=\"sk-item\"><div class=\"sk-estimator sk-toggleable\"><input class=\"sk-toggleable__control sk-hidden--visually\" id=\"sk-estimator-id-2\" type=\"checkbox\" checked><label for=\"sk-estimator-id-2\" class=\"sk-toggleable__label sk-toggleable__label-arrow\">LinearRegression</label><div class=\"sk-toggleable__content\"><pre>LinearRegression()</pre></div></div></div></div></div>"
            ]
          },
          "metadata": {},
          "execution_count": 63
        }
      ]
    },
    {
      "cell_type": "code",
      "source": [
        "# Coletar os coeficientes e seus respectivos nomes de features\n",
        "coefficients = pd.DataFrame({'Feature': X.columns, 'Coeficiente': model.coef_})\n"
      ],
      "metadata": {
        "id": "Hjy8OjoX_YDG"
      },
      "execution_count": 64,
      "outputs": []
    },
    {
      "cell_type": "code",
      "source": [
        "# Calcular o valor absoluto dos coeficientes\n",
        "coefficients['Coeficiente_Abs'] = abs(coefficients['Coeficiente'])\n",
        "\n",
        "# Normalizar os coeficientes absolutos para expressá-los como porcentagens\n",
        "max_abs_coef = coefficients['Coeficiente_Abs'].max()\n",
        "coefficients['Coeficiente_Abs_Pct'] = (coefficients['Coeficiente_Abs'] / max_abs_coef) * 100\n",
        "\n",
        "# Classificar os coeficientes em ordem decrescente de importância\n",
        "coefficients_sorted = coefficients.sort_values(by='Coeficiente_Abs_Pct', ascending=False)\n",
        "\n",
        "# Exibir as variáveis mais importantes\n",
        "print(coefficients_sorted)\n"
      ],
      "metadata": {
        "id": "diipTxdQOXXJ",
        "colab": {
          "base_uri": "https://localhost:8080/"
        },
        "outputId": "a219115f-7148-4cdb-ac34-b72fc20ebc76"
      },
      "execution_count": 65,
      "outputs": [
        {
          "output_type": "stream",
          "name": "stdout",
          "text": [
            "                      Feature  Coeficiente  Coeficiente_Abs  \\\n",
            "9               taxa_contrato  3003.225924      3003.225924   \n",
            "7         quantidade_parcelas   672.269191       672.269191   \n",
            "5                    operacao   336.375996       336.375996   \n",
            "1                       safra  -315.420074       315.420074   \n",
            "0                         ano  -315.420074       315.420074   \n",
            "3                      genero   175.261504       175.261504   \n",
            "10              valor_parcela    61.291347        61.291347   \n",
            "2                       idade    21.562041        21.562041   \n",
            "4                      estado   -15.241560        15.241560   \n",
            "8   quantidade_parcelas_pagas     8.240434         8.240434   \n",
            "6             valor_principal     0.128329         0.128329   \n",
            "\n",
            "    Coeficiente_Abs_Pct  \n",
            "9            100.000000  \n",
            "7             22.384902  \n",
            "5             11.200489  \n",
            "1             10.502709  \n",
            "0             10.502709  \n",
            "3              5.835775  \n",
            "10             2.040850  \n",
            "2              0.717963  \n",
            "4              0.507506  \n",
            "8              0.274386  \n",
            "6              0.004273  \n"
          ]
        }
      ]
    },
    {
      "cell_type": "code",
      "source": [
        "# As variáveis taxa_contrato, quantidade_parcelas, operacao, safra são as mais importantes ao se considerar o modelo de regressão linear"
      ],
      "metadata": {
        "id": "7MVcpBTl_jm_"
      },
      "execution_count": null,
      "outputs": []
    },
    {
      "cell_type": "code",
      "source": [
        "plt.figure(figsize=(20, 10))\n",
        "sns.heatmap(df.corr(), annot=True);"
      ],
      "metadata": {
        "colab": {
          "base_uri": "https://localhost:8080/",
          "height": 696
        },
        "id": "_yysPaSkCTSD",
        "outputId": "ddd56974-c998-464e-c42b-50082b1c8aba"
      },
      "execution_count": 66,
      "outputs": [
        {
          "output_type": "display_data",
          "data": {
            "text/plain": [
              "<Figure size 2000x1000 with 2 Axes>"
            ],
            "image/png": "[encoded data removed]"
          },
          "metadata": {}
        }
      ]
    },
    {
      "cell_type": "markdown",
      "source": [
        "# **Novo modelo com as variáveis selecionadas**"
      ],
      "metadata": {
        "id": "Mz1UFnGBZjoG"
      }
    },
    {
      "cell_type": "code",
      "source": [
        "\n",
        "\n",
        "# Selecionando apenas as variáveis desejadas\n",
        "new_df = df[['safra', 'valor_parcela', 'quantidade_parcelas', 'taxa_contrato', 'operacao', 'valor_bruto']]\n",
        "\n"
      ],
      "metadata": {
        "id": "3hVPavAeZmKk"
      },
      "execution_count": 67,
      "outputs": []
    },
    {
      "cell_type": "code",
      "source": [
        "# Separando as features (X) e o target (y)\n",
        "X = new_df.drop(columns=['valor_bruto'])  # Features\n",
        "y = new_df['valor_bruto']  # Target\n",
        "\n",
        "# Dividindo o conjunto de dados em conjuntos de treinamento e teste\n",
        "X_train, X_test, y_train, y_test = train_test_split(X, y, test_size=0.2, random_state=123)"
      ],
      "metadata": {
        "id": "rSvyAZLFajKu"
      },
      "execution_count": 68,
      "outputs": []
    },
    {
      "cell_type": "code",
      "source": [
        "# As variáveis ano e safra são equivalents"
      ],
      "metadata": {
        "id": "Vz7sNuFRcbRL"
      },
      "execution_count": 71,
      "outputs": []
    },
    {
      "cell_type": "markdown",
      "source": [
        "# **Modelos de predição**"
      ],
      "metadata": {
        "id": "VsOdWtV3Ak6_"
      }
    },
    {
      "cell_type": "markdown",
      "source": [
        "# **Regressão linear**"
      ],
      "metadata": {
        "id": "Vt56MCSSDyQ7"
      }
    },
    {
      "cell_type": "code",
      "source": [
        "dados_agrupados = df.groupby('ano')['valor_bruto'].sum().reset_index()"
      ],
      "metadata": {
        "id": "pIh4vrPE2NY4"
      },
      "execution_count": 69,
      "outputs": []
    },
    {
      "cell_type": "code",
      "source": [
        "# Exibir os dados agrupados\n",
        "print(dados_agrupados)"
      ],
      "metadata": {
        "colab": {
          "base_uri": "https://localhost:8080/"
        },
        "id": "NF-txPsi2XIv",
        "outputId": "9b3f4be0-0f74-4046-c0c0-fa34d66551ea"
      },
      "execution_count": 70,
      "outputs": [
        {
          "output_type": "stream",
          "name": "stdout",
          "text": [
            "    ano   valor_bruto\n",
            "0  2019  1.275951e+08\n",
            "1  2020  9.399672e+07\n",
            "2  2021  1.606532e+08\n",
            "3  2022  3.244716e+08\n"
          ]
        }
      ]
    },
    {
      "cell_type": "code",
      "source": [
        "from sklearn.linear_model import LinearRegression\n",
        "\n",
        "# Separar os dados de treino (históricos) e de teste (próximos dois anos)\n",
        "X_treino = dados_agrupados['ano'].values.reshape(-1, 1)\n",
        "y_treino = dados_agrupados['valor_bruto'].values\n",
        "\n",
        "# Criar e treinar o modelo de regressão linear\n",
        "modelo = LinearRegression()\n",
        "modelo.fit(X_treino, y_treino)"
      ],
      "metadata": {
        "colab": {
          "base_uri": "https://localhost:8080/",
          "height": 75
        },
        "id": "M7sdsKfH2b4P",
        "outputId": "9e3b0172-f537-4cce-dfe7-564dce6f6f6e"
      },
      "execution_count": 72,
      "outputs": [
        {
          "output_type": "execute_result",
          "data": {
            "text/plain": [
              "LinearRegression()"
            ],
            "text/html": [
              "<style>#sk-container-id-3 {color: black;background-color: white;}#sk-container-id-3 pre{padding: 0;}#sk-container-id-3 div.sk-toggleable {background-color: white;}#sk-container-id-3 label.sk-toggleable__label {cursor: pointer;display: block;width: 100%;margin-bottom: 0;padding: 0.3em;box-sizing: border-box;text-align: center;}#sk-container-id-3 label.sk-toggleable__label-arrow:before {content: \"▸\";float: left;margin-right: 0.25em;color: #696969;}#sk-container-id-3 label.sk-toggleable__label-arrow:hover:before {color: black;}#sk-container-id-3 div.sk-estimator:hover label.sk-toggleable__label-arrow:before {color: black;}#sk-container-id-3 div.sk-toggleable__content {max-height: 0;max-width: 0;overflow: hidden;text-align: left;background-color: #f0f8ff;}#sk-container-id-3 div.sk-toggleable__content pre {margin: 0.2em;color: black;border-radius: 0.25em;background-color: #f0f8ff;}#sk-container-id-3 input.sk-toggleable__control:checked~div.sk-toggleable__content {max-height: 200px;max-width: 100%;overflow: auto;}#sk-container-id-3 input.sk-toggleable__control:checked~label.sk-toggleable__label-arrow:before {content: \"▾\";}#sk-container-id-3 div.sk-estimator input.sk-toggleable__control:checked~label.sk-toggleable__label {background-color: #d4ebff;}#sk-container-id-3 div.sk-label input.sk-toggleable__control:checked~label.sk-toggleable__label {background-color: #d4ebff;}#sk-container-id-3 input.sk-hidden--visually {border: 0;clip: rect(1px 1px 1px 1px);clip: rect(1px, 1px, 1px, 1px);height: 1px;margin: -1px;overflow: hidden;padding: 0;position: absolute;width: 1px;}#sk-container-id-3 div.sk-estimator {font-family: monospace;background-color: #f0f8ff;border: 1px dotted black;border-radius: 0.25em;box-sizing: border-box;margin-bottom: 0.5em;}#sk-container-id-3 div.sk-estimator:hover {background-color: #d4ebff;}#sk-container-id-3 div.sk-parallel-item::after {content: \"\";width: 100%;border-bottom: 1px solid gray;flex-grow: 1;}#sk-container-id-3 div.sk-label:hover label.sk-toggleable__label {background-color: #d4ebff;}#sk-container-id-3 div.sk-serial::before {content: \"\";position: absolute;border-left: 1px solid gray;box-sizing: border-box;top: 0;bottom: 0;left: 50%;z-index: 0;}#sk-container-id-3 div.sk-serial {display: flex;flex-direction: column;align-items: center;background-color: white;padding-right: 0.2em;padding-left: 0.2em;position: relative;}#sk-container-id-3 div.sk-item {position: relative;z-index: 1;}#sk-container-id-3 div.sk-parallel {display: flex;align-items: stretch;justify-content: center;background-color: white;position: relative;}#sk-container-id-3 div.sk-item::before, #sk-container-id-3 div.sk-parallel-item::before {content: \"\";position: absolute;border-left: 1px solid gray;box-sizing: border-box;top: 0;bottom: 0;left: 50%;z-index: -1;}#sk-container-id-3 div.sk-parallel-item {display: flex;flex-direction: column;z-index: 1;position: relative;background-color: white;}#sk-container-id-3 div.sk-parallel-item:first-child::after {align-self: flex-end;width: 50%;}#sk-container-id-3 div.sk-parallel-item:last-child::after {align-self: flex-start;width: 50%;}#sk-container-id-3 div.sk-parallel-item:only-child::after {width: 0;}#sk-container-id-3 div.sk-dashed-wrapped {border: 1px dashed gray;margin: 0 0.4em 0.5em 0.4em;box-sizing: border-box;padding-bottom: 0.4em;background-color: white;}#sk-container-id-3 div.sk-label label {font-family: monospace;font-weight: bold;display: inline-block;line-height: 1.2em;}#sk-container-id-3 div.sk-label-container {text-align: center;}#sk-container-id-3 div.sk-container {/* jupyter's `normalize.less` sets `[hidden] { display: none; }` but bootstrap.min.css set `[hidden] { display: none !important; }` so we also need the `!important` here to be able to override the default hidden behavior on the sphinx rendered scikit-learn.org. See: https://github.com/scikit-learn/scikit-learn/issues/21755 */display: inline-block !important;position: relative;}#sk-container-id-3 div.sk-text-repr-fallback {display: none;}</style><div id=\"sk-container-id-3\" class=\"sk-top-container\"><div class=\"sk-text-repr-fallback\"><pre>LinearRegression()</pre><b>In a Jupyter environment, please rerun this cell to show the HTML representation or trust the notebook. <br />On GitHub, the HTML representation is unable to render, please try loading this page with nbviewer.org.</b></div><div class=\"sk-container\" hidden><div class=\"sk-item\"><div class=\"sk-estimator sk-toggleable\"><input class=\"sk-toggleable__control sk-hidden--visually\" id=\"sk-estimator-id-3\" type=\"checkbox\" checked><label for=\"sk-estimator-id-3\" class=\"sk-toggleable__label sk-toggleable__label-arrow\">LinearRegression</label><div class=\"sk-toggleable__content\"><pre>LinearRegression()</pre></div></div></div></div></div>"
            ]
          },
          "metadata": {},
          "execution_count": 72
        }
      ]
    },
    {
      "cell_type": "code",
      "source": [
        "# Criar os anos para os quais faremos a predição\n",
        "prox_anos = [dados_agrupados['ano'].max() + 1, dados_agrupados['ano'].max() + 2]\n",
        "\n",
        "# Fazer a predição para os próximos dois anos\n",
        "predicao = modelo.predict(pd.DataFrame(prox_anos).values.reshape(-1, 1))\n",
        "\n",
        "# Exibir os resultados da predição\n",
        "for ano, valor in zip(prox_anos, predicao):\n",
        "    print(\"Ano:\", ano, \"| Valor Bruto Previsto:\", valor)"
      ],
      "metadata": {
        "colab": {
          "base_uri": "https://localhost:8080/"
        },
        "id": "XqW4y9Yv2fdV",
        "outputId": "a650c5dc-994c-4293-e610-d4e408b7b1a6"
      },
      "execution_count": 73,
      "outputs": [
        {
          "output_type": "stream",
          "name": "stdout",
          "text": [
            "Ano: 2023 | Valor Bruto Previsto: 341000635.9571686\n",
            "Ano: 2024 | Valor Bruto Previsto: 406729226.4142151\n"
          ]
        }
      ]
    },
    {
      "cell_type": "code",
      "source": [
        "# Criar um DataFrame para armazenar os dados de previsão\n",
        "dados_predicao = pd.DataFrame({'ano': prox_anos, 'valor_bruto': predicao})"
      ],
      "metadata": {
        "id": "DsyQC5o-2i2n"
      },
      "execution_count": 74,
      "outputs": []
    },
    {
      "cell_type": "code",
      "source": [
        "# Concatenar os DataFrames de dados históricos e previsão\n",
        "dados_com_predicao = pd.concat([dados_agrupados, dados_predicao], ignore_index=True)"
      ],
      "metadata": {
        "id": "DPBv47K-2l9l"
      },
      "execution_count": 75,
      "outputs": []
    },
    {
      "cell_type": "code",
      "source": [
        "# Plotar os dados históricos e a previsão\n",
        "plt.figure(figsize=(10, 6))\n",
        "plt.plot(dados_com_predicao['ano'], dados_com_predicao['valor_bruto'], marker='o', label='Dados Históricos e Previsão')\n",
        "plt.scatter(dados_agrupados['ano'], dados_agrupados['valor_bruto'], color='red', label='Dados Históricos')\n",
        "plt.title('Valores Brutos por Ano')\n",
        "plt.xlabel('Ano')\n",
        "plt.ylabel('Valor Bruto')\n",
        "plt.legend()\n",
        "plt.grid(True)\n",
        "plt.show()"
      ],
      "metadata": {
        "colab": {
          "base_uri": "https://localhost:8080/",
          "height": 558
        },
        "id": "cSpTyR0w2pIt",
        "outputId": "3be53f49-b3af-456e-8a0b-e31457c666d1"
      },
      "execution_count": 76,
      "outputs": [
        {
          "output_type": "display_data",
          "data": {
            "text/plain": [
              "<Figure size 1000x600 with 1 Axes>"
            ],
            "image/png": "[encoded data removed]"
          },
          "metadata": {}
        }
      ]
    },
    {
      "cell_type": "markdown",
      "source": [
        "# **Modelo ARIMA (AutoRegressive Integrated Moving Average)**"
      ],
      "metadata": {
        "id": "v3pIfwDm-seW"
      }
    },
    {
      "cell_type": "code",
      "source": [
        "from sklearn.model_selection import train_test_split"
      ],
      "metadata": {
        "id": "tHXVNpBn-uIC"
      },
      "execution_count": 77,
      "outputs": []
    },
    {
      "cell_type": "code",
      "source": [
        "# Separando as features (X) e o target (y)\n",
        "X = df.drop(columns=['valor_bruto'])  # Features\n",
        "y = df['valor_bruto']  # Target\n",
        "\n",
        "# Dividindo o conjunto de dados em conjuntos de treinamento e teste\n",
        "X_train, X_test, y_train, y_test = train_test_split(X, y, test_size=0.2, random_state=123)"
      ],
      "metadata": {
        "id": "_T7vQ06E-y1t"
      },
      "execution_count": 78,
      "outputs": []
    },
    {
      "cell_type": "code",
      "source": [
        "import pandas as pd\n",
        "from statsmodels.tsa.arima.model import ARIMA"
      ],
      "metadata": {
        "id": "ciZ1RyFc-1t0"
      },
      "execution_count": 79,
      "outputs": []
    },
    {
      "cell_type": "code",
      "source": [
        "safra_grouped = df.groupby('ano')['valor_bruto'].sum()"
      ],
      "metadata": {
        "id": "gHktMr1M-44s"
      },
      "execution_count": 80,
      "outputs": []
    },
    {
      "cell_type": "code",
      "source": [
        "# Ajustar o modelo ARIMA\n",
        "model = ARIMA(safra_grouped, order=(1, 1, 2))  # Parâmetros do modelo podem variar\n",
        "results = model.fit()"
      ],
      "metadata": {
        "colab": {
          "base_uri": "https://localhost:8080/"
        },
        "id": "GFcTksla-8GG",
        "outputId": "39c2ce26-be9e-4258-8937-b4ee4d936860"
      },
      "execution_count": 81,
      "outputs": [
        {
          "output_type": "stream",
          "name": "stderr",
          "text": [
            "/usr/local/lib/python3.10/dist-packages/statsmodels/tsa/base/tsa_model.py:473: ValueWarning: An unsupported index was provided and will be ignored when e.g. forecasting.\n",
            "  self._init_dates(dates, freq)\n",
            "/usr/local/lib/python3.10/dist-packages/statsmodels/tsa/base/tsa_model.py:473: ValueWarning: An unsupported index was provided and will be ignored when e.g. forecasting.\n",
            "  self._init_dates(dates, freq)\n",
            "/usr/local/lib/python3.10/dist-packages/statsmodels/tsa/base/tsa_model.py:473: ValueWarning: An unsupported index was provided and will be ignored when e.g. forecasting.\n",
            "  self._init_dates(dates, freq)\n",
            "/usr/local/lib/python3.10/dist-packages/statsmodels/tsa/statespace/sarimax.py:866: UserWarning: Too few observations to estimate starting parameters for ARMA and trend. All parameters except for variances will be set to zeros.\n",
            "  warn('Too few observations to estimate starting parameters%s.'\n"
          ]
        }
      ]
    },
    {
      "cell_type": "code",
      "source": [
        "# Projeção para as duas próximas safras\n",
        "forecast = results.forecast(steps=2)  # Projetar dois passos à frente"
      ],
      "metadata": {
        "colab": {
          "base_uri": "https://localhost:8080/"
        },
        "id": "ndJ8HwJl-_2-",
        "outputId": "69503081-883d-43a7-b26a-dd41d2803616"
      },
      "execution_count": 82,
      "outputs": [
        {
          "output_type": "stream",
          "name": "stderr",
          "text": [
            "/usr/local/lib/python3.10/dist-packages/statsmodels/tsa/base/tsa_model.py:836: ValueWarning: No supported index is available. Prediction results will be given with an integer index beginning at `start`.\n",
            "  return get_prediction_index(\n",
            "/usr/local/lib/python3.10/dist-packages/statsmodels/tsa/base/tsa_model.py:836: FutureWarning: No supported index is available. In the next version, calling this method in a model without a supported index will result in an exception.\n",
            "  return get_prediction_index(\n"
          ]
        }
      ]
    },
    {
      "cell_type": "code",
      "source": [
        "# Exibir a projeção\n",
        "print(\"Projeção para as próximas duas safras:\")\n",
        "for i, f in enumerate(forecast):\n",
        "    print(f\"Safra {safra_grouped.index[-1] + i + 1}: {f:.2f}\")"
      ],
      "metadata": {
        "colab": {
          "base_uri": "https://localhost:8080/"
        },
        "id": "6vM7pCj9_DQm",
        "outputId": "5faba38d-7fae-4cc8-d1a8-8d6c49c3de06"
      },
      "execution_count": 83,
      "outputs": [
        {
          "output_type": "stream",
          "name": "stdout",
          "text": [
            "Projeção para as próximas duas safras:\n",
            "Safra 2023: 417129742.54\n",
            "Safra 2024: 484722349.76\n"
          ]
        }
      ]
    },
    {
      "cell_type": "code",
      "source": [
        "# Converter o índice para um índice ordenado\n",
        "safra_index = pd.CategoricalIndex(safra_grouped.index).as_ordered()\n",
        "\n",
        "# Calcular o range para as próximas safras\n",
        "forecast_index = pd.Index(range(safra_index.min(), safra_index.max() + 3))\n",
        "\n",
        "# Criar uma série de previsões com o índice calculado\n",
        "forecast_values = pd.Series(index=forecast_index)\n",
        "\n",
        "# Preencher as previsões para as safras passadas e as próximas duas safras\n",
        "forecast_values[:-2] = safra_grouped\n",
        "forecast_values[-2:] = forecast\n",
        "\n",
        "# Exibir as previsões\n",
        "print(forecast_values)"
      ],
      "metadata": {
        "colab": {
          "base_uri": "https://localhost:8080/"
        },
        "id": "OFwupaIl_GxU",
        "outputId": "d643247f-5c1c-404d-dd2e-dee1f785eafc"
      },
      "execution_count": 84,
      "outputs": [
        {
          "output_type": "stream",
          "name": "stdout",
          "text": [
            "2019    1.275951e+08\n",
            "2020    9.399672e+07\n",
            "2021    1.606532e+08\n",
            "2022    3.244716e+08\n",
            "2023    4.171297e+08\n",
            "2024    4.847223e+08\n",
            "dtype: float64\n"
          ]
        }
      ]
    },
    {
      "cell_type": "code",
      "source": [
        "plt.figure(figsize=(10, 6))\n",
        "plt.plot(forecast_values.index, forecast_values.values, marker='o', label='Valor Bruto')\n",
        "plt.title('Projeção do Valor Bruto por Safra')\n",
        "plt.xlabel('Safra')\n",
        "plt.ylabel('Valor Bruto')\n",
        "plt.grid(True)\n",
        "plt.legend()\n",
        "plt.show()"
      ],
      "metadata": {
        "colab": {
          "base_uri": "https://localhost:8080/",
          "height": 558
        },
        "id": "8BcQtF6D_LI-",
        "outputId": "fb3e1035-329a-4667-f077-d5308629d670"
      },
      "execution_count": 85,
      "outputs": [
        {
          "output_type": "display_data",
          "data": {
            "text/plain": [
              "<Figure size 1000x600 with 1 Axes>"
            ],
            "image/png": "[encoded data removed]"
          },
          "metadata": {}
        }
      ]
    },
    {
      "cell_type": "markdown",
      "source": [
        "# **SARIMAX (Seasonal Autoregressive Integrated Moving Average + exogenous variables)**"
      ],
      "metadata": {
        "id": "5jsnjN-2RHgI"
      }
    },
    {
      "cell_type": "code",
      "source": [
        "import pandas as pd\n",
        "from statsmodels.tsa.statespace.sarimax import SARIMAX"
      ],
      "metadata": {
        "id": "tB7GGYdhRSwq"
      },
      "execution_count": 86,
      "outputs": []
    },
    {
      "cell_type": "code",
      "source": [
        "# Separando as features (X) e o target (y)\n",
        "X = df.drop(columns=['valor_bruto'])  # Features\n",
        "y = df['valor_bruto']  # Target\n",
        "\n",
        "# Dividindo o conjunto de dados em conjuntos de treinamento e teste\n",
        "X_train, X_test, y_train, y_test = train_test_split(X, y, test_size=0.2, random_state=123)"
      ],
      "metadata": {
        "id": "kZRp08YDRbMR"
      },
      "execution_count": 87,
      "outputs": []
    },
    {
      "cell_type": "code",
      "source": [
        "dados_agrupados = df.groupby('ano')['valor_bruto'].sum()"
      ],
      "metadata": {
        "id": "kZpfdJgvRexZ"
      },
      "execution_count": 88,
      "outputs": []
    },
    {
      "cell_type": "code",
      "source": [
        "# Ajuste o modelo SARIMAX aos dados agregados\n",
        "modelo = SARIMAX(dados_agrupados, order=(1, 1, 1), seasonal_order=(1, 1, 1, 12))\n",
        "resultado = modelo.fit()"
      ],
      "metadata": {
        "colab": {
          "base_uri": "https://localhost:8080/"
        },
        "id": "hDz8i_0oRhmf",
        "outputId": "859a9076-b56d-4609-dc98-bba241e9f0ba"
      },
      "execution_count": 89,
      "outputs": [
        {
          "output_type": "stream",
          "name": "stderr",
          "text": [
            "/usr/local/lib/python3.10/dist-packages/statsmodels/tsa/base/tsa_model.py:473: ValueWarning: An unsupported index was provided and will be ignored when e.g. forecasting.\n",
            "  self._init_dates(dates, freq)\n",
            "/usr/local/lib/python3.10/dist-packages/statsmodels/tsa/base/tsa_model.py:473: ValueWarning: An unsupported index was provided and will be ignored when e.g. forecasting.\n",
            "  self._init_dates(dates, freq)\n",
            "/usr/local/lib/python3.10/dist-packages/statsmodels/tsa/statespace/sarimax.py:866: UserWarning: Too few observations to estimate starting parameters for ARMA and trend. All parameters except for variances will be set to zeros.\n",
            "  warn('Too few observations to estimate starting parameters%s.'\n",
            "/usr/local/lib/python3.10/dist-packages/statsmodels/tsa/statespace/sarimax.py:866: UserWarning: Too few observations to estimate starting parameters for seasonal ARMA. All parameters except for variances will be set to zeros.\n",
            "  warn('Too few observations to estimate starting parameters%s.'\n"
          ]
        }
      ]
    },
    {
      "cell_type": "code",
      "source": [
        "# Previsões para os próximos dois anos\n",
        "previsoes = resultado.get_forecast(steps=2)"
      ],
      "metadata": {
        "colab": {
          "base_uri": "https://localhost:8080/"
        },
        "id": "dDlEqaBQTEo7",
        "outputId": "2492bc5c-3bd6-4300-9703-06d8e1274b58"
      },
      "execution_count": 90,
      "outputs": [
        {
          "output_type": "stream",
          "name": "stderr",
          "text": [
            "/usr/local/lib/python3.10/dist-packages/statsmodels/tsa/base/tsa_model.py:836: ValueWarning: No supported index is available. Prediction results will be given with an integer index beginning at `start`.\n",
            "  return get_prediction_index(\n",
            "/usr/local/lib/python3.10/dist-packages/statsmodels/tsa/base/tsa_model.py:836: FutureWarning: No supported index is available. In the next version, calling this method in a model without a supported index will result in an exception.\n",
            "  return get_prediction_index(\n"
          ]
        }
      ]
    },
    {
      "cell_type": "code",
      "source": [
        "# Exibir a projeção\n",
        "print(\"Projeção para as próximas duas safras:\")\n",
        "for i, f in enumerate(forecast):\n",
        "    print(f\"Safra {safra_grouped.index[-1] + i + 1}: {f:.2f}\")"
      ],
      "metadata": {
        "colab": {
          "base_uri": "https://localhost:8080/"
        },
        "id": "iJ_cO63ZTIPq",
        "outputId": "19e5df56-2c77-4c89-8041-d243051c94c7"
      },
      "execution_count": 91,
      "outputs": [
        {
          "output_type": "stream",
          "name": "stdout",
          "text": [
            "Projeção para as próximas duas safras:\n",
            "Safra 2023: 417129742.54\n",
            "Safra 2024: 484722349.76\n"
          ]
        }
      ]
    },
    {
      "cell_type": "code",
      "source": [
        "# Converter o índice para um índice ordenado\n",
        "safra_index = pd.CategoricalIndex(safra_grouped.index).as_ordered()\n",
        "\n",
        "# Calcular o range para as próximas safras\n",
        "forecast_index = pd.Index(range(safra_index.min(), safra_index.max() + 3))\n",
        "\n",
        "# Criar uma série de previsões com o índice calculado\n",
        "forecast_values = pd.Series(index=forecast_index)\n",
        "\n",
        "# Preencher as previsões para as safras passadas e as próximas duas safras\n",
        "forecast_values[:-2] = safra_grouped\n",
        "forecast_values[-2:] = forecast\n",
        "\n",
        "# Exibir as previsões\n",
        "print(forecast_values)"
      ],
      "metadata": {
        "colab": {
          "base_uri": "https://localhost:8080/"
        },
        "id": "5MZxLQ2rTLUz",
        "outputId": "fc010882-5c27-4c7b-bdf6-a2e46673b39f"
      },
      "execution_count": 92,
      "outputs": [
        {
          "output_type": "stream",
          "name": "stdout",
          "text": [
            "2019    1.275951e+08\n",
            "2020    9.399672e+07\n",
            "2021    1.606532e+08\n",
            "2022    3.244716e+08\n",
            "2023    4.171297e+08\n",
            "2024    4.847223e+08\n",
            "dtype: float64\n"
          ]
        }
      ]
    },
    {
      "cell_type": "code",
      "source": [
        "# Fazer o gráfico\n",
        "plt.figure(figsize=(10, 6))\n",
        "plt.plot(forecast_values.index, forecast_values.values, marker='o', label='Valor Bruto')\n",
        "plt.title('Projeção do Valor Bruto por Safra')\n",
        "plt.xlabel('Safra')\n",
        "plt.ylabel('Valor Bruto')\n",
        "plt.grid(True)\n",
        "plt.legend()\n",
        "plt.show()"
      ],
      "metadata": {
        "colab": {
          "base_uri": "https://localhost:8080/",
          "height": 558
        },
        "id": "JGJBmpjITO_G",
        "outputId": "6f4490cc-b97c-4a35-8691-396a2db0b706"
      },
      "execution_count": 93,
      "outputs": [
        {
          "output_type": "display_data",
          "data": {
            "text/plain": [
              "<Figure size 1000x600 with 1 Axes>"
            ],
            "image/png": "[encoded data removed]"
          },
          "metadata": {}
        }
      ]
    }
  ]
}