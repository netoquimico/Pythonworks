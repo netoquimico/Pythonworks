{
  "nbformat": 4,
  "nbformat_minor": 0,
  "metadata": {
    "colab": {
      "name": "Titanic",
      "provenance": [],
      "collapsed_sections": [],
      "authorship_tag": "ABX9TyMsNPGwjALjEOMVlYQI/e+k",
      "include_colab_link": true
    },
    "kernelspec": {
      "name": "python3",
      "display_name": "Python 3"
    },
    "language_info": {
      "name": "python"
    }
  },
  "cells": [
    {
      "cell_type": "markdown",
      "metadata": {
        "id": "view-in-github",
        "colab_type": "text"
      },
      "source": [
        "<a href=\"https://colab.research.google.com/github/netoquimico/Pythonworks/blob/main/Titanic%20prediction.ipynb\" target=\"_parent\"><img src=\"https://colab.research.google.com/assets/colab-badge.svg\" alt=\"Open In Colab\"/></a>"
      ]
    },
    {
      "cell_type": "code",
      "execution_count": 16,
      "metadata": {
        "id": "dlg0hZMTSbbY"
      },
      "outputs": [],
      "source": [
        "import pandas as pd\n",
        "import numpy as np\n",
        "import seaborn as sns\n",
        "import matplotlib.pyplot as plt\n",
        "import plotly.express as px"
      ]
    },
    {
      "cell_type": "code",
      "source": [
        "from google.colab import drive"
      ],
      "metadata": {
        "id": "p8-cT-SuSho0"
      },
      "execution_count": 17,
      "outputs": []
    },
    {
      "cell_type": "markdown",
      "source": [
        "https://www.kaggle.com/datasets/brendan45774/test-file"
      ],
      "metadata": {
        "id": "jDxGcJxjX0l8"
      }
    },
    {
      "cell_type": "code",
      "source": [
        "titanic=pd.read_csv('/content/titanic.csv')"
      ],
      "metadata": {
        "id": "jkRIuTXQSnXH"
      },
      "execution_count": 18,
      "outputs": []
    },
    {
      "cell_type": "code",
      "source": [
        "titanic"
      ],
      "metadata": {
        "colab": {
          "base_uri": "https://localhost:8080/",
          "height": 572
        },
        "id": "BUOteSx2SuNF",
        "outputId": "fa3c13cd-8122-4cca-e1af-265f96b06e75"
      },
      "execution_count": 19,
      "outputs": [
        {
          "output_type": "execute_result",
          "data": {
            "text/plain": [
              "     PassengerId  Survived  Pclass  \\\n",
              "0              1         0       3   \n",
              "1              2         1       1   \n",
              "2              3         1       3   \n",
              "3              4         1       1   \n",
              "4              5         0       3   \n",
              "..           ...       ...     ...   \n",
              "886          887         0       2   \n",
              "887          888         1       1   \n",
              "888          889         0       3   \n",
              "889          890         1       1   \n",
              "890          891         0       3   \n",
              "\n",
              "                                                  Name     Sex   Age  SibSp  \\\n",
              "0                              Braund, Mr. Owen Harris    male  22.0      1   \n",
              "1    Cumings, Mrs. John Bradley (Florence Briggs Th...  female  38.0      1   \n",
              "2                               Heikkinen, Miss. Laina  female  26.0      0   \n",
              "3         Futrelle, Mrs. Jacques Heath (Lily May Peel)  female  35.0      1   \n",
              "4                             Allen, Mr. William Henry    male  35.0      0   \n",
              "..                                                 ...     ...   ...    ...   \n",
              "886                              Montvila, Rev. Juozas    male  27.0      0   \n",
              "887                       Graham, Miss. Margaret Edith  female  19.0      0   \n",
              "888           Johnston, Miss. Catherine Helen \"Carrie\"  female   NaN      1   \n",
              "889                              Behr, Mr. Karl Howell    male  26.0      0   \n",
              "890                                Dooley, Mr. Patrick    male  32.0      0   \n",
              "\n",
              "     Parch            Ticket     Fare Cabin Embarked  \n",
              "0        0         A/5 21171   7.2500   NaN        S  \n",
              "1        0          PC 17599  71.2833   C85        C  \n",
              "2        0  STON/O2. 3101282   7.9250   NaN        S  \n",
              "3        0            113803  53.1000  C123        S  \n",
              "4        0            373450   8.0500   NaN        S  \n",
              "..     ...               ...      ...   ...      ...  \n",
              "886      0            211536  13.0000   NaN        S  \n",
              "887      0            112053  30.0000   B42        S  \n",
              "888      2        W./C. 6607  23.4500   NaN        S  \n",
              "889      0            111369  30.0000  C148        C  \n",
              "890      0            370376   7.7500   NaN        Q  \n",
              "\n",
              "[891 rows x 12 columns]"
            ],
            "text/html": [
              "\n",
              "  <div id=\"df-886d7c5c-da25-402b-b676-72aa820fef69\">\n",
              "    <div class=\"colab-df-container\">\n",
              "      <div>\n",
              "<style scoped>\n",
              "    .dataframe tbody tr th:only-of-type {\n",
              "        vertical-align: middle;\n",
              "    }\n",
              "\n",
              "    .dataframe tbody tr th {\n",
              "        vertical-align: top;\n",
              "    }\n",
              "\n",
              "    .dataframe thead th {\n",
              "        text-align: right;\n",
              "    }\n",
              "</style>\n",
              "<table border=\"1\" class=\"dataframe\">\n",
              "  <thead>\n",
              "    <tr style=\"text-align: right;\">\n",
              "      <th></th>\n",
              "      <th>PassengerId</th>\n",
              "      <th>Survived</th>\n",
              "      <th>Pclass</th>\n",
              "      <th>Name</th>\n",
              "      <th>Sex</th>\n",
              "      <th>Age</th>\n",
              "      <th>SibSp</th>\n",
              "      <th>Parch</th>\n",
              "      <th>Ticket</th>\n",
              "      <th>Fare</th>\n",
              "      <th>Cabin</th>\n",
              "      <th>Embarked</th>\n",
              "    </tr>\n",
              "  </thead>\n",
              "  <tbody>\n",
              "    <tr>\n",
              "      <th>0</th>\n",
              "      <td>1</td>\n",
              "      <td>0</td>\n",
              "      <td>3</td>\n",
              "      <td>Braund, Mr. Owen Harris</td>\n",
              "      <td>male</td>\n",
              "      <td>22.0</td>\n",
              "      <td>1</td>\n",
              "      <td>0</td>\n",
              "      <td>A/5 21171</td>\n",
              "      <td>7.2500</td>\n",
              "      <td>NaN</td>\n",
              "      <td>S</td>\n",
              "    </tr>\n",
              "    <tr>\n",
              "      <th>1</th>\n",
              "      <td>2</td>\n",
              "      <td>1</td>\n",
              "      <td>1</td>\n",
              "      <td>Cumings, Mrs. John Bradley (Florence Briggs Th...</td>\n",
              "      <td>female</td>\n",
              "      <td>38.0</td>\n",
              "      <td>1</td>\n",
              "      <td>0</td>\n",
              "      <td>PC 17599</td>\n",
              "      <td>71.2833</td>\n",
              "      <td>C85</td>\n",
              "      <td>C</td>\n",
              "    </tr>\n",
              "    <tr>\n",
              "      <th>2</th>\n",
              "      <td>3</td>\n",
              "      <td>1</td>\n",
              "      <td>3</td>\n",
              "      <td>Heikkinen, Miss. Laina</td>\n",
              "      <td>female</td>\n",
              "      <td>26.0</td>\n",
              "      <td>0</td>\n",
              "      <td>0</td>\n",
              "      <td>STON/O2. 3101282</td>\n",
              "      <td>7.9250</td>\n",
              "      <td>NaN</td>\n",
              "      <td>S</td>\n",
              "    </tr>\n",
              "    <tr>\n",
              "      <th>3</th>\n",
              "      <td>4</td>\n",
              "      <td>1</td>\n",
              "      <td>1</td>\n",
              "      <td>Futrelle, Mrs. Jacques Heath (Lily May Peel)</td>\n",
              "      <td>female</td>\n",
              "      <td>35.0</td>\n",
              "      <td>1</td>\n",
              "      <td>0</td>\n",
              "      <td>113803</td>\n",
              "      <td>53.1000</td>\n",
              "      <td>C123</td>\n",
              "      <td>S</td>\n",
              "    </tr>\n",
              "    <tr>\n",
              "      <th>4</th>\n",
              "      <td>5</td>\n",
              "      <td>0</td>\n",
              "      <td>3</td>\n",
              "      <td>Allen, Mr. William Henry</td>\n",
              "      <td>male</td>\n",
              "      <td>35.0</td>\n",
              "      <td>0</td>\n",
              "      <td>0</td>\n",
              "      <td>373450</td>\n",
              "      <td>8.0500</td>\n",
              "      <td>NaN</td>\n",
              "      <td>S</td>\n",
              "    </tr>\n",
              "    <tr>\n",
              "      <th>...</th>\n",
              "      <td>...</td>\n",
              "      <td>...</td>\n",
              "      <td>...</td>\n",
              "      <td>...</td>\n",
              "      <td>...</td>\n",
              "      <td>...</td>\n",
              "      <td>...</td>\n",
              "      <td>...</td>\n",
              "      <td>...</td>\n",
              "      <td>...</td>\n",
              "      <td>...</td>\n",
              "      <td>...</td>\n",
              "    </tr>\n",
              "    <tr>\n",
              "      <th>886</th>\n",
              "      <td>887</td>\n",
              "      <td>0</td>\n",
              "      <td>2</td>\n",
              "      <td>Montvila, Rev. Juozas</td>\n",
              "      <td>male</td>\n",
              "      <td>27.0</td>\n",
              "      <td>0</td>\n",
              "      <td>0</td>\n",
              "      <td>211536</td>\n",
              "      <td>13.0000</td>\n",
              "      <td>NaN</td>\n",
              "      <td>S</td>\n",
              "    </tr>\n",
              "    <tr>\n",
              "      <th>887</th>\n",
              "      <td>888</td>\n",
              "      <td>1</td>\n",
              "      <td>1</td>\n",
              "      <td>Graham, Miss. Margaret Edith</td>\n",
              "      <td>female</td>\n",
              "      <td>19.0</td>\n",
              "      <td>0</td>\n",
              "      <td>0</td>\n",
              "      <td>112053</td>\n",
              "      <td>30.0000</td>\n",
              "      <td>B42</td>\n",
              "      <td>S</td>\n",
              "    </tr>\n",
              "    <tr>\n",
              "      <th>888</th>\n",
              "      <td>889</td>\n",
              "      <td>0</td>\n",
              "      <td>3</td>\n",
              "      <td>Johnston, Miss. Catherine Helen \"Carrie\"</td>\n",
              "      <td>female</td>\n",
              "      <td>NaN</td>\n",
              "      <td>1</td>\n",
              "      <td>2</td>\n",
              "      <td>W./C. 6607</td>\n",
              "      <td>23.4500</td>\n",
              "      <td>NaN</td>\n",
              "      <td>S</td>\n",
              "    </tr>\n",
              "    <tr>\n",
              "      <th>889</th>\n",
              "      <td>890</td>\n",
              "      <td>1</td>\n",
              "      <td>1</td>\n",
              "      <td>Behr, Mr. Karl Howell</td>\n",
              "      <td>male</td>\n",
              "      <td>26.0</td>\n",
              "      <td>0</td>\n",
              "      <td>0</td>\n",
              "      <td>111369</td>\n",
              "      <td>30.0000</td>\n",
              "      <td>C148</td>\n",
              "      <td>C</td>\n",
              "    </tr>\n",
              "    <tr>\n",
              "      <th>890</th>\n",
              "      <td>891</td>\n",
              "      <td>0</td>\n",
              "      <td>3</td>\n",
              "      <td>Dooley, Mr. Patrick</td>\n",
              "      <td>male</td>\n",
              "      <td>32.0</td>\n",
              "      <td>0</td>\n",
              "      <td>0</td>\n",
              "      <td>370376</td>\n",
              "      <td>7.7500</td>\n",
              "      <td>NaN</td>\n",
              "      <td>Q</td>\n",
              "    </tr>\n",
              "  </tbody>\n",
              "</table>\n",
              "<p>891 rows × 12 columns</p>\n",
              "</div>\n",
              "      <button class=\"colab-df-convert\" onclick=\"convertToInteractive('df-886d7c5c-da25-402b-b676-72aa820fef69')\"\n",
              "              title=\"Convert this dataframe to an interactive table.\"\n",
              "              style=\"display:none;\">\n",
              "        \n",
              "  <svg xmlns=\"http://www.w3.org/2000/svg\" height=\"24px\"viewBox=\"0 0 24 24\"\n",
              "       width=\"24px\">\n",
              "    <path d=\"M0 0h24v24H0V0z\" fill=\"none\"/>\n",
              "    <path d=\"M18.56 5.44l.94 2.06.94-2.06 2.06-.94-2.06-.94-.94-2.06-.94 2.06-2.06.94zm-11 1L8.5 8.5l.94-2.06 2.06-.94-2.06-.94L8.5 2.5l-.94 2.06-2.06.94zm10 10l.94 2.06.94-2.06 2.06-.94-2.06-.94-.94-2.06-.94 2.06-2.06.94z\"/><path d=\"M17.41 7.96l-1.37-1.37c-.4-.4-.92-.59-1.43-.59-.52 0-1.04.2-1.43.59L10.3 9.45l-7.72 7.72c-.78.78-.78 2.05 0 2.83L4 21.41c.39.39.9.59 1.41.59.51 0 1.02-.2 1.41-.59l7.78-7.78 2.81-2.81c.8-.78.8-2.07 0-2.86zM5.41 20L4 18.59l7.72-7.72 1.47 1.35L5.41 20z\"/>\n",
              "  </svg>\n",
              "      </button>\n",
              "      \n",
              "  <style>\n",
              "    .colab-df-container {\n",
              "      display:flex;\n",
              "      flex-wrap:wrap;\n",
              "      gap: 12px;\n",
              "    }\n",
              "\n",
              "    .colab-df-convert {\n",
              "      background-color: #E8F0FE;\n",
              "      border: none;\n",
              "      border-radius: 50%;\n",
              "      cursor: pointer;\n",
              "      display: none;\n",
              "      fill: #1967D2;\n",
              "      height: 32px;\n",
              "      padding: 0 0 0 0;\n",
              "      width: 32px;\n",
              "    }\n",
              "\n",
              "    .colab-df-convert:hover {\n",
              "      background-color: #E2EBFA;\n",
              "      box-shadow: 0px 1px 2px rgba(60, 64, 67, 0.3), 0px 1px 3px 1px rgba(60, 64, 67, 0.15);\n",
              "      fill: #174EA6;\n",
              "    }\n",
              "\n",
              "    [theme=dark] .colab-df-convert {\n",
              "      background-color: #3B4455;\n",
              "      fill: #D2E3FC;\n",
              "    }\n",
              "\n",
              "    [theme=dark] .colab-df-convert:hover {\n",
              "      background-color: #434B5C;\n",
              "      box-shadow: 0px 1px 3px 1px rgba(0, 0, 0, 0.15);\n",
              "      filter: drop-shadow(0px 1px 2px rgba(0, 0, 0, 0.3));\n",
              "      fill: #FFFFFF;\n",
              "    }\n",
              "  </style>\n",
              "\n",
              "      <script>\n",
              "        const buttonEl =\n",
              "          document.querySelector('#df-886d7c5c-da25-402b-b676-72aa820fef69 button.colab-df-convert');\n",
              "        buttonEl.style.display =\n",
              "          google.colab.kernel.accessAllowed ? 'block' : 'none';\n",
              "\n",
              "        async function convertToInteractive(key) {\n",
              "          const element = document.querySelector('#df-886d7c5c-da25-402b-b676-72aa820fef69');\n",
              "          const dataTable =\n",
              "            await google.colab.kernel.invokeFunction('convertToInteractive',\n",
              "                                                     [key], {});\n",
              "          if (!dataTable) return;\n",
              "\n",
              "          const docLinkHtml = 'Like what you see? Visit the ' +\n",
              "            '<a target=\"_blank\" href=https://colab.research.google.com/notebooks/data_table.ipynb>data table notebook</a>'\n",
              "            + ' to learn more about interactive tables.';\n",
              "          element.innerHTML = '';\n",
              "          dataTable['output_type'] = 'display_data';\n",
              "          await google.colab.output.renderOutput(dataTable, element);\n",
              "          const docLink = document.createElement('div');\n",
              "          docLink.innerHTML = docLinkHtml;\n",
              "          element.appendChild(docLink);\n",
              "        }\n",
              "      </script>\n",
              "    </div>\n",
              "  </div>\n",
              "  "
            ]
          },
          "metadata": {},
          "execution_count": 19
        }
      ]
    },
    {
      "cell_type": "markdown",
      "source": [
        "## **Deleting unnecessary columns**"
      ],
      "metadata": {
        "id": "3Ja5_SQfZZAK"
      }
    },
    {
      "cell_type": "code",
      "source": [
        "titanic.drop('PassengerId', axis=1, inplace=True)"
      ],
      "metadata": {
        "id": "Agy6uuXLTnAD"
      },
      "execution_count": 20,
      "outputs": []
    },
    {
      "cell_type": "code",
      "source": [
        "titanic.drop('Name', axis=1, inplace=True)"
      ],
      "metadata": {
        "id": "tPFgA-keT06_"
      },
      "execution_count": 21,
      "outputs": []
    },
    {
      "cell_type": "code",
      "source": [
        "titanic.drop('Ticket', axis=1, inplace=True)"
      ],
      "metadata": {
        "id": "l6LXamqjfmS8"
      },
      "execution_count": 22,
      "outputs": []
    },
    {
      "cell_type": "code",
      "source": [
        "titanic.drop('Cabin', axis=1, inplace=True)"
      ],
      "metadata": {
        "id": "GUnBRcFYlRU_"
      },
      "execution_count": 23,
      "outputs": []
    },
    {
      "cell_type": "code",
      "source": [
        "titanic.drop('Embarked', axis=1, inplace=True)"
      ],
      "metadata": {
        "id": "WdL526iErLvh"
      },
      "execution_count": 24,
      "outputs": []
    },
    {
      "cell_type": "code",
      "source": [
        "titanic"
      ],
      "metadata": {
        "colab": {
          "base_uri": "https://localhost:8080/",
          "height": 424
        },
        "id": "zjI1QVYZUuf_",
        "outputId": "3a135de2-acd9-4088-af57-e682ddf39427"
      },
      "execution_count": 25,
      "outputs": [
        {
          "output_type": "execute_result",
          "data": {
            "text/plain": [
              "     Survived  Pclass     Sex   Age  SibSp  Parch     Fare\n",
              "0           0       3    male  22.0      1      0   7.2500\n",
              "1           1       1  female  38.0      1      0  71.2833\n",
              "2           1       3  female  26.0      0      0   7.9250\n",
              "3           1       1  female  35.0      1      0  53.1000\n",
              "4           0       3    male  35.0      0      0   8.0500\n",
              "..        ...     ...     ...   ...    ...    ...      ...\n",
              "886         0       2    male  27.0      0      0  13.0000\n",
              "887         1       1  female  19.0      0      0  30.0000\n",
              "888         0       3  female   NaN      1      2  23.4500\n",
              "889         1       1    male  26.0      0      0  30.0000\n",
              "890         0       3    male  32.0      0      0   7.7500\n",
              "\n",
              "[891 rows x 7 columns]"
            ],
            "text/html": [
              "\n",
              "  <div id=\"df-7c4c7895-25ba-438b-81ae-72a7f226553f\">\n",
              "    <div class=\"colab-df-container\">\n",
              "      <div>\n",
              "<style scoped>\n",
              "    .dataframe tbody tr th:only-of-type {\n",
              "        vertical-align: middle;\n",
              "    }\n",
              "\n",
              "    .dataframe tbody tr th {\n",
              "        vertical-align: top;\n",
              "    }\n",
              "\n",
              "    .dataframe thead th {\n",
              "        text-align: right;\n",
              "    }\n",
              "</style>\n",
              "<table border=\"1\" class=\"dataframe\">\n",
              "  <thead>\n",
              "    <tr style=\"text-align: right;\">\n",
              "      <th></th>\n",
              "      <th>Survived</th>\n",
              "      <th>Pclass</th>\n",
              "      <th>Sex</th>\n",
              "      <th>Age</th>\n",
              "      <th>SibSp</th>\n",
              "      <th>Parch</th>\n",
              "      <th>Fare</th>\n",
              "    </tr>\n",
              "  </thead>\n",
              "  <tbody>\n",
              "    <tr>\n",
              "      <th>0</th>\n",
              "      <td>0</td>\n",
              "      <td>3</td>\n",
              "      <td>male</td>\n",
              "      <td>22.0</td>\n",
              "      <td>1</td>\n",
              "      <td>0</td>\n",
              "      <td>7.2500</td>\n",
              "    </tr>\n",
              "    <tr>\n",
              "      <th>1</th>\n",
              "      <td>1</td>\n",
              "      <td>1</td>\n",
              "      <td>female</td>\n",
              "      <td>38.0</td>\n",
              "      <td>1</td>\n",
              "      <td>0</td>\n",
              "      <td>71.2833</td>\n",
              "    </tr>\n",
              "    <tr>\n",
              "      <th>2</th>\n",
              "      <td>1</td>\n",
              "      <td>3</td>\n",
              "      <td>female</td>\n",
              "      <td>26.0</td>\n",
              "      <td>0</td>\n",
              "      <td>0</td>\n",
              "      <td>7.9250</td>\n",
              "    </tr>\n",
              "    <tr>\n",
              "      <th>3</th>\n",
              "      <td>1</td>\n",
              "      <td>1</td>\n",
              "      <td>female</td>\n",
              "      <td>35.0</td>\n",
              "      <td>1</td>\n",
              "      <td>0</td>\n",
              "      <td>53.1000</td>\n",
              "    </tr>\n",
              "    <tr>\n",
              "      <th>4</th>\n",
              "      <td>0</td>\n",
              "      <td>3</td>\n",
              "      <td>male</td>\n",
              "      <td>35.0</td>\n",
              "      <td>0</td>\n",
              "      <td>0</td>\n",
              "      <td>8.0500</td>\n",
              "    </tr>\n",
              "    <tr>\n",
              "      <th>...</th>\n",
              "      <td>...</td>\n",
              "      <td>...</td>\n",
              "      <td>...</td>\n",
              "      <td>...</td>\n",
              "      <td>...</td>\n",
              "      <td>...</td>\n",
              "      <td>...</td>\n",
              "    </tr>\n",
              "    <tr>\n",
              "      <th>886</th>\n",
              "      <td>0</td>\n",
              "      <td>2</td>\n",
              "      <td>male</td>\n",
              "      <td>27.0</td>\n",
              "      <td>0</td>\n",
              "      <td>0</td>\n",
              "      <td>13.0000</td>\n",
              "    </tr>\n",
              "    <tr>\n",
              "      <th>887</th>\n",
              "      <td>1</td>\n",
              "      <td>1</td>\n",
              "      <td>female</td>\n",
              "      <td>19.0</td>\n",
              "      <td>0</td>\n",
              "      <td>0</td>\n",
              "      <td>30.0000</td>\n",
              "    </tr>\n",
              "    <tr>\n",
              "      <th>888</th>\n",
              "      <td>0</td>\n",
              "      <td>3</td>\n",
              "      <td>female</td>\n",
              "      <td>NaN</td>\n",
              "      <td>1</td>\n",
              "      <td>2</td>\n",
              "      <td>23.4500</td>\n",
              "    </tr>\n",
              "    <tr>\n",
              "      <th>889</th>\n",
              "      <td>1</td>\n",
              "      <td>1</td>\n",
              "      <td>male</td>\n",
              "      <td>26.0</td>\n",
              "      <td>0</td>\n",
              "      <td>0</td>\n",
              "      <td>30.0000</td>\n",
              "    </tr>\n",
              "    <tr>\n",
              "      <th>890</th>\n",
              "      <td>0</td>\n",
              "      <td>3</td>\n",
              "      <td>male</td>\n",
              "      <td>32.0</td>\n",
              "      <td>0</td>\n",
              "      <td>0</td>\n",
              "      <td>7.7500</td>\n",
              "    </tr>\n",
              "  </tbody>\n",
              "</table>\n",
              "<p>891 rows × 7 columns</p>\n",
              "</div>\n",
              "      <button class=\"colab-df-convert\" onclick=\"convertToInteractive('df-7c4c7895-25ba-438b-81ae-72a7f226553f')\"\n",
              "              title=\"Convert this dataframe to an interactive table.\"\n",
              "              style=\"display:none;\">\n",
              "        \n",
              "  <svg xmlns=\"http://www.w3.org/2000/svg\" height=\"24px\"viewBox=\"0 0 24 24\"\n",
              "       width=\"24px\">\n",
              "    <path d=\"M0 0h24v24H0V0z\" fill=\"none\"/>\n",
              "    <path d=\"M18.56 5.44l.94 2.06.94-2.06 2.06-.94-2.06-.94-.94-2.06-.94 2.06-2.06.94zm-11 1L8.5 8.5l.94-2.06 2.06-.94-2.06-.94L8.5 2.5l-.94 2.06-2.06.94zm10 10l.94 2.06.94-2.06 2.06-.94-2.06-.94-.94-2.06-.94 2.06-2.06.94z\"/><path d=\"M17.41 7.96l-1.37-1.37c-.4-.4-.92-.59-1.43-.59-.52 0-1.04.2-1.43.59L10.3 9.45l-7.72 7.72c-.78.78-.78 2.05 0 2.83L4 21.41c.39.39.9.59 1.41.59.51 0 1.02-.2 1.41-.59l7.78-7.78 2.81-2.81c.8-.78.8-2.07 0-2.86zM5.41 20L4 18.59l7.72-7.72 1.47 1.35L5.41 20z\"/>\n",
              "  </svg>\n",
              "      </button>\n",
              "      \n",
              "  <style>\n",
              "    .colab-df-container {\n",
              "      display:flex;\n",
              "      flex-wrap:wrap;\n",
              "      gap: 12px;\n",
              "    }\n",
              "\n",
              "    .colab-df-convert {\n",
              "      background-color: #E8F0FE;\n",
              "      border: none;\n",
              "      border-radius: 50%;\n",
              "      cursor: pointer;\n",
              "      display: none;\n",
              "      fill: #1967D2;\n",
              "      height: 32px;\n",
              "      padding: 0 0 0 0;\n",
              "      width: 32px;\n",
              "    }\n",
              "\n",
              "    .colab-df-convert:hover {\n",
              "      background-color: #E2EBFA;\n",
              "      box-shadow: 0px 1px 2px rgba(60, 64, 67, 0.3), 0px 1px 3px 1px rgba(60, 64, 67, 0.15);\n",
              "      fill: #174EA6;\n",
              "    }\n",
              "\n",
              "    [theme=dark] .colab-df-convert {\n",
              "      background-color: #3B4455;\n",
              "      fill: #D2E3FC;\n",
              "    }\n",
              "\n",
              "    [theme=dark] .colab-df-convert:hover {\n",
              "      background-color: #434B5C;\n",
              "      box-shadow: 0px 1px 3px 1px rgba(0, 0, 0, 0.15);\n",
              "      filter: drop-shadow(0px 1px 2px rgba(0, 0, 0, 0.3));\n",
              "      fill: #FFFFFF;\n",
              "    }\n",
              "  </style>\n",
              "\n",
              "      <script>\n",
              "        const buttonEl =\n",
              "          document.querySelector('#df-7c4c7895-25ba-438b-81ae-72a7f226553f button.colab-df-convert');\n",
              "        buttonEl.style.display =\n",
              "          google.colab.kernel.accessAllowed ? 'block' : 'none';\n",
              "\n",
              "        async function convertToInteractive(key) {\n",
              "          const element = document.querySelector('#df-7c4c7895-25ba-438b-81ae-72a7f226553f');\n",
              "          const dataTable =\n",
              "            await google.colab.kernel.invokeFunction('convertToInteractive',\n",
              "                                                     [key], {});\n",
              "          if (!dataTable) return;\n",
              "\n",
              "          const docLinkHtml = 'Like what you see? Visit the ' +\n",
              "            '<a target=\"_blank\" href=https://colab.research.google.com/notebooks/data_table.ipynb>data table notebook</a>'\n",
              "            + ' to learn more about interactive tables.';\n",
              "          element.innerHTML = '';\n",
              "          dataTable['output_type'] = 'display_data';\n",
              "          await google.colab.output.renderOutput(dataTable, element);\n",
              "          const docLink = document.createElement('div');\n",
              "          docLink.innerHTML = docLinkHtml;\n",
              "          element.appendChild(docLink);\n",
              "        }\n",
              "      </script>\n",
              "    </div>\n",
              "  </div>\n",
              "  "
            ]
          },
          "metadata": {},
          "execution_count": 25
        }
      ]
    },
    {
      "cell_type": "code",
      "source": [
        "titanic.describe()"
      ],
      "metadata": {
        "colab": {
          "base_uri": "https://localhost:8080/",
          "height": 300
        },
        "id": "MtkysGgNU2CR",
        "outputId": "ed9fedd2-1787-45c1-b5a2-509338446919"
      },
      "execution_count": 26,
      "outputs": [
        {
          "output_type": "execute_result",
          "data": {
            "text/plain": [
              "         Survived      Pclass         Age       SibSp       Parch        Fare\n",
              "count  891.000000  891.000000  714.000000  891.000000  891.000000  891.000000\n",
              "mean     0.383838    2.308642   29.699118    0.523008    0.381594   32.204208\n",
              "std      0.486592    0.836071   14.526497    1.102743    0.806057   49.693429\n",
              "min      0.000000    1.000000    0.420000    0.000000    0.000000    0.000000\n",
              "25%      0.000000    2.000000   20.125000    0.000000    0.000000    7.910400\n",
              "50%      0.000000    3.000000   28.000000    0.000000    0.000000   14.454200\n",
              "75%      1.000000    3.000000   38.000000    1.000000    0.000000   31.000000\n",
              "max      1.000000    3.000000   80.000000    8.000000    6.000000  512.329200"
            ],
            "text/html": [
              "\n",
              "  <div id=\"df-ee6ea186-bbb5-4ff7-8a62-20e66f81d7b1\">\n",
              "    <div class=\"colab-df-container\">\n",
              "      <div>\n",
              "<style scoped>\n",
              "    .dataframe tbody tr th:only-of-type {\n",
              "        vertical-align: middle;\n",
              "    }\n",
              "\n",
              "    .dataframe tbody tr th {\n",
              "        vertical-align: top;\n",
              "    }\n",
              "\n",
              "    .dataframe thead th {\n",
              "        text-align: right;\n",
              "    }\n",
              "</style>\n",
              "<table border=\"1\" class=\"dataframe\">\n",
              "  <thead>\n",
              "    <tr style=\"text-align: right;\">\n",
              "      <th></th>\n",
              "      <th>Survived</th>\n",
              "      <th>Pclass</th>\n",
              "      <th>Age</th>\n",
              "      <th>SibSp</th>\n",
              "      <th>Parch</th>\n",
              "      <th>Fare</th>\n",
              "    </tr>\n",
              "  </thead>\n",
              "  <tbody>\n",
              "    <tr>\n",
              "      <th>count</th>\n",
              "      <td>891.000000</td>\n",
              "      <td>891.000000</td>\n",
              "      <td>714.000000</td>\n",
              "      <td>891.000000</td>\n",
              "      <td>891.000000</td>\n",
              "      <td>891.000000</td>\n",
              "    </tr>\n",
              "    <tr>\n",
              "      <th>mean</th>\n",
              "      <td>0.383838</td>\n",
              "      <td>2.308642</td>\n",
              "      <td>29.699118</td>\n",
              "      <td>0.523008</td>\n",
              "      <td>0.381594</td>\n",
              "      <td>32.204208</td>\n",
              "    </tr>\n",
              "    <tr>\n",
              "      <th>std</th>\n",
              "      <td>0.486592</td>\n",
              "      <td>0.836071</td>\n",
              "      <td>14.526497</td>\n",
              "      <td>1.102743</td>\n",
              "      <td>0.806057</td>\n",
              "      <td>49.693429</td>\n",
              "    </tr>\n",
              "    <tr>\n",
              "      <th>min</th>\n",
              "      <td>0.000000</td>\n",
              "      <td>1.000000</td>\n",
              "      <td>0.420000</td>\n",
              "      <td>0.000000</td>\n",
              "      <td>0.000000</td>\n",
              "      <td>0.000000</td>\n",
              "    </tr>\n",
              "    <tr>\n",
              "      <th>25%</th>\n",
              "      <td>0.000000</td>\n",
              "      <td>2.000000</td>\n",
              "      <td>20.125000</td>\n",
              "      <td>0.000000</td>\n",
              "      <td>0.000000</td>\n",
              "      <td>7.910400</td>\n",
              "    </tr>\n",
              "    <tr>\n",
              "      <th>50%</th>\n",
              "      <td>0.000000</td>\n",
              "      <td>3.000000</td>\n",
              "      <td>28.000000</td>\n",
              "      <td>0.000000</td>\n",
              "      <td>0.000000</td>\n",
              "      <td>14.454200</td>\n",
              "    </tr>\n",
              "    <tr>\n",
              "      <th>75%</th>\n",
              "      <td>1.000000</td>\n",
              "      <td>3.000000</td>\n",
              "      <td>38.000000</td>\n",
              "      <td>1.000000</td>\n",
              "      <td>0.000000</td>\n",
              "      <td>31.000000</td>\n",
              "    </tr>\n",
              "    <tr>\n",
              "      <th>max</th>\n",
              "      <td>1.000000</td>\n",
              "      <td>3.000000</td>\n",
              "      <td>80.000000</td>\n",
              "      <td>8.000000</td>\n",
              "      <td>6.000000</td>\n",
              "      <td>512.329200</td>\n",
              "    </tr>\n",
              "  </tbody>\n",
              "</table>\n",
              "</div>\n",
              "      <button class=\"colab-df-convert\" onclick=\"convertToInteractive('df-ee6ea186-bbb5-4ff7-8a62-20e66f81d7b1')\"\n",
              "              title=\"Convert this dataframe to an interactive table.\"\n",
              "              style=\"display:none;\">\n",
              "        \n",
              "  <svg xmlns=\"http://www.w3.org/2000/svg\" height=\"24px\"viewBox=\"0 0 24 24\"\n",
              "       width=\"24px\">\n",
              "    <path d=\"M0 0h24v24H0V0z\" fill=\"none\"/>\n",
              "    <path d=\"M18.56 5.44l.94 2.06.94-2.06 2.06-.94-2.06-.94-.94-2.06-.94 2.06-2.06.94zm-11 1L8.5 8.5l.94-2.06 2.06-.94-2.06-.94L8.5 2.5l-.94 2.06-2.06.94zm10 10l.94 2.06.94-2.06 2.06-.94-2.06-.94-.94-2.06-.94 2.06-2.06.94z\"/><path d=\"M17.41 7.96l-1.37-1.37c-.4-.4-.92-.59-1.43-.59-.52 0-1.04.2-1.43.59L10.3 9.45l-7.72 7.72c-.78.78-.78 2.05 0 2.83L4 21.41c.39.39.9.59 1.41.59.51 0 1.02-.2 1.41-.59l7.78-7.78 2.81-2.81c.8-.78.8-2.07 0-2.86zM5.41 20L4 18.59l7.72-7.72 1.47 1.35L5.41 20z\"/>\n",
              "  </svg>\n",
              "      </button>\n",
              "      \n",
              "  <style>\n",
              "    .colab-df-container {\n",
              "      display:flex;\n",
              "      flex-wrap:wrap;\n",
              "      gap: 12px;\n",
              "    }\n",
              "\n",
              "    .colab-df-convert {\n",
              "      background-color: #E8F0FE;\n",
              "      border: none;\n",
              "      border-radius: 50%;\n",
              "      cursor: pointer;\n",
              "      display: none;\n",
              "      fill: #1967D2;\n",
              "      height: 32px;\n",
              "      padding: 0 0 0 0;\n",
              "      width: 32px;\n",
              "    }\n",
              "\n",
              "    .colab-df-convert:hover {\n",
              "      background-color: #E2EBFA;\n",
              "      box-shadow: 0px 1px 2px rgba(60, 64, 67, 0.3), 0px 1px 3px 1px rgba(60, 64, 67, 0.15);\n",
              "      fill: #174EA6;\n",
              "    }\n",
              "\n",
              "    [theme=dark] .colab-df-convert {\n",
              "      background-color: #3B4455;\n",
              "      fill: #D2E3FC;\n",
              "    }\n",
              "\n",
              "    [theme=dark] .colab-df-convert:hover {\n",
              "      background-color: #434B5C;\n",
              "      box-shadow: 0px 1px 3px 1px rgba(0, 0, 0, 0.15);\n",
              "      filter: drop-shadow(0px 1px 2px rgba(0, 0, 0, 0.3));\n",
              "      fill: #FFFFFF;\n",
              "    }\n",
              "  </style>\n",
              "\n",
              "      <script>\n",
              "        const buttonEl =\n",
              "          document.querySelector('#df-ee6ea186-bbb5-4ff7-8a62-20e66f81d7b1 button.colab-df-convert');\n",
              "        buttonEl.style.display =\n",
              "          google.colab.kernel.accessAllowed ? 'block' : 'none';\n",
              "\n",
              "        async function convertToInteractive(key) {\n",
              "          const element = document.querySelector('#df-ee6ea186-bbb5-4ff7-8a62-20e66f81d7b1');\n",
              "          const dataTable =\n",
              "            await google.colab.kernel.invokeFunction('convertToInteractive',\n",
              "                                                     [key], {});\n",
              "          if (!dataTable) return;\n",
              "\n",
              "          const docLinkHtml = 'Like what you see? Visit the ' +\n",
              "            '<a target=\"_blank\" href=https://colab.research.google.com/notebooks/data_table.ipynb>data table notebook</a>'\n",
              "            + ' to learn more about interactive tables.';\n",
              "          element.innerHTML = '';\n",
              "          dataTable['output_type'] = 'display_data';\n",
              "          await google.colab.output.renderOutput(dataTable, element);\n",
              "          const docLink = document.createElement('div');\n",
              "          docLink.innerHTML = docLinkHtml;\n",
              "          element.appendChild(docLink);\n",
              "        }\n",
              "      </script>\n",
              "    </div>\n",
              "  </div>\n",
              "  "
            ]
          },
          "metadata": {},
          "execution_count": 26
        }
      ]
    },
    {
      "cell_type": "markdown",
      "source": [
        "## **Inconsistent data handling**"
      ],
      "metadata": {
        "id": "KlG8MAb3ZdxR"
      }
    },
    {
      "cell_type": "code",
      "source": [
        "titanic.isnull().sum()"
      ],
      "metadata": {
        "colab": {
          "base_uri": "https://localhost:8080/"
        },
        "id": "BHX5NUgyWk0n",
        "outputId": "4e4118e7-2bf4-44a4-dd3b-f3079b4f9fde"
      },
      "execution_count": 27,
      "outputs": [
        {
          "output_type": "execute_result",
          "data": {
            "text/plain": [
              "Survived      0\n",
              "Pclass        0\n",
              "Sex           0\n",
              "Age         177\n",
              "SibSp         0\n",
              "Parch         0\n",
              "Fare          0\n",
              "dtype: int64"
            ]
          },
          "metadata": {},
          "execution_count": 27
        }
      ]
    },
    {
      "cell_type": "code",
      "source": [
        "titanic.loc[pd.isnull(titanic['Age'])]"
      ],
      "metadata": {
        "colab": {
          "base_uri": "https://localhost:8080/",
          "height": 424
        },
        "id": "RpO1NJ8QW0AL",
        "outputId": "889ef099-3571-45bb-c203-450299e8b7bf"
      },
      "execution_count": 28,
      "outputs": [
        {
          "output_type": "execute_result",
          "data": {
            "text/plain": [
              "     Survived  Pclass     Sex  Age  SibSp  Parch     Fare\n",
              "5           0       3    male  NaN      0      0   8.4583\n",
              "17          1       2    male  NaN      0      0  13.0000\n",
              "19          1       3  female  NaN      0      0   7.2250\n",
              "26          0       3    male  NaN      0      0   7.2250\n",
              "28          1       3  female  NaN      0      0   7.8792\n",
              "..        ...     ...     ...  ...    ...    ...      ...\n",
              "859         0       3    male  NaN      0      0   7.2292\n",
              "863         0       3  female  NaN      8      2  69.5500\n",
              "868         0       3    male  NaN      0      0   9.5000\n",
              "878         0       3    male  NaN      0      0   7.8958\n",
              "888         0       3  female  NaN      1      2  23.4500\n",
              "\n",
              "[177 rows x 7 columns]"
            ],
            "text/html": [
              "\n",
              "  <div id=\"df-6d92158d-d53e-45f8-a16b-0a579f4f3fe9\">\n",
              "    <div class=\"colab-df-container\">\n",
              "      <div>\n",
              "<style scoped>\n",
              "    .dataframe tbody tr th:only-of-type {\n",
              "        vertical-align: middle;\n",
              "    }\n",
              "\n",
              "    .dataframe tbody tr th {\n",
              "        vertical-align: top;\n",
              "    }\n",
              "\n",
              "    .dataframe thead th {\n",
              "        text-align: right;\n",
              "    }\n",
              "</style>\n",
              "<table border=\"1\" class=\"dataframe\">\n",
              "  <thead>\n",
              "    <tr style=\"text-align: right;\">\n",
              "      <th></th>\n",
              "      <th>Survived</th>\n",
              "      <th>Pclass</th>\n",
              "      <th>Sex</th>\n",
              "      <th>Age</th>\n",
              "      <th>SibSp</th>\n",
              "      <th>Parch</th>\n",
              "      <th>Fare</th>\n",
              "    </tr>\n",
              "  </thead>\n",
              "  <tbody>\n",
              "    <tr>\n",
              "      <th>5</th>\n",
              "      <td>0</td>\n",
              "      <td>3</td>\n",
              "      <td>male</td>\n",
              "      <td>NaN</td>\n",
              "      <td>0</td>\n",
              "      <td>0</td>\n",
              "      <td>8.4583</td>\n",
              "    </tr>\n",
              "    <tr>\n",
              "      <th>17</th>\n",
              "      <td>1</td>\n",
              "      <td>2</td>\n",
              "      <td>male</td>\n",
              "      <td>NaN</td>\n",
              "      <td>0</td>\n",
              "      <td>0</td>\n",
              "      <td>13.0000</td>\n",
              "    </tr>\n",
              "    <tr>\n",
              "      <th>19</th>\n",
              "      <td>1</td>\n",
              "      <td>3</td>\n",
              "      <td>female</td>\n",
              "      <td>NaN</td>\n",
              "      <td>0</td>\n",
              "      <td>0</td>\n",
              "      <td>7.2250</td>\n",
              "    </tr>\n",
              "    <tr>\n",
              "      <th>26</th>\n",
              "      <td>0</td>\n",
              "      <td>3</td>\n",
              "      <td>male</td>\n",
              "      <td>NaN</td>\n",
              "      <td>0</td>\n",
              "      <td>0</td>\n",
              "      <td>7.2250</td>\n",
              "    </tr>\n",
              "    <tr>\n",
              "      <th>28</th>\n",
              "      <td>1</td>\n",
              "      <td>3</td>\n",
              "      <td>female</td>\n",
              "      <td>NaN</td>\n",
              "      <td>0</td>\n",
              "      <td>0</td>\n",
              "      <td>7.8792</td>\n",
              "    </tr>\n",
              "    <tr>\n",
              "      <th>...</th>\n",
              "      <td>...</td>\n",
              "      <td>...</td>\n",
              "      <td>...</td>\n",
              "      <td>...</td>\n",
              "      <td>...</td>\n",
              "      <td>...</td>\n",
              "      <td>...</td>\n",
              "    </tr>\n",
              "    <tr>\n",
              "      <th>859</th>\n",
              "      <td>0</td>\n",
              "      <td>3</td>\n",
              "      <td>male</td>\n",
              "      <td>NaN</td>\n",
              "      <td>0</td>\n",
              "      <td>0</td>\n",
              "      <td>7.2292</td>\n",
              "    </tr>\n",
              "    <tr>\n",
              "      <th>863</th>\n",
              "      <td>0</td>\n",
              "      <td>3</td>\n",
              "      <td>female</td>\n",
              "      <td>NaN</td>\n",
              "      <td>8</td>\n",
              "      <td>2</td>\n",
              "      <td>69.5500</td>\n",
              "    </tr>\n",
              "    <tr>\n",
              "      <th>868</th>\n",
              "      <td>0</td>\n",
              "      <td>3</td>\n",
              "      <td>male</td>\n",
              "      <td>NaN</td>\n",
              "      <td>0</td>\n",
              "      <td>0</td>\n",
              "      <td>9.5000</td>\n",
              "    </tr>\n",
              "    <tr>\n",
              "      <th>878</th>\n",
              "      <td>0</td>\n",
              "      <td>3</td>\n",
              "      <td>male</td>\n",
              "      <td>NaN</td>\n",
              "      <td>0</td>\n",
              "      <td>0</td>\n",
              "      <td>7.8958</td>\n",
              "    </tr>\n",
              "    <tr>\n",
              "      <th>888</th>\n",
              "      <td>0</td>\n",
              "      <td>3</td>\n",
              "      <td>female</td>\n",
              "      <td>NaN</td>\n",
              "      <td>1</td>\n",
              "      <td>2</td>\n",
              "      <td>23.4500</td>\n",
              "    </tr>\n",
              "  </tbody>\n",
              "</table>\n",
              "<p>177 rows × 7 columns</p>\n",
              "</div>\n",
              "      <button class=\"colab-df-convert\" onclick=\"convertToInteractive('df-6d92158d-d53e-45f8-a16b-0a579f4f3fe9')\"\n",
              "              title=\"Convert this dataframe to an interactive table.\"\n",
              "              style=\"display:none;\">\n",
              "        \n",
              "  <svg xmlns=\"http://www.w3.org/2000/svg\" height=\"24px\"viewBox=\"0 0 24 24\"\n",
              "       width=\"24px\">\n",
              "    <path d=\"M0 0h24v24H0V0z\" fill=\"none\"/>\n",
              "    <path d=\"M18.56 5.44l.94 2.06.94-2.06 2.06-.94-2.06-.94-.94-2.06-.94 2.06-2.06.94zm-11 1L8.5 8.5l.94-2.06 2.06-.94-2.06-.94L8.5 2.5l-.94 2.06-2.06.94zm10 10l.94 2.06.94-2.06 2.06-.94-2.06-.94-.94-2.06-.94 2.06-2.06.94z\"/><path d=\"M17.41 7.96l-1.37-1.37c-.4-.4-.92-.59-1.43-.59-.52 0-1.04.2-1.43.59L10.3 9.45l-7.72 7.72c-.78.78-.78 2.05 0 2.83L4 21.41c.39.39.9.59 1.41.59.51 0 1.02-.2 1.41-.59l7.78-7.78 2.81-2.81c.8-.78.8-2.07 0-2.86zM5.41 20L4 18.59l7.72-7.72 1.47 1.35L5.41 20z\"/>\n",
              "  </svg>\n",
              "      </button>\n",
              "      \n",
              "  <style>\n",
              "    .colab-df-container {\n",
              "      display:flex;\n",
              "      flex-wrap:wrap;\n",
              "      gap: 12px;\n",
              "    }\n",
              "\n",
              "    .colab-df-convert {\n",
              "      background-color: #E8F0FE;\n",
              "      border: none;\n",
              "      border-radius: 50%;\n",
              "      cursor: pointer;\n",
              "      display: none;\n",
              "      fill: #1967D2;\n",
              "      height: 32px;\n",
              "      padding: 0 0 0 0;\n",
              "      width: 32px;\n",
              "    }\n",
              "\n",
              "    .colab-df-convert:hover {\n",
              "      background-color: #E2EBFA;\n",
              "      box-shadow: 0px 1px 2px rgba(60, 64, 67, 0.3), 0px 1px 3px 1px rgba(60, 64, 67, 0.15);\n",
              "      fill: #174EA6;\n",
              "    }\n",
              "\n",
              "    [theme=dark] .colab-df-convert {\n",
              "      background-color: #3B4455;\n",
              "      fill: #D2E3FC;\n",
              "    }\n",
              "\n",
              "    [theme=dark] .colab-df-convert:hover {\n",
              "      background-color: #434B5C;\n",
              "      box-shadow: 0px 1px 3px 1px rgba(0, 0, 0, 0.15);\n",
              "      filter: drop-shadow(0px 1px 2px rgba(0, 0, 0, 0.3));\n",
              "      fill: #FFFFFF;\n",
              "    }\n",
              "  </style>\n",
              "\n",
              "      <script>\n",
              "        const buttonEl =\n",
              "          document.querySelector('#df-6d92158d-d53e-45f8-a16b-0a579f4f3fe9 button.colab-df-convert');\n",
              "        buttonEl.style.display =\n",
              "          google.colab.kernel.accessAllowed ? 'block' : 'none';\n",
              "\n",
              "        async function convertToInteractive(key) {\n",
              "          const element = document.querySelector('#df-6d92158d-d53e-45f8-a16b-0a579f4f3fe9');\n",
              "          const dataTable =\n",
              "            await google.colab.kernel.invokeFunction('convertToInteractive',\n",
              "                                                     [key], {});\n",
              "          if (!dataTable) return;\n",
              "\n",
              "          const docLinkHtml = 'Like what you see? Visit the ' +\n",
              "            '<a target=\"_blank\" href=https://colab.research.google.com/notebooks/data_table.ipynb>data table notebook</a>'\n",
              "            + ' to learn more about interactive tables.';\n",
              "          element.innerHTML = '';\n",
              "          dataTable['output_type'] = 'display_data';\n",
              "          await google.colab.output.renderOutput(dataTable, element);\n",
              "          const docLink = document.createElement('div');\n",
              "          docLink.innerHTML = docLinkHtml;\n",
              "          element.appendChild(docLink);\n",
              "        }\n",
              "      </script>\n",
              "    </div>\n",
              "  </div>\n",
              "  "
            ]
          },
          "metadata": {},
          "execution_count": 28
        }
      ]
    },
    {
      "cell_type": "code",
      "source": [
        "titanic['Age'].fillna(titanic['Age'].mean(), inplace = True)"
      ],
      "metadata": {
        "id": "bU8QyS2bXPs1"
      },
      "execution_count": 29,
      "outputs": []
    },
    {
      "cell_type": "code",
      "source": [
        "titanic.isnull().sum()"
      ],
      "metadata": {
        "colab": {
          "base_uri": "https://localhost:8080/"
        },
        "id": "0fB97QdBXg0X",
        "outputId": "d2948ffd-41f1-478d-d2fd-a75e62bc2a85"
      },
      "execution_count": 30,
      "outputs": [
        {
          "output_type": "execute_result",
          "data": {
            "text/plain": [
              "Survived    0\n",
              "Pclass      0\n",
              "Sex         0\n",
              "Age         0\n",
              "SibSp       0\n",
              "Parch       0\n",
              "Fare        0\n",
              "dtype: int64"
            ]
          },
          "metadata": {},
          "execution_count": 30
        }
      ]
    },
    {
      "cell_type": "code",
      "source": [
        "titanic"
      ],
      "metadata": {
        "colab": {
          "base_uri": "https://localhost:8080/",
          "height": 424
        },
        "id": "0EB29vZgYAbp",
        "outputId": "ce652250-c063-46c1-fdc9-f8d0706ed860"
      },
      "execution_count": 31,
      "outputs": [
        {
          "output_type": "execute_result",
          "data": {
            "text/plain": [
              "     Survived  Pclass     Sex        Age  SibSp  Parch     Fare\n",
              "0           0       3    male  22.000000      1      0   7.2500\n",
              "1           1       1  female  38.000000      1      0  71.2833\n",
              "2           1       3  female  26.000000      0      0   7.9250\n",
              "3           1       1  female  35.000000      1      0  53.1000\n",
              "4           0       3    male  35.000000      0      0   8.0500\n",
              "..        ...     ...     ...        ...    ...    ...      ...\n",
              "886         0       2    male  27.000000      0      0  13.0000\n",
              "887         1       1  female  19.000000      0      0  30.0000\n",
              "888         0       3  female  29.699118      1      2  23.4500\n",
              "889         1       1    male  26.000000      0      0  30.0000\n",
              "890         0       3    male  32.000000      0      0   7.7500\n",
              "\n",
              "[891 rows x 7 columns]"
            ],
            "text/html": [
              "\n",
              "  <div id=\"df-0c4881e9-dd89-4e2b-99a0-07e7c89e7a79\">\n",
              "    <div class=\"colab-df-container\">\n",
              "      <div>\n",
              "<style scoped>\n",
              "    .dataframe tbody tr th:only-of-type {\n",
              "        vertical-align: middle;\n",
              "    }\n",
              "\n",
              "    .dataframe tbody tr th {\n",
              "        vertical-align: top;\n",
              "    }\n",
              "\n",
              "    .dataframe thead th {\n",
              "        text-align: right;\n",
              "    }\n",
              "</style>\n",
              "<table border=\"1\" class=\"dataframe\">\n",
              "  <thead>\n",
              "    <tr style=\"text-align: right;\">\n",
              "      <th></th>\n",
              "      <th>Survived</th>\n",
              "      <th>Pclass</th>\n",
              "      <th>Sex</th>\n",
              "      <th>Age</th>\n",
              "      <th>SibSp</th>\n",
              "      <th>Parch</th>\n",
              "      <th>Fare</th>\n",
              "    </tr>\n",
              "  </thead>\n",
              "  <tbody>\n",
              "    <tr>\n",
              "      <th>0</th>\n",
              "      <td>0</td>\n",
              "      <td>3</td>\n",
              "      <td>male</td>\n",
              "      <td>22.000000</td>\n",
              "      <td>1</td>\n",
              "      <td>0</td>\n",
              "      <td>7.2500</td>\n",
              "    </tr>\n",
              "    <tr>\n",
              "      <th>1</th>\n",
              "      <td>1</td>\n",
              "      <td>1</td>\n",
              "      <td>female</td>\n",
              "      <td>38.000000</td>\n",
              "      <td>1</td>\n",
              "      <td>0</td>\n",
              "      <td>71.2833</td>\n",
              "    </tr>\n",
              "    <tr>\n",
              "      <th>2</th>\n",
              "      <td>1</td>\n",
              "      <td>3</td>\n",
              "      <td>female</td>\n",
              "      <td>26.000000</td>\n",
              "      <td>0</td>\n",
              "      <td>0</td>\n",
              "      <td>7.9250</td>\n",
              "    </tr>\n",
              "    <tr>\n",
              "      <th>3</th>\n",
              "      <td>1</td>\n",
              "      <td>1</td>\n",
              "      <td>female</td>\n",
              "      <td>35.000000</td>\n",
              "      <td>1</td>\n",
              "      <td>0</td>\n",
              "      <td>53.1000</td>\n",
              "    </tr>\n",
              "    <tr>\n",
              "      <th>4</th>\n",
              "      <td>0</td>\n",
              "      <td>3</td>\n",
              "      <td>male</td>\n",
              "      <td>35.000000</td>\n",
              "      <td>0</td>\n",
              "      <td>0</td>\n",
              "      <td>8.0500</td>\n",
              "    </tr>\n",
              "    <tr>\n",
              "      <th>...</th>\n",
              "      <td>...</td>\n",
              "      <td>...</td>\n",
              "      <td>...</td>\n",
              "      <td>...</td>\n",
              "      <td>...</td>\n",
              "      <td>...</td>\n",
              "      <td>...</td>\n",
              "    </tr>\n",
              "    <tr>\n",
              "      <th>886</th>\n",
              "      <td>0</td>\n",
              "      <td>2</td>\n",
              "      <td>male</td>\n",
              "      <td>27.000000</td>\n",
              "      <td>0</td>\n",
              "      <td>0</td>\n",
              "      <td>13.0000</td>\n",
              "    </tr>\n",
              "    <tr>\n",
              "      <th>887</th>\n",
              "      <td>1</td>\n",
              "      <td>1</td>\n",
              "      <td>female</td>\n",
              "      <td>19.000000</td>\n",
              "      <td>0</td>\n",
              "      <td>0</td>\n",
              "      <td>30.0000</td>\n",
              "    </tr>\n",
              "    <tr>\n",
              "      <th>888</th>\n",
              "      <td>0</td>\n",
              "      <td>3</td>\n",
              "      <td>female</td>\n",
              "      <td>29.699118</td>\n",
              "      <td>1</td>\n",
              "      <td>2</td>\n",
              "      <td>23.4500</td>\n",
              "    </tr>\n",
              "    <tr>\n",
              "      <th>889</th>\n",
              "      <td>1</td>\n",
              "      <td>1</td>\n",
              "      <td>male</td>\n",
              "      <td>26.000000</td>\n",
              "      <td>0</td>\n",
              "      <td>0</td>\n",
              "      <td>30.0000</td>\n",
              "    </tr>\n",
              "    <tr>\n",
              "      <th>890</th>\n",
              "      <td>0</td>\n",
              "      <td>3</td>\n",
              "      <td>male</td>\n",
              "      <td>32.000000</td>\n",
              "      <td>0</td>\n",
              "      <td>0</td>\n",
              "      <td>7.7500</td>\n",
              "    </tr>\n",
              "  </tbody>\n",
              "</table>\n",
              "<p>891 rows × 7 columns</p>\n",
              "</div>\n",
              "      <button class=\"colab-df-convert\" onclick=\"convertToInteractive('df-0c4881e9-dd89-4e2b-99a0-07e7c89e7a79')\"\n",
              "              title=\"Convert this dataframe to an interactive table.\"\n",
              "              style=\"display:none;\">\n",
              "        \n",
              "  <svg xmlns=\"http://www.w3.org/2000/svg\" height=\"24px\"viewBox=\"0 0 24 24\"\n",
              "       width=\"24px\">\n",
              "    <path d=\"M0 0h24v24H0V0z\" fill=\"none\"/>\n",
              "    <path d=\"M18.56 5.44l.94 2.06.94-2.06 2.06-.94-2.06-.94-.94-2.06-.94 2.06-2.06.94zm-11 1L8.5 8.5l.94-2.06 2.06-.94-2.06-.94L8.5 2.5l-.94 2.06-2.06.94zm10 10l.94 2.06.94-2.06 2.06-.94-2.06-.94-.94-2.06-.94 2.06-2.06.94z\"/><path d=\"M17.41 7.96l-1.37-1.37c-.4-.4-.92-.59-1.43-.59-.52 0-1.04.2-1.43.59L10.3 9.45l-7.72 7.72c-.78.78-.78 2.05 0 2.83L4 21.41c.39.39.9.59 1.41.59.51 0 1.02-.2 1.41-.59l7.78-7.78 2.81-2.81c.8-.78.8-2.07 0-2.86zM5.41 20L4 18.59l7.72-7.72 1.47 1.35L5.41 20z\"/>\n",
              "  </svg>\n",
              "      </button>\n",
              "      \n",
              "  <style>\n",
              "    .colab-df-container {\n",
              "      display:flex;\n",
              "      flex-wrap:wrap;\n",
              "      gap: 12px;\n",
              "    }\n",
              "\n",
              "    .colab-df-convert {\n",
              "      background-color: #E8F0FE;\n",
              "      border: none;\n",
              "      border-radius: 50%;\n",
              "      cursor: pointer;\n",
              "      display: none;\n",
              "      fill: #1967D2;\n",
              "      height: 32px;\n",
              "      padding: 0 0 0 0;\n",
              "      width: 32px;\n",
              "    }\n",
              "\n",
              "    .colab-df-convert:hover {\n",
              "      background-color: #E2EBFA;\n",
              "      box-shadow: 0px 1px 2px rgba(60, 64, 67, 0.3), 0px 1px 3px 1px rgba(60, 64, 67, 0.15);\n",
              "      fill: #174EA6;\n",
              "    }\n",
              "\n",
              "    [theme=dark] .colab-df-convert {\n",
              "      background-color: #3B4455;\n",
              "      fill: #D2E3FC;\n",
              "    }\n",
              "\n",
              "    [theme=dark] .colab-df-convert:hover {\n",
              "      background-color: #434B5C;\n",
              "      box-shadow: 0px 1px 3px 1px rgba(0, 0, 0, 0.15);\n",
              "      filter: drop-shadow(0px 1px 2px rgba(0, 0, 0, 0.3));\n",
              "      fill: #FFFFFF;\n",
              "    }\n",
              "  </style>\n",
              "\n",
              "      <script>\n",
              "        const buttonEl =\n",
              "          document.querySelector('#df-0c4881e9-dd89-4e2b-99a0-07e7c89e7a79 button.colab-df-convert');\n",
              "        buttonEl.style.display =\n",
              "          google.colab.kernel.accessAllowed ? 'block' : 'none';\n",
              "\n",
              "        async function convertToInteractive(key) {\n",
              "          const element = document.querySelector('#df-0c4881e9-dd89-4e2b-99a0-07e7c89e7a79');\n",
              "          const dataTable =\n",
              "            await google.colab.kernel.invokeFunction('convertToInteractive',\n",
              "                                                     [key], {});\n",
              "          if (!dataTable) return;\n",
              "\n",
              "          const docLinkHtml = 'Like what you see? Visit the ' +\n",
              "            '<a target=\"_blank\" href=https://colab.research.google.com/notebooks/data_table.ipynb>data table notebook</a>'\n",
              "            + ' to learn more about interactive tables.';\n",
              "          element.innerHTML = '';\n",
              "          dataTable['output_type'] = 'display_data';\n",
              "          await google.colab.output.renderOutput(dataTable, element);\n",
              "          const docLink = document.createElement('div');\n",
              "          docLink.innerHTML = docLinkHtml;\n",
              "          element.appendChild(docLink);\n",
              "        }\n",
              "      </script>\n",
              "    </div>\n",
              "  </div>\n",
              "  "
            ]
          },
          "metadata": {},
          "execution_count": 31
        }
      ]
    },
    {
      "cell_type": "code",
      "source": [
        "column_names = ['Pclass', 'Sex','Age', 'SibSp', 'Parch' ,'Fare','Survived']"
      ],
      "metadata": {
        "id": "vC_KVVLpp6r_"
      },
      "execution_count": 32,
      "outputs": []
    },
    {
      "cell_type": "code",
      "source": [
        "\n",
        "titanic = titanic.reindex(columns=column_names)"
      ],
      "metadata": {
        "id": "WkL4SVi6qOo5"
      },
      "execution_count": 33,
      "outputs": []
    },
    {
      "cell_type": "code",
      "source": [
        "titanic"
      ],
      "metadata": {
        "colab": {
          "base_uri": "https://localhost:8080/",
          "height": 424
        },
        "id": "fzEWsDekqVfr",
        "outputId": "48c6ecaf-9c5f-455c-c7ec-5b2ca01f9691"
      },
      "execution_count": 34,
      "outputs": [
        {
          "output_type": "execute_result",
          "data": {
            "text/plain": [
              "     Pclass     Sex        Age  SibSp  Parch     Fare  Survived\n",
              "0         3    male  22.000000      1      0   7.2500         0\n",
              "1         1  female  38.000000      1      0  71.2833         1\n",
              "2         3  female  26.000000      0      0   7.9250         1\n",
              "3         1  female  35.000000      1      0  53.1000         1\n",
              "4         3    male  35.000000      0      0   8.0500         0\n",
              "..      ...     ...        ...    ...    ...      ...       ...\n",
              "886       2    male  27.000000      0      0  13.0000         0\n",
              "887       1  female  19.000000      0      0  30.0000         1\n",
              "888       3  female  29.699118      1      2  23.4500         0\n",
              "889       1    male  26.000000      0      0  30.0000         1\n",
              "890       3    male  32.000000      0      0   7.7500         0\n",
              "\n",
              "[891 rows x 7 columns]"
            ],
            "text/html": [
              "\n",
              "  <div id=\"df-491e0c10-56cd-43df-b4a0-428ad672bdee\">\n",
              "    <div class=\"colab-df-container\">\n",
              "      <div>\n",
              "<style scoped>\n",
              "    .dataframe tbody tr th:only-of-type {\n",
              "        vertical-align: middle;\n",
              "    }\n",
              "\n",
              "    .dataframe tbody tr th {\n",
              "        vertical-align: top;\n",
              "    }\n",
              "\n",
              "    .dataframe thead th {\n",
              "        text-align: right;\n",
              "    }\n",
              "</style>\n",
              "<table border=\"1\" class=\"dataframe\">\n",
              "  <thead>\n",
              "    <tr style=\"text-align: right;\">\n",
              "      <th></th>\n",
              "      <th>Pclass</th>\n",
              "      <th>Sex</th>\n",
              "      <th>Age</th>\n",
              "      <th>SibSp</th>\n",
              "      <th>Parch</th>\n",
              "      <th>Fare</th>\n",
              "      <th>Survived</th>\n",
              "    </tr>\n",
              "  </thead>\n",
              "  <tbody>\n",
              "    <tr>\n",
              "      <th>0</th>\n",
              "      <td>3</td>\n",
              "      <td>male</td>\n",
              "      <td>22.000000</td>\n",
              "      <td>1</td>\n",
              "      <td>0</td>\n",
              "      <td>7.2500</td>\n",
              "      <td>0</td>\n",
              "    </tr>\n",
              "    <tr>\n",
              "      <th>1</th>\n",
              "      <td>1</td>\n",
              "      <td>female</td>\n",
              "      <td>38.000000</td>\n",
              "      <td>1</td>\n",
              "      <td>0</td>\n",
              "      <td>71.2833</td>\n",
              "      <td>1</td>\n",
              "    </tr>\n",
              "    <tr>\n",
              "      <th>2</th>\n",
              "      <td>3</td>\n",
              "      <td>female</td>\n",
              "      <td>26.000000</td>\n",
              "      <td>0</td>\n",
              "      <td>0</td>\n",
              "      <td>7.9250</td>\n",
              "      <td>1</td>\n",
              "    </tr>\n",
              "    <tr>\n",
              "      <th>3</th>\n",
              "      <td>1</td>\n",
              "      <td>female</td>\n",
              "      <td>35.000000</td>\n",
              "      <td>1</td>\n",
              "      <td>0</td>\n",
              "      <td>53.1000</td>\n",
              "      <td>1</td>\n",
              "    </tr>\n",
              "    <tr>\n",
              "      <th>4</th>\n",
              "      <td>3</td>\n",
              "      <td>male</td>\n",
              "      <td>35.000000</td>\n",
              "      <td>0</td>\n",
              "      <td>0</td>\n",
              "      <td>8.0500</td>\n",
              "      <td>0</td>\n",
              "    </tr>\n",
              "    <tr>\n",
              "      <th>...</th>\n",
              "      <td>...</td>\n",
              "      <td>...</td>\n",
              "      <td>...</td>\n",
              "      <td>...</td>\n",
              "      <td>...</td>\n",
              "      <td>...</td>\n",
              "      <td>...</td>\n",
              "    </tr>\n",
              "    <tr>\n",
              "      <th>886</th>\n",
              "      <td>2</td>\n",
              "      <td>male</td>\n",
              "      <td>27.000000</td>\n",
              "      <td>0</td>\n",
              "      <td>0</td>\n",
              "      <td>13.0000</td>\n",
              "      <td>0</td>\n",
              "    </tr>\n",
              "    <tr>\n",
              "      <th>887</th>\n",
              "      <td>1</td>\n",
              "      <td>female</td>\n",
              "      <td>19.000000</td>\n",
              "      <td>0</td>\n",
              "      <td>0</td>\n",
              "      <td>30.0000</td>\n",
              "      <td>1</td>\n",
              "    </tr>\n",
              "    <tr>\n",
              "      <th>888</th>\n",
              "      <td>3</td>\n",
              "      <td>female</td>\n",
              "      <td>29.699118</td>\n",
              "      <td>1</td>\n",
              "      <td>2</td>\n",
              "      <td>23.4500</td>\n",
              "      <td>0</td>\n",
              "    </tr>\n",
              "    <tr>\n",
              "      <th>889</th>\n",
              "      <td>1</td>\n",
              "      <td>male</td>\n",
              "      <td>26.000000</td>\n",
              "      <td>0</td>\n",
              "      <td>0</td>\n",
              "      <td>30.0000</td>\n",
              "      <td>1</td>\n",
              "    </tr>\n",
              "    <tr>\n",
              "      <th>890</th>\n",
              "      <td>3</td>\n",
              "      <td>male</td>\n",
              "      <td>32.000000</td>\n",
              "      <td>0</td>\n",
              "      <td>0</td>\n",
              "      <td>7.7500</td>\n",
              "      <td>0</td>\n",
              "    </tr>\n",
              "  </tbody>\n",
              "</table>\n",
              "<p>891 rows × 7 columns</p>\n",
              "</div>\n",
              "      <button class=\"colab-df-convert\" onclick=\"convertToInteractive('df-491e0c10-56cd-43df-b4a0-428ad672bdee')\"\n",
              "              title=\"Convert this dataframe to an interactive table.\"\n",
              "              style=\"display:none;\">\n",
              "        \n",
              "  <svg xmlns=\"http://www.w3.org/2000/svg\" height=\"24px\"viewBox=\"0 0 24 24\"\n",
              "       width=\"24px\">\n",
              "    <path d=\"M0 0h24v24H0V0z\" fill=\"none\"/>\n",
              "    <path d=\"M18.56 5.44l.94 2.06.94-2.06 2.06-.94-2.06-.94-.94-2.06-.94 2.06-2.06.94zm-11 1L8.5 8.5l.94-2.06 2.06-.94-2.06-.94L8.5 2.5l-.94 2.06-2.06.94zm10 10l.94 2.06.94-2.06 2.06-.94-2.06-.94-.94-2.06-.94 2.06-2.06.94z\"/><path d=\"M17.41 7.96l-1.37-1.37c-.4-.4-.92-.59-1.43-.59-.52 0-1.04.2-1.43.59L10.3 9.45l-7.72 7.72c-.78.78-.78 2.05 0 2.83L4 21.41c.39.39.9.59 1.41.59.51 0 1.02-.2 1.41-.59l7.78-7.78 2.81-2.81c.8-.78.8-2.07 0-2.86zM5.41 20L4 18.59l7.72-7.72 1.47 1.35L5.41 20z\"/>\n",
              "  </svg>\n",
              "      </button>\n",
              "      \n",
              "  <style>\n",
              "    .colab-df-container {\n",
              "      display:flex;\n",
              "      flex-wrap:wrap;\n",
              "      gap: 12px;\n",
              "    }\n",
              "\n",
              "    .colab-df-convert {\n",
              "      background-color: #E8F0FE;\n",
              "      border: none;\n",
              "      border-radius: 50%;\n",
              "      cursor: pointer;\n",
              "      display: none;\n",
              "      fill: #1967D2;\n",
              "      height: 32px;\n",
              "      padding: 0 0 0 0;\n",
              "      width: 32px;\n",
              "    }\n",
              "\n",
              "    .colab-df-convert:hover {\n",
              "      background-color: #E2EBFA;\n",
              "      box-shadow: 0px 1px 2px rgba(60, 64, 67, 0.3), 0px 1px 3px 1px rgba(60, 64, 67, 0.15);\n",
              "      fill: #174EA6;\n",
              "    }\n",
              "\n",
              "    [theme=dark] .colab-df-convert {\n",
              "      background-color: #3B4455;\n",
              "      fill: #D2E3FC;\n",
              "    }\n",
              "\n",
              "    [theme=dark] .colab-df-convert:hover {\n",
              "      background-color: #434B5C;\n",
              "      box-shadow: 0px 1px 3px 1px rgba(0, 0, 0, 0.15);\n",
              "      filter: drop-shadow(0px 1px 2px rgba(0, 0, 0, 0.3));\n",
              "      fill: #FFFFFF;\n",
              "    }\n",
              "  </style>\n",
              "\n",
              "      <script>\n",
              "        const buttonEl =\n",
              "          document.querySelector('#df-491e0c10-56cd-43df-b4a0-428ad672bdee button.colab-df-convert');\n",
              "        buttonEl.style.display =\n",
              "          google.colab.kernel.accessAllowed ? 'block' : 'none';\n",
              "\n",
              "        async function convertToInteractive(key) {\n",
              "          const element = document.querySelector('#df-491e0c10-56cd-43df-b4a0-428ad672bdee');\n",
              "          const dataTable =\n",
              "            await google.colab.kernel.invokeFunction('convertToInteractive',\n",
              "                                                     [key], {});\n",
              "          if (!dataTable) return;\n",
              "\n",
              "          const docLinkHtml = 'Like what you see? Visit the ' +\n",
              "            '<a target=\"_blank\" href=https://colab.research.google.com/notebooks/data_table.ipynb>data table notebook</a>'\n",
              "            + ' to learn more about interactive tables.';\n",
              "          element.innerHTML = '';\n",
              "          dataTable['output_type'] = 'display_data';\n",
              "          await google.colab.output.renderOutput(dataTable, element);\n",
              "          const docLink = document.createElement('div');\n",
              "          docLink.innerHTML = docLinkHtml;\n",
              "          element.appendChild(docLink);\n",
              "        }\n",
              "      </script>\n",
              "    </div>\n",
              "  </div>\n",
              "  "
            ]
          },
          "metadata": {},
          "execution_count": 34
        }
      ]
    },
    {
      "cell_type": "markdown",
      "source": [
        "## **Predictors and class split**"
      ],
      "metadata": {
        "id": "s9t8sPC-aM-p"
      }
    },
    {
      "cell_type": "code",
      "source": [
        "X_titanic=titanic.iloc[:,0:6].values"
      ],
      "metadata": {
        "id": "0ov-qQziYDv7"
      },
      "execution_count": 35,
      "outputs": []
    },
    {
      "cell_type": "code",
      "source": [
        "X_titanic"
      ],
      "metadata": {
        "colab": {
          "base_uri": "https://localhost:8080/"
        },
        "id": "35uuszl-YS_Y",
        "outputId": "2a78125c-c524-4bac-e70a-69dc75313ee4"
      },
      "execution_count": 36,
      "outputs": [
        {
          "output_type": "execute_result",
          "data": {
            "text/plain": [
              "array([[3, 'male', 22.0, 1, 0, 7.25],\n",
              "       [1, 'female', 38.0, 1, 0, 71.2833],\n",
              "       [3, 'female', 26.0, 0, 0, 7.925],\n",
              "       ...,\n",
              "       [3, 'female', 29.69911764705882, 1, 2, 23.45],\n",
              "       [1, 'male', 26.0, 0, 0, 30.0],\n",
              "       [3, 'male', 32.0, 0, 0, 7.75]], dtype=object)"
            ]
          },
          "metadata": {},
          "execution_count": 36
        }
      ]
    },
    {
      "cell_type": "code",
      "source": [
        "Y_titanic=titanic.iloc[:,6].values"
      ],
      "metadata": {
        "id": "V9HLW6RRYVgh"
      },
      "execution_count": 37,
      "outputs": []
    },
    {
      "cell_type": "code",
      "source": [
        "Y_titanic"
      ],
      "metadata": {
        "colab": {
          "base_uri": "https://localhost:8080/"
        },
        "id": "O0oquApjYarX",
        "outputId": "54cedef6-7eef-45d0-d84e-7ad30424a318"
      },
      "execution_count": 38,
      "outputs": [
        {
          "output_type": "execute_result",
          "data": {
            "text/plain": [
              "array([0, 1, 1, 1, 0, 0, 0, 0, 1, 1, 1, 1, 0, 0, 0, 1, 0, 1, 0, 1, 0, 1,\n",
              "       1, 1, 0, 1, 0, 0, 1, 0, 0, 1, 1, 0, 0, 0, 1, 0, 0, 1, 0, 0, 0, 1,\n",
              "       1, 0, 0, 1, 0, 0, 0, 0, 1, 1, 0, 1, 1, 0, 1, 0, 0, 1, 0, 0, 0, 1,\n",
              "       1, 0, 1, 0, 0, 0, 0, 0, 1, 0, 0, 0, 1, 1, 0, 1, 1, 0, 1, 1, 0, 0,\n",
              "       1, 0, 0, 0, 0, 0, 0, 0, 0, 1, 1, 0, 0, 0, 0, 0, 0, 0, 1, 1, 0, 1,\n",
              "       0, 0, 0, 0, 0, 0, 0, 0, 0, 0, 0, 0, 0, 1, 0, 1, 0, 1, 1, 0, 0, 0,\n",
              "       0, 1, 0, 0, 1, 0, 0, 0, 0, 1, 1, 0, 0, 0, 1, 0, 0, 0, 0, 1, 0, 0,\n",
              "       0, 0, 1, 0, 0, 0, 0, 1, 0, 0, 0, 1, 1, 0, 0, 0, 0, 0, 1, 0, 0, 0,\n",
              "       0, 0, 0, 0, 0, 0, 0, 1, 1, 0, 1, 1, 0, 0, 1, 0, 1, 1, 1, 1, 0, 0,\n",
              "       1, 0, 0, 0, 0, 0, 1, 0, 0, 1, 1, 1, 0, 1, 0, 0, 0, 1, 1, 0, 1, 0,\n",
              "       1, 0, 0, 0, 1, 0, 1, 0, 0, 0, 1, 0, 0, 1, 0, 0, 0, 1, 0, 0, 0, 1,\n",
              "       0, 0, 0, 0, 0, 1, 1, 0, 0, 0, 0, 0, 0, 1, 1, 1, 1, 1, 0, 1, 0, 0,\n",
              "       0, 0, 0, 1, 1, 1, 0, 1, 1, 0, 1, 1, 0, 0, 0, 1, 0, 0, 0, 1, 0, 0,\n",
              "       1, 0, 1, 1, 1, 1, 0, 0, 0, 0, 0, 0, 1, 1, 1, 1, 0, 1, 0, 1, 1, 1,\n",
              "       0, 1, 1, 1, 0, 0, 0, 1, 1, 0, 1, 1, 0, 0, 1, 1, 0, 1, 0, 1, 1, 1,\n",
              "       1, 0, 0, 0, 1, 0, 0, 1, 1, 0, 1, 1, 0, 0, 0, 1, 1, 1, 1, 0, 0, 0,\n",
              "       0, 0, 0, 0, 1, 0, 1, 1, 0, 0, 0, 0, 0, 0, 1, 1, 1, 1, 1, 0, 0, 0,\n",
              "       0, 1, 1, 0, 0, 0, 1, 1, 0, 1, 0, 0, 0, 1, 0, 1, 1, 1, 0, 1, 1, 0,\n",
              "       0, 0, 0, 1, 1, 0, 0, 0, 0, 0, 0, 1, 0, 0, 0, 0, 1, 0, 1, 0, 1, 1,\n",
              "       0, 0, 0, 0, 0, 0, 0, 0, 1, 1, 0, 1, 1, 1, 1, 0, 0, 1, 0, 1, 0, 0,\n",
              "       1, 0, 0, 1, 1, 1, 1, 1, 1, 1, 0, 0, 0, 1, 0, 1, 0, 1, 1, 0, 1, 0,\n",
              "       0, 0, 0, 0, 0, 0, 0, 1, 0, 0, 1, 1, 0, 0, 0, 0, 0, 1, 0, 0, 0, 1,\n",
              "       1, 0, 1, 0, 0, 1, 0, 0, 0, 0, 0, 0, 1, 0, 0, 0, 0, 0, 0, 0, 1, 0,\n",
              "       1, 1, 0, 1, 1, 0, 1, 1, 0, 0, 1, 0, 1, 0, 1, 0, 0, 1, 0, 0, 1, 0,\n",
              "       0, 0, 1, 0, 0, 1, 0, 1, 0, 1, 0, 1, 1, 0, 0, 1, 0, 0, 1, 1, 0, 1,\n",
              "       1, 0, 0, 1, 1, 0, 1, 0, 1, 1, 0, 0, 0, 0, 0, 0, 0, 0, 0, 1, 1, 1,\n",
              "       1, 1, 0, 0, 1, 1, 0, 1, 1, 1, 0, 0, 0, 1, 0, 1, 0, 0, 0, 1, 0, 0,\n",
              "       0, 0, 1, 0, 0, 1, 1, 0, 0, 0, 1, 0, 0, 1, 1, 1, 0, 0, 1, 0, 0, 1,\n",
              "       0, 0, 1, 0, 0, 1, 1, 0, 0, 0, 0, 1, 0, 0, 1, 0, 1, 0, 0, 1, 0, 0,\n",
              "       0, 0, 0, 1, 0, 1, 1, 1, 0, 1, 0, 1, 0, 1, 0, 1, 0, 0, 0, 0, 0, 0,\n",
              "       1, 0, 0, 0, 1, 0, 0, 0, 0, 1, 1, 0, 0, 1, 0, 0, 0, 1, 0, 1, 0, 1,\n",
              "       0, 0, 0, 0, 0, 0, 0, 1, 1, 1, 1, 0, 0, 0, 0, 1, 0, 0, 1, 1, 0, 0,\n",
              "       0, 0, 1, 1, 1, 1, 1, 0, 1, 0, 0, 0, 1, 1, 0, 0, 1, 0, 0, 0, 1, 0,\n",
              "       1, 1, 0, 0, 1, 0, 0, 0, 0, 0, 0, 1, 0, 0, 1, 0, 1, 0, 1, 0, 0, 1,\n",
              "       0, 0, 1, 1, 0, 0, 1, 1, 0, 0, 0, 1, 0, 0, 1, 1, 0, 1, 0, 0, 0, 0,\n",
              "       0, 0, 0, 0, 1, 0, 0, 1, 0, 1, 1, 1, 0, 0, 0, 0, 1, 0, 1, 0, 0, 0,\n",
              "       0, 0, 0, 0, 1, 1, 0, 0, 0, 1, 1, 1, 1, 0, 0, 0, 0, 1, 0, 0, 0, 0,\n",
              "       0, 0, 0, 0, 0, 0, 1, 1, 0, 1, 0, 0, 0, 1, 1, 1, 1, 1, 0, 0, 0, 1,\n",
              "       0, 0, 1, 1, 0, 0, 1, 0, 0, 0, 0, 0, 0, 1, 0, 0, 0, 1, 0, 1, 1, 1,\n",
              "       1, 0, 0, 0, 1, 0, 0, 1, 1, 0, 0, 1, 0, 1, 0, 0, 1, 1, 0, 0, 0, 1,\n",
              "       1, 0, 0, 0, 0, 0, 0, 1, 0, 1, 0])"
            ]
          },
          "metadata": {},
          "execution_count": 38
        }
      ]
    },
    {
      "cell_type": "markdown",
      "source": [
        "## **Label Encoder**"
      ],
      "metadata": {
        "id": "SFqSZ5y2aRLz"
      }
    },
    {
      "cell_type": "code",
      "source": [
        "from sklearn import preprocessing"
      ],
      "metadata": {
        "id": "fOSwD3jXb828"
      },
      "execution_count": 39,
      "outputs": []
    },
    {
      "cell_type": "code",
      "source": [
        "from sklearn.preprocessing import LabelEncoder"
      ],
      "metadata": {
        "id": "UX2W651NYewq"
      },
      "execution_count": 40,
      "outputs": []
    },
    {
      "cell_type": "code",
      "source": [
        "encoder=preprocessing.LabelEncoder()"
      ],
      "metadata": {
        "id": "puCEo8kPYwgn"
      },
      "execution_count": 41,
      "outputs": []
    },
    {
      "cell_type": "code",
      "source": [
        "X_titanic[:,1]=encoder.fit_transform(X_titanic[:,1])"
      ],
      "metadata": {
        "id": "Nzi_FVKJbBcT"
      },
      "execution_count": 42,
      "outputs": []
    },
    {
      "cell_type": "code",
      "source": [
        "X_titanic"
      ],
      "metadata": {
        "colab": {
          "base_uri": "https://localhost:8080/"
        },
        "id": "3-ExBdC2qqHV",
        "outputId": "fed9035b-26a2-489b-eacc-00df160d35ea"
      },
      "execution_count": 43,
      "outputs": [
        {
          "output_type": "execute_result",
          "data": {
            "text/plain": [
              "array([[3, 1, 22.0, 1, 0, 7.25],\n",
              "       [1, 0, 38.0, 1, 0, 71.2833],\n",
              "       [3, 0, 26.0, 0, 0, 7.925],\n",
              "       ...,\n",
              "       [3, 0, 29.69911764705882, 1, 2, 23.45],\n",
              "       [1, 1, 26.0, 0, 0, 30.0],\n",
              "       [3, 1, 32.0, 0, 0, 7.75]], dtype=object)"
            ]
          },
          "metadata": {},
          "execution_count": 43
        }
      ]
    },
    {
      "cell_type": "code",
      "source": [
        "correlations = titanic.corr(method='pearson')"
      ],
      "metadata": {
        "id": "QCeyNNzCcpIA"
      },
      "execution_count": 44,
      "outputs": []
    },
    {
      "cell_type": "code",
      "source": [
        "correlations"
      ],
      "metadata": {
        "colab": {
          "base_uri": "https://localhost:8080/",
          "height": 238
        },
        "id": "rojmVh9wc5oI",
        "outputId": "4295cfa3-5e21-4bd6-efee-feafea29f1f4"
      },
      "execution_count": 45,
      "outputs": [
        {
          "output_type": "execute_result",
          "data": {
            "text/plain": [
              "            Pclass       Age     SibSp     Parch      Fare  Survived\n",
              "Pclass    1.000000 -0.331339  0.083081  0.018443 -0.549500 -0.338481\n",
              "Age      -0.331339  1.000000 -0.232625 -0.179191  0.091566 -0.069809\n",
              "SibSp     0.083081 -0.232625  1.000000  0.414838  0.159651 -0.035322\n",
              "Parch     0.018443 -0.179191  0.414838  1.000000  0.216225  0.081629\n",
              "Fare     -0.549500  0.091566  0.159651  0.216225  1.000000  0.257307\n",
              "Survived -0.338481 -0.069809 -0.035322  0.081629  0.257307  1.000000"
            ],
            "text/html": [
              "\n",
              "  <div id=\"df-8268eb1c-2e9c-4d24-b4fc-531360b2bb50\">\n",
              "    <div class=\"colab-df-container\">\n",
              "      <div>\n",
              "<style scoped>\n",
              "    .dataframe tbody tr th:only-of-type {\n",
              "        vertical-align: middle;\n",
              "    }\n",
              "\n",
              "    .dataframe tbody tr th {\n",
              "        vertical-align: top;\n",
              "    }\n",
              "\n",
              "    .dataframe thead th {\n",
              "        text-align: right;\n",
              "    }\n",
              "</style>\n",
              "<table border=\"1\" class=\"dataframe\">\n",
              "  <thead>\n",
              "    <tr style=\"text-align: right;\">\n",
              "      <th></th>\n",
              "      <th>Pclass</th>\n",
              "      <th>Age</th>\n",
              "      <th>SibSp</th>\n",
              "      <th>Parch</th>\n",
              "      <th>Fare</th>\n",
              "      <th>Survived</th>\n",
              "    </tr>\n",
              "  </thead>\n",
              "  <tbody>\n",
              "    <tr>\n",
              "      <th>Pclass</th>\n",
              "      <td>1.000000</td>\n",
              "      <td>-0.331339</td>\n",
              "      <td>0.083081</td>\n",
              "      <td>0.018443</td>\n",
              "      <td>-0.549500</td>\n",
              "      <td>-0.338481</td>\n",
              "    </tr>\n",
              "    <tr>\n",
              "      <th>Age</th>\n",
              "      <td>-0.331339</td>\n",
              "      <td>1.000000</td>\n",
              "      <td>-0.232625</td>\n",
              "      <td>-0.179191</td>\n",
              "      <td>0.091566</td>\n",
              "      <td>-0.069809</td>\n",
              "    </tr>\n",
              "    <tr>\n",
              "      <th>SibSp</th>\n",
              "      <td>0.083081</td>\n",
              "      <td>-0.232625</td>\n",
              "      <td>1.000000</td>\n",
              "      <td>0.414838</td>\n",
              "      <td>0.159651</td>\n",
              "      <td>-0.035322</td>\n",
              "    </tr>\n",
              "    <tr>\n",
              "      <th>Parch</th>\n",
              "      <td>0.018443</td>\n",
              "      <td>-0.179191</td>\n",
              "      <td>0.414838</td>\n",
              "      <td>1.000000</td>\n",
              "      <td>0.216225</td>\n",
              "      <td>0.081629</td>\n",
              "    </tr>\n",
              "    <tr>\n",
              "      <th>Fare</th>\n",
              "      <td>-0.549500</td>\n",
              "      <td>0.091566</td>\n",
              "      <td>0.159651</td>\n",
              "      <td>0.216225</td>\n",
              "      <td>1.000000</td>\n",
              "      <td>0.257307</td>\n",
              "    </tr>\n",
              "    <tr>\n",
              "      <th>Survived</th>\n",
              "      <td>-0.338481</td>\n",
              "      <td>-0.069809</td>\n",
              "      <td>-0.035322</td>\n",
              "      <td>0.081629</td>\n",
              "      <td>0.257307</td>\n",
              "      <td>1.000000</td>\n",
              "    </tr>\n",
              "  </tbody>\n",
              "</table>\n",
              "</div>\n",
              "      <button class=\"colab-df-convert\" onclick=\"convertToInteractive('df-8268eb1c-2e9c-4d24-b4fc-531360b2bb50')\"\n",
              "              title=\"Convert this dataframe to an interactive table.\"\n",
              "              style=\"display:none;\">\n",
              "        \n",
              "  <svg xmlns=\"http://www.w3.org/2000/svg\" height=\"24px\"viewBox=\"0 0 24 24\"\n",
              "       width=\"24px\">\n",
              "    <path d=\"M0 0h24v24H0V0z\" fill=\"none\"/>\n",
              "    <path d=\"M18.56 5.44l.94 2.06.94-2.06 2.06-.94-2.06-.94-.94-2.06-.94 2.06-2.06.94zm-11 1L8.5 8.5l.94-2.06 2.06-.94-2.06-.94L8.5 2.5l-.94 2.06-2.06.94zm10 10l.94 2.06.94-2.06 2.06-.94-2.06-.94-.94-2.06-.94 2.06-2.06.94z\"/><path d=\"M17.41 7.96l-1.37-1.37c-.4-.4-.92-.59-1.43-.59-.52 0-1.04.2-1.43.59L10.3 9.45l-7.72 7.72c-.78.78-.78 2.05 0 2.83L4 21.41c.39.39.9.59 1.41.59.51 0 1.02-.2 1.41-.59l7.78-7.78 2.81-2.81c.8-.78.8-2.07 0-2.86zM5.41 20L4 18.59l7.72-7.72 1.47 1.35L5.41 20z\"/>\n",
              "  </svg>\n",
              "      </button>\n",
              "      \n",
              "  <style>\n",
              "    .colab-df-container {\n",
              "      display:flex;\n",
              "      flex-wrap:wrap;\n",
              "      gap: 12px;\n",
              "    }\n",
              "\n",
              "    .colab-df-convert {\n",
              "      background-color: #E8F0FE;\n",
              "      border: none;\n",
              "      border-radius: 50%;\n",
              "      cursor: pointer;\n",
              "      display: none;\n",
              "      fill: #1967D2;\n",
              "      height: 32px;\n",
              "      padding: 0 0 0 0;\n",
              "      width: 32px;\n",
              "    }\n",
              "\n",
              "    .colab-df-convert:hover {\n",
              "      background-color: #E2EBFA;\n",
              "      box-shadow: 0px 1px 2px rgba(60, 64, 67, 0.3), 0px 1px 3px 1px rgba(60, 64, 67, 0.15);\n",
              "      fill: #174EA6;\n",
              "    }\n",
              "\n",
              "    [theme=dark] .colab-df-convert {\n",
              "      background-color: #3B4455;\n",
              "      fill: #D2E3FC;\n",
              "    }\n",
              "\n",
              "    [theme=dark] .colab-df-convert:hover {\n",
              "      background-color: #434B5C;\n",
              "      box-shadow: 0px 1px 3px 1px rgba(0, 0, 0, 0.15);\n",
              "      filter: drop-shadow(0px 1px 2px rgba(0, 0, 0, 0.3));\n",
              "      fill: #FFFFFF;\n",
              "    }\n",
              "  </style>\n",
              "\n",
              "      <script>\n",
              "        const buttonEl =\n",
              "          document.querySelector('#df-8268eb1c-2e9c-4d24-b4fc-531360b2bb50 button.colab-df-convert');\n",
              "        buttonEl.style.display =\n",
              "          google.colab.kernel.accessAllowed ? 'block' : 'none';\n",
              "\n",
              "        async function convertToInteractive(key) {\n",
              "          const element = document.querySelector('#df-8268eb1c-2e9c-4d24-b4fc-531360b2bb50');\n",
              "          const dataTable =\n",
              "            await google.colab.kernel.invokeFunction('convertToInteractive',\n",
              "                                                     [key], {});\n",
              "          if (!dataTable) return;\n",
              "\n",
              "          const docLinkHtml = 'Like what you see? Visit the ' +\n",
              "            '<a target=\"_blank\" href=https://colab.research.google.com/notebooks/data_table.ipynb>data table notebook</a>'\n",
              "            + ' to learn more about interactive tables.';\n",
              "          element.innerHTML = '';\n",
              "          dataTable['output_type'] = 'display_data';\n",
              "          await google.colab.output.renderOutput(dataTable, element);\n",
              "          const docLink = document.createElement('div');\n",
              "          docLink.innerHTML = docLinkHtml;\n",
              "          element.appendChild(docLink);\n",
              "        }\n",
              "      </script>\n",
              "    </div>\n",
              "  </div>\n",
              "  "
            ]
          },
          "metadata": {},
          "execution_count": 45
        }
      ]
    },
    {
      "cell_type": "markdown",
      "source": [
        "## **Normalization values**"
      ],
      "metadata": {
        "id": "5UPRzUDqaYxN"
      }
    },
    {
      "cell_type": "code",
      "source": [
        "data_scaler = preprocessing.MinMaxScaler(feature_range=(0,1))\n",
        "data_rescaled = data_scaler.fit_transform(X_titanic)"
      ],
      "metadata": {
        "id": "t1jjBfUFdvro"
      },
      "execution_count": 46,
      "outputs": []
    },
    {
      "cell_type": "code",
      "source": [
        "X_titanic=data_rescaled"
      ],
      "metadata": {
        "id": "VzjVsSdZd0WR"
      },
      "execution_count": 47,
      "outputs": []
    },
    {
      "cell_type": "code",
      "source": [
        "X_titanic"
      ],
      "metadata": {
        "colab": {
          "base_uri": "https://localhost:8080/"
        },
        "id": "5cHl9evbd4cG",
        "outputId": "9ff49534-5a1e-45f2-9256-f4827d99064d"
      },
      "execution_count": 48,
      "outputs": [
        {
          "output_type": "execute_result",
          "data": {
            "text/plain": [
              "array([[1.        , 1.        , 0.27117366, 0.125     , 0.        ,\n",
              "        0.01415106],\n",
              "       [0.        , 0.        , 0.4722292 , 0.125     , 0.        ,\n",
              "        0.13913574],\n",
              "       [1.        , 0.        , 0.32143755, 0.        , 0.        ,\n",
              "        0.01546857],\n",
              "       ...,\n",
              "       [1.        , 0.        , 0.36792055, 0.125     , 0.33333333,\n",
              "        0.04577135],\n",
              "       [0.        , 1.        , 0.32143755, 0.        , 0.        ,\n",
              "        0.0585561 ],\n",
              "       [1.        , 1.        , 0.39683338, 0.        , 0.        ,\n",
              "        0.01512699]])"
            ]
          },
          "metadata": {},
          "execution_count": 48
        }
      ]
    },
    {
      "cell_type": "markdown",
      "source": [
        "## **Training base and test base**"
      ],
      "metadata": {
        "id": "FUCHp6x-aqnL"
      }
    },
    {
      "cell_type": "code",
      "source": [
        "from sklearn.model_selection import train_test_split"
      ],
      "metadata": {
        "id": "n9UwSfZheCDm"
      },
      "execution_count": 49,
      "outputs": []
    },
    {
      "cell_type": "code",
      "source": [
        "X_titanic_treinamento, X_titanic_teste, Y_titanic_treinamento, Y_titanic_teste = train_test_split(X_titanic, Y_titanic, test_size = 0.2, random_state = 0)"
      ],
      "metadata": {
        "id": "vdM97-IQeHc2"
      },
      "execution_count": 50,
      "outputs": []
    },
    {
      "cell_type": "code",
      "source": [
        "import pickle"
      ],
      "metadata": {
        "id": "rq3hNbMKeZgN"
      },
      "execution_count": 51,
      "outputs": []
    },
    {
      "cell_type": "code",
      "source": [
        "with open('titanic.pkl', mode = 'wb') as f:\n",
        "  pickle.dump([X_titanic_treinamento, X_titanic_teste, Y_titanic_treinamento, Y_titanic_teste], f)"
      ],
      "metadata": {
        "id": "Czs5Brt8ecgT"
      },
      "execution_count": 52,
      "outputs": []
    },
    {
      "cell_type": "code",
      "source": [
        "with open('titanic.pkl', 'rb') as f:\n",
        "  X_titanic_treinamento, X_titanic_teste, Y_titanic_treinamento, Y_titanic_teste = pickle.load(f)"
      ],
      "metadata": {
        "id": "TuCkPEMCejgX"
      },
      "execution_count": 53,
      "outputs": []
    },
    {
      "cell_type": "markdown",
      "source": [
        "## **Neural networks**"
      ],
      "metadata": {
        "id": "Kn0qhK_ma8-9"
      }
    },
    {
      "cell_type": "code",
      "source": [
        "from sklearn.neural_network import MLPClassifier"
      ],
      "metadata": {
        "id": "ptQV-U6Fmgua"
      },
      "execution_count": 54,
      "outputs": []
    },
    {
      "cell_type": "code",
      "source": [
        "rede_neural_titanic = MLPClassifier(max_iter=4000, verbose=True, tol=0.000100,\n",
        "                                   solver = 'adam', activation = 'relu',\n",
        "                                   hidden_layer_sizes = (20,20))"
      ],
      "metadata": {
        "id": "SvvMscOBmocJ"
      },
      "execution_count": 55,
      "outputs": []
    },
    {
      "cell_type": "code",
      "source": [
        "rede_neural_titanic.fit(X_titanic_treinamento, Y_titanic_treinamento)"
      ],
      "metadata": {
        "colab": {
          "base_uri": "https://localhost:8080/"
        },
        "id": "0kj-J5Kkmw9p",
        "outputId": "976041d2-fe8a-44f3-ccf9-3a49d2da0b07"
      },
      "execution_count": 56,
      "outputs": [
        {
          "output_type": "stream",
          "name": "stdout",
          "text": [
            "Iteration 1, loss = 0.64541891\n",
            "Iteration 2, loss = 0.63687236\n",
            "Iteration 3, loss = 0.62867270\n",
            "Iteration 4, loss = 0.62145559\n",
            "Iteration 5, loss = 0.61411852\n",
            "Iteration 6, loss = 0.60690340\n",
            "Iteration 7, loss = 0.59981904\n",
            "Iteration 8, loss = 0.59335393\n",
            "Iteration 9, loss = 0.58649155\n",
            "Iteration 10, loss = 0.57959572\n",
            "Iteration 11, loss = 0.57282619\n",
            "Iteration 12, loss = 0.56667306\n",
            "Iteration 13, loss = 0.55948322\n",
            "Iteration 14, loss = 0.55279771\n",
            "Iteration 15, loss = 0.54655197\n",
            "Iteration 16, loss = 0.54001804\n",
            "Iteration 17, loss = 0.53372817\n",
            "Iteration 18, loss = 0.52793493\n",
            "Iteration 19, loss = 0.52249005\n",
            "Iteration 20, loss = 0.51715091\n",
            "Iteration 21, loss = 0.51262736\n",
            "Iteration 22, loss = 0.50818021\n",
            "Iteration 23, loss = 0.50365587\n",
            "Iteration 24, loss = 0.50014686\n",
            "Iteration 25, loss = 0.49636706\n",
            "Iteration 26, loss = 0.49356266\n",
            "Iteration 27, loss = 0.49020446\n",
            "Iteration 28, loss = 0.48772291\n",
            "Iteration 29, loss = 0.48528349\n",
            "Iteration 30, loss = 0.48296450\n",
            "Iteration 31, loss = 0.48084857\n",
            "Iteration 32, loss = 0.47868060\n",
            "Iteration 33, loss = 0.47685364\n",
            "Iteration 34, loss = 0.47507488\n",
            "Iteration 35, loss = 0.47337195\n",
            "Iteration 36, loss = 0.47169100\n",
            "Iteration 37, loss = 0.47018596\n",
            "Iteration 38, loss = 0.46855972\n",
            "Iteration 39, loss = 0.46687568\n",
            "Iteration 40, loss = 0.46551834\n",
            "Iteration 41, loss = 0.46395196\n",
            "Iteration 42, loss = 0.46261413\n",
            "Iteration 43, loss = 0.46115964\n",
            "Iteration 44, loss = 0.45990194\n",
            "Iteration 45, loss = 0.45867473\n",
            "Iteration 46, loss = 0.45749070\n",
            "Iteration 47, loss = 0.45644094\n",
            "Iteration 48, loss = 0.45537193\n",
            "Iteration 49, loss = 0.45436328\n",
            "Iteration 50, loss = 0.45334513\n",
            "Iteration 51, loss = 0.45231353\n",
            "Iteration 52, loss = 0.45138287\n",
            "Iteration 53, loss = 0.45042346\n",
            "Iteration 54, loss = 0.44949176\n",
            "Iteration 55, loss = 0.44848419\n",
            "Iteration 56, loss = 0.44753311\n",
            "Iteration 57, loss = 0.44673491\n",
            "Iteration 58, loss = 0.44605773\n",
            "Iteration 59, loss = 0.44515349\n",
            "Iteration 60, loss = 0.44448333\n",
            "Iteration 61, loss = 0.44374318\n",
            "Iteration 62, loss = 0.44321918\n",
            "Iteration 63, loss = 0.44235203\n",
            "Iteration 64, loss = 0.44184423\n",
            "Iteration 65, loss = 0.44117949\n",
            "Iteration 66, loss = 0.44089951\n",
            "Iteration 67, loss = 0.43994584\n",
            "Iteration 68, loss = 0.43925574\n",
            "Iteration 69, loss = 0.43863313\n",
            "Iteration 70, loss = 0.43831572\n",
            "Iteration 71, loss = 0.43767700\n",
            "Iteration 72, loss = 0.43720705\n",
            "Iteration 73, loss = 0.43647529\n",
            "Iteration 74, loss = 0.43641250\n",
            "Iteration 75, loss = 0.43620269\n",
            "Iteration 76, loss = 0.43552901\n",
            "Iteration 77, loss = 0.43463803\n",
            "Iteration 78, loss = 0.43430549\n",
            "Iteration 79, loss = 0.43403276\n",
            "Iteration 80, loss = 0.43334912\n",
            "Iteration 81, loss = 0.43318997\n",
            "Iteration 82, loss = 0.43271794\n",
            "Iteration 83, loss = 0.43258147\n",
            "Iteration 84, loss = 0.43197874\n",
            "Iteration 85, loss = 0.43150754\n",
            "Iteration 86, loss = 0.43119945\n",
            "Iteration 87, loss = 0.43067340\n",
            "Iteration 88, loss = 0.43048136\n",
            "Iteration 89, loss = 0.43012345\n",
            "Iteration 90, loss = 0.42985522\n",
            "Iteration 91, loss = 0.42948595\n",
            "Iteration 92, loss = 0.42934183\n",
            "Iteration 93, loss = 0.42901533\n",
            "Iteration 94, loss = 0.42865710\n",
            "Iteration 95, loss = 0.42847735\n",
            "Iteration 96, loss = 0.42803708\n",
            "Iteration 97, loss = 0.42776689\n",
            "Iteration 98, loss = 0.42756888\n",
            "Iteration 99, loss = 0.42752712\n",
            "Iteration 100, loss = 0.42711181\n",
            "Iteration 101, loss = 0.42709935\n",
            "Iteration 102, loss = 0.42657820\n",
            "Iteration 103, loss = 0.42640537\n",
            "Iteration 104, loss = 0.42666498\n",
            "Iteration 105, loss = 0.42622774\n",
            "Iteration 106, loss = 0.42586204\n",
            "Iteration 107, loss = 0.42569858\n",
            "Iteration 108, loss = 0.42540535\n",
            "Iteration 109, loss = 0.42520513\n",
            "Iteration 110, loss = 0.42501698\n",
            "Iteration 111, loss = 0.42477562\n",
            "Iteration 112, loss = 0.42487380\n",
            "Iteration 113, loss = 0.42451196\n",
            "Iteration 114, loss = 0.42447217\n",
            "Iteration 115, loss = 0.42411852\n",
            "Iteration 116, loss = 0.42400346\n",
            "Iteration 117, loss = 0.42396998\n",
            "Iteration 118, loss = 0.42392391\n",
            "Iteration 119, loss = 0.42363053\n",
            "Iteration 120, loss = 0.42333165\n",
            "Iteration 121, loss = 0.42321085\n",
            "Iteration 122, loss = 0.42304539\n",
            "Iteration 123, loss = 0.42310695\n",
            "Iteration 124, loss = 0.42317583\n",
            "Iteration 125, loss = 0.42310526\n",
            "Iteration 126, loss = 0.42268103\n",
            "Iteration 127, loss = 0.42248651\n",
            "Iteration 128, loss = 0.42220239\n",
            "Iteration 129, loss = 0.42231545\n",
            "Iteration 130, loss = 0.42230308\n",
            "Iteration 131, loss = 0.42196019\n",
            "Iteration 132, loss = 0.42168697\n",
            "Iteration 133, loss = 0.42157760\n",
            "Iteration 134, loss = 0.42144602\n",
            "Iteration 135, loss = 0.42170457\n",
            "Iteration 136, loss = 0.42163170\n",
            "Iteration 137, loss = 0.42096846\n",
            "Iteration 138, loss = 0.42091334\n",
            "Iteration 139, loss = 0.42084239\n",
            "Iteration 140, loss = 0.42079392\n",
            "Iteration 141, loss = 0.42070477\n",
            "Iteration 142, loss = 0.42049253\n",
            "Iteration 143, loss = 0.42070858\n",
            "Iteration 144, loss = 0.42040386\n",
            "Iteration 145, loss = 0.42016295\n",
            "Iteration 146, loss = 0.42015767\n",
            "Iteration 147, loss = 0.41980750\n",
            "Iteration 148, loss = 0.41983328\n",
            "Iteration 149, loss = 0.41973840\n",
            "Iteration 150, loss = 0.42019736\n",
            "Iteration 151, loss = 0.41955585\n",
            "Iteration 152, loss = 0.41940039\n",
            "Iteration 153, loss = 0.41933852\n",
            "Iteration 154, loss = 0.41938317\n",
            "Iteration 155, loss = 0.41971988\n",
            "Iteration 156, loss = 0.41907490\n",
            "Iteration 157, loss = 0.41882761\n",
            "Iteration 158, loss = 0.41875186\n",
            "Iteration 159, loss = 0.41867638\n",
            "Iteration 160, loss = 0.41858235\n",
            "Iteration 161, loss = 0.41854010\n",
            "Iteration 162, loss = 0.41845195\n",
            "Iteration 163, loss = 0.41842379\n",
            "Iteration 164, loss = 0.41825593\n",
            "Iteration 165, loss = 0.41819494\n",
            "Iteration 166, loss = 0.41816223\n",
            "Iteration 167, loss = 0.41794167\n",
            "Iteration 168, loss = 0.41783854\n",
            "Iteration 169, loss = 0.41782260\n",
            "Iteration 170, loss = 0.41782901\n",
            "Iteration 171, loss = 0.41767425\n",
            "Iteration 172, loss = 0.41746775\n",
            "Iteration 173, loss = 0.41733368\n",
            "Iteration 174, loss = 0.41724095\n",
            "Iteration 175, loss = 0.41715212\n",
            "Iteration 176, loss = 0.41704222\n",
            "Iteration 177, loss = 0.41691193\n",
            "Iteration 178, loss = 0.41688333\n",
            "Iteration 179, loss = 0.41677621\n",
            "Iteration 180, loss = 0.41700612\n",
            "Iteration 181, loss = 0.41650912\n",
            "Iteration 182, loss = 0.41640825\n",
            "Iteration 183, loss = 0.41697421\n",
            "Iteration 184, loss = 0.41633550\n",
            "Iteration 185, loss = 0.41621098\n",
            "Iteration 186, loss = 0.41675557\n",
            "Iteration 187, loss = 0.41628205\n",
            "Iteration 188, loss = 0.41601400\n",
            "Iteration 189, loss = 0.41599820\n",
            "Iteration 190, loss = 0.41594853\n",
            "Iteration 191, loss = 0.41564222\n",
            "Iteration 192, loss = 0.41552836\n",
            "Iteration 193, loss = 0.41541395\n",
            "Iteration 194, loss = 0.41562882\n",
            "Iteration 195, loss = 0.41554913\n",
            "Iteration 196, loss = 0.41515138\n",
            "Iteration 197, loss = 0.41498468\n",
            "Iteration 198, loss = 0.41538694\n",
            "Iteration 199, loss = 0.41511458\n",
            "Iteration 200, loss = 0.41490215\n",
            "Iteration 201, loss = 0.41473785\n",
            "Iteration 202, loss = 0.41471578\n",
            "Iteration 203, loss = 0.41480406\n",
            "Iteration 204, loss = 0.41484789\n",
            "Iteration 205, loss = 0.41446529\n",
            "Iteration 206, loss = 0.41440379\n",
            "Iteration 207, loss = 0.41410723\n",
            "Iteration 208, loss = 0.41469759\n",
            "Iteration 209, loss = 0.41416950\n",
            "Iteration 210, loss = 0.41408984\n",
            "Iteration 211, loss = 0.41393722\n",
            "Iteration 212, loss = 0.41388128\n",
            "Iteration 213, loss = 0.41372428\n",
            "Iteration 214, loss = 0.41382380\n",
            "Iteration 215, loss = 0.41369681\n",
            "Iteration 216, loss = 0.41389699\n",
            "Iteration 217, loss = 0.41371512\n",
            "Iteration 218, loss = 0.41392170\n",
            "Iteration 219, loss = 0.41324106\n",
            "Iteration 220, loss = 0.41300891\n",
            "Iteration 221, loss = 0.41319833\n",
            "Iteration 222, loss = 0.41300229\n",
            "Iteration 223, loss = 0.41303951\n",
            "Iteration 224, loss = 0.41294041\n",
            "Iteration 225, loss = 0.41277339\n",
            "Iteration 226, loss = 0.41266219\n",
            "Iteration 227, loss = 0.41244147\n",
            "Iteration 228, loss = 0.41258730\n",
            "Iteration 229, loss = 0.41255564\n",
            "Iteration 230, loss = 0.41276334\n",
            "Iteration 231, loss = 0.41223357\n",
            "Iteration 232, loss = 0.41211747\n",
            "Iteration 233, loss = 0.41216008\n",
            "Iteration 234, loss = 0.41207951\n",
            "Iteration 235, loss = 0.41225343\n",
            "Iteration 236, loss = 0.41179542\n",
            "Iteration 237, loss = 0.41176103\n",
            "Iteration 238, loss = 0.41248849\n",
            "Iteration 239, loss = 0.41183192\n",
            "Iteration 240, loss = 0.41135790\n",
            "Iteration 241, loss = 0.41224133\n",
            "Iteration 242, loss = 0.41193436\n",
            "Iteration 243, loss = 0.41160347\n",
            "Iteration 244, loss = 0.41134926\n",
            "Iteration 245, loss = 0.41152353\n",
            "Iteration 246, loss = 0.41146751\n",
            "Iteration 247, loss = 0.41113619\n",
            "Iteration 248, loss = 0.41101677\n",
            "Iteration 249, loss = 0.41094552\n",
            "Iteration 250, loss = 0.41107910\n",
            "Iteration 251, loss = 0.41072122\n",
            "Iteration 252, loss = 0.41065811\n",
            "Iteration 253, loss = 0.41072928\n",
            "Iteration 254, loss = 0.41062624\n",
            "Iteration 255, loss = 0.41058083\n",
            "Iteration 256, loss = 0.41067261\n",
            "Iteration 257, loss = 0.41051913\n",
            "Iteration 258, loss = 0.41025756\n",
            "Iteration 259, loss = 0.41013358\n",
            "Iteration 260, loss = 0.41022043\n",
            "Iteration 261, loss = 0.40997088\n",
            "Iteration 262, loss = 0.41020664\n",
            "Iteration 263, loss = 0.40996654\n",
            "Iteration 264, loss = 0.40974428\n",
            "Iteration 265, loss = 0.40976819\n",
            "Iteration 266, loss = 0.40974299\n",
            "Iteration 267, loss = 0.40953197\n",
            "Iteration 268, loss = 0.40933881\n",
            "Iteration 269, loss = 0.40927360\n",
            "Iteration 270, loss = 0.40923451\n",
            "Iteration 271, loss = 0.40925026\n",
            "Iteration 272, loss = 0.40909677\n",
            "Iteration 273, loss = 0.40897179\n",
            "Iteration 274, loss = 0.40897314\n",
            "Iteration 275, loss = 0.40902242\n",
            "Iteration 276, loss = 0.40896459\n",
            "Iteration 277, loss = 0.40880714\n",
            "Iteration 278, loss = 0.40865828\n",
            "Iteration 279, loss = 0.40852959\n",
            "Iteration 280, loss = 0.40862918\n",
            "Iteration 281, loss = 0.40852469\n",
            "Iteration 282, loss = 0.40832276\n",
            "Iteration 283, loss = 0.40816709\n",
            "Iteration 284, loss = 0.40838862\n",
            "Iteration 285, loss = 0.40855129\n",
            "Iteration 286, loss = 0.40793500\n",
            "Iteration 287, loss = 0.40793722\n",
            "Iteration 288, loss = 0.40814546\n",
            "Iteration 289, loss = 0.40779726\n",
            "Iteration 290, loss = 0.40796766\n",
            "Iteration 291, loss = 0.40770355\n",
            "Iteration 292, loss = 0.40816857\n",
            "Iteration 293, loss = 0.40744153\n",
            "Iteration 294, loss = 0.40742637\n",
            "Iteration 295, loss = 0.40740268\n",
            "Iteration 296, loss = 0.40761848\n",
            "Iteration 297, loss = 0.40729165\n",
            "Iteration 298, loss = 0.40708411\n",
            "Iteration 299, loss = 0.40708970\n",
            "Iteration 300, loss = 0.40707112\n",
            "Iteration 301, loss = 0.40868916\n",
            "Iteration 302, loss = 0.40711831\n",
            "Iteration 303, loss = 0.40681129\n",
            "Iteration 304, loss = 0.40689915\n",
            "Iteration 305, loss = 0.40657721\n",
            "Iteration 306, loss = 0.40654307\n",
            "Iteration 307, loss = 0.40654636\n",
            "Iteration 308, loss = 0.40659700\n",
            "Iteration 309, loss = 0.40670244\n",
            "Iteration 310, loss = 0.40620778\n",
            "Iteration 311, loss = 0.40639784\n",
            "Iteration 312, loss = 0.40626403\n",
            "Iteration 313, loss = 0.40592696\n",
            "Iteration 314, loss = 0.40597645\n",
            "Iteration 315, loss = 0.40569853\n",
            "Iteration 316, loss = 0.40561227\n",
            "Iteration 317, loss = 0.40569869\n",
            "Iteration 318, loss = 0.40568589\n",
            "Iteration 319, loss = 0.40562640\n",
            "Iteration 320, loss = 0.40561620\n",
            "Iteration 321, loss = 0.40570769\n",
            "Iteration 322, loss = 0.40520631\n",
            "Iteration 323, loss = 0.40515639\n",
            "Iteration 324, loss = 0.40516739\n",
            "Iteration 325, loss = 0.40486229\n",
            "Iteration 326, loss = 0.40495979\n",
            "Iteration 327, loss = 0.40472777\n",
            "Iteration 328, loss = 0.40482161\n",
            "Iteration 329, loss = 0.40469836\n",
            "Iteration 330, loss = 0.40446238\n",
            "Iteration 331, loss = 0.40518647\n",
            "Iteration 332, loss = 0.40478594\n",
            "Iteration 333, loss = 0.40454520\n",
            "Iteration 334, loss = 0.40418414\n",
            "Iteration 335, loss = 0.40418117\n",
            "Iteration 336, loss = 0.40438787\n",
            "Iteration 337, loss = 0.40436389\n",
            "Iteration 338, loss = 0.40452946\n",
            "Iteration 339, loss = 0.40402436\n",
            "Iteration 340, loss = 0.40390775\n",
            "Iteration 341, loss = 0.40381251\n",
            "Iteration 342, loss = 0.40378556\n",
            "Iteration 343, loss = 0.40384710\n",
            "Iteration 344, loss = 0.40380750\n",
            "Iteration 345, loss = 0.40341094\n",
            "Iteration 346, loss = 0.40368586\n",
            "Iteration 347, loss = 0.40372846\n",
            "Iteration 348, loss = 0.40340878\n",
            "Iteration 349, loss = 0.40338751\n",
            "Iteration 350, loss = 0.40329807\n",
            "Iteration 351, loss = 0.40327032\n",
            "Iteration 352, loss = 0.40296884\n",
            "Iteration 353, loss = 0.40297644\n",
            "Iteration 354, loss = 0.40328471\n",
            "Iteration 355, loss = 0.40282528\n",
            "Iteration 356, loss = 0.40268555\n",
            "Iteration 357, loss = 0.40290045\n",
            "Iteration 358, loss = 0.40291773\n",
            "Iteration 359, loss = 0.40267820\n",
            "Iteration 360, loss = 0.40301949\n",
            "Iteration 361, loss = 0.40248806\n",
            "Iteration 362, loss = 0.40288171\n",
            "Iteration 363, loss = 0.40263206\n",
            "Iteration 364, loss = 0.40243256\n",
            "Iteration 365, loss = 0.40224387\n",
            "Iteration 366, loss = 0.40224844\n",
            "Iteration 367, loss = 0.40235414\n",
            "Iteration 368, loss = 0.40218064\n",
            "Iteration 369, loss = 0.40199186\n",
            "Iteration 370, loss = 0.40216286\n",
            "Iteration 371, loss = 0.40177622\n",
            "Iteration 372, loss = 0.40204828\n",
            "Iteration 373, loss = 0.40159259\n",
            "Iteration 374, loss = 0.40143885\n",
            "Iteration 375, loss = 0.40154062\n",
            "Iteration 376, loss = 0.40150200\n",
            "Iteration 377, loss = 0.40154052\n",
            "Iteration 378, loss = 0.40149264\n",
            "Iteration 379, loss = 0.40109495\n",
            "Iteration 380, loss = 0.40162337\n",
            "Iteration 381, loss = 0.40130777\n",
            "Iteration 382, loss = 0.40130854\n",
            "Iteration 383, loss = 0.40100207\n",
            "Iteration 384, loss = 0.40088024\n",
            "Iteration 385, loss = 0.40088111\n",
            "Iteration 386, loss = 0.40097902\n",
            "Iteration 387, loss = 0.40098643\n",
            "Iteration 388, loss = 0.40169236\n",
            "Iteration 389, loss = 0.40065862\n",
            "Iteration 390, loss = 0.40051099\n",
            "Iteration 391, loss = 0.40077249\n",
            "Iteration 392, loss = 0.40087740\n",
            "Iteration 393, loss = 0.40102000\n",
            "Iteration 394, loss = 0.40020353\n",
            "Iteration 395, loss = 0.40013980\n",
            "Iteration 396, loss = 0.40045071\n",
            "Iteration 397, loss = 0.40045135\n",
            "Iteration 398, loss = 0.40032947\n",
            "Iteration 399, loss = 0.40021709\n",
            "Iteration 400, loss = 0.40012220\n",
            "Iteration 401, loss = 0.40026801\n",
            "Iteration 402, loss = 0.39998509\n",
            "Iteration 403, loss = 0.39995560\n",
            "Iteration 404, loss = 0.39962688\n",
            "Iteration 405, loss = 0.39970405\n",
            "Iteration 406, loss = 0.40005942\n",
            "Iteration 407, loss = 0.39936950\n",
            "Iteration 408, loss = 0.40035331\n",
            "Iteration 409, loss = 0.40005601\n",
            "Iteration 410, loss = 0.39970088\n",
            "Iteration 411, loss = 0.39976186\n",
            "Iteration 412, loss = 0.39975241\n",
            "Iteration 413, loss = 0.39935911\n",
            "Iteration 414, loss = 0.39942505\n",
            "Iteration 415, loss = 0.39969477\n",
            "Iteration 416, loss = 0.39980056\n",
            "Iteration 417, loss = 0.39915867\n",
            "Iteration 418, loss = 0.39910572\n",
            "Iteration 419, loss = 0.39892842\n",
            "Iteration 420, loss = 0.39896320\n",
            "Iteration 421, loss = 0.39901765\n",
            "Iteration 422, loss = 0.39880430\n",
            "Iteration 423, loss = 0.39867306\n",
            "Iteration 424, loss = 0.39880536\n",
            "Iteration 425, loss = 0.39875976\n",
            "Iteration 426, loss = 0.39879937\n",
            "Iteration 427, loss = 0.39838739\n",
            "Iteration 428, loss = 0.39861503\n",
            "Iteration 429, loss = 0.39853703\n",
            "Iteration 430, loss = 0.39842173\n",
            "Iteration 431, loss = 0.39843049\n",
            "Iteration 432, loss = 0.39827659\n",
            "Iteration 433, loss = 0.39842994\n",
            "Iteration 434, loss = 0.39815576\n",
            "Iteration 435, loss = 0.39835060\n",
            "Iteration 436, loss = 0.39825853\n",
            "Iteration 437, loss = 0.39815837\n",
            "Iteration 438, loss = 0.39806186\n",
            "Iteration 439, loss = 0.39810413\n",
            "Iteration 440, loss = 0.39812783\n",
            "Iteration 441, loss = 0.39791416\n",
            "Iteration 442, loss = 0.39785776\n",
            "Iteration 443, loss = 0.39791887\n",
            "Iteration 444, loss = 0.39772641\n",
            "Iteration 445, loss = 0.39775511\n",
            "Iteration 446, loss = 0.39755804\n",
            "Iteration 447, loss = 0.39784566\n",
            "Iteration 448, loss = 0.39758007\n",
            "Iteration 449, loss = 0.39742934\n",
            "Iteration 450, loss = 0.39744264\n",
            "Iteration 451, loss = 0.39780194\n",
            "Iteration 452, loss = 0.39742311\n",
            "Iteration 453, loss = 0.39755194\n",
            "Iteration 454, loss = 0.39719865\n",
            "Iteration 455, loss = 0.39712975\n",
            "Iteration 456, loss = 0.39733975\n",
            "Iteration 457, loss = 0.39708707\n",
            "Iteration 458, loss = 0.39684375\n",
            "Iteration 459, loss = 0.39707533\n",
            "Iteration 460, loss = 0.39713122\n",
            "Iteration 461, loss = 0.39695258\n",
            "Iteration 462, loss = 0.39683289\n",
            "Iteration 463, loss = 0.39705776\n",
            "Iteration 464, loss = 0.39661117\n",
            "Iteration 465, loss = 0.39688064\n",
            "Iteration 466, loss = 0.39690830\n",
            "Iteration 467, loss = 0.39705543\n",
            "Iteration 468, loss = 0.39650836\n",
            "Iteration 469, loss = 0.39653025\n",
            "Iteration 470, loss = 0.39659934\n",
            "Iteration 471, loss = 0.39654987\n",
            "Iteration 472, loss = 0.39642843\n",
            "Iteration 473, loss = 0.39682064\n",
            "Iteration 474, loss = 0.39643700\n",
            "Iteration 475, loss = 0.39642743\n",
            "Iteration 476, loss = 0.39626617\n",
            "Iteration 477, loss = 0.39610610\n",
            "Iteration 478, loss = 0.39611791\n",
            "Iteration 479, loss = 0.39604327\n",
            "Iteration 480, loss = 0.39596279\n",
            "Iteration 481, loss = 0.39599990\n",
            "Iteration 482, loss = 0.39608372\n",
            "Iteration 483, loss = 0.39593455\n",
            "Iteration 484, loss = 0.39587237\n",
            "Iteration 485, loss = 0.39581034\n",
            "Iteration 486, loss = 0.39592049\n",
            "Iteration 487, loss = 0.39590705\n",
            "Iteration 488, loss = 0.39595942\n",
            "Training loss did not improve more than tol=0.000100 for 10 consecutive epochs. Stopping.\n"
          ]
        },
        {
          "output_type": "execute_result",
          "data": {
            "text/plain": [
              "MLPClassifier(hidden_layer_sizes=(20, 20), max_iter=4000, verbose=True)"
            ]
          },
          "metadata": {},
          "execution_count": 56
        }
      ]
    },
    {
      "cell_type": "code",
      "source": [
        "previsoes = rede_neural_titanic.predict(X_titanic_teste)\n",
        "previsoes"
      ],
      "metadata": {
        "colab": {
          "base_uri": "https://localhost:8080/"
        },
        "id": "YtiuW4cFmtDT",
        "outputId": "b5436211-5186-45c5-8480-76f0cfee1b0e"
      },
      "execution_count": 57,
      "outputs": [
        {
          "output_type": "execute_result",
          "data": {
            "text/plain": [
              "array([0, 0, 0, 1, 0, 0, 1, 1, 0, 1, 0, 1, 0, 1, 1, 1, 0, 0, 0, 1, 0, 1,\n",
              "       0, 0, 1, 1, 0, 1, 1, 0, 0, 1, 0, 0, 0, 0, 0, 0, 0, 0, 0, 0, 0, 0,\n",
              "       1, 0, 0, 1, 0, 0, 0, 0, 1, 0, 0, 0, 0, 0, 0, 0, 0, 0, 1, 0, 0, 0,\n",
              "       1, 0, 1, 1, 1, 0, 0, 0, 0, 1, 0, 0, 0, 0, 0, 1, 1, 0, 0, 1, 1, 0,\n",
              "       1, 0, 0, 0, 1, 1, 0, 0, 1, 0, 0, 0, 0, 0, 0, 0, 0, 0, 1, 0, 0, 0,\n",
              "       0, 1, 0, 1, 0, 1, 1, 1, 0, 1, 0, 0, 0, 0, 0, 0, 0, 0, 0, 0, 1, 0,\n",
              "       0, 1, 0, 0, 0, 0, 0, 0, 0, 1, 0, 1, 1, 1, 0, 1, 1, 0, 0, 1, 0, 0,\n",
              "       1, 0, 0, 0, 1, 1, 0, 0, 1, 0, 0, 0, 0, 0, 0, 0, 0, 1, 0, 0, 1, 0,\n",
              "       1, 0, 0])"
            ]
          },
          "metadata": {},
          "execution_count": 57
        }
      ]
    },
    {
      "cell_type": "code",
      "source": [
        "Y_titanic_teste"
      ],
      "metadata": {
        "colab": {
          "base_uri": "https://localhost:8080/"
        },
        "id": "eqh6LRdjnFjc",
        "outputId": "16897efd-4ef2-41c8-c11f-41b3987c5dcd"
      },
      "execution_count": 58,
      "outputs": [
        {
          "output_type": "execute_result",
          "data": {
            "text/plain": [
              "array([0, 0, 0, 1, 1, 1, 1, 1, 1, 1, 0, 1, 0, 1, 1, 0, 0, 0, 0, 1, 0, 1,\n",
              "       0, 0, 0, 1, 0, 1, 1, 0, 0, 1, 0, 1, 0, 1, 0, 0, 0, 0, 1, 0, 0, 0,\n",
              "       1, 0, 0, 1, 0, 0, 1, 1, 1, 0, 1, 0, 0, 0, 0, 1, 0, 0, 1, 0, 1, 0,\n",
              "       1, 0, 1, 1, 1, 1, 0, 0, 0, 1, 0, 0, 0, 0, 0, 1, 0, 0, 0, 1, 1, 1,\n",
              "       1, 0, 0, 0, 1, 1, 0, 0, 1, 0, 0, 1, 0, 0, 0, 0, 0, 1, 1, 0, 0, 1,\n",
              "       0, 1, 1, 0, 1, 1, 1, 1, 0, 1, 1, 0, 0, 0, 0, 0, 0, 1, 0, 0, 0, 0,\n",
              "       0, 0, 0, 0, 0, 0, 0, 0, 0, 1, 0, 0, 1, 0, 0, 1, 1, 0, 0, 1, 0, 0,\n",
              "       1, 0, 0, 1, 0, 1, 0, 1, 1, 1, 0, 0, 0, 0, 0, 0, 0, 1, 0, 0, 1, 0,\n",
              "       1, 0, 0])"
            ]
          },
          "metadata": {},
          "execution_count": 58
        }
      ]
    },
    {
      "cell_type": "code",
      "source": [
        "from sklearn.metrics import accuracy_score, classification_report\n",
        "accuracy_score(Y_titanic_teste, previsoes)"
      ],
      "metadata": {
        "colab": {
          "base_uri": "https://localhost:8080/"
        },
        "id": "mK_M3EvynYU2",
        "outputId": "e911ed59-8deb-445f-b392-951f88cf7f69"
      },
      "execution_count": 59,
      "outputs": [
        {
          "output_type": "execute_result",
          "data": {
            "text/plain": [
              "0.8212290502793296"
            ]
          },
          "metadata": {},
          "execution_count": 59
        }
      ]
    },
    {
      "cell_type": "code",
      "source": [
        "from yellowbrick.classifier import ConfusionMatrix\n",
        "cm = ConfusionMatrix(rede_neural_titanic)\n",
        "cm.fit(X_titanic_treinamento, Y_titanic_treinamento)\n",
        "cm.score(X_titanic_teste, Y_titanic_teste)"
      ],
      "metadata": {
        "colab": {
          "base_uri": "https://localhost:8080/",
          "height": 361
        },
        "id": "_wgvSnq1pHtQ",
        "outputId": "bb1ac6ad-7ac2-472c-85db-5a637c53f5b6"
      },
      "execution_count": 60,
      "outputs": [
        {
          "output_type": "execute_result",
          "data": {
            "text/plain": [
              "0.8212290502793296"
            ]
          },
          "metadata": {},
          "execution_count": 60
        },
        {
          "output_type": "display_data",
          "data": {
            "text/plain": [
              "<Figure size 576x396 with 1 Axes>"
            ],
            "image/png": "[encoded data removed]"
          },
          "metadata": {}
        }
      ]
    },
    {
      "cell_type": "markdown",
      "source": [
        "## **Naive Bayes**"
      ],
      "metadata": {
        "id": "n6ruoFxjbLe-"
      }
    },
    {
      "cell_type": "code",
      "source": [
        "from sklearn.naive_bayes import GaussianNB"
      ],
      "metadata": {
        "id": "4tTxNn6Ui4wJ"
      },
      "execution_count": 61,
      "outputs": []
    },
    {
      "cell_type": "code",
      "source": [
        "naive_titanic=GaussianNB()\n"
      ],
      "metadata": {
        "id": "wchN7dG_i7sI"
      },
      "execution_count": 62,
      "outputs": []
    },
    {
      "cell_type": "code",
      "source": [
        "naive_titanic.fit(X_titanic_teste, Y_titanic_teste)\n"
      ],
      "metadata": {
        "colab": {
          "base_uri": "https://localhost:8080/"
        },
        "id": "QzlO8wFxjH56",
        "outputId": "ea3b2b8a-1aff-43eb-b1e4-b6dc11b3d4f2"
      },
      "execution_count": 63,
      "outputs": [
        {
          "output_type": "execute_result",
          "data": {
            "text/plain": [
              "GaussianNB()"
            ]
          },
          "metadata": {},
          "execution_count": 63
        }
      ]
    },
    {
      "cell_type": "code",
      "source": [
        "previsoes = naive_titanic.predict(X_titanic_teste)\n",
        "previsoes"
      ],
      "metadata": {
        "colab": {
          "base_uri": "https://localhost:8080/"
        },
        "id": "gPt7-_SCrNV4",
        "outputId": "69682c8f-b4fc-4716-ab6b-97e3c10b5458"
      },
      "execution_count": 64,
      "outputs": [
        {
          "output_type": "execute_result",
          "data": {
            "text/plain": [
              "array([0, 0, 0, 1, 0, 0, 1, 1, 1, 0, 0, 1, 0, 1, 1, 1, 0, 0, 0, 0, 0, 1,\n",
              "       0, 0, 0, 1, 0, 0, 1, 0, 0, 1, 0, 0, 0, 0, 0, 0, 0, 0, 1, 0, 0, 0,\n",
              "       1, 0, 0, 1, 0, 1, 0, 1, 1, 0, 0, 0, 1, 0, 0, 0, 0, 0, 1, 0, 0, 0,\n",
              "       1, 0, 1, 1, 1, 1, 1, 0, 0, 0, 1, 0, 0, 0, 0, 0, 1, 0, 0, 1, 1, 1,\n",
              "       1, 1, 0, 0, 0, 1, 0, 0, 1, 0, 1, 1, 0, 0, 0, 0, 1, 1, 1, 0, 0, 0,\n",
              "       0, 1, 0, 0, 1, 1, 0, 1, 0, 1, 0, 0, 0, 0, 0, 1, 0, 0, 0, 0, 0, 0,\n",
              "       0, 0, 1, 0, 0, 1, 0, 0, 0, 1, 0, 0, 1, 0, 0, 1, 1, 0, 1, 0, 0, 0,\n",
              "       1, 0, 1, 0, 0, 0, 0, 0, 1, 0, 0, 0, 0, 0, 0, 0, 0, 1, 0, 0, 1, 0,\n",
              "       1, 0, 0])"
            ]
          },
          "metadata": {},
          "execution_count": 64
        }
      ]
    },
    {
      "cell_type": "code",
      "source": [
        "Y_titanic_teste"
      ],
      "metadata": {
        "colab": {
          "base_uri": "https://localhost:8080/"
        },
        "id": "OdaqlGOSrVeO",
        "outputId": "160c9526-9101-441c-fe04-a1a3d2148a1c"
      },
      "execution_count": 65,
      "outputs": [
        {
          "output_type": "execute_result",
          "data": {
            "text/plain": [
              "array([0, 0, 0, 1, 1, 1, 1, 1, 1, 1, 0, 1, 0, 1, 1, 0, 0, 0, 0, 1, 0, 1,\n",
              "       0, 0, 0, 1, 0, 1, 1, 0, 0, 1, 0, 1, 0, 1, 0, 0, 0, 0, 1, 0, 0, 0,\n",
              "       1, 0, 0, 1, 0, 0, 1, 1, 1, 0, 1, 0, 0, 0, 0, 1, 0, 0, 1, 0, 1, 0,\n",
              "       1, 0, 1, 1, 1, 1, 0, 0, 0, 1, 0, 0, 0, 0, 0, 1, 0, 0, 0, 1, 1, 1,\n",
              "       1, 0, 0, 0, 1, 1, 0, 0, 1, 0, 0, 1, 0, 0, 0, 0, 0, 1, 1, 0, 0, 1,\n",
              "       0, 1, 1, 0, 1, 1, 1, 1, 0, 1, 1, 0, 0, 0, 0, 0, 0, 1, 0, 0, 0, 0,\n",
              "       0, 0, 0, 0, 0, 0, 0, 0, 0, 1, 0, 0, 1, 0, 0, 1, 1, 0, 0, 1, 0, 0,\n",
              "       1, 0, 0, 1, 0, 1, 0, 1, 1, 1, 0, 0, 0, 0, 0, 0, 0, 1, 0, 0, 1, 0,\n",
              "       1, 0, 0])"
            ]
          },
          "metadata": {},
          "execution_count": 65
        }
      ]
    },
    {
      "cell_type": "code",
      "source": [
        "from sklearn.metrics import accuracy_score, confusion_matrix, classification_report"
      ],
      "metadata": {
        "id": "bZ9PsXSbrYjw"
      },
      "execution_count": 66,
      "outputs": []
    },
    {
      "cell_type": "code",
      "source": [
        "accuracy_score(Y_titanic_teste, previsoes)"
      ],
      "metadata": {
        "colab": {
          "base_uri": "https://localhost:8080/"
        },
        "id": "7hy_HDQTrehW",
        "outputId": "ed96dfba-5236-44cb-8ea6-cb640bd01149"
      },
      "execution_count": 67,
      "outputs": [
        {
          "output_type": "execute_result",
          "data": {
            "text/plain": [
              "0.7877094972067039"
            ]
          },
          "metadata": {},
          "execution_count": 67
        }
      ]
    },
    {
      "cell_type": "code",
      "source": [
        "print(classification_report(Y_titanic_teste, previsoes))"
      ],
      "metadata": {
        "colab": {
          "base_uri": "https://localhost:8080/"
        },
        "id": "5fdEaxmFrvsI",
        "outputId": "d54f5bd0-abfe-486e-f8b8-b961ebe28a2f"
      },
      "execution_count": 68,
      "outputs": [
        {
          "output_type": "stream",
          "name": "stdout",
          "text": [
            "              precision    recall  f1-score   support\n",
            "\n",
            "           0       0.80      0.87      0.83       110\n",
            "           1       0.76      0.65      0.70        69\n",
            "\n",
            "    accuracy                           0.79       179\n",
            "   macro avg       0.78      0.76      0.77       179\n",
            "weighted avg       0.79      0.79      0.78       179\n",
            "\n"
          ]
        }
      ]
    },
    {
      "cell_type": "code",
      "source": [
        "confusion_matrix(Y_titanic_teste, previsoes)"
      ],
      "metadata": {
        "colab": {
          "base_uri": "https://localhost:8080/"
        },
        "id": "6kA09gf5so1z",
        "outputId": "8263cec5-f111-4b6c-afaa-042867fd99e3"
      },
      "execution_count": 69,
      "outputs": [
        {
          "output_type": "execute_result",
          "data": {
            "text/plain": [
              "array([[96, 14],\n",
              "       [24, 45]])"
            ]
          },
          "metadata": {},
          "execution_count": 69
        }
      ]
    },
    {
      "cell_type": "markdown",
      "source": [
        "# **Decision Tree**"
      ],
      "metadata": {
        "id": "YorMlcAwbX-8"
      }
    },
    {
      "cell_type": "code",
      "source": [
        "from sklearn.tree import DecisionTreeClassifier"
      ],
      "metadata": {
        "id": "Nc0vIcjHt977"
      },
      "execution_count": 70,
      "outputs": []
    },
    {
      "cell_type": "code",
      "source": [
        "arvore_titanic = DecisionTreeClassifier(criterion='entropy', random_state=0)\n",
        "arvore_titanic.fit(X_titanic_treinamento, Y_titanic_treinamento)"
      ],
      "metadata": {
        "colab": {
          "base_uri": "https://localhost:8080/"
        },
        "id": "qfJhwviOuBR3",
        "outputId": "ed4afa10-b6b0-481b-ca8c-917825138926"
      },
      "execution_count": 71,
      "outputs": [
        {
          "output_type": "execute_result",
          "data": {
            "text/plain": [
              "DecisionTreeClassifier(criterion='entropy', random_state=0)"
            ]
          },
          "metadata": {},
          "execution_count": 71
        }
      ]
    },
    {
      "cell_type": "code",
      "source": [
        "previsoes = arvore_titanic.predict(X_titanic_teste)\n",
        "previsoes"
      ],
      "metadata": {
        "colab": {
          "base_uri": "https://localhost:8080/"
        },
        "id": "ySzaWLDIuNon",
        "outputId": "e5a0d2f5-b38e-4e4f-8d1a-203bf7fd2f83"
      },
      "execution_count": 72,
      "outputs": [
        {
          "output_type": "execute_result",
          "data": {
            "text/plain": [
              "array([0, 0, 0, 1, 0, 0, 1, 1, 1, 1, 0, 1, 0, 1, 1, 1, 0, 0, 0, 1, 0, 0,\n",
              "       0, 0, 0, 1, 1, 1, 1, 0, 0, 1, 0, 0, 1, 0, 0, 0, 0, 0, 0, 1, 0, 0,\n",
              "       1, 0, 0, 1, 0, 1, 0, 0, 1, 0, 0, 0, 0, 0, 0, 0, 0, 1, 1, 0, 1, 1,\n",
              "       1, 0, 0, 1, 0, 0, 1, 0, 0, 1, 1, 1, 0, 0, 0, 1, 1, 0, 0, 1, 1, 0,\n",
              "       1, 0, 0, 0, 1, 1, 0, 0, 1, 0, 0, 0, 0, 0, 0, 0, 0, 1, 1, 0, 0, 1,\n",
              "       0, 1, 1, 0, 0, 1, 1, 1, 0, 1, 0, 1, 0, 0, 0, 0, 0, 0, 0, 0, 1, 0,\n",
              "       0, 0, 0, 0, 0, 0, 0, 0, 0, 1, 0, 1, 1, 0, 0, 0, 1, 1, 0, 0, 1, 1,\n",
              "       1, 0, 0, 0, 1, 1, 0, 0, 1, 0, 0, 0, 0, 1, 0, 0, 0, 1, 0, 0, 1, 0,\n",
              "       1, 0, 1])"
            ]
          },
          "metadata": {},
          "execution_count": 72
        }
      ]
    },
    {
      "cell_type": "code",
      "source": [
        "Y_titanic_teste"
      ],
      "metadata": {
        "colab": {
          "base_uri": "https://localhost:8080/"
        },
        "id": "9nkTPBP2uSVU",
        "outputId": "0d12d19a-b228-4b3f-9b41-cc3046b6afe8"
      },
      "execution_count": 73,
      "outputs": [
        {
          "output_type": "execute_result",
          "data": {
            "text/plain": [
              "array([0, 0, 0, 1, 1, 1, 1, 1, 1, 1, 0, 1, 0, 1, 1, 0, 0, 0, 0, 1, 0, 1,\n",
              "       0, 0, 0, 1, 0, 1, 1, 0, 0, 1, 0, 1, 0, 1, 0, 0, 0, 0, 1, 0, 0, 0,\n",
              "       1, 0, 0, 1, 0, 0, 1, 1, 1, 0, 1, 0, 0, 0, 0, 1, 0, 0, 1, 0, 1, 0,\n",
              "       1, 0, 1, 1, 1, 1, 0, 0, 0, 1, 0, 0, 0, 0, 0, 1, 0, 0, 0, 1, 1, 1,\n",
              "       1, 0, 0, 0, 1, 1, 0, 0, 1, 0, 0, 1, 0, 0, 0, 0, 0, 1, 1, 0, 0, 1,\n",
              "       0, 1, 1, 0, 1, 1, 1, 1, 0, 1, 1, 0, 0, 0, 0, 0, 0, 1, 0, 0, 0, 0,\n",
              "       0, 0, 0, 0, 0, 0, 0, 0, 0, 1, 0, 0, 1, 0, 0, 1, 1, 0, 0, 1, 0, 0,\n",
              "       1, 0, 0, 1, 0, 1, 0, 1, 1, 1, 0, 0, 0, 0, 0, 0, 0, 1, 0, 0, 1, 0,\n",
              "       1, 0, 0])"
            ]
          },
          "metadata": {},
          "execution_count": 73
        }
      ]
    },
    {
      "cell_type": "code",
      "source": [
        "accuracy_score(Y_titanic_teste, previsoes)"
      ],
      "metadata": {
        "colab": {
          "base_uri": "https://localhost:8080/"
        },
        "id": "YXPqcFIIuaaD",
        "outputId": "cb9c0121-485f-47c8-8315-12b9611ca443"
      },
      "execution_count": 74,
      "outputs": [
        {
          "output_type": "execute_result",
          "data": {
            "text/plain": [
              "0.7597765363128491"
            ]
          },
          "metadata": {},
          "execution_count": 74
        }
      ]
    },
    {
      "cell_type": "code",
      "source": [
        "print(classification_report(Y_titanic_teste, previsoes))"
      ],
      "metadata": {
        "colab": {
          "base_uri": "https://localhost:8080/"
        },
        "id": "O3WBD9z0ugQU",
        "outputId": "c33a92b0-c46e-4ca4-df7e-d661cc236fa3"
      },
      "execution_count": 75,
      "outputs": [
        {
          "output_type": "stream",
          "name": "stdout",
          "text": [
            "              precision    recall  f1-score   support\n",
            "\n",
            "           0       0.80      0.82      0.81       110\n",
            "           1       0.70      0.67      0.68        69\n",
            "\n",
            "    accuracy                           0.76       179\n",
            "   macro avg       0.75      0.74      0.74       179\n",
            "weighted avg       0.76      0.76      0.76       179\n",
            "\n"
          ]
        }
      ]
    },
    {
      "cell_type": "markdown",
      "source": [
        "## **Randon Forest**"
      ],
      "metadata": {
        "id": "B2nS41_Ublze"
      }
    },
    {
      "cell_type": "code",
      "source": [
        "from sklearn import tree"
      ],
      "metadata": {
        "id": "jN0n1iVFur_M"
      },
      "execution_count": 76,
      "outputs": []
    },
    {
      "cell_type": "code",
      "source": [
        "tree.plot_tree(arvore_titanic)"
      ],
      "metadata": {
        "colab": {
          "base_uri": "https://localhost:8080/",
          "height": 1000
        },
        "id": "SUwB0V9ruvzH",
        "outputId": "0f3d51b9-1b52-42df-bdf4-176cb9cb3eea"
      },
      "execution_count": 77,
      "outputs": [
        {
          "output_type": "execute_result",
          "data": {
            "text/plain": [
              "[Text(0.376887077294686, 0.9833333333333333, 'X[1] <= 0.5\\nentropy = 0.96\\nsamples = 712\\nvalue = [439, 273]'),\n",
              " Text(0.19202898550724637, 0.95, 'X[0] <= 0.75\\nentropy = 0.819\\nsamples = 247\\nvalue = [63, 184]'),\n",
              " Text(0.08695652173913043, 0.9166666666666666, 'X[2] <= 0.026\\nentropy = 0.33\\nsamples = 132\\nvalue = [8, 124]'),\n",
              " Text(0.07729468599033816, 0.8833333333333333, 'entropy = 0.0\\nsamples = 1\\nvalue = [1, 0]'),\n",
              " Text(0.0966183574879227, 0.8833333333333333, 'X[5] <= 0.056\\nentropy = 0.301\\nsamples = 131\\nvalue = [7, 124]'),\n",
              " Text(0.07729468599033816, 0.85, 'X[5] <= 0.055\\nentropy = 0.51\\nsamples = 53\\nvalue = [6, 47]'),\n",
              " Text(0.06763285024154589, 0.8166666666666667, 'X[4] <= 0.083\\nentropy = 0.457\\nsamples = 52\\nvalue = [5, 47]'),\n",
              " Text(0.057971014492753624, 0.7833333333333333, 'X[2] <= 0.46\\nentropy = 0.571\\nsamples = 37\\nvalue = [5, 32]'),\n",
              " Text(0.028985507246376812, 0.75, 'X[2] <= 0.34\\nentropy = 0.391\\nsamples = 26\\nvalue = [2, 24]'),\n",
              " Text(0.01932367149758454, 0.7166666666666667, 'X[2] <= 0.29\\nentropy = 0.722\\nsamples = 10\\nvalue = [2, 8]'),\n",
              " Text(0.00966183574879227, 0.6833333333333333, 'entropy = 0.0\\nsamples = 5\\nvalue = [0, 5]'),\n",
              " Text(0.028985507246376812, 0.6833333333333333, 'X[5] <= 0.034\\nentropy = 0.971\\nsamples = 5\\nvalue = [2, 3]'),\n",
              " Text(0.01932367149758454, 0.65, 'X[2] <= 0.315\\nentropy = 0.811\\nsamples = 4\\nvalue = [1, 3]'),\n",
              " Text(0.00966183574879227, 0.6166666666666667, 'entropy = 1.0\\nsamples = 2\\nvalue = [1, 1]'),\n",
              " Text(0.028985507246376812, 0.6166666666666667, 'entropy = 0.0\\nsamples = 2\\nvalue = [0, 2]'),\n",
              " Text(0.03864734299516908, 0.65, 'entropy = 0.0\\nsamples = 1\\nvalue = [1, 0]'),\n",
              " Text(0.03864734299516908, 0.7166666666666667, 'entropy = 0.0\\nsamples = 16\\nvalue = [0, 16]'),\n",
              " Text(0.08695652173913043, 0.75, 'X[3] <= 0.062\\nentropy = 0.845\\nsamples = 11\\nvalue = [3, 8]'),\n",
              " Text(0.07729468599033816, 0.7166666666666667, 'X[5] <= 0.026\\nentropy = 0.722\\nsamples = 10\\nvalue = [2, 8]'),\n",
              " Text(0.06763285024154589, 0.6833333333333333, 'X[2] <= 0.497\\nentropy = 1.0\\nsamples = 4\\nvalue = [2, 2]'),\n",
              " Text(0.057971014492753624, 0.65, 'entropy = 0.0\\nsamples = 1\\nvalue = [1, 0]'),\n",
              " Text(0.07729468599033816, 0.65, 'X[2] <= 0.667\\nentropy = 0.918\\nsamples = 3\\nvalue = [1, 2]'),\n",
              " Text(0.06763285024154589, 0.6166666666666667, 'entropy = 0.0\\nsamples = 2\\nvalue = [0, 2]'),\n",
              " Text(0.08695652173913043, 0.6166666666666667, 'entropy = 0.0\\nsamples = 1\\nvalue = [1, 0]'),\n",
              " Text(0.08695652173913043, 0.6833333333333333, 'entropy = 0.0\\nsamples = 6\\nvalue = [0, 6]'),\n",
              " Text(0.0966183574879227, 0.7166666666666667, 'entropy = 0.0\\nsamples = 1\\nvalue = [1, 0]'),\n",
              " Text(0.07729468599033816, 0.7833333333333333, 'entropy = 0.0\\nsamples = 15\\nvalue = [0, 15]'),\n",
              " Text(0.08695652173913043, 0.8166666666666667, 'entropy = 0.0\\nsamples = 1\\nvalue = [1, 0]'),\n",
              " Text(0.11594202898550725, 0.85, 'X[5] <= 0.291\\nentropy = 0.099\\nsamples = 78\\nvalue = [1, 77]'),\n",
              " Text(0.10628019323671498, 0.8166666666666667, 'entropy = 0.0\\nsamples = 67\\nvalue = [0, 67]'),\n",
              " Text(0.12560386473429952, 0.8166666666666667, 'X[5] <= 0.298\\nentropy = 0.439\\nsamples = 11\\nvalue = [1, 10]'),\n",
              " Text(0.11594202898550725, 0.7833333333333333, 'entropy = 0.0\\nsamples = 1\\nvalue = [1, 0]'),\n",
              " Text(0.13526570048309178, 0.7833333333333333, 'entropy = 0.0\\nsamples = 10\\nvalue = [0, 10]'),\n",
              " Text(0.2971014492753623, 0.9166666666666666, 'X[5] <= 0.046\\nentropy = 0.999\\nsamples = 115\\nvalue = [55, 60]'),\n",
              " Text(0.2560386473429952, 0.8833333333333333, 'X[2] <= 0.37\\nentropy = 0.958\\nsamples = 92\\nvalue = [35, 57]'),\n",
              " Text(0.2028985507246377, 0.85, 'X[5] <= 0.015\\nentropy = 0.918\\nsamples = 81\\nvalue = [27, 54]'),\n",
              " Text(0.1642512077294686, 0.8166666666666667, 'X[4] <= 0.167\\nentropy = 0.625\\nsamples = 32\\nvalue = [5, 27]'),\n",
              " Text(0.15458937198067632, 0.7833333333333333, 'X[5] <= 0.015\\nentropy = 0.555\\nsamples = 31\\nvalue = [4, 27]'),\n",
              " Text(0.14492753623188406, 0.75, 'X[5] <= 0.015\\nentropy = 0.667\\nsamples = 23\\nvalue = [4, 19]'),\n",
              " Text(0.12560386473429952, 0.7166666666666667, 'X[5] <= 0.015\\nentropy = 0.469\\nsamples = 20\\nvalue = [2, 18]'),\n",
              " Text(0.11594202898550725, 0.6833333333333333, 'X[2] <= 0.326\\nentropy = 0.863\\nsamples = 7\\nvalue = [2, 5]'),\n",
              " Text(0.10628019323671498, 0.65, 'entropy = 0.0\\nsamples = 4\\nvalue = [0, 4]'),\n",
              " Text(0.12560386473429952, 0.65, 'X[5] <= 0.014\\nentropy = 0.918\\nsamples = 3\\nvalue = [2, 1]'),\n",
              " Text(0.11594202898550725, 0.6166666666666667, 'entropy = 0.0\\nsamples = 1\\nvalue = [0, 1]'),\n",
              " Text(0.13526570048309178, 0.6166666666666667, 'entropy = 0.0\\nsamples = 2\\nvalue = [2, 0]'),\n",
              " Text(0.13526570048309178, 0.6833333333333333, 'entropy = 0.0\\nsamples = 13\\nvalue = [0, 13]'),\n",
              " Text(0.1642512077294686, 0.7166666666666667, 'X[2] <= 0.246\\nentropy = 0.918\\nsamples = 3\\nvalue = [2, 1]'),\n",
              " Text(0.15458937198067632, 0.6833333333333333, 'entropy = 0.0\\nsamples = 1\\nvalue = [1, 0]'),\n",
              " Text(0.17391304347826086, 0.6833333333333333, 'X[2] <= 0.29\\nentropy = 1.0\\nsamples = 2\\nvalue = [1, 1]'),\n",
              " Text(0.1642512077294686, 0.65, 'entropy = 0.0\\nsamples = 1\\nvalue = [0, 1]'),\n",
              " Text(0.18357487922705315, 0.65, 'entropy = 0.0\\nsamples = 1\\nvalue = [1, 0]'),\n",
              " Text(0.1642512077294686, 0.75, 'entropy = 0.0\\nsamples = 8\\nvalue = [0, 8]'),\n",
              " Text(0.17391304347826086, 0.7833333333333333, 'entropy = 0.0\\nsamples = 1\\nvalue = [1, 0]'),\n",
              " Text(0.24154589371980675, 0.8166666666666667, 'X[5] <= 0.042\\nentropy = 0.992\\nsamples = 49\\nvalue = [22, 27]'),\n",
              " Text(0.2318840579710145, 0.7833333333333333, 'X[2] <= 0.076\\nentropy = 1.0\\nsamples = 45\\nvalue = [22, 23]'),\n",
              " Text(0.21256038647342995, 0.75, 'X[3] <= 0.312\\nentropy = 0.722\\nsamples = 10\\nvalue = [2, 8]'),\n",
              " Text(0.2028985507246377, 0.7166666666666667, 'X[5] <= 0.021\\nentropy = 0.503\\nsamples = 9\\nvalue = [1, 8]'),\n",
              " Text(0.1932367149758454, 0.6833333333333333, 'entropy = 0.0\\nsamples = 1\\nvalue = [1, 0]'),\n",
              " Text(0.21256038647342995, 0.6833333333333333, 'entropy = 0.0\\nsamples = 8\\nvalue = [0, 8]'),\n",
              " Text(0.2222222222222222, 0.7166666666666667, 'entropy = 0.0\\nsamples = 1\\nvalue = [1, 0]'),\n",
              " Text(0.25120772946859904, 0.75, 'X[2] <= 0.139\\nentropy = 0.985\\nsamples = 35\\nvalue = [20, 15]'),\n",
              " Text(0.24154589371980675, 0.7166666666666667, 'entropy = 0.0\\nsamples = 2\\nvalue = [2, 0]'),\n",
              " Text(0.2608695652173913, 0.7166666666666667, 'X[5] <= 0.03\\nentropy = 0.994\\nsamples = 33\\nvalue = [18, 15]'),\n",
              " Text(0.24154589371980675, 0.6833333333333333, 'X[2] <= 0.34\\nentropy = 0.954\\nsamples = 24\\nvalue = [15, 9]'),\n",
              " Text(0.2318840579710145, 0.65, 'X[2] <= 0.315\\nentropy = 0.998\\nsamples = 17\\nvalue = [8, 9]'),\n",
              " Text(0.2222222222222222, 0.6166666666666667, 'X[2] <= 0.233\\nentropy = 0.985\\nsamples = 14\\nvalue = [8, 6]'),\n",
              " Text(0.21256038647342995, 0.5833333333333334, 'X[5] <= 0.025\\nentropy = 0.918\\nsamples = 9\\nvalue = [3, 6]'),\n",
              " Text(0.2028985507246377, 0.55, 'entropy = 0.0\\nsamples = 5\\nvalue = [0, 5]'),\n",
              " Text(0.2222222222222222, 0.55, 'X[3] <= 0.062\\nentropy = 0.811\\nsamples = 4\\nvalue = [3, 1]'),\n",
              " Text(0.21256038647342995, 0.5166666666666667, 'entropy = 0.0\\nsamples = 2\\nvalue = [2, 0]'),\n",
              " Text(0.2318840579710145, 0.5166666666666667, 'X[2] <= 0.18\\nentropy = 1.0\\nsamples = 2\\nvalue = [1, 1]'),\n",
              " Text(0.2222222222222222, 0.48333333333333334, 'entropy = 0.0\\nsamples = 1\\nvalue = [1, 0]'),\n",
              " Text(0.24154589371980675, 0.48333333333333334, 'entropy = 0.0\\nsamples = 1\\nvalue = [0, 1]'),\n",
              " Text(0.2318840579710145, 0.5833333333333334, 'entropy = 0.0\\nsamples = 5\\nvalue = [5, 0]'),\n",
              " Text(0.24154589371980675, 0.6166666666666667, 'entropy = 0.0\\nsamples = 3\\nvalue = [0, 3]'),\n",
              " Text(0.25120772946859904, 0.65, 'entropy = 0.0\\nsamples = 7\\nvalue = [7, 0]'),\n",
              " Text(0.28019323671497587, 0.6833333333333333, 'X[2] <= 0.259\\nentropy = 0.918\\nsamples = 9\\nvalue = [3, 6]'),\n",
              " Text(0.27053140096618356, 0.65, 'entropy = 0.0\\nsamples = 2\\nvalue = [2, 0]'),\n",
              " Text(0.2898550724637681, 0.65, 'X[2] <= 0.345\\nentropy = 0.592\\nsamples = 7\\nvalue = [1, 6]'),\n",
              " Text(0.28019323671497587, 0.6166666666666667, 'X[2] <= 0.309\\nentropy = 0.918\\nsamples = 3\\nvalue = [1, 2]'),\n",
              " Text(0.27053140096618356, 0.5833333333333334, 'entropy = 0.0\\nsamples = 2\\nvalue = [0, 2]'),\n",
              " Text(0.2898550724637681, 0.5833333333333334, 'entropy = 0.0\\nsamples = 1\\nvalue = [1, 0]'),\n",
              " Text(0.2995169082125604, 0.6166666666666667, 'entropy = 0.0\\nsamples = 4\\nvalue = [0, 4]'),\n",
              " Text(0.25120772946859904, 0.7833333333333333, 'entropy = 0.0\\nsamples = 4\\nvalue = [0, 4]'),\n",
              " Text(0.30917874396135264, 0.85, 'X[5] <= 0.017\\nentropy = 0.845\\nsamples = 11\\nvalue = [8, 3]'),\n",
              " Text(0.2995169082125604, 0.8166666666666667, 'entropy = 0.0\\nsamples = 4\\nvalue = [4, 0]'),\n",
              " Text(0.3188405797101449, 0.8166666666666667, 'X[2] <= 0.479\\nentropy = 0.985\\nsamples = 7\\nvalue = [4, 3]'),\n",
              " Text(0.30917874396135264, 0.7833333333333333, 'X[2] <= 0.422\\nentropy = 0.971\\nsamples = 5\\nvalue = [2, 3]'),\n",
              " Text(0.2995169082125604, 0.75, 'X[5] <= 0.024\\nentropy = 1.0\\nsamples = 4\\nvalue = [2, 2]'),\n",
              " Text(0.2898550724637681, 0.7166666666666667, 'entropy = 0.0\\nsamples = 1\\nvalue = [0, 1]'),\n",
              " Text(0.30917874396135264, 0.7166666666666667, 'X[5] <= 0.038\\nentropy = 0.918\\nsamples = 3\\nvalue = [2, 1]'),\n",
              " Text(0.2995169082125604, 0.6833333333333333, 'entropy = 0.0\\nsamples = 2\\nvalue = [2, 0]'),\n",
              " Text(0.3188405797101449, 0.6833333333333333, 'entropy = 0.0\\nsamples = 1\\nvalue = [0, 1]'),\n",
              " Text(0.3188405797101449, 0.75, 'entropy = 0.0\\nsamples = 1\\nvalue = [0, 1]'),\n",
              " Text(0.3285024154589372, 0.7833333333333333, 'entropy = 0.0\\nsamples = 2\\nvalue = [2, 0]'),\n",
              " Text(0.33816425120772947, 0.8833333333333333, 'X[4] <= 0.083\\nentropy = 0.559\\nsamples = 23\\nvalue = [20, 3]'),\n",
              " Text(0.3285024154589372, 0.85, 'entropy = 0.0\\nsamples = 1\\nvalue = [0, 1]'),\n",
              " Text(0.34782608695652173, 0.85, 'X[5] <= 0.061\\nentropy = 0.439\\nsamples = 22\\nvalue = [20, 2]'),\n",
              " Text(0.33816425120772947, 0.8166666666666667, 'entropy = 0.0\\nsamples = 12\\nvalue = [12, 0]'),\n",
              " Text(0.357487922705314, 0.8166666666666667, 'X[5] <= 0.064\\nentropy = 0.722\\nsamples = 10\\nvalue = [8, 2]'),\n",
              " Text(0.34782608695652173, 0.7833333333333333, 'entropy = 0.0\\nsamples = 2\\nvalue = [0, 2]'),\n",
              " Text(0.3671497584541063, 0.7833333333333333, 'entropy = 0.0\\nsamples = 8\\nvalue = [8, 0]'),\n",
              " Text(0.5617451690821256, 0.95, 'X[2] <= 0.171\\nentropy = 0.704\\nsamples = 465\\nvalue = [376, 89]'),\n",
              " Text(0.41545893719806765, 0.9166666666666666, 'X[3] <= 0.312\\nentropy = 0.989\\nsamples = 32\\nvalue = [14, 18]'),\n",
              " Text(0.3961352657004831, 0.8833333333333333, 'X[4] <= 0.083\\nentropy = 0.31\\nsamples = 18\\nvalue = [1, 17]'),\n",
              " Text(0.3864734299516908, 0.85, 'X[5] <= 0.029\\nentropy = 1.0\\nsamples = 2\\nvalue = [1, 1]'),\n",
              " Text(0.37681159420289856, 0.8166666666666667, 'entropy = 0.0\\nsamples = 1\\nvalue = [0, 1]'),\n",
              " Text(0.3961352657004831, 0.8166666666666667, 'entropy = 0.0\\nsamples = 1\\nvalue = [1, 0]'),\n",
              " Text(0.4057971014492754, 0.85, 'entropy = 0.0\\nsamples = 16\\nvalue = [0, 16]'),\n",
              " Text(0.43478260869565216, 0.8833333333333333, 'X[2] <= 0.039\\nentropy = 0.371\\nsamples = 14\\nvalue = [13, 1]'),\n",
              " Text(0.4251207729468599, 0.85, 'X[2] <= 0.026\\nentropy = 0.65\\nsamples = 6\\nvalue = [5, 1]'),\n",
              " Text(0.41545893719806765, 0.8166666666666667, 'entropy = 0.0\\nsamples = 5\\nvalue = [5, 0]'),\n",
              " Text(0.43478260869565216, 0.8166666666666667, 'entropy = 0.0\\nsamples = 1\\nvalue = [0, 1]'),\n",
              " Text(0.4444444444444444, 0.85, 'entropy = 0.0\\nsamples = 8\\nvalue = [8, 0]'),\n",
              " Text(0.7080314009661836, 0.9166666666666666, 'X[0] <= 0.25\\nentropy = 0.644\\nsamples = 433\\nvalue = [362, 71]'),\n",
              " Text(0.49033816425120774, 0.8833333333333333, 'X[5] <= 0.051\\nentropy = 0.915\\nsamples = 94\\nvalue = [63, 31]'),\n",
              " Text(0.4806763285024155, 0.85, 'entropy = 0.0\\nsamples = 7\\nvalue = [7, 0]'),\n",
              " Text(0.5, 0.85, 'X[5] <= 0.053\\nentropy = 0.94\\nsamples = 87\\nvalue = [56, 31]'),\n",
              " Text(0.45410628019323673, 0.8166666666666667, 'X[2] <= 0.667\\nentropy = 0.896\\nsamples = 16\\nvalue = [5, 11]'),\n",
              " Text(0.4444444444444444, 0.7833333333333333, 'X[5] <= 0.052\\nentropy = 0.619\\nsamples = 13\\nvalue = [2, 11]'),\n",
              " Text(0.43478260869565216, 0.75, 'entropy = 0.0\\nsamples = 4\\nvalue = [0, 4]'),\n",
              " Text(0.45410628019323673, 0.75, 'X[2] <= 0.579\\nentropy = 0.764\\nsamples = 9\\nvalue = [2, 7]'),\n",
              " Text(0.4444444444444444, 0.7166666666666667, 'X[2] <= 0.357\\nentropy = 0.863\\nsamples = 7\\nvalue = [2, 5]'),\n",
              " Text(0.43478260869565216, 0.6833333333333333, 'entropy = 0.0\\nsamples = 1\\nvalue = [0, 1]'),\n",
              " Text(0.45410628019323673, 0.6833333333333333, 'X[2] <= 0.395\\nentropy = 0.918\\nsamples = 6\\nvalue = [2, 4]'),\n",
              " Text(0.4444444444444444, 0.65, 'entropy = 1.0\\nsamples = 2\\nvalue = [1, 1]'),\n",
              " Text(0.463768115942029, 0.65, 'X[2] <= 0.497\\nentropy = 0.811\\nsamples = 4\\nvalue = [1, 3]'),\n",
              " Text(0.45410628019323673, 0.6166666666666667, 'entropy = 0.0\\nsamples = 2\\nvalue = [0, 2]'),\n",
              " Text(0.47342995169082125, 0.6166666666666667, 'entropy = 1.0\\nsamples = 2\\nvalue = [1, 1]'),\n",
              " Text(0.463768115942029, 0.7166666666666667, 'entropy = 0.0\\nsamples = 2\\nvalue = [0, 2]'),\n",
              " Text(0.463768115942029, 0.7833333333333333, 'entropy = 0.0\\nsamples = 3\\nvalue = [3, 0]'),\n",
              " Text(0.5458937198067633, 0.8166666666666667, 'X[5] <= 0.757\\nentropy = 0.858\\nsamples = 71\\nvalue = [51, 20]'),\n",
              " Text(0.5362318840579711, 0.7833333333333333, 'X[3] <= 0.062\\nentropy = 0.828\\nsamples = 69\\nvalue = [51, 18]'),\n",
              " Text(0.5024154589371981, 0.75, 'X[5] <= 0.072\\nentropy = 0.667\\nsamples = 46\\nvalue = [38, 8]'),\n",
              " Text(0.4830917874396135, 0.7166666666666667, 'X[2] <= 0.353\\nentropy = 0.902\\nsamples = 22\\nvalue = [15, 7]'),\n",
              " Text(0.47342995169082125, 0.6833333333333333, 'entropy = 0.0\\nsamples = 3\\nvalue = [0, 3]'),\n",
              " Text(0.4927536231884058, 0.6833333333333333, 'X[2] <= 0.479\\nentropy = 0.742\\nsamples = 19\\nvalue = [15, 4]'),\n",
              " Text(0.4830917874396135, 0.65, 'entropy = 0.0\\nsamples = 7\\nvalue = [7, 0]'),\n",
              " Text(0.5024154589371981, 0.65, 'X[2] <= 0.529\\nentropy = 0.918\\nsamples = 12\\nvalue = [8, 4]'),\n",
              " Text(0.4927536231884058, 0.6166666666666667, 'entropy = 0.0\\nsamples = 1\\nvalue = [0, 1]'),\n",
              " Text(0.5120772946859904, 0.6166666666666667, 'X[2] <= 0.943\\nentropy = 0.845\\nsamples = 11\\nvalue = [8, 3]'),\n",
              " Text(0.5024154589371981, 0.5833333333333334, 'X[2] <= 0.617\\nentropy = 0.722\\nsamples = 10\\nvalue = [8, 2]'),\n",
              " Text(0.4927536231884058, 0.55, 'entropy = 0.0\\nsamples = 3\\nvalue = [3, 0]'),\n",
              " Text(0.5120772946859904, 0.55, 'X[2] <= 0.667\\nentropy = 0.863\\nsamples = 7\\nvalue = [5, 2]'),\n",
              " Text(0.5024154589371981, 0.5166666666666667, 'entropy = 0.0\\nsamples = 1\\nvalue = [0, 1]'),\n",
              " Text(0.5217391304347826, 0.5166666666666667, 'X[5] <= 0.068\\nentropy = 0.65\\nsamples = 6\\nvalue = [5, 1]'),\n",
              " Text(0.5120772946859904, 0.48333333333333334, 'entropy = 0.0\\nsamples = 5\\nvalue = [5, 0]'),\n",
              " Text(0.5314009661835749, 0.48333333333333334, 'entropy = 0.0\\nsamples = 1\\nvalue = [0, 1]'),\n",
              " Text(0.5217391304347826, 0.5833333333333334, 'entropy = 0.0\\nsamples = 1\\nvalue = [0, 1]'),\n",
              " Text(0.5217391304347826, 0.7166666666666667, 'X[2] <= 0.233\\nentropy = 0.25\\nsamples = 24\\nvalue = [23, 1]'),\n",
              " Text(0.5120772946859904, 0.6833333333333333, 'entropy = 0.0\\nsamples = 1\\nvalue = [0, 1]'),\n",
              " Text(0.5314009661835749, 0.6833333333333333, 'entropy = 0.0\\nsamples = 23\\nvalue = [23, 0]'),\n",
              " Text(0.5700483091787439, 0.75, 'X[2] <= 0.711\\nentropy = 0.988\\nsamples = 23\\nvalue = [13, 10]'),\n",
              " Text(0.5603864734299517, 0.7166666666666667, 'X[5] <= 0.102\\nentropy = 0.998\\nsamples = 21\\nvalue = [11, 10]'),\n",
              " Text(0.5507246376811594, 0.6833333333333333, 'entropy = 0.0\\nsamples = 2\\nvalue = [2, 0]'),\n",
              " Text(0.5700483091787439, 0.6833333333333333, 'X[5] <= 0.103\\nentropy = 0.998\\nsamples = 19\\nvalue = [9, 10]'),\n",
              " Text(0.5603864734299517, 0.65, 'entropy = 0.0\\nsamples = 2\\nvalue = [0, 2]'),\n",
              " Text(0.5797101449275363, 0.65, 'X[5] <= 0.239\\nentropy = 0.998\\nsamples = 17\\nvalue = [9, 8]'),\n",
              " Text(0.5700483091787439, 0.6166666666666667, 'X[5] <= 0.192\\nentropy = 0.989\\nsamples = 16\\nvalue = [9, 7]'),\n",
              " Text(0.5603864734299517, 0.5833333333333334, 'X[2] <= 0.271\\nentropy = 1.0\\nsamples = 14\\nvalue = [7, 7]'),\n",
              " Text(0.5507246376811594, 0.55, 'entropy = 0.0\\nsamples = 1\\nvalue = [1, 0]'),\n",
              " Text(0.5700483091787439, 0.55, 'X[2] <= 0.347\\nentropy = 0.996\\nsamples = 13\\nvalue = [6, 7]'),\n",
              " Text(0.5603864734299517, 0.5166666666666667, 'entropy = 0.0\\nsamples = 2\\nvalue = [0, 2]'),\n",
              " Text(0.5797101449275363, 0.5166666666666667, 'X[5] <= 0.11\\nentropy = 0.994\\nsamples = 11\\nvalue = [6, 5]'),\n",
              " Text(0.5700483091787439, 0.48333333333333334, 'entropy = 0.0\\nsamples = 2\\nvalue = [2, 0]'),\n",
              " Text(0.5893719806763285, 0.48333333333333334, 'X[2] <= 0.585\\nentropy = 0.991\\nsamples = 9\\nvalue = [4, 5]'),\n",
              " Text(0.5797101449275363, 0.45, 'X[5] <= 0.115\\nentropy = 0.918\\nsamples = 6\\nvalue = [4, 2]'),\n",
              " Text(0.5700483091787439, 0.4166666666666667, 'entropy = 0.0\\nsamples = 1\\nvalue = [0, 1]'),\n",
              " Text(0.5893719806763285, 0.4166666666666667, 'X[5] <= 0.165\\nentropy = 0.722\\nsamples = 5\\nvalue = [4, 1]'),\n",
              " Text(0.5797101449275363, 0.38333333333333336, 'entropy = 0.0\\nsamples = 3\\nvalue = [3, 0]'),\n",
              " Text(0.5990338164251208, 0.38333333333333336, 'X[3] <= 0.188\\nentropy = 1.0\\nsamples = 2\\nvalue = [1, 1]'),\n",
              " Text(0.5893719806763285, 0.35, 'entropy = 0.0\\nsamples = 1\\nvalue = [0, 1]'),\n",
              " Text(0.6086956521739131, 0.35, 'entropy = 0.0\\nsamples = 1\\nvalue = [1, 0]'),\n",
              " Text(0.5990338164251208, 0.45, 'entropy = 0.0\\nsamples = 3\\nvalue = [0, 3]'),\n",
              " Text(0.5797101449275363, 0.5833333333333334, 'entropy = 0.0\\nsamples = 2\\nvalue = [2, 0]'),\n",
              " Text(0.5893719806763285, 0.6166666666666667, 'entropy = 0.0\\nsamples = 1\\nvalue = [0, 1]'),\n",
              " Text(0.5797101449275363, 0.7166666666666667, 'entropy = 0.0\\nsamples = 2\\nvalue = [2, 0]'),\n",
              " Text(0.5555555555555556, 0.7833333333333333, 'entropy = 0.0\\nsamples = 2\\nvalue = [0, 2]'),\n",
              " Text(0.9257246376811594, 0.8833333333333333, 'X[2] <= 0.563\\nentropy = 0.524\\nsamples = 339\\nvalue = [299, 40]'),\n",
              " Text(0.9160628019323671, 0.85, 'X[3] <= 0.188\\nentropy = 0.548\\nsamples = 316\\nvalue = [276, 40]'),\n",
              " Text(0.9064009661835749, 0.8166666666666667, 'X[5] <= 0.096\\nentropy = 0.565\\nsamples = 301\\nvalue = [261, 40]'),\n",
              " Text(0.8611111111111112, 0.7833333333333333, 'X[5] <= 0.038\\nentropy = 0.546\\nsamples = 294\\nvalue = [257, 37]'),\n",
              " Text(0.7995169082125604, 0.75, 'X[5] <= 0.015\\nentropy = 0.58\\nsamples = 260\\nvalue = [224, 36]'),\n",
              " Text(0.7342995169082126, 0.7166666666666667, 'X[2] <= 0.403\\nentropy = 0.446\\nsamples = 129\\nvalue = [117, 12]'),\n",
              " Text(0.7246376811594203, 0.6833333333333333, 'X[2] <= 0.391\\nentropy = 0.494\\nsamples = 111\\nvalue = [99, 12]'),\n",
              " Text(0.714975845410628, 0.65, 'X[2] <= 0.255\\nentropy = 0.469\\nsamples = 110\\nvalue = [99, 11]'),\n",
              " Text(0.7053140096618358, 0.6166666666666667, 'entropy = 0.0\\nsamples = 16\\nvalue = [16, 0]'),\n",
              " Text(0.7246376811594203, 0.6166666666666667, 'X[2] <= 0.364\\nentropy = 0.521\\nsamples = 94\\nvalue = [83, 11]'),\n",
              " Text(0.6763285024154589, 0.5833333333333334, 'X[5] <= 0.014\\nentropy = 0.712\\nsamples = 41\\nvalue = [33, 8]'),\n",
              " Text(0.6666666666666666, 0.55, 'entropy = 0.0\\nsamples = 2\\nvalue = [0, 2]'),\n",
              " Text(0.6859903381642513, 0.55, 'X[2] <= 0.356\\nentropy = 0.619\\nsamples = 39\\nvalue = [33, 6]'),\n",
              " Text(0.6666666666666666, 0.5166666666666667, 'X[5] <= 0.015\\nentropy = 0.503\\nsamples = 36\\nvalue = [32, 4]'),\n",
              " Text(0.6570048309178744, 0.48333333333333334, 'X[5] <= 0.015\\nentropy = 0.667\\nsamples = 23\\nvalue = [19, 4]'),\n",
              " Text(0.6376811594202898, 0.45, 'X[5] <= 0.014\\nentropy = 0.485\\nsamples = 19\\nvalue = [17, 2]'),\n",
              " Text(0.6280193236714976, 0.4166666666666667, 'X[5] <= 0.014\\nentropy = 0.971\\nsamples = 5\\nvalue = [3, 2]'),\n",
              " Text(0.6183574879227053, 0.38333333333333336, 'entropy = 0.0\\nsamples = 3\\nvalue = [3, 0]'),\n",
              " Text(0.6376811594202898, 0.38333333333333336, 'entropy = 0.0\\nsamples = 2\\nvalue = [0, 2]'),\n",
              " Text(0.6473429951690821, 0.4166666666666667, 'entropy = 0.0\\nsamples = 14\\nvalue = [14, 0]'),\n",
              " Text(0.6763285024154589, 0.45, 'X[2] <= 0.277\\nentropy = 1.0\\nsamples = 4\\nvalue = [2, 2]'),\n",
              " Text(0.6666666666666666, 0.4166666666666667, 'entropy = 0.0\\nsamples = 1\\nvalue = [0, 1]'),\n",
              " Text(0.6859903381642513, 0.4166666666666667, 'X[2] <= 0.315\\nentropy = 0.918\\nsamples = 3\\nvalue = [2, 1]'),\n",
              " Text(0.6763285024154589, 0.38333333333333336, 'entropy = 0.0\\nsamples = 1\\nvalue = [1, 0]'),\n",
              " Text(0.6956521739130435, 0.38333333333333336, 'X[2] <= 0.34\\nentropy = 1.0\\nsamples = 2\\nvalue = [1, 1]'),\n",
              " Text(0.6859903381642513, 0.35, 'entropy = 0.0\\nsamples = 1\\nvalue = [0, 1]'),\n",
              " Text(0.7053140096618358, 0.35, 'entropy = 0.0\\nsamples = 1\\nvalue = [1, 0]'),\n",
              " Text(0.6763285024154589, 0.48333333333333334, 'entropy = 0.0\\nsamples = 13\\nvalue = [13, 0]'),\n",
              " Text(0.7053140096618358, 0.5166666666666667, 'X[5] <= 0.015\\nentropy = 0.918\\nsamples = 3\\nvalue = [1, 2]'),\n",
              " Text(0.6956521739130435, 0.48333333333333334, 'entropy = 0.0\\nsamples = 1\\nvalue = [0, 1]'),\n",
              " Text(0.714975845410628, 0.48333333333333334, 'X[5] <= 0.015\\nentropy = 1.0\\nsamples = 2\\nvalue = [1, 1]'),\n",
              " Text(0.7053140096618358, 0.45, 'entropy = 0.0\\nsamples = 1\\nvalue = [1, 0]'),\n",
              " Text(0.7246376811594203, 0.45, 'entropy = 0.0\\nsamples = 1\\nvalue = [0, 1]'),\n",
              " Text(0.7729468599033816, 0.5833333333333334, 'X[5] <= 0.015\\nentropy = 0.314\\nsamples = 53\\nvalue = [50, 3]'),\n",
              " Text(0.7632850241545893, 0.55, 'X[5] <= 0.014\\nentropy = 0.391\\nsamples = 39\\nvalue = [36, 3]'),\n",
              " Text(0.7536231884057971, 0.5166666666666667, 'entropy = 0.0\\nsamples = 13\\nvalue = [13, 0]'),\n",
              " Text(0.7729468599033816, 0.5166666666666667, 'X[5] <= 0.015\\nentropy = 0.516\\nsamples = 26\\nvalue = [23, 3]'),\n",
              " Text(0.7536231884057971, 0.48333333333333334, 'X[2] <= 0.37\\nentropy = 0.426\\nsamples = 23\\nvalue = [21, 2]'),\n",
              " Text(0.7439613526570048, 0.45, 'X[5] <= 0.014\\nentropy = 0.469\\nsamples = 20\\nvalue = [18, 2]'),\n",
              " Text(0.7342995169082126, 0.4166666666666667, 'entropy = 0.722\\nsamples = 5\\nvalue = [4, 1]'),\n",
              " Text(0.7536231884057971, 0.4166666666666667, 'X[5] <= 0.015\\nentropy = 0.353\\nsamples = 15\\nvalue = [14, 1]'),\n",
              " Text(0.7439613526570048, 0.38333333333333336, 'entropy = 0.0\\nsamples = 6\\nvalue = [6, 0]'),\n",
              " Text(0.7632850241545893, 0.38333333333333336, 'entropy = 0.503\\nsamples = 9\\nvalue = [8, 1]'),\n",
              " Text(0.7632850241545893, 0.45, 'entropy = 0.0\\nsamples = 3\\nvalue = [3, 0]'),\n",
              " Text(0.7922705314009661, 0.48333333333333334, 'X[2] <= 0.376\\nentropy = 0.918\\nsamples = 3\\nvalue = [2, 1]'),\n",
              " Text(0.782608695652174, 0.45, 'entropy = 1.0\\nsamples = 2\\nvalue = [1, 1]'),\n",
              " Text(0.8019323671497585, 0.45, 'entropy = 0.0\\nsamples = 1\\nvalue = [1, 0]'),\n",
              " Text(0.782608695652174, 0.55, 'entropy = 0.0\\nsamples = 14\\nvalue = [14, 0]'),\n",
              " Text(0.7342995169082126, 0.65, 'entropy = 0.0\\nsamples = 1\\nvalue = [0, 1]'),\n",
              " Text(0.7439613526570048, 0.6833333333333333, 'entropy = 0.0\\nsamples = 18\\nvalue = [18, 0]'),\n",
              " Text(0.8647342995169082, 0.7166666666666667, 'X[5] <= 0.016\\nentropy = 0.687\\nsamples = 131\\nvalue = [107, 24]'),\n",
              " Text(0.8260869565217391, 0.6833333333333333, 'X[3] <= 0.062\\nentropy = 0.994\\nsamples = 11\\nvalue = [6, 5]'),\n",
              " Text(0.8164251207729468, 0.65, 'X[2] <= 0.321\\nentropy = 0.971\\nsamples = 10\\nvalue = [6, 4]'),\n",
              " Text(0.8067632850241546, 0.6166666666666667, 'entropy = 0.0\\nsamples = 3\\nvalue = [3, 0]'),\n",
              " Text(0.8260869565217391, 0.6166666666666667, 'X[2] <= 0.391\\nentropy = 0.985\\nsamples = 7\\nvalue = [3, 4]'),\n",
              " Text(0.8164251207729468, 0.5833333333333334, 'entropy = 0.0\\nsamples = 1\\nvalue = [0, 1]'),\n",
              " Text(0.8357487922705314, 0.5833333333333334, 'X[2] <= 0.516\\nentropy = 1.0\\nsamples = 6\\nvalue = [3, 3]'),\n",
              " Text(0.8260869565217391, 0.55, 'X[2] <= 0.441\\nentropy = 0.971\\nsamples = 5\\nvalue = [3, 2]'),\n",
              " Text(0.8164251207729468, 0.5166666666666667, 'entropy = 0.918\\nsamples = 3\\nvalue = [2, 1]'),\n",
              " Text(0.8357487922705314, 0.5166666666666667, 'entropy = 1.0\\nsamples = 2\\nvalue = [1, 1]'),\n",
              " Text(0.8454106280193237, 0.55, 'entropy = 0.0\\nsamples = 1\\nvalue = [0, 1]'),\n",
              " Text(0.8357487922705314, 0.65, 'entropy = 0.0\\nsamples = 1\\nvalue = [0, 1]'),\n",
              " Text(0.9033816425120773, 0.6833333333333333, 'X[2] <= 0.554\\nentropy = 0.63\\nsamples = 120\\nvalue = [101, 19]'),\n",
              " Text(0.893719806763285, 0.65, 'X[5] <= 0.036\\nentropy = 0.613\\nsamples = 119\\nvalue = [101, 18]'),\n",
              " Text(0.8840579710144928, 0.6166666666666667, 'X[5] <= 0.031\\nentropy = 0.595\\nsamples = 118\\nvalue = [101, 17]'),\n",
              " Text(0.8743961352657005, 0.5833333333333334, 'X[5] <= 0.031\\nentropy = 0.625\\nsamples = 109\\nvalue = [92, 17]'),\n",
              " Text(0.8647342995169082, 0.55, 'X[5] <= 0.03\\nentropy = 0.605\\nsamples = 108\\nvalue = [92, 16]'),\n",
              " Text(0.855072463768116, 0.5166666666666667, 'X[5] <= 0.03\\nentropy = 0.623\\nsamples = 103\\nvalue = [87, 16]'),\n",
              " Text(0.8454106280193237, 0.48333333333333334, 'X[5] <= 0.028\\nentropy = 0.581\\nsamples = 101\\nvalue = [87, 14]'),\n",
              " Text(0.8357487922705314, 0.45, 'X[5] <= 0.027\\nentropy = 0.607\\nsamples = 94\\nvalue = [80, 14]'),\n",
              " Text(0.8260869565217391, 0.4166666666666667, 'X[2] <= 0.24\\nentropy = 0.584\\nsamples = 93\\nvalue = [80, 13]'),\n",
              " Text(0.782608695652174, 0.38333333333333336, 'X[5] <= 0.016\\nentropy = 0.787\\nsamples = 17\\nvalue = [13, 4]'),\n",
              " Text(0.7632850241545893, 0.35, 'X[2] <= 0.208\\nentropy = 0.811\\nsamples = 4\\nvalue = [1, 3]'),\n",
              " Text(0.7536231884057971, 0.31666666666666665, 'entropy = 1.0\\nsamples = 2\\nvalue = [1, 1]'),\n",
              " Text(0.7729468599033816, 0.31666666666666665, 'entropy = 0.0\\nsamples = 2\\nvalue = [0, 2]'),\n",
              " Text(0.8019323671497585, 0.35, 'X[2] <= 0.227\\nentropy = 0.391\\nsamples = 13\\nvalue = [12, 1]'),\n",
              " Text(0.7922705314009661, 0.31666666666666665, 'entropy = 0.0\\nsamples = 8\\nvalue = [8, 0]'),\n",
              " Text(0.8115942028985508, 0.31666666666666665, 'X[5] <= 0.02\\nentropy = 0.722\\nsamples = 5\\nvalue = [4, 1]'),\n",
              " Text(0.8019323671497585, 0.2833333333333333, 'entropy = 0.0\\nsamples = 2\\nvalue = [2, 0]'),\n",
              " Text(0.821256038647343, 0.2833333333333333, 'X[5] <= 0.023\\nentropy = 0.918\\nsamples = 3\\nvalue = [2, 1]'),\n",
              " Text(0.8115942028985508, 0.25, 'entropy = 1.0\\nsamples = 2\\nvalue = [1, 1]'),\n",
              " Text(0.8309178743961353, 0.25, 'entropy = 0.0\\nsamples = 1\\nvalue = [1, 0]'),\n",
              " Text(0.8695652173913043, 0.38333333333333336, 'X[2] <= 0.328\\nentropy = 0.525\\nsamples = 76\\nvalue = [67, 9]'),\n",
              " Text(0.8599033816425121, 0.35, 'entropy = 0.0\\nsamples = 21\\nvalue = [21, 0]'),\n",
              " Text(0.8792270531400966, 0.35, 'X[5] <= 0.016\\nentropy = 0.643\\nsamples = 55\\nvalue = [46, 9]'),\n",
              " Text(0.8502415458937198, 0.31666666666666665, 'X[2] <= 0.387\\nentropy = 0.286\\nsamples = 20\\nvalue = [19, 1]'),\n",
              " Text(0.8405797101449275, 0.2833333333333333, 'entropy = 0.0\\nsamples = 13\\nvalue = [13, 0]'),\n",
              " Text(0.8599033816425121, 0.2833333333333333, 'X[2] <= 0.409\\nentropy = 0.592\\nsamples = 7\\nvalue = [6, 1]'),\n",
              " Text(0.8502415458937198, 0.25, 'entropy = 0.0\\nsamples = 1\\nvalue = [0, 1]'),\n",
              " Text(0.8695652173913043, 0.25, 'entropy = 0.0\\nsamples = 6\\nvalue = [6, 0]'),\n",
              " Text(0.9082125603864735, 0.31666666666666665, 'X[5] <= 0.016\\nentropy = 0.776\\nsamples = 35\\nvalue = [27, 8]'),\n",
              " Text(0.8985507246376812, 0.2833333333333333, 'entropy = 0.0\\nsamples = 1\\nvalue = [0, 1]'),\n",
              " Text(0.9178743961352657, 0.2833333333333333, 'X[2] <= 0.391\\nentropy = 0.734\\nsamples = 34\\nvalue = [27, 7]'),\n",
              " Text(0.8888888888888888, 0.25, 'X[5] <= 0.017\\nentropy = 0.874\\nsamples = 17\\nvalue = [12, 5]'),\n",
              " Text(0.8792270531400966, 0.21666666666666667, 'entropy = 0.0\\nsamples = 1\\nvalue = [0, 1]'),\n",
              " Text(0.8985507246376812, 0.21666666666666667, 'X[2] <= 0.353\\nentropy = 0.811\\nsamples = 16\\nvalue = [12, 4]'),\n",
              " Text(0.8888888888888888, 0.18333333333333332, 'entropy = 0.0\\nsamples = 4\\nvalue = [4, 0]'),\n",
              " Text(0.9082125603864735, 0.18333333333333332, 'X[5] <= 0.019\\nentropy = 0.918\\nsamples = 12\\nvalue = [8, 4]'),\n",
              " Text(0.8985507246376812, 0.15, 'entropy = 0.0\\nsamples = 2\\nvalue = [2, 0]'),\n",
              " Text(0.9178743961352657, 0.15, 'X[0] <= 0.75\\nentropy = 0.971\\nsamples = 10\\nvalue = [6, 4]'),\n",
              " Text(0.8985507246376812, 0.11666666666666667, 'X[5] <= 0.023\\nentropy = 0.863\\nsamples = 7\\nvalue = [5, 2]'),\n",
              " Text(0.8888888888888888, 0.08333333333333333, 'entropy = 0.0\\nsamples = 3\\nvalue = [3, 0]'),\n",
              " Text(0.9082125603864735, 0.08333333333333333, 'X[2] <= 0.37\\nentropy = 1.0\\nsamples = 4\\nvalue = [2, 2]'),\n",
              " Text(0.8985507246376812, 0.05, 'entropy = 0.0\\nsamples = 1\\nvalue = [0, 1]'),\n",
              " Text(0.9178743961352657, 0.05, 'X[2] <= 0.378\\nentropy = 0.918\\nsamples = 3\\nvalue = [2, 1]'),\n",
              " Text(0.9082125603864735, 0.016666666666666666, 'entropy = 0.0\\nsamples = 2\\nvalue = [2, 0]'),\n",
              " Text(0.927536231884058, 0.016666666666666666, 'entropy = 0.0\\nsamples = 1\\nvalue = [0, 1]'),\n",
              " Text(0.9371980676328503, 0.11666666666666667, 'X[2] <= 0.364\\nentropy = 0.918\\nsamples = 3\\nvalue = [1, 2]'),\n",
              " Text(0.927536231884058, 0.08333333333333333, 'entropy = 0.0\\nsamples = 1\\nvalue = [0, 1]'),\n",
              " Text(0.9468599033816425, 0.08333333333333333, 'X[2] <= 0.37\\nentropy = 1.0\\nsamples = 2\\nvalue = [1, 1]'),\n",
              " Text(0.9371980676328503, 0.05, 'entropy = 0.0\\nsamples = 1\\nvalue = [1, 0]'),\n",
              " Text(0.9565217391304348, 0.05, 'entropy = 0.0\\nsamples = 1\\nvalue = [0, 1]'),\n",
              " Text(0.9468599033816425, 0.25, 'X[5] <= 0.025\\nentropy = 0.523\\nsamples = 17\\nvalue = [15, 2]'),\n",
              " Text(0.9371980676328503, 0.21666666666666667, 'entropy = 0.0\\nsamples = 10\\nvalue = [10, 0]'),\n",
              " Text(0.9565217391304348, 0.21666666666666667, 'X[2] <= 0.504\\nentropy = 0.863\\nsamples = 7\\nvalue = [5, 2]'),\n",
              " Text(0.9468599033816425, 0.18333333333333332, 'X[2] <= 0.435\\nentropy = 0.722\\nsamples = 5\\nvalue = [4, 1]'),\n",
              " Text(0.9371980676328503, 0.15, 'entropy = 0.918\\nsamples = 3\\nvalue = [2, 1]'),\n",
              " Text(0.9565217391304348, 0.15, 'entropy = 0.0\\nsamples = 2\\nvalue = [2, 0]'),\n",
              " Text(0.966183574879227, 0.18333333333333332, 'entropy = 1.0\\nsamples = 2\\nvalue = [1, 1]'),\n",
              " Text(0.8454106280193237, 0.4166666666666667, 'entropy = 0.0\\nsamples = 1\\nvalue = [0, 1]'),\n",
              " Text(0.855072463768116, 0.45, 'entropy = 0.0\\nsamples = 7\\nvalue = [7, 0]'),\n",
              " Text(0.8647342995169082, 0.48333333333333334, 'entropy = 0.0\\nsamples = 2\\nvalue = [0, 2]'),\n",
              " Text(0.8743961352657005, 0.5166666666666667, 'entropy = 0.0\\nsamples = 5\\nvalue = [5, 0]'),\n",
              " Text(0.8840579710144928, 0.55, 'entropy = 0.0\\nsamples = 1\\nvalue = [0, 1]'),\n",
              " Text(0.893719806763285, 0.5833333333333334, 'entropy = 0.0\\nsamples = 9\\nvalue = [9, 0]'),\n",
              " Text(0.9033816425120773, 0.6166666666666667, 'entropy = 0.0\\nsamples = 1\\nvalue = [0, 1]'),\n",
              " Text(0.9130434782608695, 0.65, 'entropy = 0.0\\nsamples = 1\\nvalue = [0, 1]'),\n",
              " Text(0.9227053140096618, 0.75, 'X[2] <= 0.391\\nentropy = 0.191\\nsamples = 34\\nvalue = [33, 1]'),\n",
              " Text(0.9130434782608695, 0.7166666666666667, 'entropy = 0.0\\nsamples = 17\\nvalue = [17, 0]'),\n",
              " Text(0.9323671497584541, 0.7166666666666667, 'X[2] <= 0.4\\nentropy = 0.323\\nsamples = 17\\nvalue = [16, 1]'),\n",
              " Text(0.9227053140096618, 0.6833333333333333, 'entropy = 0.0\\nsamples = 1\\nvalue = [0, 1]'),\n",
              " Text(0.9420289855072463, 0.6833333333333333, 'entropy = 0.0\\nsamples = 16\\nvalue = [16, 0]'),\n",
              " Text(0.9516908212560387, 0.7833333333333333, 'X[0] <= 0.75\\nentropy = 0.985\\nsamples = 7\\nvalue = [4, 3]'),\n",
              " Text(0.9420289855072463, 0.75, 'entropy = 0.0\\nsamples = 2\\nvalue = [2, 0]'),\n",
              " Text(0.961352657004831, 0.75, 'X[2] <= 0.334\\nentropy = 0.971\\nsamples = 5\\nvalue = [2, 3]'),\n",
              " Text(0.9516908212560387, 0.7166666666666667, 'entropy = 0.0\\nsamples = 1\\nvalue = [0, 1]'),\n",
              " Text(0.9710144927536232, 0.7166666666666667, 'X[2] <= 0.357\\nentropy = 1.0\\nsamples = 4\\nvalue = [2, 2]'),\n",
              " Text(0.961352657004831, 0.6833333333333333, 'entropy = 0.0\\nsamples = 1\\nvalue = [1, 0]'),\n",
              " Text(0.9806763285024155, 0.6833333333333333, 'X[2] <= 0.382\\nentropy = 0.918\\nsamples = 3\\nvalue = [1, 2]'),\n",
              " Text(0.9710144927536232, 0.65, 'entropy = 1.0\\nsamples = 2\\nvalue = [1, 1]'),\n",
              " Text(0.9903381642512077, 0.65, 'entropy = 0.0\\nsamples = 1\\nvalue = [0, 1]'),\n",
              " Text(0.9257246376811594, 0.8166666666666667, 'entropy = 0.0\\nsamples = 15\\nvalue = [15, 0]'),\n",
              " Text(0.9353864734299517, 0.85, 'entropy = 0.0\\nsamples = 23\\nvalue = [23, 0]')]"
            ]
          },
          "metadata": {},
          "execution_count": 77
        },
        {
          "output_type": "display_data",
          "data": {
            "text/plain": [
              "<Figure size 576x396 with 1 Axes>"
            ],
            "image/png": "[encoded data removed]"
          },
          "metadata": {}
        }
      ]
    },
    {
      "cell_type": "code",
      "source": [
        "from sklearn.ensemble import RandomForestClassifier"
      ],
      "metadata": {
        "id": "SRxNcrBJvUpq"
      },
      "execution_count": 78,
      "outputs": []
    },
    {
      "cell_type": "code",
      "source": [
        "random_forest_titanic = RandomForestClassifier(n_estimators=100, criterion='entropy', random_state = 0)\n",
        "random_forest_titanic.fit(X_titanic_treinamento, Y_titanic_treinamento)"
      ],
      "metadata": {
        "colab": {
          "base_uri": "https://localhost:8080/"
        },
        "id": "5v_JQpnHvi0J",
        "outputId": "037ad24c-10f7-421b-9804-48091d425649"
      },
      "execution_count": 79,
      "outputs": [
        {
          "output_type": "execute_result",
          "data": {
            "text/plain": [
              "RandomForestClassifier(criterion='entropy', random_state=0)"
            ]
          },
          "metadata": {},
          "execution_count": 79
        }
      ]
    },
    {
      "cell_type": "code",
      "source": [
        "previsoes = random_forest_titanic.predict(X_titanic_teste)\n",
        "previsoes"
      ],
      "metadata": {
        "colab": {
          "base_uri": "https://localhost:8080/"
        },
        "id": "3_rIcTiUvxPl",
        "outputId": "795fd8c1-8970-491a-9efb-68059a85e7a1"
      },
      "execution_count": 80,
      "outputs": [
        {
          "output_type": "execute_result",
          "data": {
            "text/plain": [
              "array([0, 0, 0, 1, 0, 0, 1, 1, 1, 1, 0, 1, 0, 1, 1, 1, 0, 0, 0, 1, 0, 1,\n",
              "       0, 0, 0, 1, 0, 1, 1, 0, 0, 1, 0, 0, 0, 0, 0, 0, 0, 0, 0, 0, 0, 0,\n",
              "       1, 0, 0, 1, 0, 0, 0, 0, 1, 0, 0, 0, 0, 0, 0, 0, 0, 1, 1, 0, 1, 0,\n",
              "       1, 0, 1, 1, 1, 0, 0, 0, 0, 1, 1, 0, 0, 0, 0, 1, 1, 0, 0, 1, 1, 0,\n",
              "       1, 0, 0, 0, 1, 1, 0, 0, 1, 0, 0, 0, 0, 0, 0, 0, 0, 1, 1, 0, 0, 1,\n",
              "       0, 1, 1, 0, 0, 1, 0, 1, 0, 1, 1, 0, 0, 0, 0, 0, 0, 0, 0, 0, 1, 0,\n",
              "       0, 0, 0, 0, 0, 0, 0, 0, 0, 1, 0, 1, 1, 0, 0, 1, 1, 0, 0, 0, 1, 1,\n",
              "       1, 0, 0, 0, 1, 1, 0, 0, 1, 0, 0, 0, 0, 0, 0, 0, 0, 1, 0, 0, 1, 0,\n",
              "       1, 0, 1])"
            ]
          },
          "metadata": {},
          "execution_count": 80
        }
      ]
    },
    {
      "cell_type": "code",
      "source": [
        "Y_titanic_teste"
      ],
      "metadata": {
        "colab": {
          "base_uri": "https://localhost:8080/"
        },
        "id": "IfUsBtvlv3l-",
        "outputId": "2b641f92-5756-4b38-b43c-757dc4ff74b4"
      },
      "execution_count": 81,
      "outputs": [
        {
          "output_type": "execute_result",
          "data": {
            "text/plain": [
              "array([0, 0, 0, 1, 1, 1, 1, 1, 1, 1, 0, 1, 0, 1, 1, 0, 0, 0, 0, 1, 0, 1,\n",
              "       0, 0, 0, 1, 0, 1, 1, 0, 0, 1, 0, 1, 0, 1, 0, 0, 0, 0, 1, 0, 0, 0,\n",
              "       1, 0, 0, 1, 0, 0, 1, 1, 1, 0, 1, 0, 0, 0, 0, 1, 0, 0, 1, 0, 1, 0,\n",
              "       1, 0, 1, 1, 1, 1, 0, 0, 0, 1, 0, 0, 0, 0, 0, 1, 0, 0, 0, 1, 1, 1,\n",
              "       1, 0, 0, 0, 1, 1, 0, 0, 1, 0, 0, 1, 0, 0, 0, 0, 0, 1, 1, 0, 0, 1,\n",
              "       0, 1, 1, 0, 1, 1, 1, 1, 0, 1, 1, 0, 0, 0, 0, 0, 0, 1, 0, 0, 0, 0,\n",
              "       0, 0, 0, 0, 0, 0, 0, 0, 0, 1, 0, 0, 1, 0, 0, 1, 1, 0, 0, 1, 0, 0,\n",
              "       1, 0, 0, 1, 0, 1, 0, 1, 1, 1, 0, 0, 0, 0, 0, 0, 0, 1, 0, 0, 1, 0,\n",
              "       1, 0, 0])"
            ]
          },
          "metadata": {},
          "execution_count": 81
        }
      ]
    },
    {
      "cell_type": "code",
      "source": [
        "accuracy_score(Y_titanic_teste, previsoes)"
      ],
      "metadata": {
        "colab": {
          "base_uri": "https://localhost:8080/"
        },
        "id": "V0BnJ9-SwA48",
        "outputId": "549115b2-ed17-4f1f-ce80-601e44ff1b8c"
      },
      "execution_count": 82,
      "outputs": [
        {
          "output_type": "execute_result",
          "data": {
            "text/plain": [
              "0.8379888268156425"
            ]
          },
          "metadata": {},
          "execution_count": 82
        }
      ]
    },
    {
      "cell_type": "code",
      "source": [
        "from yellowbrick.classifier import ConfusionMatrix\n",
        "\n",
        "cm = ConfusionMatrix(random_forest_titanic)\n",
        "cm.fit(X_titanic_treinamento, Y_titanic_treinamento)\n",
        "cm.score(X_titanic_teste, Y_titanic_teste)"
      ],
      "metadata": {
        "colab": {
          "base_uri": "https://localhost:8080/",
          "height": 361
        },
        "id": "NJfmcvLzwLe8",
        "outputId": "74b77c7c-2f6f-4353-e4c3-60a2f08bd6bc"
      },
      "execution_count": 83,
      "outputs": [
        {
          "output_type": "execute_result",
          "data": {
            "text/plain": [
              "0.8379888268156425"
            ]
          },
          "metadata": {},
          "execution_count": 83
        },
        {
          "output_type": "display_data",
          "data": {
            "text/plain": [
              "<Figure size 576x396 with 1 Axes>"
            ],
            "image/png": "[encoded data removed]"
          },
          "metadata": {}
        }
      ]
    },
    {
      "cell_type": "code",
      "source": [
        "print(classification_report(Y_titanic_teste, previsoes))"
      ],
      "metadata": {
        "colab": {
          "base_uri": "https://localhost:8080/"
        },
        "id": "wL1od1F5wdIh",
        "outputId": "1f4bf25e-4205-4588-e999-7f89abcfe448"
      },
      "execution_count": 84,
      "outputs": [
        {
          "output_type": "stream",
          "name": "stdout",
          "text": [
            "              precision    recall  f1-score   support\n",
            "\n",
            "           0       0.84      0.91      0.87       110\n",
            "           1       0.83      0.72      0.78        69\n",
            "\n",
            "    accuracy                           0.84       179\n",
            "   macro avg       0.84      0.82      0.82       179\n",
            "weighted avg       0.84      0.84      0.84       179\n",
            "\n"
          ]
        }
      ]
    },
    {
      "cell_type": "markdown",
      "source": [
        "## **KNN**"
      ],
      "metadata": {
        "id": "fWnSMFojb71Z"
      }
    },
    {
      "cell_type": "code",
      "source": [
        "from sklearn.neighbors import KNeighborsClassifier"
      ],
      "metadata": {
        "id": "_krm1xCdy5dh"
      },
      "execution_count": 85,
      "outputs": []
    },
    {
      "cell_type": "code",
      "source": [
        "knn_titanic = KNeighborsClassifier(n_neighbors=5, metric='minkowski', p = 2)\n",
        "knn_titanic.fit(X_titanic_treinamento, Y_titanic_treinamento)"
      ],
      "metadata": {
        "colab": {
          "base_uri": "https://localhost:8080/"
        },
        "id": "GZBx2Kn5y843",
        "outputId": "b5014efc-d660-4703-b7b2-4bac3e68b5ce"
      },
      "execution_count": 86,
      "outputs": [
        {
          "output_type": "execute_result",
          "data": {
            "text/plain": [
              "KNeighborsClassifier()"
            ]
          },
          "metadata": {},
          "execution_count": 86
        }
      ]
    },
    {
      "cell_type": "code",
      "source": [
        "previsoes = knn_titanic.predict(X_titanic_teste)\n",
        "previsoes"
      ],
      "metadata": {
        "colab": {
          "base_uri": "https://localhost:8080/"
        },
        "id": "cre-ohYZzIJR",
        "outputId": "76abebfb-4104-418f-894d-b73111e6fe16"
      },
      "execution_count": 87,
      "outputs": [
        {
          "output_type": "execute_result",
          "data": {
            "text/plain": [
              "array([0, 0, 0, 1, 0, 0, 1, 1, 1, 1, 0, 1, 0, 1, 1, 1, 0, 0, 0, 1, 0, 1,\n",
              "       0, 0, 1, 1, 1, 1, 1, 0, 0, 1, 0, 0, 0, 0, 0, 0, 0, 0, 0, 0, 0, 0,\n",
              "       1, 0, 0, 1, 0, 0, 0, 0, 1, 0, 0, 0, 0, 0, 0, 0, 0, 0, 1, 0, 0, 1,\n",
              "       1, 0, 1, 1, 1, 1, 1, 0, 0, 1, 1, 1, 0, 0, 0, 0, 1, 0, 0, 1, 1, 0,\n",
              "       1, 0, 0, 0, 1, 1, 0, 0, 1, 0, 0, 0, 0, 0, 0, 0, 0, 0, 1, 0, 0, 1,\n",
              "       0, 1, 0, 1, 0, 1, 0, 1, 0, 1, 1, 0, 0, 0, 0, 0, 0, 0, 0, 0, 1, 0,\n",
              "       0, 0, 0, 0, 0, 0, 0, 0, 0, 1, 0, 1, 1, 1, 0, 1, 1, 0, 1, 0, 0, 0,\n",
              "       1, 0, 0, 0, 1, 1, 0, 0, 1, 0, 0, 0, 0, 0, 0, 0, 0, 1, 0, 0, 1, 0,\n",
              "       1, 0, 0])"
            ]
          },
          "metadata": {},
          "execution_count": 87
        }
      ]
    },
    {
      "cell_type": "code",
      "source": [
        "Y_titanic_teste"
      ],
      "metadata": {
        "colab": {
          "base_uri": "https://localhost:8080/"
        },
        "id": "frX7GO7UzL7i",
        "outputId": "cd04d837-6a34-4e77-e8e7-202b9cfe317c"
      },
      "execution_count": 88,
      "outputs": [
        {
          "output_type": "execute_result",
          "data": {
            "text/plain": [
              "array([0, 0, 0, 1, 1, 1, 1, 1, 1, 1, 0, 1, 0, 1, 1, 0, 0, 0, 0, 1, 0, 1,\n",
              "       0, 0, 0, 1, 0, 1, 1, 0, 0, 1, 0, 1, 0, 1, 0, 0, 0, 0, 1, 0, 0, 0,\n",
              "       1, 0, 0, 1, 0, 0, 1, 1, 1, 0, 1, 0, 0, 0, 0, 1, 0, 0, 1, 0, 1, 0,\n",
              "       1, 0, 1, 1, 1, 1, 0, 0, 0, 1, 0, 0, 0, 0, 0, 1, 0, 0, 0, 1, 1, 1,\n",
              "       1, 0, 0, 0, 1, 1, 0, 0, 1, 0, 0, 1, 0, 0, 0, 0, 0, 1, 1, 0, 0, 1,\n",
              "       0, 1, 1, 0, 1, 1, 1, 1, 0, 1, 1, 0, 0, 0, 0, 0, 0, 1, 0, 0, 0, 0,\n",
              "       0, 0, 0, 0, 0, 0, 0, 0, 0, 1, 0, 0, 1, 0, 0, 1, 1, 0, 0, 1, 0, 0,\n",
              "       1, 0, 0, 1, 0, 1, 0, 1, 1, 1, 0, 0, 0, 0, 0, 0, 0, 1, 0, 0, 1, 0,\n",
              "       1, 0, 0])"
            ]
          },
          "metadata": {},
          "execution_count": 88
        }
      ]
    },
    {
      "cell_type": "code",
      "source": [
        "accuracy_score(Y_titanic_teste, previsoes)"
      ],
      "metadata": {
        "colab": {
          "base_uri": "https://localhost:8080/"
        },
        "id": "lKTjGiJVzPe-",
        "outputId": "1784b2f7-0560-4219-f24e-5bc3b9163919"
      },
      "execution_count": 89,
      "outputs": [
        {
          "output_type": "execute_result",
          "data": {
            "text/plain": [
              "0.7988826815642458"
            ]
          },
          "metadata": {},
          "execution_count": 89
        }
      ]
    },
    {
      "cell_type": "code",
      "source": [
        "from yellowbrick.classifier import ConfusionMatrix\n",
        "\n",
        "cm = ConfusionMatrix(knn_titanic)\n",
        "cm.fit(X_titanic_treinamento, Y_titanic_treinamento)\n",
        "cm.score(X_titanic_teste, Y_titanic_teste)"
      ],
      "metadata": {
        "colab": {
          "base_uri": "https://localhost:8080/",
          "height": 361
        },
        "id": "v7FfVCsrzcH1",
        "outputId": "36a57db1-5792-4207-b62d-190e643255c4"
      },
      "execution_count": 90,
      "outputs": [
        {
          "output_type": "execute_result",
          "data": {
            "text/plain": [
              "0.7988826815642458"
            ]
          },
          "metadata": {},
          "execution_count": 90
        },
        {
          "output_type": "display_data",
          "data": {
            "text/plain": [
              "<Figure size 576x396 with 1 Axes>"
            ],
            "image/png": "[encoded data removed]"
          },
          "metadata": {}
        }
      ]
    },
    {
      "cell_type": "code",
      "source": [
        "print(classification_report(Y_titanic_teste, previsoes))"
      ],
      "metadata": {
        "colab": {
          "base_uri": "https://localhost:8080/"
        },
        "id": "2GEmRcY9zlGG",
        "outputId": "c82986de-21ed-48ce-987e-05a47f7e01c9"
      },
      "execution_count": 91,
      "outputs": [
        {
          "output_type": "stream",
          "name": "stdout",
          "text": [
            "              precision    recall  f1-score   support\n",
            "\n",
            "           0       0.81      0.87      0.84       110\n",
            "           1       0.77      0.68      0.72        69\n",
            "\n",
            "    accuracy                           0.80       179\n",
            "   macro avg       0.79      0.78      0.78       179\n",
            "weighted avg       0.80      0.80      0.80       179\n",
            "\n"
          ]
        }
      ]
    },
    {
      "cell_type": "markdown",
      "source": [
        "## **Regression Logistic**"
      ],
      "metadata": {
        "id": "G_akWwa7cE0C"
      }
    },
    {
      "cell_type": "code",
      "source": [
        "from sklearn.linear_model import LogisticRegression"
      ],
      "metadata": {
        "id": "48L1jqLhhtnE"
      },
      "execution_count": 92,
      "outputs": []
    },
    {
      "cell_type": "code",
      "source": [
        "titanic_logistic = LogisticRegression(random_state = 1)\n",
        "titanic_logistic.fit(X_titanic_treinamento, Y_titanic_treinamento)"
      ],
      "metadata": {
        "colab": {
          "base_uri": "https://localhost:8080/"
        },
        "id": "vn0k_BD9hyRZ",
        "outputId": "93f767e0-1c4e-4ab7-b76c-42edf1e5d555"
      },
      "execution_count": 93,
      "outputs": [
        {
          "output_type": "execute_result",
          "data": {
            "text/plain": [
              "LogisticRegression(random_state=1)"
            ]
          },
          "metadata": {},
          "execution_count": 93
        }
      ]
    },
    {
      "cell_type": "code",
      "source": [
        "titanic_logistic.intercept_"
      ],
      "metadata": {
        "colab": {
          "base_uri": "https://localhost:8080/"
        },
        "id": "3o6WJ9X7iA5s",
        "outputId": "f36ec983-30c4-48ad-bcf8-3a8cab80daa6"
      },
      "execution_count": 94,
      "outputs": [
        {
          "output_type": "execute_result",
          "data": {
            "text/plain": [
              "array([3.12547371])"
            ]
          },
          "metadata": {},
          "execution_count": 94
        }
      ]
    },
    {
      "cell_type": "code",
      "source": [
        "titanic_logistic.coef_"
      ],
      "metadata": {
        "colab": {
          "base_uri": "https://localhost:8080/"
        },
        "id": "djv-sQ_TiGvo",
        "outputId": "8aac70a3-7f20-4865-8e83-95c77602ad7d"
      },
      "execution_count": 95,
      "outputs": [
        {
          "output_type": "execute_result",
          "data": {
            "text/plain": [
              "array([[-1.82449744, -2.52667916, -2.1517288 , -1.6064496 , -0.37265074,\n",
              "         0.53229623]])"
            ]
          },
          "metadata": {},
          "execution_count": 95
        }
      ]
    },
    {
      "cell_type": "code",
      "source": [
        "previsoes = titanic_logistic.predict(X_titanic_teste)\n",
        "previsoes"
      ],
      "metadata": {
        "colab": {
          "base_uri": "https://localhost:8080/"
        },
        "id": "9iyXImA3iUZ9",
        "outputId": "c97788c6-ed18-4319-f4f1-64fb313b1f1b"
      },
      "execution_count": 96,
      "outputs": [
        {
          "output_type": "execute_result",
          "data": {
            "text/plain": [
              "array([0, 0, 0, 1, 1, 0, 1, 1, 0, 1, 0, 1, 0, 1, 1, 1, 0, 0, 0, 0, 0, 1,\n",
              "       0, 0, 1, 1, 0, 1, 1, 1, 0, 1, 0, 0, 0, 0, 0, 0, 0, 0, 0, 0, 0, 0,\n",
              "       1, 0, 0, 1, 0, 0, 0, 0, 1, 0, 0, 0, 0, 1, 0, 0, 0, 1, 1, 0, 1, 0,\n",
              "       1, 0, 1, 1, 1, 0, 0, 0, 0, 1, 0, 0, 0, 0, 0, 0, 1, 0, 0, 1, 1, 0,\n",
              "       1, 1, 0, 0, 0, 1, 1, 0, 1, 0, 0, 0, 0, 0, 0, 0, 1, 1, 1, 0, 0, 1,\n",
              "       0, 1, 0, 1, 0, 1, 1, 1, 0, 1, 0, 0, 0, 0, 0, 0, 0, 0, 0, 0, 1, 0,\n",
              "       0, 1, 0, 0, 0, 1, 0, 0, 0, 1, 0, 1, 1, 1, 0, 1, 1, 0, 0, 1, 1, 0,\n",
              "       1, 0, 1, 0, 1, 1, 0, 0, 1, 0, 0, 0, 0, 0, 0, 0, 0, 1, 0, 0, 1, 0,\n",
              "       1, 0, 0])"
            ]
          },
          "metadata": {},
          "execution_count": 96
        }
      ]
    },
    {
      "cell_type": "code",
      "source": [
        "Y_titanic_teste"
      ],
      "metadata": {
        "colab": {
          "base_uri": "https://localhost:8080/"
        },
        "id": "L7_ziqTPiZpz",
        "outputId": "5ae1f36f-75cb-4711-ee3b-40963439e35d"
      },
      "execution_count": 97,
      "outputs": [
        {
          "output_type": "execute_result",
          "data": {
            "text/plain": [
              "array([0, 0, 0, 1, 1, 1, 1, 1, 1, 1, 0, 1, 0, 1, 1, 0, 0, 0, 0, 1, 0, 1,\n",
              "       0, 0, 0, 1, 0, 1, 1, 0, 0, 1, 0, 1, 0, 1, 0, 0, 0, 0, 1, 0, 0, 0,\n",
              "       1, 0, 0, 1, 0, 0, 1, 1, 1, 0, 1, 0, 0, 0, 0, 1, 0, 0, 1, 0, 1, 0,\n",
              "       1, 0, 1, 1, 1, 1, 0, 0, 0, 1, 0, 0, 0, 0, 0, 1, 0, 0, 0, 1, 1, 1,\n",
              "       1, 0, 0, 0, 1, 1, 0, 0, 1, 0, 0, 1, 0, 0, 0, 0, 0, 1, 1, 0, 0, 1,\n",
              "       0, 1, 1, 0, 1, 1, 1, 1, 0, 1, 1, 0, 0, 0, 0, 0, 0, 1, 0, 0, 0, 0,\n",
              "       0, 0, 0, 0, 0, 0, 0, 0, 0, 1, 0, 0, 1, 0, 0, 1, 1, 0, 0, 1, 0, 0,\n",
              "       1, 0, 0, 1, 0, 1, 0, 1, 1, 1, 0, 0, 0, 0, 0, 0, 0, 1, 0, 0, 1, 0,\n",
              "       1, 0, 0])"
            ]
          },
          "metadata": {},
          "execution_count": 97
        }
      ]
    },
    {
      "cell_type": "code",
      "source": [
        "accuracy_score(Y_titanic_teste, previsoes)"
      ],
      "metadata": {
        "colab": {
          "base_uri": "https://localhost:8080/"
        },
        "id": "Bd-0fwgsihnk",
        "outputId": "c94fcd04-d8d0-46af-e93d-1cf109b6d271"
      },
      "execution_count": 98,
      "outputs": [
        {
          "output_type": "execute_result",
          "data": {
            "text/plain": [
              "0.776536312849162"
            ]
          },
          "metadata": {},
          "execution_count": 98
        }
      ]
    },
    {
      "cell_type": "code",
      "source": [
        "print(classification_report(Y_titanic_teste, previsoes))"
      ],
      "metadata": {
        "colab": {
          "base_uri": "https://localhost:8080/"
        },
        "id": "bvBEwdSditIe",
        "outputId": "045af980-f726-4941-9374-90d1db43d893"
      },
      "execution_count": 99,
      "outputs": [
        {
          "output_type": "stream",
          "name": "stdout",
          "text": [
            "              precision    recall  f1-score   support\n",
            "\n",
            "           0       0.81      0.84      0.82       110\n",
            "           1       0.72      0.68      0.70        69\n",
            "\n",
            "    accuracy                           0.78       179\n",
            "   macro avg       0.77      0.76      0.76       179\n",
            "weighted avg       0.77      0.78      0.78       179\n",
            "\n"
          ]
        }
      ]
    },
    {
      "cell_type": "markdown",
      "source": [
        "## **SVC**"
      ],
      "metadata": {
        "id": "L9H24EiQcORT"
      }
    },
    {
      "cell_type": "code",
      "source": [
        "from sklearn.svm import SVC"
      ],
      "metadata": {
        "id": "mQPC7mPRi0fY"
      },
      "execution_count": 100,
      "outputs": []
    },
    {
      "cell_type": "code",
      "source": [
        "svm_titanic = SVC(kernel='linear', random_state=1)\n",
        "svm_titanic.fit(X_titanic_treinamento, Y_titanic_treinamento)"
      ],
      "metadata": {
        "colab": {
          "base_uri": "https://localhost:8080/"
        },
        "id": "w09p5k1Ki64N",
        "outputId": "4c2db3df-1273-4a46-b1dd-2fed24f545da"
      },
      "execution_count": 101,
      "outputs": [
        {
          "output_type": "execute_result",
          "data": {
            "text/plain": [
              "SVC(kernel='linear', random_state=1)"
            ]
          },
          "metadata": {},
          "execution_count": 101
        }
      ]
    },
    {
      "cell_type": "code",
      "source": [
        "previsoes = svm_titanic.predict(X_titanic_teste)\n",
        "previsoes"
      ],
      "metadata": {
        "colab": {
          "base_uri": "https://localhost:8080/"
        },
        "id": "vZz2W4vIjGRk",
        "outputId": "72495a56-f687-467b-bcd4-d5c3f13be574"
      },
      "execution_count": 102,
      "outputs": [
        {
          "output_type": "execute_result",
          "data": {
            "text/plain": [
              "array([0, 0, 0, 1, 1, 0, 1, 1, 0, 1, 0, 1, 0, 1, 1, 1, 0, 0, 0, 0, 0, 1,\n",
              "       0, 0, 1, 1, 0, 1, 1, 1, 0, 1, 0, 0, 0, 0, 0, 0, 0, 0, 0, 0, 0, 0,\n",
              "       1, 0, 0, 1, 0, 0, 0, 0, 1, 0, 0, 0, 0, 1, 0, 0, 0, 1, 1, 0, 1, 0,\n",
              "       1, 0, 1, 1, 1, 0, 0, 0, 0, 1, 0, 0, 0, 0, 0, 0, 1, 0, 0, 1, 1, 1,\n",
              "       1, 0, 0, 0, 0, 1, 1, 0, 1, 0, 0, 0, 0, 0, 0, 0, 1, 1, 1, 1, 0, 1,\n",
              "       0, 1, 0, 1, 0, 1, 1, 1, 0, 1, 0, 0, 0, 0, 0, 0, 0, 0, 0, 0, 1, 0,\n",
              "       0, 1, 0, 0, 0, 1, 0, 0, 0, 1, 0, 1, 1, 1, 0, 1, 1, 0, 0, 1, 1, 0,\n",
              "       1, 0, 1, 0, 1, 1, 0, 0, 1, 1, 0, 0, 0, 0, 0, 0, 0, 1, 0, 0, 1, 0,\n",
              "       1, 0, 0])"
            ]
          },
          "metadata": {},
          "execution_count": 102
        }
      ]
    },
    {
      "cell_type": "code",
      "source": [
        "Y_titanic_teste"
      ],
      "metadata": {
        "colab": {
          "base_uri": "https://localhost:8080/"
        },
        "id": "L90jI_kOjLy8",
        "outputId": "70ce403f-a591-4b1e-c910-cdec8f2815fd"
      },
      "execution_count": 103,
      "outputs": [
        {
          "output_type": "execute_result",
          "data": {
            "text/plain": [
              "array([0, 0, 0, 1, 1, 1, 1, 1, 1, 1, 0, 1, 0, 1, 1, 0, 0, 0, 0, 1, 0, 1,\n",
              "       0, 0, 0, 1, 0, 1, 1, 0, 0, 1, 0, 1, 0, 1, 0, 0, 0, 0, 1, 0, 0, 0,\n",
              "       1, 0, 0, 1, 0, 0, 1, 1, 1, 0, 1, 0, 0, 0, 0, 1, 0, 0, 1, 0, 1, 0,\n",
              "       1, 0, 1, 1, 1, 1, 0, 0, 0, 1, 0, 0, 0, 0, 0, 1, 0, 0, 0, 1, 1, 1,\n",
              "       1, 0, 0, 0, 1, 1, 0, 0, 1, 0, 0, 1, 0, 0, 0, 0, 0, 1, 1, 0, 0, 1,\n",
              "       0, 1, 1, 0, 1, 1, 1, 1, 0, 1, 1, 0, 0, 0, 0, 0, 0, 1, 0, 0, 0, 0,\n",
              "       0, 0, 0, 0, 0, 0, 0, 0, 0, 1, 0, 0, 1, 0, 0, 1, 1, 0, 0, 1, 0, 0,\n",
              "       1, 0, 0, 1, 0, 1, 0, 1, 1, 1, 0, 0, 0, 0, 0, 0, 0, 1, 0, 0, 1, 0,\n",
              "       1, 0, 0])"
            ]
          },
          "metadata": {},
          "execution_count": 103
        }
      ]
    },
    {
      "cell_type": "code",
      "source": [
        "accuracy_score(Y_titanic_teste, previsoes)"
      ],
      "metadata": {
        "colab": {
          "base_uri": "https://localhost:8080/"
        },
        "id": "6MLbSstCjUPk",
        "outputId": "7f89bd55-bd4e-4725-c647-3b2dcc645c57"
      },
      "execution_count": 104,
      "outputs": [
        {
          "output_type": "execute_result",
          "data": {
            "text/plain": [
              "0.7877094972067039"
            ]
          },
          "metadata": {},
          "execution_count": 104
        }
      ]
    },
    {
      "cell_type": "markdown",
      "source": [
        "## **Decision Criterion**"
      ],
      "metadata": {
        "id": "B7GEGJk2cm_a"
      }
    },
    {
      "cell_type": "code",
      "source": [
        "from sklearn.model_selection import GridSearchCV\n",
        "from sklearn.tree import DecisionTreeClassifier\n",
        "from sklearn.ensemble import RandomForestClassifier\n",
        "from sklearn.neighbors import KNeighborsClassifier\n",
        "from sklearn.linear_model import LogisticRegression\n",
        "from sklearn.svm import SVC\n",
        "from sklearn.neural_network import MLPClassifier"
      ],
      "metadata": {
        "id": "_4p3qsPVA-70"
      },
      "execution_count": 105,
      "outputs": []
    },
    {
      "cell_type": "code",
      "source": [
        "X_titanic = np.concatenate((X_titanic_treinamento, X_titanic_teste), axis = 0)"
      ],
      "metadata": {
        "id": "4T7Ylxz_BKMK"
      },
      "execution_count": 106,
      "outputs": []
    },
    {
      "cell_type": "code",
      "source": [
        "Y_titanic = np.concatenate((Y_titanic_treinamento, Y_titanic_teste), axis = 0)"
      ],
      "metadata": {
        "id": "TEwCFok9BVao"
      },
      "execution_count": 107,
      "outputs": []
    },
    {
      "cell_type": "code",
      "source": [
        "parametros = {'criterion': ['gini', 'entropy'],\n",
        "              'n_estimators': [10, 40, 100, 150],\n",
        "              'min_samples_split': [2, 5, 10],\n",
        "              'min_samples_leaf': [1, 5, 10]}"
      ],
      "metadata": {
        "id": "5TZhbPH1Emqh"
      },
      "execution_count": 108,
      "outputs": []
    },
    {
      "cell_type": "code",
      "source": [
        "grid_search = GridSearchCV(estimator=RandomForestClassifier(), param_grid=parametros)\n",
        "grid_search.fit(X_titanic, Y_titanic)\n",
        "melhores_parametros = grid_search.best_params_\n",
        "melhor_resultado = grid_search.best_score_\n",
        "print(melhores_parametros)\n",
        "print(melhor_resultado)"
      ],
      "metadata": {
        "colab": {
          "base_uri": "https://localhost:8080/"
        },
        "id": "1CtYSF5PEqKq",
        "outputId": "0ace4ab5-4c47-4f53-af6f-b8d7d37c14ee"
      },
      "execution_count": 109,
      "outputs": [
        {
          "output_type": "stream",
          "name": "stdout",
          "text": [
            "{'criterion': 'gini', 'min_samples_leaf': 1, 'min_samples_split': 10, 'n_estimators': 10}\n",
            "0.833921285543908\n"
          ]
        }
      ]
    },
    {
      "cell_type": "code",
      "source": [
        "parametros = {'n_neighbors': [3, 5, 10, 20],\n",
        "              'p': [1, 2]}"
      ],
      "metadata": {
        "id": "NK802II4DYXs"
      },
      "execution_count": 110,
      "outputs": []
    },
    {
      "cell_type": "code",
      "source": [
        "grid_search = GridSearchCV(estimator=KNeighborsClassifier(), param_grid=parametros)\n",
        "grid_search.fit(X_titanic, Y_titanic)\n",
        "melhores_parametros = grid_search.best_params_\n",
        "melhor_resultado = grid_search.best_score_\n",
        "print(melhores_parametros)\n",
        "print(melhor_resultado)"
      ],
      "metadata": {
        "colab": {
          "base_uri": "https://localhost:8080/"
        },
        "id": "Vjc6-AmVDbC4",
        "outputId": "7f5fd0fc-d5f3-4c80-c3b2-2e1450998b4a"
      },
      "execution_count": 111,
      "outputs": [
        {
          "output_type": "stream",
          "name": "stdout",
          "text": [
            "{'n_neighbors': 10, 'p': 1}\n",
            "0.8081036971941498\n"
          ]
        }
      ]
    },
    {
      "cell_type": "code",
      "source": [
        "parametros = {'tol': [0.0001, 0.00001, 0.000001],\n",
        "              'C': [1.0, 1.5, 2.0],\n",
        "              'solver': ['lbfgs', 'sag', 'saga']}"
      ],
      "metadata": {
        "id": "sga3UdxBDuGa"
      },
      "execution_count": 112,
      "outputs": []
    },
    {
      "cell_type": "code",
      "source": [
        "grid_search = GridSearchCV(estimator=LogisticRegression(), param_grid=parametros)\n",
        "grid_search.fit(X_titanic, Y_titanic)\n",
        "melhores_parametros = grid_search.best_params_\n",
        "melhor_resultado = grid_search.best_score_\n",
        "print(melhores_parametros)\n",
        "print(melhor_resultado)"
      ],
      "metadata": {
        "colab": {
          "base_uri": "https://localhost:8080/"
        },
        "id": "1HiRDieSEAks",
        "outputId": "5ee1e22c-7a63-4532-ffe4-92c33eff81cb"
      },
      "execution_count": 113,
      "outputs": [
        {
          "output_type": "stream",
          "name": "stdout",
          "text": [
            "{'C': 1.5, 'solver': 'lbfgs', 'tol': 0.0001}\n",
            "0.7979976147134519\n"
          ]
        }
      ]
    },
    {
      "cell_type": "code",
      "source": [
        "parametros = {'tol': [0.001, 0.0001, 0.00001],\n",
        "              'C': [1.0, 1.5, 2.0],\n",
        "              'kernel': ['rbf', 'linear', 'poly', 'sigmoid']}"
      ],
      "metadata": {
        "id": "gKsiNwPNETJX"
      },
      "execution_count": 114,
      "outputs": []
    },
    {
      "cell_type": "code",
      "source": [
        "grid_search = GridSearchCV(estimator=SVC(), param_grid=parametros)\n",
        "grid_search.fit(X_titanic, Y_titanic)\n",
        "melhores_parametros = grid_search.best_params_\n",
        "melhor_resultado = grid_search.best_score_\n",
        "print(melhores_parametros)\n",
        "print(melhor_resultado)"
      ],
      "metadata": {
        "colab": {
          "base_uri": "https://localhost:8080/"
        },
        "id": "ZJqD9JFfEXNm",
        "outputId": "e5828bd0-9184-44d1-9577-d0ba3cceb40d"
      },
      "execution_count": 115,
      "outputs": [
        {
          "output_type": "stream",
          "name": "stdout",
          "text": [
            "{'C': 2.0, 'kernel': 'poly', 'tol': 0.001}\n",
            "0.8181972255351202\n"
          ]
        }
      ]
    },
    {
      "cell_type": "code",
      "source": [
        "parametros = {'activation': ['relu', 'logistic', 'identity'],\n",
        "              'solver': ['adam', 'sgd'],\n",
        "              'batch_size': [10, 56]}"
      ],
      "metadata": {
        "id": "dmGwKFDlFGBA"
      },
      "execution_count": 116,
      "outputs": []
    },
    {
      "cell_type": "code",
      "source": [
        "grid_search = GridSearchCV(estimator=MLPClassifier(), param_grid=parametros)\n",
        "grid_search.fit(X_titanic, Y_titanic)\n",
        "melhores_parametros = grid_search.best_params_\n",
        "melhor_resultado = grid_search.best_score_"
      ],
      "metadata": {
        "colab": {
          "base_uri": "https://localhost:8080/"
        },
        "id": "TD3RCKjkFJk4",
        "outputId": "4eb26d21-2158-48d0-b30c-a7cfb5ed7553"
      },
      "execution_count": 117,
      "outputs": [
        {
          "output_type": "stream",
          "name": "stderr",
          "text": [
            "/usr/local/lib/python3.7/dist-packages/sklearn/neural_network/_multilayer_perceptron.py:696: ConvergenceWarning: Stochastic Optimizer: Maximum iterations (200) reached and the optimization hasn't converged yet.\n",
            "  ConvergenceWarning,\n",
            "/usr/local/lib/python3.7/dist-packages/sklearn/neural_network/_multilayer_perceptron.py:696: ConvergenceWarning: Stochastic Optimizer: Maximum iterations (200) reached and the optimization hasn't converged yet.\n",
            "  ConvergenceWarning,\n",
            "/usr/local/lib/python3.7/dist-packages/sklearn/neural_network/_multilayer_perceptron.py:696: ConvergenceWarning: Stochastic Optimizer: Maximum iterations (200) reached and the optimization hasn't converged yet.\n",
            "  ConvergenceWarning,\n",
            "/usr/local/lib/python3.7/dist-packages/sklearn/neural_network/_multilayer_perceptron.py:696: ConvergenceWarning: Stochastic Optimizer: Maximum iterations (200) reached and the optimization hasn't converged yet.\n",
            "  ConvergenceWarning,\n",
            "/usr/local/lib/python3.7/dist-packages/sklearn/neural_network/_multilayer_perceptron.py:696: ConvergenceWarning: Stochastic Optimizer: Maximum iterations (200) reached and the optimization hasn't converged yet.\n",
            "  ConvergenceWarning,\n",
            "/usr/local/lib/python3.7/dist-packages/sklearn/neural_network/_multilayer_perceptron.py:696: ConvergenceWarning: Stochastic Optimizer: Maximum iterations (200) reached and the optimization hasn't converged yet.\n",
            "  ConvergenceWarning,\n",
            "/usr/local/lib/python3.7/dist-packages/sklearn/neural_network/_multilayer_perceptron.py:696: ConvergenceWarning: Stochastic Optimizer: Maximum iterations (200) reached and the optimization hasn't converged yet.\n",
            "  ConvergenceWarning,\n",
            "/usr/local/lib/python3.7/dist-packages/sklearn/neural_network/_multilayer_perceptron.py:696: ConvergenceWarning: Stochastic Optimizer: Maximum iterations (200) reached and the optimization hasn't converged yet.\n",
            "  ConvergenceWarning,\n",
            "/usr/local/lib/python3.7/dist-packages/sklearn/neural_network/_multilayer_perceptron.py:696: ConvergenceWarning: Stochastic Optimizer: Maximum iterations (200) reached and the optimization hasn't converged yet.\n",
            "  ConvergenceWarning,\n",
            "/usr/local/lib/python3.7/dist-packages/sklearn/neural_network/_multilayer_perceptron.py:696: ConvergenceWarning: Stochastic Optimizer: Maximum iterations (200) reached and the optimization hasn't converged yet.\n",
            "  ConvergenceWarning,\n",
            "/usr/local/lib/python3.7/dist-packages/sklearn/neural_network/_multilayer_perceptron.py:696: ConvergenceWarning: Stochastic Optimizer: Maximum iterations (200) reached and the optimization hasn't converged yet.\n",
            "  ConvergenceWarning,\n",
            "/usr/local/lib/python3.7/dist-packages/sklearn/neural_network/_multilayer_perceptron.py:696: ConvergenceWarning: Stochastic Optimizer: Maximum iterations (200) reached and the optimization hasn't converged yet.\n",
            "  ConvergenceWarning,\n",
            "/usr/local/lib/python3.7/dist-packages/sklearn/neural_network/_multilayer_perceptron.py:696: ConvergenceWarning: Stochastic Optimizer: Maximum iterations (200) reached and the optimization hasn't converged yet.\n",
            "  ConvergenceWarning,\n",
            "/usr/local/lib/python3.7/dist-packages/sklearn/neural_network/_multilayer_perceptron.py:696: ConvergenceWarning: Stochastic Optimizer: Maximum iterations (200) reached and the optimization hasn't converged yet.\n",
            "  ConvergenceWarning,\n",
            "/usr/local/lib/python3.7/dist-packages/sklearn/neural_network/_multilayer_perceptron.py:696: ConvergenceWarning: Stochastic Optimizer: Maximum iterations (200) reached and the optimization hasn't converged yet.\n",
            "  ConvergenceWarning,\n",
            "/usr/local/lib/python3.7/dist-packages/sklearn/neural_network/_multilayer_perceptron.py:696: ConvergenceWarning: Stochastic Optimizer: Maximum iterations (200) reached and the optimization hasn't converged yet.\n",
            "  ConvergenceWarning,\n",
            "/usr/local/lib/python3.7/dist-packages/sklearn/neural_network/_multilayer_perceptron.py:696: ConvergenceWarning: Stochastic Optimizer: Maximum iterations (200) reached and the optimization hasn't converged yet.\n",
            "  ConvergenceWarning,\n",
            "/usr/local/lib/python3.7/dist-packages/sklearn/neural_network/_multilayer_perceptron.py:696: ConvergenceWarning: Stochastic Optimizer: Maximum iterations (200) reached and the optimization hasn't converged yet.\n",
            "  ConvergenceWarning,\n",
            "/usr/local/lib/python3.7/dist-packages/sklearn/neural_network/_multilayer_perceptron.py:696: ConvergenceWarning: Stochastic Optimizer: Maximum iterations (200) reached and the optimization hasn't converged yet.\n",
            "  ConvergenceWarning,\n",
            "/usr/local/lib/python3.7/dist-packages/sklearn/neural_network/_multilayer_perceptron.py:696: ConvergenceWarning: Stochastic Optimizer: Maximum iterations (200) reached and the optimization hasn't converged yet.\n",
            "  ConvergenceWarning,\n",
            "/usr/local/lib/python3.7/dist-packages/sklearn/neural_network/_multilayer_perceptron.py:696: ConvergenceWarning: Stochastic Optimizer: Maximum iterations (200) reached and the optimization hasn't converged yet.\n",
            "  ConvergenceWarning,\n",
            "/usr/local/lib/python3.7/dist-packages/sklearn/neural_network/_multilayer_perceptron.py:696: ConvergenceWarning: Stochastic Optimizer: Maximum iterations (200) reached and the optimization hasn't converged yet.\n",
            "  ConvergenceWarning,\n",
            "/usr/local/lib/python3.7/dist-packages/sklearn/neural_network/_multilayer_perceptron.py:696: ConvergenceWarning: Stochastic Optimizer: Maximum iterations (200) reached and the optimization hasn't converged yet.\n",
            "  ConvergenceWarning,\n",
            "/usr/local/lib/python3.7/dist-packages/sklearn/neural_network/_multilayer_perceptron.py:696: ConvergenceWarning: Stochastic Optimizer: Maximum iterations (200) reached and the optimization hasn't converged yet.\n",
            "  ConvergenceWarning,\n",
            "/usr/local/lib/python3.7/dist-packages/sklearn/neural_network/_multilayer_perceptron.py:696: ConvergenceWarning: Stochastic Optimizer: Maximum iterations (200) reached and the optimization hasn't converged yet.\n",
            "  ConvergenceWarning,\n",
            "/usr/local/lib/python3.7/dist-packages/sklearn/neural_network/_multilayer_perceptron.py:696: ConvergenceWarning: Stochastic Optimizer: Maximum iterations (200) reached and the optimization hasn't converged yet.\n",
            "  ConvergenceWarning,\n",
            "/usr/local/lib/python3.7/dist-packages/sklearn/neural_network/_multilayer_perceptron.py:696: ConvergenceWarning: Stochastic Optimizer: Maximum iterations (200) reached and the optimization hasn't converged yet.\n",
            "  ConvergenceWarning,\n",
            "/usr/local/lib/python3.7/dist-packages/sklearn/neural_network/_multilayer_perceptron.py:696: ConvergenceWarning: Stochastic Optimizer: Maximum iterations (200) reached and the optimization hasn't converged yet.\n",
            "  ConvergenceWarning,\n",
            "/usr/local/lib/python3.7/dist-packages/sklearn/neural_network/_multilayer_perceptron.py:696: ConvergenceWarning: Stochastic Optimizer: Maximum iterations (200) reached and the optimization hasn't converged yet.\n",
            "  ConvergenceWarning,\n",
            "/usr/local/lib/python3.7/dist-packages/sklearn/neural_network/_multilayer_perceptron.py:696: ConvergenceWarning: Stochastic Optimizer: Maximum iterations (200) reached and the optimization hasn't converged yet.\n",
            "  ConvergenceWarning,\n",
            "/usr/local/lib/python3.7/dist-packages/sklearn/neural_network/_multilayer_perceptron.py:696: ConvergenceWarning: Stochastic Optimizer: Maximum iterations (200) reached and the optimization hasn't converged yet.\n",
            "  ConvergenceWarning,\n"
          ]
        }
      ]
    },
    {
      "cell_type": "code",
      "source": [
        "from sklearn.model_selection import cross_val_score, KFold"
      ],
      "metadata": {
        "id": "Qr_cDSeBI78c"
      },
      "execution_count": 118,
      "outputs": []
    },
    {
      "cell_type": "code",
      "source": [
        ""
      ],
      "metadata": {
        "id": "3NFWjf9fJTRz"
      },
      "execution_count": null,
      "outputs": []
    },
    {
      "cell_type": "code",
      "source": [
        "resultados_random_forest = []\n",
        "resultados_knn = []\n",
        "resultados_logistica = []\n",
        "resultados_svm = []\n",
        "\n",
        "\n",
        "for i in range(30):\n",
        "  print(i)\n",
        "  kfold = KFold(n_splits=10, shuffle=True, random_state=i)\n",
        "\n",
        "  random_forest = RandomForestClassifier(criterion= 'gini', min_samples_leaf= 1, min_samples_split= 10, n_estimators= 100)\n",
        "  scores = cross_val_score(random_forest, X_titanic, Y_titanic, cv = kfold)\n",
        "  resultados_random_forest.append(scores.mean())\n",
        "\n",
        "  knn = KNeighborsClassifier(n_neighbors= 5, p= 1)\n",
        "  scores = cross_val_score(knn, X_titanic, Y_titanic, cv = kfold)\n",
        "  resultados_knn.append(scores.mean())\n",
        "\n",
        "  logistica = LogisticRegression(C= 1.0, solver= 'lbfgs', tol= 0.0001)\n",
        "  scores = cross_val_score(logistica, X_titanic, Y_titanic, cv = kfold)\n",
        "  resultados_logistica.append(scores.mean())\n",
        "  \n",
        "  svm = SVC(C= 2.0, kernel= 'poly', tol= 0.001)\n",
        "  scores = cross_val_score(svm, X_titanic, Y_titanic, cv = kfold)\n",
        "  resultados_svm.append(scores.mean())\n"
      ],
      "metadata": {
        "id": "DvdfGrtNJZTx",
        "colab": {
          "base_uri": "https://localhost:8080/"
        },
        "outputId": "89efb9b6-825f-4865-ec1c-f977b303e5f2"
      },
      "execution_count": 119,
      "outputs": [
        {
          "output_type": "stream",
          "name": "stdout",
          "text": [
            "0\n",
            "1\n",
            "2\n",
            "3\n",
            "4\n",
            "5\n",
            "6\n",
            "7\n",
            "8\n",
            "9\n",
            "10\n",
            "11\n",
            "12\n",
            "13\n",
            "14\n",
            "15\n",
            "16\n",
            "17\n",
            "18\n",
            "19\n",
            "20\n",
            "21\n",
            "22\n",
            "23\n",
            "24\n",
            "25\n",
            "26\n",
            "27\n",
            "28\n",
            "29\n"
          ]
        }
      ]
    },
    {
      "cell_type": "code",
      "source": [
        "resultados = pd.DataFrame({'Random forest': resultados_random_forest,\n",
        "                           'KNN': resultados_knn, 'Logistica': resultados_logistica,\n",
        "                           'SVM': resultados_svm})"
      ],
      "metadata": {
        "id": "saoM1M2uOvGu"
      },
      "execution_count": 120,
      "outputs": []
    },
    {
      "cell_type": "code",
      "source": [
        "resultados"
      ],
      "metadata": {
        "colab": {
          "base_uri": "https://localhost:8080/",
          "height": 990
        },
        "id": "25U9rzgyRnYP",
        "outputId": "e2c8dc10-b9fb-414e-8d10-8f875f7c82f3"
      },
      "execution_count": 121,
      "outputs": [
        {
          "output_type": "execute_result",
          "data": {
            "text/plain": [
              "    Random forest       KNN  Logistica       SVM\n",
              "0        0.838439  0.810362   0.797940  0.819301\n",
              "1        0.817066  0.811448   0.795680  0.819263\n",
              "2        0.828252  0.811411   0.800150  0.815868\n",
              "3        0.826080  0.812584   0.797990  0.819301\n",
              "4        0.820487  0.819351   0.794682  0.818277\n",
              "5        0.827054  0.820325   0.794594  0.814794\n",
              "6        0.829413  0.815968   0.798040  0.821536\n",
              "7        0.840599  0.813645   0.796841  0.821548\n",
              "8        0.822584  0.814732   0.795743  0.819276\n",
              "9        0.823720  0.817004   0.797965  0.818102\n",
              "10       0.830474  0.810275   0.795705  0.817016\n",
              "11       0.833895  0.821548   0.794619  0.818177\n",
              "12       0.826055  0.804732   0.795718  0.817066\n",
              "13       0.822709  0.813783   0.796879  0.817104\n",
              "14       0.833895  0.806966   0.793533  0.817066\n",
              "15       0.833820  0.806966   0.795730  0.819313\n",
              "16       0.837303  0.815943   0.797990  0.814831\n",
              "17       0.822697  0.801373   0.794594  0.813733\n",
              "18       0.835056  0.816005   0.796866  0.820449\n",
              "19       0.829463  0.817116   0.798040  0.821586\n",
              "20       0.831573  0.810237   0.801323  0.818127\n",
              "21       0.827191  0.804719   0.795718  0.812559\n",
              "22       0.827141  0.812522   0.795743  0.821573\n",
              "23       0.833945  0.814856   0.795818  0.814881\n",
              "24       0.834944  0.815868   0.799026  0.818127\n",
              "25       0.829426  0.811473   0.795743  0.821536\n",
              "26       0.826055  0.813645   0.795730  0.817066\n",
              "27       0.828277  0.808040   0.799076  0.812522\n",
              "28       0.832747  0.808065   0.795780  0.811448\n",
              "29       0.832797  0.812647   0.799114  0.819263"
            ],
            "text/html": [
              "\n",
              "  <div id=\"df-f9eb0586-a58a-4900-ab7c-a25b0f644cd5\">\n",
              "    <div class=\"colab-df-container\">\n",
              "      <div>\n",
              "<style scoped>\n",
              "    .dataframe tbody tr th:only-of-type {\n",
              "        vertical-align: middle;\n",
              "    }\n",
              "\n",
              "    .dataframe tbody tr th {\n",
              "        vertical-align: top;\n",
              "    }\n",
              "\n",
              "    .dataframe thead th {\n",
              "        text-align: right;\n",
              "    }\n",
              "</style>\n",
              "<table border=\"1\" class=\"dataframe\">\n",
              "  <thead>\n",
              "    <tr style=\"text-align: right;\">\n",
              "      <th></th>\n",
              "      <th>Random forest</th>\n",
              "      <th>KNN</th>\n",
              "      <th>Logistica</th>\n",
              "      <th>SVM</th>\n",
              "    </tr>\n",
              "  </thead>\n",
              "  <tbody>\n",
              "    <tr>\n",
              "      <th>0</th>\n",
              "      <td>0.838439</td>\n",
              "      <td>0.810362</td>\n",
              "      <td>0.797940</td>\n",
              "      <td>0.819301</td>\n",
              "    </tr>\n",
              "    <tr>\n",
              "      <th>1</th>\n",
              "      <td>0.817066</td>\n",
              "      <td>0.811448</td>\n",
              "      <td>0.795680</td>\n",
              "      <td>0.819263</td>\n",
              "    </tr>\n",
              "    <tr>\n",
              "      <th>2</th>\n",
              "      <td>0.828252</td>\n",
              "      <td>0.811411</td>\n",
              "      <td>0.800150</td>\n",
              "      <td>0.815868</td>\n",
              "    </tr>\n",
              "    <tr>\n",
              "      <th>3</th>\n",
              "      <td>0.826080</td>\n",
              "      <td>0.812584</td>\n",
              "      <td>0.797990</td>\n",
              "      <td>0.819301</td>\n",
              "    </tr>\n",
              "    <tr>\n",
              "      <th>4</th>\n",
              "      <td>0.820487</td>\n",
              "      <td>0.819351</td>\n",
              "      <td>0.794682</td>\n",
              "      <td>0.818277</td>\n",
              "    </tr>\n",
              "    <tr>\n",
              "      <th>5</th>\n",
              "      <td>0.827054</td>\n",
              "      <td>0.820325</td>\n",
              "      <td>0.794594</td>\n",
              "      <td>0.814794</td>\n",
              "    </tr>\n",
              "    <tr>\n",
              "      <th>6</th>\n",
              "      <td>0.829413</td>\n",
              "      <td>0.815968</td>\n",
              "      <td>0.798040</td>\n",
              "      <td>0.821536</td>\n",
              "    </tr>\n",
              "    <tr>\n",
              "      <th>7</th>\n",
              "      <td>0.840599</td>\n",
              "      <td>0.813645</td>\n",
              "      <td>0.796841</td>\n",
              "      <td>0.821548</td>\n",
              "    </tr>\n",
              "    <tr>\n",
              "      <th>8</th>\n",
              "      <td>0.822584</td>\n",
              "      <td>0.814732</td>\n",
              "      <td>0.795743</td>\n",
              "      <td>0.819276</td>\n",
              "    </tr>\n",
              "    <tr>\n",
              "      <th>9</th>\n",
              "      <td>0.823720</td>\n",
              "      <td>0.817004</td>\n",
              "      <td>0.797965</td>\n",
              "      <td>0.818102</td>\n",
              "    </tr>\n",
              "    <tr>\n",
              "      <th>10</th>\n",
              "      <td>0.830474</td>\n",
              "      <td>0.810275</td>\n",
              "      <td>0.795705</td>\n",
              "      <td>0.817016</td>\n",
              "    </tr>\n",
              "    <tr>\n",
              "      <th>11</th>\n",
              "      <td>0.833895</td>\n",
              "      <td>0.821548</td>\n",
              "      <td>0.794619</td>\n",
              "      <td>0.818177</td>\n",
              "    </tr>\n",
              "    <tr>\n",
              "      <th>12</th>\n",
              "      <td>0.826055</td>\n",
              "      <td>0.804732</td>\n",
              "      <td>0.795718</td>\n",
              "      <td>0.817066</td>\n",
              "    </tr>\n",
              "    <tr>\n",
              "      <th>13</th>\n",
              "      <td>0.822709</td>\n",
              "      <td>0.813783</td>\n",
              "      <td>0.796879</td>\n",
              "      <td>0.817104</td>\n",
              "    </tr>\n",
              "    <tr>\n",
              "      <th>14</th>\n",
              "      <td>0.833895</td>\n",
              "      <td>0.806966</td>\n",
              "      <td>0.793533</td>\n",
              "      <td>0.817066</td>\n",
              "    </tr>\n",
              "    <tr>\n",
              "      <th>15</th>\n",
              "      <td>0.833820</td>\n",
              "      <td>0.806966</td>\n",
              "      <td>0.795730</td>\n",
              "      <td>0.819313</td>\n",
              "    </tr>\n",
              "    <tr>\n",
              "      <th>16</th>\n",
              "      <td>0.837303</td>\n",
              "      <td>0.815943</td>\n",
              "      <td>0.797990</td>\n",
              "      <td>0.814831</td>\n",
              "    </tr>\n",
              "    <tr>\n",
              "      <th>17</th>\n",
              "      <td>0.822697</td>\n",
              "      <td>0.801373</td>\n",
              "      <td>0.794594</td>\n",
              "      <td>0.813733</td>\n",
              "    </tr>\n",
              "    <tr>\n",
              "      <th>18</th>\n",
              "      <td>0.835056</td>\n",
              "      <td>0.816005</td>\n",
              "      <td>0.796866</td>\n",
              "      <td>0.820449</td>\n",
              "    </tr>\n",
              "    <tr>\n",
              "      <th>19</th>\n",
              "      <td>0.829463</td>\n",
              "      <td>0.817116</td>\n",
              "      <td>0.798040</td>\n",
              "      <td>0.821586</td>\n",
              "    </tr>\n",
              "    <tr>\n",
              "      <th>20</th>\n",
              "      <td>0.831573</td>\n",
              "      <td>0.810237</td>\n",
              "      <td>0.801323</td>\n",
              "      <td>0.818127</td>\n",
              "    </tr>\n",
              "    <tr>\n",
              "      <th>21</th>\n",
              "      <td>0.827191</td>\n",
              "      <td>0.804719</td>\n",
              "      <td>0.795718</td>\n",
              "      <td>0.812559</td>\n",
              "    </tr>\n",
              "    <tr>\n",
              "      <th>22</th>\n",
              "      <td>0.827141</td>\n",
              "      <td>0.812522</td>\n",
              "      <td>0.795743</td>\n",
              "      <td>0.821573</td>\n",
              "    </tr>\n",
              "    <tr>\n",
              "      <th>23</th>\n",
              "      <td>0.833945</td>\n",
              "      <td>0.814856</td>\n",
              "      <td>0.795818</td>\n",
              "      <td>0.814881</td>\n",
              "    </tr>\n",
              "    <tr>\n",
              "      <th>24</th>\n",
              "      <td>0.834944</td>\n",
              "      <td>0.815868</td>\n",
              "      <td>0.799026</td>\n",
              "      <td>0.818127</td>\n",
              "    </tr>\n",
              "    <tr>\n",
              "      <th>25</th>\n",
              "      <td>0.829426</td>\n",
              "      <td>0.811473</td>\n",
              "      <td>0.795743</td>\n",
              "      <td>0.821536</td>\n",
              "    </tr>\n",
              "    <tr>\n",
              "      <th>26</th>\n",
              "      <td>0.826055</td>\n",
              "      <td>0.813645</td>\n",
              "      <td>0.795730</td>\n",
              "      <td>0.817066</td>\n",
              "    </tr>\n",
              "    <tr>\n",
              "      <th>27</th>\n",
              "      <td>0.828277</td>\n",
              "      <td>0.808040</td>\n",
              "      <td>0.799076</td>\n",
              "      <td>0.812522</td>\n",
              "    </tr>\n",
              "    <tr>\n",
              "      <th>28</th>\n",
              "      <td>0.832747</td>\n",
              "      <td>0.808065</td>\n",
              "      <td>0.795780</td>\n",
              "      <td>0.811448</td>\n",
              "    </tr>\n",
              "    <tr>\n",
              "      <th>29</th>\n",
              "      <td>0.832797</td>\n",
              "      <td>0.812647</td>\n",
              "      <td>0.799114</td>\n",
              "      <td>0.819263</td>\n",
              "    </tr>\n",
              "  </tbody>\n",
              "</table>\n",
              "</div>\n",
              "      <button class=\"colab-df-convert\" onclick=\"convertToInteractive('df-f9eb0586-a58a-4900-ab7c-a25b0f644cd5')\"\n",
              "              title=\"Convert this dataframe to an interactive table.\"\n",
              "              style=\"display:none;\">\n",
              "        \n",
              "  <svg xmlns=\"http://www.w3.org/2000/svg\" height=\"24px\"viewBox=\"0 0 24 24\"\n",
              "       width=\"24px\">\n",
              "    <path d=\"M0 0h24v24H0V0z\" fill=\"none\"/>\n",
              "    <path d=\"M18.56 5.44l.94 2.06.94-2.06 2.06-.94-2.06-.94-.94-2.06-.94 2.06-2.06.94zm-11 1L8.5 8.5l.94-2.06 2.06-.94-2.06-.94L8.5 2.5l-.94 2.06-2.06.94zm10 10l.94 2.06.94-2.06 2.06-.94-2.06-.94-.94-2.06-.94 2.06-2.06.94z\"/><path d=\"M17.41 7.96l-1.37-1.37c-.4-.4-.92-.59-1.43-.59-.52 0-1.04.2-1.43.59L10.3 9.45l-7.72 7.72c-.78.78-.78 2.05 0 2.83L4 21.41c.39.39.9.59 1.41.59.51 0 1.02-.2 1.41-.59l7.78-7.78 2.81-2.81c.8-.78.8-2.07 0-2.86zM5.41 20L4 18.59l7.72-7.72 1.47 1.35L5.41 20z\"/>\n",
              "  </svg>\n",
              "      </button>\n",
              "      \n",
              "  <style>\n",
              "    .colab-df-container {\n",
              "      display:flex;\n",
              "      flex-wrap:wrap;\n",
              "      gap: 12px;\n",
              "    }\n",
              "\n",
              "    .colab-df-convert {\n",
              "      background-color: #E8F0FE;\n",
              "      border: none;\n",
              "      border-radius: 50%;\n",
              "      cursor: pointer;\n",
              "      display: none;\n",
              "      fill: #1967D2;\n",
              "      height: 32px;\n",
              "      padding: 0 0 0 0;\n",
              "      width: 32px;\n",
              "    }\n",
              "\n",
              "    .colab-df-convert:hover {\n",
              "      background-color: #E2EBFA;\n",
              "      box-shadow: 0px 1px 2px rgba(60, 64, 67, 0.3), 0px 1px 3px 1px rgba(60, 64, 67, 0.15);\n",
              "      fill: #174EA6;\n",
              "    }\n",
              "\n",
              "    [theme=dark] .colab-df-convert {\n",
              "      background-color: #3B4455;\n",
              "      fill: #D2E3FC;\n",
              "    }\n",
              "\n",
              "    [theme=dark] .colab-df-convert:hover {\n",
              "      background-color: #434B5C;\n",
              "      box-shadow: 0px 1px 3px 1px rgba(0, 0, 0, 0.15);\n",
              "      filter: drop-shadow(0px 1px 2px rgba(0, 0, 0, 0.3));\n",
              "      fill: #FFFFFF;\n",
              "    }\n",
              "  </style>\n",
              "\n",
              "      <script>\n",
              "        const buttonEl =\n",
              "          document.querySelector('#df-f9eb0586-a58a-4900-ab7c-a25b0f644cd5 button.colab-df-convert');\n",
              "        buttonEl.style.display =\n",
              "          google.colab.kernel.accessAllowed ? 'block' : 'none';\n",
              "\n",
              "        async function convertToInteractive(key) {\n",
              "          const element = document.querySelector('#df-f9eb0586-a58a-4900-ab7c-a25b0f644cd5');\n",
              "          const dataTable =\n",
              "            await google.colab.kernel.invokeFunction('convertToInteractive',\n",
              "                                                     [key], {});\n",
              "          if (!dataTable) return;\n",
              "\n",
              "          const docLinkHtml = 'Like what you see? Visit the ' +\n",
              "            '<a target=\"_blank\" href=https://colab.research.google.com/notebooks/data_table.ipynb>data table notebook</a>'\n",
              "            + ' to learn more about interactive tables.';\n",
              "          element.innerHTML = '';\n",
              "          dataTable['output_type'] = 'display_data';\n",
              "          await google.colab.output.renderOutput(dataTable, element);\n",
              "          const docLink = document.createElement('div');\n",
              "          docLink.innerHTML = docLinkHtml;\n",
              "          element.appendChild(docLink);\n",
              "        }\n",
              "      </script>\n",
              "    </div>\n",
              "  </div>\n",
              "  "
            ]
          },
          "metadata": {},
          "execution_count": 121
        }
      ]
    },
    {
      "cell_type": "code",
      "source": [
        "resultados.describe()"
      ],
      "metadata": {
        "colab": {
          "base_uri": "https://localhost:8080/",
          "height": 300
        },
        "id": "kM5bsRNjN45P",
        "outputId": "da62dac5-918d-48c6-f0d6-4d5ad73e2041"
      },
      "execution_count": 122,
      "outputs": [
        {
          "output_type": "execute_result",
          "data": {
            "text/plain": [
              "       Random forest        KNN  Logistica        SVM\n",
              "count      30.000000  30.000000  30.000000  30.000000\n",
              "mean        0.829439   0.812454   0.796746   0.817690\n",
              "std         0.005549   0.004761   0.001836   0.002854\n",
              "min         0.817066   0.801373   0.793533   0.811448\n",
              "25%         0.826061   0.810247   0.795718   0.816155\n",
              "50%         0.829419   0.812615   0.795799   0.818127\n",
              "75%         0.833876   0.815924   0.797990   0.819301\n",
              "max         0.840599   0.821548   0.801323   0.821586"
            ],
            "text/html": [
              "\n",
              "  <div id=\"df-96d31c24-b80e-440b-bc34-01c12a32c7e2\">\n",
              "    <div class=\"colab-df-container\">\n",
              "      <div>\n",
              "<style scoped>\n",
              "    .dataframe tbody tr th:only-of-type {\n",
              "        vertical-align: middle;\n",
              "    }\n",
              "\n",
              "    .dataframe tbody tr th {\n",
              "        vertical-align: top;\n",
              "    }\n",
              "\n",
              "    .dataframe thead th {\n",
              "        text-align: right;\n",
              "    }\n",
              "</style>\n",
              "<table border=\"1\" class=\"dataframe\">\n",
              "  <thead>\n",
              "    <tr style=\"text-align: right;\">\n",
              "      <th></th>\n",
              "      <th>Random forest</th>\n",
              "      <th>KNN</th>\n",
              "      <th>Logistica</th>\n",
              "      <th>SVM</th>\n",
              "    </tr>\n",
              "  </thead>\n",
              "  <tbody>\n",
              "    <tr>\n",
              "      <th>count</th>\n",
              "      <td>30.000000</td>\n",
              "      <td>30.000000</td>\n",
              "      <td>30.000000</td>\n",
              "      <td>30.000000</td>\n",
              "    </tr>\n",
              "    <tr>\n",
              "      <th>mean</th>\n",
              "      <td>0.829439</td>\n",
              "      <td>0.812454</td>\n",
              "      <td>0.796746</td>\n",
              "      <td>0.817690</td>\n",
              "    </tr>\n",
              "    <tr>\n",
              "      <th>std</th>\n",
              "      <td>0.005549</td>\n",
              "      <td>0.004761</td>\n",
              "      <td>0.001836</td>\n",
              "      <td>0.002854</td>\n",
              "    </tr>\n",
              "    <tr>\n",
              "      <th>min</th>\n",
              "      <td>0.817066</td>\n",
              "      <td>0.801373</td>\n",
              "      <td>0.793533</td>\n",
              "      <td>0.811448</td>\n",
              "    </tr>\n",
              "    <tr>\n",
              "      <th>25%</th>\n",
              "      <td>0.826061</td>\n",
              "      <td>0.810247</td>\n",
              "      <td>0.795718</td>\n",
              "      <td>0.816155</td>\n",
              "    </tr>\n",
              "    <tr>\n",
              "      <th>50%</th>\n",
              "      <td>0.829419</td>\n",
              "      <td>0.812615</td>\n",
              "      <td>0.795799</td>\n",
              "      <td>0.818127</td>\n",
              "    </tr>\n",
              "    <tr>\n",
              "      <th>75%</th>\n",
              "      <td>0.833876</td>\n",
              "      <td>0.815924</td>\n",
              "      <td>0.797990</td>\n",
              "      <td>0.819301</td>\n",
              "    </tr>\n",
              "    <tr>\n",
              "      <th>max</th>\n",
              "      <td>0.840599</td>\n",
              "      <td>0.821548</td>\n",
              "      <td>0.801323</td>\n",
              "      <td>0.821586</td>\n",
              "    </tr>\n",
              "  </tbody>\n",
              "</table>\n",
              "</div>\n",
              "      <button class=\"colab-df-convert\" onclick=\"convertToInteractive('df-96d31c24-b80e-440b-bc34-01c12a32c7e2')\"\n",
              "              title=\"Convert this dataframe to an interactive table.\"\n",
              "              style=\"display:none;\">\n",
              "        \n",
              "  <svg xmlns=\"http://www.w3.org/2000/svg\" height=\"24px\"viewBox=\"0 0 24 24\"\n",
              "       width=\"24px\">\n",
              "    <path d=\"M0 0h24v24H0V0z\" fill=\"none\"/>\n",
              "    <path d=\"M18.56 5.44l.94 2.06.94-2.06 2.06-.94-2.06-.94-.94-2.06-.94 2.06-2.06.94zm-11 1L8.5 8.5l.94-2.06 2.06-.94-2.06-.94L8.5 2.5l-.94 2.06-2.06.94zm10 10l.94 2.06.94-2.06 2.06-.94-2.06-.94-.94-2.06-.94 2.06-2.06.94z\"/><path d=\"M17.41 7.96l-1.37-1.37c-.4-.4-.92-.59-1.43-.59-.52 0-1.04.2-1.43.59L10.3 9.45l-7.72 7.72c-.78.78-.78 2.05 0 2.83L4 21.41c.39.39.9.59 1.41.59.51 0 1.02-.2 1.41-.59l7.78-7.78 2.81-2.81c.8-.78.8-2.07 0-2.86zM5.41 20L4 18.59l7.72-7.72 1.47 1.35L5.41 20z\"/>\n",
              "  </svg>\n",
              "      </button>\n",
              "      \n",
              "  <style>\n",
              "    .colab-df-container {\n",
              "      display:flex;\n",
              "      flex-wrap:wrap;\n",
              "      gap: 12px;\n",
              "    }\n",
              "\n",
              "    .colab-df-convert {\n",
              "      background-color: #E8F0FE;\n",
              "      border: none;\n",
              "      border-radius: 50%;\n",
              "      cursor: pointer;\n",
              "      display: none;\n",
              "      fill: #1967D2;\n",
              "      height: 32px;\n",
              "      padding: 0 0 0 0;\n",
              "      width: 32px;\n",
              "    }\n",
              "\n",
              "    .colab-df-convert:hover {\n",
              "      background-color: #E2EBFA;\n",
              "      box-shadow: 0px 1px 2px rgba(60, 64, 67, 0.3), 0px 1px 3px 1px rgba(60, 64, 67, 0.15);\n",
              "      fill: #174EA6;\n",
              "    }\n",
              "\n",
              "    [theme=dark] .colab-df-convert {\n",
              "      background-color: #3B4455;\n",
              "      fill: #D2E3FC;\n",
              "    }\n",
              "\n",
              "    [theme=dark] .colab-df-convert:hover {\n",
              "      background-color: #434B5C;\n",
              "      box-shadow: 0px 1px 3px 1px rgba(0, 0, 0, 0.15);\n",
              "      filter: drop-shadow(0px 1px 2px rgba(0, 0, 0, 0.3));\n",
              "      fill: #FFFFFF;\n",
              "    }\n",
              "  </style>\n",
              "\n",
              "      <script>\n",
              "        const buttonEl =\n",
              "          document.querySelector('#df-96d31c24-b80e-440b-bc34-01c12a32c7e2 button.colab-df-convert');\n",
              "        buttonEl.style.display =\n",
              "          google.colab.kernel.accessAllowed ? 'block' : 'none';\n",
              "\n",
              "        async function convertToInteractive(key) {\n",
              "          const element = document.querySelector('#df-96d31c24-b80e-440b-bc34-01c12a32c7e2');\n",
              "          const dataTable =\n",
              "            await google.colab.kernel.invokeFunction('convertToInteractive',\n",
              "                                                     [key], {});\n",
              "          if (!dataTable) return;\n",
              "\n",
              "          const docLinkHtml = 'Like what you see? Visit the ' +\n",
              "            '<a target=\"_blank\" href=https://colab.research.google.com/notebooks/data_table.ipynb>data table notebook</a>'\n",
              "            + ' to learn more about interactive tables.';\n",
              "          element.innerHTML = '';\n",
              "          dataTable['output_type'] = 'display_data';\n",
              "          await google.colab.output.renderOutput(dataTable, element);\n",
              "          const docLink = document.createElement('div');\n",
              "          docLink.innerHTML = docLinkHtml;\n",
              "          element.appendChild(docLink);\n",
              "        }\n",
              "      </script>\n",
              "    </div>\n",
              "  </div>\n",
              "  "
            ]
          },
          "metadata": {},
          "execution_count": 122
        }
      ]
    },
    {
      "cell_type": "code",
      "source": [
        "resultados.var()"
      ],
      "metadata": {
        "colab": {
          "base_uri": "https://localhost:8080/"
        },
        "id": "l5heFpYiV9sI",
        "outputId": "f2741c29-7af6-4d7a-f8e5-c1e0c6c8475d"
      },
      "execution_count": 123,
      "outputs": [
        {
          "output_type": "execute_result",
          "data": {
            "text/plain": [
              "Random forest    0.000031\n",
              "KNN              0.000023\n",
              "Logistica        0.000003\n",
              "SVM              0.000008\n",
              "dtype: float64"
            ]
          },
          "metadata": {},
          "execution_count": 123
        }
      ]
    },
    {
      "cell_type": "code",
      "source": [
        "(resultados.std() / resultados.mean()) * 100"
      ],
      "metadata": {
        "colab": {
          "base_uri": "https://localhost:8080/"
        },
        "id": "Uc4SUDPIWA8z",
        "outputId": "c8b428dd-ee19-4964-a545-7df571d306e3"
      },
      "execution_count": 124,
      "outputs": [
        {
          "output_type": "execute_result",
          "data": {
            "text/plain": [
              "Random forest    0.669009\n",
              "KNN              0.586016\n",
              "Logistica        0.230426\n",
              "SVM              0.348978\n",
              "dtype: float64"
            ]
          },
          "metadata": {},
          "execution_count": 124
        }
      ]
    },
    {
      "cell_type": "code",
      "source": [
        "alpha = 0.05"
      ],
      "metadata": {
        "id": "dXM83NWoTUcn"
      },
      "execution_count": 125,
      "outputs": []
    },
    {
      "cell_type": "markdown",
      "source": [
        "## **Shapiro Test**"
      ],
      "metadata": {
        "id": "jW_13bbveoWg"
      }
    },
    {
      "cell_type": "code",
      "source": [
        "from scipy.stats import shapiro"
      ],
      "metadata": {
        "id": "cXZR1nHkTXfJ"
      },
      "execution_count": 126,
      "outputs": []
    },
    {
      "cell_type": "code",
      "source": [
        " shapiro(resultados_random_forest), shapiro(resultados_knn), shapiro(resultados_logistica), shapiro(resultados_svm)"
      ],
      "metadata": {
        "colab": {
          "base_uri": "https://localhost:8080/"
        },
        "id": "fLcR5tS0Xq3l",
        "outputId": "28ea0b85-58db-4ad1-d6e7-86316f4bd534"
      },
      "execution_count": 127,
      "outputs": [
        {
          "output_type": "execute_result",
          "data": {
            "text/plain": [
              "(ShapiroResult(statistic=0.98688805103302, pvalue=0.9648323655128479),\n",
              " ShapiroResult(statistic=0.9838182330131531, pvalue=0.9153999090194702),\n",
              " ShapiroResult(statistic=0.9329111576080322, pvalue=0.05869977921247482),\n",
              " ShapiroResult(statistic=0.9382736086845398, pvalue=0.08172975480556488))"
            ]
          },
          "metadata": {},
          "execution_count": 127
        }
      ]
    },
    {
      "cell_type": "code",
      "source": [
        "sns.displot(resultados_random_forest, kind = 'kde');"
      ],
      "metadata": {
        "colab": {
          "base_uri": "https://localhost:8080/",
          "height": 365
        },
        "id": "4X8nPNOFcE1x",
        "outputId": "4e17d218-3914-4416-a408-b33735433860"
      },
      "execution_count": 128,
      "outputs": [
        {
          "output_type": "display_data",
          "data": {
            "text/plain": [
              "<Figure size 360x360 with 1 Axes>"
            ],
            "image/png": "[encoded data removed]"
          },
          "metadata": {}
        }
      ]
    },
    {
      "cell_type": "code",
      "source": [
        "sns.displot(resultados_knn, kind = 'kde');"
      ],
      "metadata": {
        "colab": {
          "base_uri": "https://localhost:8080/",
          "height": 365
        },
        "id": "3zFUkfGEcWfo",
        "outputId": "1439a12c-df2c-4b7c-fdee-1dbbe3f0e25a"
      },
      "execution_count": 129,
      "outputs": [
        {
          "output_type": "display_data",
          "data": {
            "text/plain": [
              "<Figure size 360x360 with 1 Axes>"
            ],
            "image/png": "[encoded data removed]"
          },
          "metadata": {}
        }
      ]
    },
    {
      "cell_type": "code",
      "source": [
        "sns.displot(resultados_logistica, kind = 'kde');"
      ],
      "metadata": {
        "colab": {
          "base_uri": "https://localhost:8080/",
          "height": 365
        },
        "id": "QVB_D3DzcZ0C",
        "outputId": "fd765b17-4e07-40ac-806f-7fe232f2dc3c"
      },
      "execution_count": 130,
      "outputs": [
        {
          "output_type": "display_data",
          "data": {
            "text/plain": [
              "<Figure size 360x360 with 1 Axes>"
            ],
            "image/png": "[encoded data removed]"
          },
          "metadata": {}
        }
      ]
    },
    {
      "cell_type": "code",
      "source": [
        "sns.displot(resultados_svm, kind = 'kde');"
      ],
      "metadata": {
        "colab": {
          "base_uri": "https://localhost:8080/",
          "height": 365
        },
        "id": "qhusX8_hcy8S",
        "outputId": "19dcba07-7731-4980-f10f-b1a4439f1152"
      },
      "execution_count": 131,
      "outputs": [
        {
          "output_type": "display_data",
          "data": {
            "text/plain": [
              "<Figure size 360x360 with 1 Axes>"
            ],
            "image/png": "[encoded data removed]"
          },
          "metadata": {}
        }
      ]
    },
    {
      "cell_type": "code",
      "source": [
        "from scipy.stats import f_oneway"
      ],
      "metadata": {
        "id": "IBHZ3LTOeh0Q"
      },
      "execution_count": 132,
      "outputs": []
    },
    {
      "cell_type": "code",
      "source": [
        "_, p = f_oneway(resultados_random_forest, resultados_knn, resultados_logistica, resultados_svm)\n",
        "p"
      ],
      "metadata": {
        "colab": {
          "base_uri": "https://localhost:8080/"
        },
        "id": "hnQNnZEvelLF",
        "outputId": "07668ef9-5716-41b9-cc60-75c0bb9e85ab"
      },
      "execution_count": 133,
      "outputs": [
        {
          "output_type": "execute_result",
          "data": {
            "text/plain": [
              "2.817795596136496e-57"
            ]
          },
          "metadata": {},
          "execution_count": 133
        }
      ]
    },
    {
      "cell_type": "markdown",
      "source": [
        "## **Comparision Results**"
      ],
      "metadata": {
        "id": "gU0ZFXnAe0xv"
      }
    },
    {
      "cell_type": "code",
      "source": [
        "resultados_algoritmos = {'accuracy': np.concatenate([resultados_random_forest, resultados_knn, resultados_logistica, resultados_svm]),\n",
        "                         'algoritmo': [ 'random_forest','random_forest','random_forest','random_forest','random_forest','random_forest','random_forest','random_forest','random_forest','random_forest','random_forest','random_forest','random_forest','random_forest','random_forest','random_forest','random_forest','random_forest','random_forest','random_forest','random_forest','random_forest','random_forest','random_forest','random_forest','random_forest','random_forest','random_forest','random_forest','random_forest', \n",
        "                          'knn','knn','knn','knn','knn','knn','knn','knn','knn','knn','knn','knn','knn','knn','knn','knn','knn','knn','knn','knn','knn','knn','knn','knn','knn','knn','knn','knn','knn','knn', \n",
        "                          'logistica','logistica','logistica','logistica','logistica','logistica','logistica','logistica','logistica','logistica','logistica','logistica','logistica','logistica','logistica','logistica','logistica','logistica','logistica','logistica','logistica','logistica','logistica','logistica','logistica','logistica','logistica','logistica','logistica','logistica',\n",
        "                          'svm','svm','svm','svm','svm','svm','svm','svm','svm','svm','svm','svm','svm','svm','svm','svm','svm','svm','svm','svm','svm','svm','svm','svm','svm','svm','svm','svm','svm','svm',]}"
      ],
      "metadata": {
        "id": "Nn234GdvMIq6"
      },
      "execution_count": 134,
      "outputs": []
    },
    {
      "cell_type": "code",
      "source": [
        "resultados_df = pd.DataFrame(resultados_algoritmos)\n",
        "resultados_df"
      ],
      "metadata": {
        "colab": {
          "base_uri": "https://localhost:8080/",
          "height": 424
        },
        "id": "B66jsJjXMpAT",
        "outputId": "835670ea-4056-4042-e6e2-5a93020600cc"
      },
      "execution_count": 135,
      "outputs": [
        {
          "output_type": "execute_result",
          "data": {
            "text/plain": [
              "     accuracy      algoritmo\n",
              "0    0.838439  random_forest\n",
              "1    0.817066  random_forest\n",
              "2    0.828252  random_forest\n",
              "3    0.826080  random_forest\n",
              "4    0.820487  random_forest\n",
              "..        ...            ...\n",
              "115  0.821536            svm\n",
              "116  0.817066            svm\n",
              "117  0.812522            svm\n",
              "118  0.811448            svm\n",
              "119  0.819263            svm\n",
              "\n",
              "[120 rows x 2 columns]"
            ],
            "text/html": [
              "\n",
              "  <div id=\"df-39dc0c79-39ed-4914-90dd-1b39dfefe3e9\">\n",
              "    <div class=\"colab-df-container\">\n",
              "      <div>\n",
              "<style scoped>\n",
              "    .dataframe tbody tr th:only-of-type {\n",
              "        vertical-align: middle;\n",
              "    }\n",
              "\n",
              "    .dataframe tbody tr th {\n",
              "        vertical-align: top;\n",
              "    }\n",
              "\n",
              "    .dataframe thead th {\n",
              "        text-align: right;\n",
              "    }\n",
              "</style>\n",
              "<table border=\"1\" class=\"dataframe\">\n",
              "  <thead>\n",
              "    <tr style=\"text-align: right;\">\n",
              "      <th></th>\n",
              "      <th>accuracy</th>\n",
              "      <th>algoritmo</th>\n",
              "    </tr>\n",
              "  </thead>\n",
              "  <tbody>\n",
              "    <tr>\n",
              "      <th>0</th>\n",
              "      <td>0.838439</td>\n",
              "      <td>random_forest</td>\n",
              "    </tr>\n",
              "    <tr>\n",
              "      <th>1</th>\n",
              "      <td>0.817066</td>\n",
              "      <td>random_forest</td>\n",
              "    </tr>\n",
              "    <tr>\n",
              "      <th>2</th>\n",
              "      <td>0.828252</td>\n",
              "      <td>random_forest</td>\n",
              "    </tr>\n",
              "    <tr>\n",
              "      <th>3</th>\n",
              "      <td>0.826080</td>\n",
              "      <td>random_forest</td>\n",
              "    </tr>\n",
              "    <tr>\n",
              "      <th>4</th>\n",
              "      <td>0.820487</td>\n",
              "      <td>random_forest</td>\n",
              "    </tr>\n",
              "    <tr>\n",
              "      <th>...</th>\n",
              "      <td>...</td>\n",
              "      <td>...</td>\n",
              "    </tr>\n",
              "    <tr>\n",
              "      <th>115</th>\n",
              "      <td>0.821536</td>\n",
              "      <td>svm</td>\n",
              "    </tr>\n",
              "    <tr>\n",
              "      <th>116</th>\n",
              "      <td>0.817066</td>\n",
              "      <td>svm</td>\n",
              "    </tr>\n",
              "    <tr>\n",
              "      <th>117</th>\n",
              "      <td>0.812522</td>\n",
              "      <td>svm</td>\n",
              "    </tr>\n",
              "    <tr>\n",
              "      <th>118</th>\n",
              "      <td>0.811448</td>\n",
              "      <td>svm</td>\n",
              "    </tr>\n",
              "    <tr>\n",
              "      <th>119</th>\n",
              "      <td>0.819263</td>\n",
              "      <td>svm</td>\n",
              "    </tr>\n",
              "  </tbody>\n",
              "</table>\n",
              "<p>120 rows × 2 columns</p>\n",
              "</div>\n",
              "      <button class=\"colab-df-convert\" onclick=\"convertToInteractive('df-39dc0c79-39ed-4914-90dd-1b39dfefe3e9')\"\n",
              "              title=\"Convert this dataframe to an interactive table.\"\n",
              "              style=\"display:none;\">\n",
              "        \n",
              "  <svg xmlns=\"http://www.w3.org/2000/svg\" height=\"24px\"viewBox=\"0 0 24 24\"\n",
              "       width=\"24px\">\n",
              "    <path d=\"M0 0h24v24H0V0z\" fill=\"none\"/>\n",
              "    <path d=\"M18.56 5.44l.94 2.06.94-2.06 2.06-.94-2.06-.94-.94-2.06-.94 2.06-2.06.94zm-11 1L8.5 8.5l.94-2.06 2.06-.94-2.06-.94L8.5 2.5l-.94 2.06-2.06.94zm10 10l.94 2.06.94-2.06 2.06-.94-2.06-.94-.94-2.06-.94 2.06-2.06.94z\"/><path d=\"M17.41 7.96l-1.37-1.37c-.4-.4-.92-.59-1.43-.59-.52 0-1.04.2-1.43.59L10.3 9.45l-7.72 7.72c-.78.78-.78 2.05 0 2.83L4 21.41c.39.39.9.59 1.41.59.51 0 1.02-.2 1.41-.59l7.78-7.78 2.81-2.81c.8-.78.8-2.07 0-2.86zM5.41 20L4 18.59l7.72-7.72 1.47 1.35L5.41 20z\"/>\n",
              "  </svg>\n",
              "      </button>\n",
              "      \n",
              "  <style>\n",
              "    .colab-df-container {\n",
              "      display:flex;\n",
              "      flex-wrap:wrap;\n",
              "      gap: 12px;\n",
              "    }\n",
              "\n",
              "    .colab-df-convert {\n",
              "      background-color: #E8F0FE;\n",
              "      border: none;\n",
              "      border-radius: 50%;\n",
              "      cursor: pointer;\n",
              "      display: none;\n",
              "      fill: #1967D2;\n",
              "      height: 32px;\n",
              "      padding: 0 0 0 0;\n",
              "      width: 32px;\n",
              "    }\n",
              "\n",
              "    .colab-df-convert:hover {\n",
              "      background-color: #E2EBFA;\n",
              "      box-shadow: 0px 1px 2px rgba(60, 64, 67, 0.3), 0px 1px 3px 1px rgba(60, 64, 67, 0.15);\n",
              "      fill: #174EA6;\n",
              "    }\n",
              "\n",
              "    [theme=dark] .colab-df-convert {\n",
              "      background-color: #3B4455;\n",
              "      fill: #D2E3FC;\n",
              "    }\n",
              "\n",
              "    [theme=dark] .colab-df-convert:hover {\n",
              "      background-color: #434B5C;\n",
              "      box-shadow: 0px 1px 3px 1px rgba(0, 0, 0, 0.15);\n",
              "      filter: drop-shadow(0px 1px 2px rgba(0, 0, 0, 0.3));\n",
              "      fill: #FFFFFF;\n",
              "    }\n",
              "  </style>\n",
              "\n",
              "      <script>\n",
              "        const buttonEl =\n",
              "          document.querySelector('#df-39dc0c79-39ed-4914-90dd-1b39dfefe3e9 button.colab-df-convert');\n",
              "        buttonEl.style.display =\n",
              "          google.colab.kernel.accessAllowed ? 'block' : 'none';\n",
              "\n",
              "        async function convertToInteractive(key) {\n",
              "          const element = document.querySelector('#df-39dc0c79-39ed-4914-90dd-1b39dfefe3e9');\n",
              "          const dataTable =\n",
              "            await google.colab.kernel.invokeFunction('convertToInteractive',\n",
              "                                                     [key], {});\n",
              "          if (!dataTable) return;\n",
              "\n",
              "          const docLinkHtml = 'Like what you see? Visit the ' +\n",
              "            '<a target=\"_blank\" href=https://colab.research.google.com/notebooks/data_table.ipynb>data table notebook</a>'\n",
              "            + ' to learn more about interactive tables.';\n",
              "          element.innerHTML = '';\n",
              "          dataTable['output_type'] = 'display_data';\n",
              "          await google.colab.output.renderOutput(dataTable, element);\n",
              "          const docLink = document.createElement('div');\n",
              "          docLink.innerHTML = docLinkHtml;\n",
              "          element.appendChild(docLink);\n",
              "        }\n",
              "      </script>\n",
              "    </div>\n",
              "  </div>\n",
              "  "
            ]
          },
          "metadata": {},
          "execution_count": 135
        }
      ]
    },
    {
      "cell_type": "code",
      "source": [
        "from statsmodels.stats.multicomp import MultiComparison"
      ],
      "metadata": {
        "colab": {
          "base_uri": "https://localhost:8080/"
        },
        "id": "eJsjOQ84MtzS",
        "outputId": "9235b4ee-3ef2-40a5-8a54-18891f438b94"
      },
      "execution_count": 136,
      "outputs": [
        {
          "output_type": "stream",
          "name": "stderr",
          "text": [
            "/usr/local/lib/python3.7/dist-packages/statsmodels/tools/_testing.py:19: FutureWarning: pandas.util.testing is deprecated. Use the functions in the public API at pandas.testing instead.\n",
            "  import pandas.util.testing as tm\n"
          ]
        }
      ]
    },
    {
      "cell_type": "code",
      "source": [
        "compara_algoritmos = MultiComparison(resultados_df['accuracy'], resultados_df['algoritmo'])"
      ],
      "metadata": {
        "id": "WerFQ3BqMw-q"
      },
      "execution_count": 137,
      "outputs": []
    },
    {
      "cell_type": "code",
      "source": [
        "teste_estatistico = compara_algoritmos.tukeyhsd()\n",
        "print(teste_estatistico)"
      ],
      "metadata": {
        "colab": {
          "base_uri": "https://localhost:8080/"
        },
        "id": "8xgaQzLiMzhC",
        "outputId": "c948b82d-6fa2-41a1-b5fa-e21a6d8f3f79"
      },
      "execution_count": 138,
      "outputs": [
        {
          "output_type": "stream",
          "name": "stdout",
          "text": [
            "      Multiple Comparison of Means - Tukey HSD, FWER=0.05       \n",
            "================================================================\n",
            "    group1        group2    meandiff p-adj  lower  upper  reject\n",
            "----------------------------------------------------------------\n",
            "          knn     logistica  -0.0157 0.001 -0.0184 -0.013   True\n",
            "          knn random_forest    0.017 0.001  0.0143 0.0197   True\n",
            "          knn           svm   0.0052 0.001  0.0025 0.0079   True\n",
            "    logistica random_forest   0.0327 0.001    0.03 0.0354   True\n",
            "    logistica           svm   0.0209 0.001  0.0182 0.0237   True\n",
            "random_forest           svm  -0.0117 0.001 -0.0145 -0.009   True\n",
            "----------------------------------------------------------------\n"
          ]
        }
      ]
    },
    {
      "cell_type": "code",
      "source": [
        "resultados.mean()"
      ],
      "metadata": {
        "colab": {
          "base_uri": "https://localhost:8080/"
        },
        "id": "tt4kUJV2SKQy",
        "outputId": "1319a11d-3f28-45b2-e70c-a4affd0e0769"
      },
      "execution_count": 139,
      "outputs": [
        {
          "output_type": "execute_result",
          "data": {
            "text/plain": [
              "Random forest    0.829439\n",
              "KNN              0.812454\n",
              "Logistica        0.796746\n",
              "SVM              0.817690\n",
              "dtype: float64"
            ]
          },
          "metadata": {},
          "execution_count": 139
        }
      ]
    },
    {
      "cell_type": "code",
      "source": [
        "teste_estatistico.plot_simultaneous();"
      ],
      "metadata": {
        "colab": {
          "base_uri": "https://localhost:8080/",
          "height": 389
        },
        "id": "pAUqsxzJSQxF",
        "outputId": "6c1d8dfd-b1fd-4866-fa6b-6a95b83bb46f"
      },
      "execution_count": 140,
      "outputs": [
        {
          "output_type": "display_data",
          "data": {
            "text/plain": [
              "<Figure size 720x432 with 1 Axes>"
            ],
            "image/png": "[encoded data removed]"
          },
          "metadata": {}
        }
      ]
    },
    {
      "cell_type": "code",
      "source": [
        "with open('titanic.pkl', 'rb') as f:\n",
        "  X_titanic_treinamento, X_titanic_teste, Y_titanic_treinamento, Y_titanic_teste = pickle.load(f)"
      ],
      "metadata": {
        "id": "tdMoi2qZSj8r"
      },
      "execution_count": 141,
      "outputs": []
    },
    {
      "cell_type": "code",
      "source": [
        "X_titanic = np.concatenate((X_titanic_treinamento, X_titanic_teste), axis = 0)\n"
      ],
      "metadata": {
        "id": "-Gu7gTfNS2QZ"
      },
      "execution_count": 142,
      "outputs": []
    },
    {
      "cell_type": "code",
      "source": [
        "X_titanic = np.concatenate((X_titanic_treinamento, X_titanic_teste), axis = 0)"
      ],
      "metadata": {
        "id": "CmLW2qpJUVdq"
      },
      "execution_count": 143,
      "outputs": []
    },
    {
      "cell_type": "code",
      "source": [
        "Y_titanic = np.concatenate((Y_titanic_treinamento, Y_titanic_teste), axis = 0)"
      ],
      "metadata": {
        "id": "0lli1cjoTTSJ"
      },
      "execution_count": 144,
      "outputs": []
    },
    {
      "cell_type": "code",
      "source": [
        "from sklearn.ensemble import RandomForestClassifier"
      ],
      "metadata": {
        "id": "0cNaxL63Uza-"
      },
      "execution_count": 145,
      "outputs": []
    },
    {
      "cell_type": "code",
      "source": [
        "random_forest = RandomForestClassifier(criterion= 'gini', min_samples_leaf= 1, min_samples_split= 10, n_estimators= 100)\n",
        "random_forest.fit(X_titanic, Y_titanic)\n"
      ],
      "metadata": {
        "colab": {
          "base_uri": "https://localhost:8080/"
        },
        "id": "hA-vmPncUrC4",
        "outputId": "2768155a-359e-4526-a475-335edd39f5b8"
      },
      "execution_count": 146,
      "outputs": [
        {
          "output_type": "execute_result",
          "data": {
            "text/plain": [
              "RandomForestClassifier(min_samples_split=10)"
            ]
          },
          "metadata": {},
          "execution_count": 146
        }
      ]
    },
    {
      "cell_type": "code",
      "source": [
        "import pickle"
      ],
      "metadata": {
        "id": "EY_pU6_QU3Uh"
      },
      "execution_count": 147,
      "outputs": []
    },
    {
      "cell_type": "code",
      "source": [
        "pickle.dump(random_forest, open('random_forest_final.sav', 'wb'))"
      ],
      "metadata": {
        "id": "Kigo9smjU8_P"
      },
      "execution_count": 148,
      "outputs": []
    },
    {
      "cell_type": "code",
      "source": [
        "random_forest=pickle.load(open('random_forest_final.sav', 'rb'))"
      ],
      "metadata": {
        "id": "FjdcvCGxXaT1"
      },
      "execution_count": 149,
      "outputs": []
    },
    {
      "cell_type": "code",
      "source": [
        "novo_registro = X_titanic[10]"
      ],
      "metadata": {
        "id": "94Y_6k_uYZJD"
      },
      "execution_count": 150,
      "outputs": []
    },
    {
      "cell_type": "code",
      "source": [
        "novo_registro"
      ],
      "metadata": {
        "colab": {
          "base_uri": "https://localhost:8080/"
        },
        "id": "_9CoZuuFYdqa",
        "outputId": "5e275fbc-69aa-4a4a-ab6f-bf453ca50b4e"
      },
      "execution_count": 151,
      "outputs": [
        {
          "output_type": "execute_result",
          "data": {
            "text/plain": [
              "array([0.5       , 0.        , 0.30887158, 0.125     , 0.16666667,\n",
              "       0.0585561 ])"
            ]
          },
          "metadata": {},
          "execution_count": 151
        }
      ]
    },
    {
      "cell_type": "code",
      "source": [
        "novo_registro = novo_registro.reshape(1, -1)"
      ],
      "metadata": {
        "id": "DsFCgbfzYxoH"
      },
      "execution_count": 152,
      "outputs": []
    },
    {
      "cell_type": "code",
      "source": [
        "random_forest.predict(novo_registro)"
      ],
      "metadata": {
        "colab": {
          "base_uri": "https://localhost:8080/"
        },
        "id": "d4XEgzeyYmUI",
        "outputId": "c2211311-f053-4749-af22-132dc561b1b0"
      },
      "execution_count": 153,
      "outputs": [
        {
          "output_type": "execute_result",
          "data": {
            "text/plain": [
              "array([1])"
            ]
          },
          "metadata": {},
          "execution_count": 153
        }
      ]
    },
    {
      "cell_type": "code",
      "source": [
        ""
      ],
      "metadata": {
        "id": "M5uukHCHfcZU"
      },
      "execution_count": null,
      "outputs": []
    }
  ]
}