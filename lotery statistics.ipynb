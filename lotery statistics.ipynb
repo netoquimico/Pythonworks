{
  "nbformat": 4,
  "nbformat_minor": 0,
  "metadata": {
    "colab": {
      "provenance": [],
      "authorship_tag": "ABX9TyNiO8d93FzXF+5fty3PIud7",
      "include_colab_link": true
    },
    "kernelspec": {
      "name": "python3",
      "display_name": "Python 3"
    },
    "language_info": {
      "name": "python"
    }
  },
  "cells": [
    {
      "cell_type": "markdown",
      "metadata": {
        "id": "view-in-github",
        "colab_type": "text"
      },
      "source": [
        "<a href=\"https://colab.research.google.com/github/netoquimico/Pythonworks/blob/main/lotery%20statistics.ipynb\" target=\"_parent\"><img src=\"https://colab.research.google.com/assets/colab-badge.svg\" alt=\"Open In Colab\"/></a>"
      ]
    },
    {
      "cell_type": "code",
      "execution_count": null,
      "metadata": {
        "colab": {
          "base_uri": "https://localhost:8080/"
        },
        "id": "pO63VOjWz2ll",
        "outputId": "dbc6c5de-8880-4fe6-ca9d-60f9f2dcd4e7"
      },
      "outputs": [
        {
          "output_type": "stream",
          "name": "stdout",
          "text": [
            "Number: 13\n",
            "Count: 600997\n",
            "Percentage: 0.04006646666666667\n",
            "\n",
            "Number: 23\n",
            "Count: 600785\n",
            "Percentage: 0.040052333333333336\n",
            "\n",
            "Number: 20\n",
            "Count: 600707\n",
            "Percentage: 0.04004713333333333\n",
            "\n",
            "Number: 10\n",
            "Count: 600529\n",
            "Percentage: 0.040035266666666666\n",
            "\n",
            "Number: 17\n",
            "Count: 600365\n",
            "Percentage: 0.040024333333333335\n",
            "\n",
            "Number: 9\n",
            "Count: 600335\n",
            "Percentage: 0.04002233333333333\n",
            "\n",
            "Number: 22\n",
            "Count: 600310\n",
            "Percentage: 0.04002066666666667\n",
            "\n",
            "Number: 12\n",
            "Count: 600267\n",
            "Percentage: 0.0400178\n",
            "\n",
            "Number: 4\n",
            "Count: 600255\n",
            "Percentage: 0.040017\n",
            "\n",
            "Number: 8\n",
            "Count: 600238\n",
            "Percentage: 0.040015866666666663\n",
            "\n",
            "Number: 2\n",
            "Count: 600233\n",
            "Percentage: 0.04001553333333333\n",
            "\n",
            "Number: 7\n",
            "Count: 600143\n",
            "Percentage: 0.04000953333333333\n",
            "\n",
            "Number: 11\n",
            "Count: 600100\n",
            "Percentage: 0.04000666666666667\n",
            "\n",
            "Number: 6\n",
            "Count: 600012\n",
            "Percentage: 0.0400008\n",
            "\n",
            "Number: 16\n",
            "Count: 600007\n",
            "Percentage: 0.040000466666666665\n",
            "\n"
          ]
        }
      ],
      "source": [
        "import random\n",
        "\n",
        "# Step 1: Generate 15 random integers without repetition and in increasing order between 1 and 25\n",
        "def generate_random_numbers():\n",
        "  random_numbers = []\n",
        "  for i in range(15):\n",
        "    number = random.randint(1, 25)\n",
        "    while number in random_numbers:\n",
        "      number = random.randint(1, 25)\n",
        "    random_numbers.append(number)\n",
        "  random_numbers.sort()\n",
        "  return random_numbers\n",
        "\n",
        "# Step 2: Do mathematical and statistical calculations to generate 15 numbers that are most likely to come out\n",
        "def generate_likely_numbers(numbers):\n",
        "  likely_numbers = []\n",
        "  # Calculate the number of times each number has come out\n",
        "  number_counts = {}\n",
        "  for number in numbers:\n",
        "    if number not in number_counts:\n",
        "      number_counts[number] = 1\n",
        "    else:\n",
        "      number_counts[number] += 1\n",
        "\n",
        "  # Sort the numbers by the number of times they have come out\n",
        "  sorted_numbers = sorted(number_counts, key=number_counts.get, reverse=True)\n",
        "\n",
        "  # Select the 15 most likely numbers\n",
        "  likely_numbers = sorted_numbers[:15]\n",
        "\n",
        "  return likely_numbers\n",
        "\n",
        "# Initialize a list to store the numbers from step 1\n",
        "numbers = []\n",
        "\n",
        "# Repeat the process 100000 times\n",
        "for i in range(1000000):\n",
        "  random_numbers = generate_random_numbers()\n",
        "  numbers += random_numbers\n",
        "\n",
        "# Generate the 15 most likely numbers\n",
        "likely_numbers = generate_likely_numbers(numbers)\n",
        "\n",
        "# Show the percentage that the likely numbers come out\n",
        "for number in likely_numbers:\n",
        "  count = numbers.count(number)\n",
        "  percentage = count / len(numbers)\n",
        "  print(\"Number:\", number)\n",
        "  print(\"Count:\", count)\n",
        "  print(\"Percentage:\", percentage)\n",
        "  print()\n",
        "\n",
        "\n"
      ]
    }
  ]
}